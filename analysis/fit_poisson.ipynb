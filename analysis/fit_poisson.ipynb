{
 "cells": [
  {
   "cell_type": "markdown",
   "metadata": {},
   "source": [
    "# Poisson process fit to start times\n",
    "\n",
    "Import packages & configure plots for dark mode:"
   ]
  },
  {
   "cell_type": "code",
   "execution_count": 75,
   "metadata": {},
   "outputs": [],
   "source": [
    "import pandas as pd\n",
    "import numpy as np\n",
    "import os\n",
    "import matplotlib.pyplot as plt\n",
    "import scipy.optimize as op\n",
    "plt.style.use(\"dark_background\") # Config plots for dark mode, delete if on light mode\n",
    "plt.rcParams['figure.dpi'] = 150 # Hi-res plots"
   ]
  },
  {
   "cell_type": "markdown",
   "metadata": {},
   "source": [
    "Read station data and define function to retrieve a station's name given an ID:"
   ]
  },
  {
   "cell_type": "code",
   "execution_count": 76,
   "metadata": {},
   "outputs": [],
   "source": [
    "station_data = pd.read_csv(\"../data/santander_locations.csv\")\n",
    "station_data.head() # Load the station data and inspect the first 5 rows\n",
    "class StationIdError(IndexError):\n",
    "    \"\"\"Called when we try and read a non-existing station Id\"\"\"\n",
    "    pass\n",
    "\n",
    "def get_station_name(in_id):\n",
    "    \"\"\"Get station name from bike_data for a given id, catching any exceptions\"\"\"\n",
    "    try:\n",
    "        return station_data[station_data[\"Station.Id\"] == in_id].StationName.iloc[0]\n",
    "    except IndexError:\n",
    "        StationIdError(\"No station matching input ID\")"
   ]
  },
  {
   "cell_type": "markdown",
   "metadata": {},
   "source": [
    "## Normalising time data\n",
    "\n",
    "Normalise the time data by converting it to minutes and then adding uniform noise to make it pseudo-continuous:"
   ]
  },
  {
   "cell_type": "code",
   "execution_count": 45,
   "metadata": {},
   "outputs": [
    {
     "data": {
      "text/html": [
       "<div>\n",
       "<style scoped>\n",
       "    .dataframe tbody tr th:only-of-type {\n",
       "        vertical-align: middle;\n",
       "    }\n",
       "\n",
       "    .dataframe tbody tr th {\n",
       "        vertical-align: top;\n",
       "    }\n",
       "\n",
       "    .dataframe thead th {\n",
       "        text-align: right;\n",
       "    }\n",
       "</style>\n",
       "<table border=\"1\" class=\"dataframe\">\n",
       "  <thead>\n",
       "    <tr style=\"text-align: right;\">\n",
       "      <th></th>\n",
       "      <th>start_id</th>\n",
       "      <th>end_id</th>\n",
       "      <th>start_time</th>\n",
       "      <th>duration</th>\n",
       "      <th>end_time</th>\n",
       "      <th>dist</th>\n",
       "    </tr>\n",
       "  </thead>\n",
       "  <tbody>\n",
       "    <tr>\n",
       "      <th>1</th>\n",
       "      <td>103</td>\n",
       "      <td>37</td>\n",
       "      <td>2.578123</td>\n",
       "      <td>5.574368</td>\n",
       "      <td>8.152491</td>\n",
       "      <td>1.458333</td>\n",
       "    </tr>\n",
       "    <tr>\n",
       "      <th>2</th>\n",
       "      <td>39</td>\n",
       "      <td>539</td>\n",
       "      <td>2.578435</td>\n",
       "      <td>1.439637</td>\n",
       "      <td>4.018072</td>\n",
       "      <td>0.545517</td>\n",
       "    </tr>\n",
       "    <tr>\n",
       "      <th>3</th>\n",
       "      <td>785</td>\n",
       "      <td>785</td>\n",
       "      <td>2.986421</td>\n",
       "      <td>4.865156</td>\n",
       "      <td>7.851577</td>\n",
       "      <td>0.000000</td>\n",
       "    </tr>\n",
       "    <tr>\n",
       "      <th>5</th>\n",
       "      <td>708</td>\n",
       "      <td>573</td>\n",
       "      <td>3.124915</td>\n",
       "      <td>18.844363</td>\n",
       "      <td>21.969277</td>\n",
       "      <td>3.607290</td>\n",
       "    </tr>\n",
       "    <tr>\n",
       "      <th>4</th>\n",
       "      <td>341</td>\n",
       "      <td>159</td>\n",
       "      <td>3.468326</td>\n",
       "      <td>29.935354</td>\n",
       "      <td>33.403680</td>\n",
       "      <td>1.092775</td>\n",
       "    </tr>\n",
       "  </tbody>\n",
       "</table>\n",
       "</div>"
      ],
      "text/plain": [
       "   start_id  end_id  start_time   duration   end_time      dist\n",
       "1       103      37    2.578123   5.574368   8.152491  1.458333\n",
       "2        39     539    2.578435   1.439637   4.018072  0.545517\n",
       "3       785     785    2.986421   4.865156   7.851577  0.000000\n",
       "5       708     573    3.124915  18.844363  21.969277  3.607290\n",
       "4       341     159    3.468326  29.935354  33.403680  1.092775"
      ]
     },
     "execution_count": 45,
     "metadata": {},
     "output_type": "execute_result"
    }
   ],
   "source": [
    "bike_data = pd.read_csv(\"../data/processed_df.csv\", index_col=0)\n",
    "bike_data.head() # Load the processed bike data and inspect the first 5 rows\n",
    "\n",
    "# Find minimum start time\n",
    "x = bike_data.min()[\"start_time\"]\n",
    "t_min = (x // 86400) * 86400\n",
    "\n",
    "# Substract t_min from start_time and end_time\n",
    "bike_data[\"start_time\"] = (bike_data[\"start_time\"] - t_min) / 60\n",
    "bike_data[\"end_time\"] = (bike_data[\"end_time\"] - t_min) / 60\n",
    "\n",
    "# Introduce random perturbations to make pseudo-continuous\n",
    "bike_data[\"start_time\"] = bike_data[\"start_time\"] + np.random.rand(*bike_data[\"start_time\"].shape)\n",
    "bike_data[\"end_time\"] = bike_data[\"end_time\"] + np.random.rand(*bike_data[\"end_time\"].shape)"
   ]
  },
  {
   "cell_type": "markdown",
   "metadata": {},
   "source": [
    "The data is no longer sorted as we added the uniform noise; sort the data so it's reordered again:"
   ]
  },
  {
   "cell_type": "code",
   "execution_count": null,
   "metadata": {},
   "outputs": [],
   "source": [
    "bike_data[\"duration\"] = bike_data.end_time - bike_data.start_time\n",
    "bike_data = bike_data.sort_values(by=[\"start_time\"])"
   ]
  },
  {
   "cell_type": "markdown",
   "metadata": {},
   "source": [
    "Split data into train-test sets by making the first 12 weeks test data:"
   ]
  },
  {
   "cell_type": "code",
   "execution_count": null,
   "metadata": {},
   "outputs": [],
   "source": [
    "test_time = 12*7*24*60\n",
    "test_bike_data = bike_data[bike_data.start_time <= test_time]\n",
    "test_bike_data.head()"
   ]
  },
  {
   "cell_type": "markdown",
   "metadata": {},
   "source": [
    "Make an array of dataframes of events depending on their start station, sorted by start station ID:"
   ]
  },
  {
   "cell_type": "code",
   "execution_count": 46,
   "metadata": {},
   "outputs": [
    {
     "data": {
      "text/html": [
       "<div>\n",
       "<style scoped>\n",
       "    .dataframe tbody tr th:only-of-type {\n",
       "        vertical-align: middle;\n",
       "    }\n",
       "\n",
       "    .dataframe tbody tr th {\n",
       "        vertical-align: top;\n",
       "    }\n",
       "\n",
       "    .dataframe thead th {\n",
       "        text-align: right;\n",
       "    }\n",
       "</style>\n",
       "<table border=\"1\" class=\"dataframe\">\n",
       "  <thead>\n",
       "    <tr style=\"text-align: right;\">\n",
       "      <th></th>\n",
       "      <th>start_id</th>\n",
       "      <th>end_id</th>\n",
       "      <th>start_time</th>\n",
       "      <th>duration</th>\n",
       "      <th>end_time</th>\n",
       "      <th>dist</th>\n",
       "    </tr>\n",
       "  </thead>\n",
       "  <tbody>\n",
       "    <tr>\n",
       "      <th>1512</th>\n",
       "      <td>1</td>\n",
       "      <td>71</td>\n",
       "      <td>425.305838</td>\n",
       "      <td>8.688466</td>\n",
       "      <td>433.994304</td>\n",
       "      <td>1.718483</td>\n",
       "    </tr>\n",
       "    <tr>\n",
       "      <th>3498</th>\n",
       "      <td>1</td>\n",
       "      <td>3</td>\n",
       "      <td>498.695397</td>\n",
       "      <td>20.160099</td>\n",
       "      <td>518.855496</td>\n",
       "      <td>1.964612</td>\n",
       "    </tr>\n",
       "    <tr>\n",
       "      <th>5961</th>\n",
       "      <td>1</td>\n",
       "      <td>330</td>\n",
       "      <td>584.665329</td>\n",
       "      <td>28.206046</td>\n",
       "      <td>612.871375</td>\n",
       "      <td>4.997948</td>\n",
       "    </tr>\n",
       "    <tr>\n",
       "      <th>5977</th>\n",
       "      <td>1</td>\n",
       "      <td>433</td>\n",
       "      <td>585.823732</td>\n",
       "      <td>3.154602</td>\n",
       "      <td>588.978334</td>\n",
       "      <td>0.673108</td>\n",
       "    </tr>\n",
       "    <tr>\n",
       "      <th>6447</th>\n",
       "      <td>1</td>\n",
       "      <td>803</td>\n",
       "      <td>607.589603</td>\n",
       "      <td>15.040944</td>\n",
       "      <td>622.630547</td>\n",
       "      <td>2.768124</td>\n",
       "    </tr>\n",
       "  </tbody>\n",
       "</table>\n",
       "</div>"
      ],
      "text/plain": [
       "      start_id  end_id  start_time   duration    end_time      dist\n",
       "1512         1      71  425.305838   8.688466  433.994304  1.718483\n",
       "3498         1       3  498.695397  20.160099  518.855496  1.964612\n",
       "5961         1     330  584.665329  28.206046  612.871375  4.997948\n",
       "5977         1     433  585.823732   3.154602  588.978334  0.673108\n",
       "6447         1     803  607.589603  15.040944  622.630547  2.768124"
      ]
     },
     "execution_count": 46,
     "metadata": {},
     "output_type": "execute_result"
    }
   ],
   "source": [
    "test_sorted_stations = []\n",
    "for st_id in test_bike_data.start_id.sort_values().unique():\n",
    "    test_sorted_stations.append(test_bike_data[test_bike_data.start_id==st_id])\n",
    "\n",
    "test_sorted_stations[0].head()"
   ]
  },
  {
   "cell_type": "markdown",
   "metadata": {},
   "source": [
    "Calculate the poisson rate, $\\lambda_i = \\frac{N_i(T_i)}{T_i}$ for all stations:"
   ]
  },
  {
   "cell_type": "code",
   "execution_count": 84,
   "metadata": {},
   "outputs": [
    {
     "data": {
      "text/plain": [
       "0.08485000070025103"
      ]
     },
     "execution_count": 84,
     "metadata": {},
     "output_type": "execute_result"
    }
   ],
   "source": [
    "rates_dict = {}\n",
    "for station in test_sorted_stations:\n",
    "    time_elapsed = station.start_time.to_numpy()[-1] - station.start_time.to_numpy()[0]\n",
    "    n_events = test_sorted_stations[0].size\n",
    "    rate = n_events / time_elapsed\n",
    "\n",
    "    rates_dict[station.start_id.unique()[0]]= rate\n",
    "\n",
    "rates_dict[1]\n"
   ]
  },
  {
   "cell_type": "markdown",
   "metadata": {},
   "source": [
    "Calculate and display the outliers in the rates:"
   ]
  },
  {
   "cell_type": "code",
   "execution_count": 48,
   "metadata": {},
   "outputs": [
    {
     "data": {
      "text/plain": [
       "['Lansdowne Way Bus Garage, Stockwell',\n",
       " 'George Row, Bermondsey',\n",
       " 'Tower Wharf, Bermondsey']"
      ]
     },
     "execution_count": 48,
     "metadata": {},
     "output_type": "execute_result"
    }
   ],
   "source": [
    "rates = list(rates_dict.values())\n",
    "cutoff = np.mean(rates) + 1.5*np.std(rates) # clearly nothing at minus 1.5sigma\n",
    "max_rate = max(rates)\n",
    "max_keys = [key for key, val in rates_dict.items() if val >= cutoff]\n",
    "outliers = [get_station_name(i) for i in max_keys]\n",
    "outliers"
   ]
  },
  {
   "cell_type": "markdown",
   "metadata": {},
   "source": [
    "Calculate the p-values for the different stations using the inter arrival times and the exponential distribution:"
   ]
  },
  {
   "cell_type": "code",
   "execution_count": 71,
   "metadata": {},
   "outputs": [
    {
     "data": {
      "text/plain": [
       "array([1.97516355e-03, 6.79231284e-04, 9.06385591e-01, ...,\n",
       "       2.24000709e-01, 1.88915487e-02, 7.96134613e-04])"
      ]
     },
     "execution_count": 71,
     "metadata": {},
     "output_type": "execute_result"
    }
   ],
   "source": [
    "p_values = {}\n",
    "\n",
    "for station in test_sorted_stations:\n",
    "    station_id = station.start_id.unique()[0]\n",
    "    rate = rates_dict[station_id]\n",
    "    inter_arrival_times = station.start_time.diff().to_numpy()[1:] # remove first as it is NaN\n",
    "    station_p_values = np.exp(-1* rate * inter_arrival_times)\n",
    "    p_values[station_id] = station_p_values\n",
    "\n",
    "p_values[1]"
   ]
  },
  {
   "cell_type": "markdown",
   "metadata": {},
   "source": [
    "Carry out and plot the Kolmogorov-Smirnov test on all the p-values to see if the poisson point process model is a good model for our data:"
   ]
  },
  {
   "cell_type": "code",
   "execution_count": 82,
   "metadata": {},
   "outputs": [
    {
     "name": "stdout",
     "output_type": "stream",
     "text": [
      "0.9854864301306572\n"
     ]
    },
    {
     "data": {
      "image/png": "[encoded data removed]",
      "text/plain": [
       "<Figure size 900x600 with 1 Axes>"
      ]
     },
     "metadata": {},
     "output_type": "display_data"
    }
   ],
   "source": [
    "# Kolmogorov-smirnov:\n",
    "kol_smir_test = {}\n",
    "for station_id, pvals in p_values.items():\n",
    "    kol_smir_test[station_id] = max(pvals) - min(pvals)\n",
    "\n",
    "plt.plot(kol_smir_test.values())\n",
    "plt.ylim([0,1.1])\n",
    "plt.show()"
   ]
  },
  {
   "cell_type": "code",
   "execution_count": null,
   "metadata": {},
   "outputs": [],
   "source": []
  }
 ],
 "metadata": {
  "interpreter": {
   "hash": "c982c42cf71dfd9e4fcac0d9653e64d0ee7da81b005f55f464a28429eb0786e0"
  },
  "kernelspec": {
   "display_name": "Python 3.8.9 ('M2R_venv': venv)",
   "language": "python",
   "name": "python3"
  },
  "language_info": {
   "codemirror_mode": {
    "name": "ipython",
    "version": 3
   },
   "file_extension": ".py",
   "mimetype": "text/x-python",
   "name": "python",
   "nbconvert_exporter": "python",
   "pygments_lexer": "ipython3",
   "version": "3.8.9"
  },
  "orig_nbformat": 4
 },
 "nbformat": 4,
 "nbformat_minor": 2
}
