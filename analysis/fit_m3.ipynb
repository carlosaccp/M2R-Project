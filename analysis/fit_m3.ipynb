{
 "cells": [
  {
   "cell_type": "code",
   "execution_count": 2,
   "metadata": {},
   "outputs": [],
   "source": [
    "import pandas as pd\n",
    "import numpy as np\n",
    "import os\n",
    "import matplotlib.pyplot as plt\n",
    "import scipy.stats as st\n",
    "from matplotlib.ticker import FuncFormatter\n",
    "import scipy.optimize as op\n",
    "plt.style.use(\"dark_background\") # Config plots for dark mode, delete if on light mode\n",
    "plt.rcParams['figure.dpi'] = 150 # Hi-res plots"
   ]
  },
  {
   "cell_type": "code",
   "execution_count": 3,
   "metadata": {},
   "outputs": [],
   "source": [
    "station_data = pd.read_csv(\"../data/santander_locations.csv\")\n",
    "station_data.head() # Load the station data and inspect the first 5 rows\n",
    "class StationIdError(IndexError):\n",
    "    \"\"\"Called when we try and read a non-existing station Id\"\"\"\n",
    "    pass\n",
    "\n",
    "def get_station_name(in_id):\n",
    "    \"\"\"Get station name from bike_data for a given id, catching any exceptions\"\"\"\n",
    "    try:\n",
    "        return station_data[station_data[\"Station.Id\"] == in_id].StationName.iloc[0]\n",
    "    except IndexError:\n",
    "        StationIdError(\"No station matching input ID\")"
   ]
  },
  {
   "cell_type": "code",
   "execution_count": 4,
   "metadata": {},
   "outputs": [
    {
     "data": {
      "text/html": [
       "<div>\n",
       "<style scoped>\n",
       "    .dataframe tbody tr th:only-of-type {\n",
       "        vertical-align: middle;\n",
       "    }\n",
       "\n",
       "    .dataframe tbody tr th {\n",
       "        vertical-align: top;\n",
       "    }\n",
       "\n",
       "    .dataframe thead th {\n",
       "        text-align: right;\n",
       "    }\n",
       "</style>\n",
       "<table border=\"1\" class=\"dataframe\">\n",
       "  <thead>\n",
       "    <tr style=\"text-align: right;\">\n",
       "      <th></th>\n",
       "      <th>start_id</th>\n",
       "      <th>end_id</th>\n",
       "      <th>start_time</th>\n",
       "      <th>duration</th>\n",
       "      <th>end_time</th>\n",
       "      <th>dist</th>\n",
       "    </tr>\n",
       "  </thead>\n",
       "  <tbody>\n",
       "    <tr>\n",
       "      <th>3657</th>\n",
       "      <td>667</td>\n",
       "      <td>1</td>\n",
       "      <td>503.443441</td>\n",
       "      <td>38.089527</td>\n",
       "      <td>541.532969</td>\n",
       "      <td>8.365682</td>\n",
       "    </tr>\n",
       "    <tr>\n",
       "      <th>5041</th>\n",
       "      <td>330</td>\n",
       "      <td>1</td>\n",
       "      <td>548.587982</td>\n",
       "      <td>27.625785</td>\n",
       "      <td>576.213767</td>\n",
       "      <td>4.997948</td>\n",
       "    </tr>\n",
       "    <tr>\n",
       "      <th>6023</th>\n",
       "      <td>254</td>\n",
       "      <td>1</td>\n",
       "      <td>586.610871</td>\n",
       "      <td>12.376168</td>\n",
       "      <td>598.987039</td>\n",
       "      <td>0.286054</td>\n",
       "    </tr>\n",
       "    <tr>\n",
       "      <th>6570</th>\n",
       "      <td>6</td>\n",
       "      <td>1</td>\n",
       "      <td>613.549974</td>\n",
       "      <td>20.856796</td>\n",
       "      <td>634.406770</td>\n",
       "      <td>2.675239</td>\n",
       "    </tr>\n",
       "    <tr>\n",
       "      <th>7252</th>\n",
       "      <td>803</td>\n",
       "      <td>1</td>\n",
       "      <td>646.162209</td>\n",
       "      <td>18.797716</td>\n",
       "      <td>664.959925</td>\n",
       "      <td>2.768124</td>\n",
       "    </tr>\n",
       "  </tbody>\n",
       "</table>\n",
       "</div>"
      ],
      "text/plain": [
       "      start_id  end_id  start_time   duration    end_time      dist\n",
       "3657       667       1  503.443441  38.089527  541.532969  8.365682\n",
       "5041       330       1  548.587982  27.625785  576.213767  4.997948\n",
       "6023       254       1  586.610871  12.376168  598.987039  0.286054\n",
       "6570         6       1  613.549974  20.856796  634.406770  2.675239\n",
       "7252       803       1  646.162209  18.797716  664.959925  2.768124"
      ]
     },
     "execution_count": 4,
     "metadata": {},
     "output_type": "execute_result"
    }
   ],
   "source": [
    "bike_data = pd.read_csv(\"../data/processed_df.csv\", index_col=0)\n",
    "bike_data.head() # Load the processed bike data and inspect the first 5 rows\n",
    "\n",
    "# Find minimum start time\n",
    "x = bike_data.min()[\"start_time\"]\n",
    "t_min = (x // 86400) * 86400\n",
    "\n",
    "# Substract t_min from start_time and end_time\n",
    "bike_data[\"start_time\"] = (bike_data[\"start_time\"] - t_min) / 60\n",
    "bike_data[\"end_time\"] = (bike_data[\"end_time\"] - t_min) / 60\n",
    "\n",
    "# Introduce random perturbations to make pseudo-continuous\n",
    "bike_data[\"start_time\"] = bike_data[\"start_time\"] + np.random.rand(*bike_data[\"start_time\"].shape)\n",
    "bike_data[\"end_time\"] = bike_data[\"end_time\"] + np.random.rand(*bike_data[\"end_time\"].shape)\n",
    "\n",
    "bike_data[\"duration\"] = bike_data.end_time - bike_data.start_time\n",
    "bike_data = bike_data.sort_values(by=[\"start_time\"])\n",
    "\n",
    "train_time = 12*7*24*60\n",
    "train_bike_data = bike_data[bike_data.end_time <= train_time]\n",
    "\n",
    "train_sorted_stations = []\n",
    "for st_id in train_bike_data.end_id.sort_values().unique():\n",
    "    train_sorted_stations.append(train_bike_data[train_bike_data.end_id==st_id])\n",
    "\n",
    "train_sorted_stations[0].head()"
   ]
  },
  {
   "cell_type": "code",
   "execution_count": 182,
   "metadata": {},
   "outputs": [],
   "source": [
    "def N(t_scalar, t):\n",
    "    \"\"\"\n",
    "    Returns the number of times in t less than or equal to t_scalar.\n",
    "    Is used to compute N(t_i,k) and N'(t_i,k) etc\n",
    "    \"\"\"\n",
    "\n",
    "    return np.searchsorted(t, t_scalar, side=\"right\")\n",
    "\n",
    "\n",
    "def B(h, t, t_prime, beta):\n",
    "\n",
    "    \"\"\"\n",
    "    Returns a list of [B_i(1), ..., B_i(h)]\n",
    "\n",
    "    NOTE: t_prime NEEDS to be sorted here\n",
    "\n",
    "    Note all index variables such as h, k, etc start at 1, like the mathematical notation.\n",
    "    \"\"\"\n",
    "    B = []\n",
    "\n",
    "    # Append base case B_i(1)\n",
    "    B.append(np.sum([np.exp(-1*beta*(t[0] - t_prime[k-1])) for k in range(1, N(t[0], t_prime) + 1)]))\n",
    "\n",
    "    # Append the rest\n",
    "    for l in range(2, h+1):\n",
    "\n",
    "        # First term in recursive formula for B_i(h)\n",
    "        term1 = np.exp(-1*beta*(t[l-1] - t[l-2])) * B[l-2]\n",
    "\n",
    "        # Second term\n",
    "        #term2 = np.sum([np.exp(-1*beta*(t[l-1] - t_prime[k-1])) for k in range(N(t[l-2], t_prime) + 1, N(t[l-1], t_prime) + 1)])\n",
    "\n",
    "        lower = N(t[l-2], t_prime)\n",
    "        upper = N(t[l-1], t_prime)\n",
    "\n",
    "        term2 = np.sum(np.exp(-1*beta*(t[l-1] - t_prime[lower:upper]))) # IMP: This is the term taking the most time by far\n",
    "\n",
    "        B.append(term1 + term2)\n",
    "\n",
    "    return B\n",
    "\n",
    "\n",
    "def compensator_m3(t_scalar, t_prime, lambda_i, alpha_i, beta_i):\n",
    "    \"\"\"\n",
    "    t_scalar: scalar value where Lambda_i(t) is to be evaluated\n",
    "    t_prime: list of arrival times at station i\n",
    "\n",
    "    NOTE: t_prime NEEDS TO BE SORTED HERE.\n",
    "    \"\"\"\n",
    "\n",
    "    term1 = lambda_i * t_scalar\n",
    "    term2 = -(alpha_i / beta_i) * np.sum([np.exp(-beta_i * (t_scalar - t_prime[k-1])) - 1 for k in range(1, N(t_scalar, t_prime) + 1)])\n",
    "\n",
    "    return term1 + term2\n"
   ]
  },
  {
   "cell_type": "code",
   "execution_count": 183,
   "metadata": {},
   "outputs": [],
   "source": [
    "def m3_log_likelihood(t, t_prime, alpha_i, beta_i, lambda_i):\n",
    "\n",
    "    \"\"\"\n",
    "    Gives log likelihood of our three parameters. \n",
    "    t: start times from station i\n",
    "    t_prime: end times at station i\n",
    "\n",
    "    NOTE: t_prime NEEDS TO BE SORTED HERE\n",
    "    \"\"\"\n",
    "    \n",
    "    T = t[-1] # TODO: Is this how we get big T?\n",
    "\n",
    "\n",
    "    # Get B list \n",
    "    B_ = np.array(B(len(t), t, t_prime, beta_i))\n",
    "\n",
    "    #term1 = np.sum(np.log(lambda_i + alpha_i*B_))\n",
    "    term1 = np.sum([np.log(lambda_i + alpha_i*B_[j-1]) for j in range(1, len(t) + 1)])\n",
    "\n",
    "    term2 = -1 * compensator_m3(T, t_prime, lambda_i, alpha_i, beta_i)\n",
    "\n",
    "    return term1 + term2\n",
    "\n"
   ]
  },
  {
   "cell_type": "code",
   "execution_count": 184,
   "metadata": {},
   "outputs": [
    {
     "data": {
      "text/plain": [
       "-361765.44249885425"
      ]
     },
     "execution_count": 184,
     "metadata": {},
     "output_type": "execute_result"
    }
   ],
   "source": [
    "t = train_sorted_stations[0].start_time.to_numpy()\n",
    "t_prime = train_sorted_stations[0].end_time.to_numpy()\n",
    "\n",
    "m3_log_likelihood(t, np.sort(t_prime), 1, 2, 3)"
   ]
  },
  {
   "cell_type": "markdown",
   "metadata": {},
   "source": [
    "## Finding the parameters using likelihood optimisation"
   ]
  },
  {
   "cell_type": "code",
   "execution_count": 185,
   "metadata": {},
   "outputs": [
    {
     "name": "stdout",
     "output_type": "stream",
     "text": [
      "667\n",
      "2\n"
     ]
    },
    {
     "name": "stderr",
     "output_type": "stream",
     "text": [
      "C:\\Users\\Owner\\AppData\\Local\\Temp\\ipykernel_56008\\2525690255.py:37: RuntimeWarning: overflow encountered in exp\n",
      "  term2 = np.sum(np.exp(-1*beta*(t[l-1] - t_prime[0]))) # IMP: This is the term taking the most time by far\n",
      "C:\\Users\\Owner\\AppData\\Local\\Temp\\ipykernel_56008\\2525690255.py:28: RuntimeWarning: invalid value encountered in double_scalars\n",
      "  term1 = np.exp(-1*beta*(t[l-1] - t[l-2])) * B[l-2]\n"
     ]
    },
    {
     "ename": "KeyboardInterrupt",
     "evalue": "",
     "output_type": "error",
     "traceback": [
      "\u001b[1;31m---------------------------------------------------------------------------\u001b[0m",
      "\u001b[1;31mKeyboardInterrupt\u001b[0m                         Traceback (most recent call last)",
      "\u001b[1;32mc:\\Users\\Owner\\Desktop\\M2R-Project\\analysis\\fit_m3.ipynb Cell 8'\u001b[0m in \u001b[0;36m<module>\u001b[1;34m\u001b[0m\n\u001b[0;32m     <a href='vscode-notebook-cell:/c%3A/Users/Owner/Desktop/M2R-Project/analysis/fit_m3.ipynb#ch0000009?line=9'>10</a>\u001b[0m t_prime \u001b[39m=\u001b[39m np\u001b[39m.\u001b[39msort(station\u001b[39m.\u001b[39mend_time\u001b[39m.\u001b[39mto_numpy()) \u001b[39m# Need to sort t_prime for likelihood function\u001b[39;00m\n\u001b[0;32m     <a href='vscode-notebook-cell:/c%3A/Users/Owner/Desktop/M2R-Project/analysis/fit_m3.ipynb#ch0000009?line=11'>12</a>\u001b[0m op_m3_likelihood \u001b[39m=\u001b[39m \u001b[39mlambda\u001b[39;00m x: \u001b[39m-\u001b[39mm3_log_likelihood(t, t_prime, np\u001b[39m.\u001b[39mexp(x[\u001b[39m0\u001b[39m]), np\u001b[39m.\u001b[39mexp(x[\u001b[39m0\u001b[39m]) \u001b[39m+\u001b[39m np\u001b[39m.\u001b[39mexp(x[\u001b[39m1\u001b[39m]), np\u001b[39m.\u001b[39mexp(x[\u001b[39m2\u001b[39m]))\n\u001b[1;32m---> <a href='vscode-notebook-cell:/c%3A/Users/Owner/Desktop/M2R-Project/analysis/fit_m3.ipynb#ch0000009?line=12'>13</a>\u001b[0m sol \u001b[39m=\u001b[39m op\u001b[39m.\u001b[39;49mminimize(op_m3_likelihood, x0, method\u001b[39m=\u001b[39;49m\u001b[39m\"\u001b[39;49m\u001b[39mNelder-Mead\u001b[39;49m\u001b[39m\"\u001b[39;49m)\n\u001b[0;32m     <a href='vscode-notebook-cell:/c%3A/Users/Owner/Desktop/M2R-Project/analysis/fit_m3.ipynb#ch0000009?line=13'>14</a>\u001b[0m \u001b[39mif\u001b[39;00m sol\u001b[39m.\u001b[39msuccess:\n\u001b[0;32m     <a href='vscode-notebook-cell:/c%3A/Users/Owner/Desktop/M2R-Project/analysis/fit_m3.ipynb#ch0000009?line=14'>15</a>\u001b[0m     transformed_alpha \u001b[39m=\u001b[39m np\u001b[39m.\u001b[39mexp(sol\u001b[39m.\u001b[39mx[\u001b[39m0\u001b[39m])\n",
      "File \u001b[1;32mc:\\Users\\Owner\\AppData\\Local\\Programs\\Python\\Python38-32\\lib\\site-packages\\scipy\\optimize\\_minimize.py:611\u001b[0m, in \u001b[0;36mminimize\u001b[1;34m(fun, x0, args, method, jac, hess, hessp, bounds, constraints, tol, callback, options)\u001b[0m\n\u001b[0;32m    <a href='file:///c%3A/Users/Owner/AppData/Local/Programs/Python/Python38-32/lib/site-packages/scipy/optimize/_minimize.py?line=607'>608</a>\u001b[0m     constraints \u001b[39m=\u001b[39m standardize_constraints(constraints, x0, meth)\n\u001b[0;32m    <a href='file:///c%3A/Users/Owner/AppData/Local/Programs/Python/Python38-32/lib/site-packages/scipy/optimize/_minimize.py?line=609'>610</a>\u001b[0m \u001b[39mif\u001b[39;00m meth \u001b[39m==\u001b[39m \u001b[39m'\u001b[39m\u001b[39mnelder-mead\u001b[39m\u001b[39m'\u001b[39m:\n\u001b[1;32m--> <a href='file:///c%3A/Users/Owner/AppData/Local/Programs/Python/Python38-32/lib/site-packages/scipy/optimize/_minimize.py?line=610'>611</a>\u001b[0m     \u001b[39mreturn\u001b[39;00m _minimize_neldermead(fun, x0, args, callback, bounds\u001b[39m=\u001b[39;49mbounds,\n\u001b[0;32m    <a href='file:///c%3A/Users/Owner/AppData/Local/Programs/Python/Python38-32/lib/site-packages/scipy/optimize/_minimize.py?line=611'>612</a>\u001b[0m                                 \u001b[39m*\u001b[39;49m\u001b[39m*\u001b[39;49moptions)\n\u001b[0;32m    <a href='file:///c%3A/Users/Owner/AppData/Local/Programs/Python/Python38-32/lib/site-packages/scipy/optimize/_minimize.py?line=612'>613</a>\u001b[0m \u001b[39melif\u001b[39;00m meth \u001b[39m==\u001b[39m \u001b[39m'\u001b[39m\u001b[39mpowell\u001b[39m\u001b[39m'\u001b[39m:\n\u001b[0;32m    <a href='file:///c%3A/Users/Owner/AppData/Local/Programs/Python/Python38-32/lib/site-packages/scipy/optimize/_minimize.py?line=613'>614</a>\u001b[0m     \u001b[39mreturn\u001b[39;00m _minimize_powell(fun, x0, args, callback, bounds, \u001b[39m*\u001b[39m\u001b[39m*\u001b[39moptions)\n",
      "File \u001b[1;32mc:\\Users\\Owner\\AppData\\Local\\Programs\\Python\\Python38-32\\lib\\site-packages\\scipy\\optimize\\optimize.py:768\u001b[0m, in \u001b[0;36m_minimize_neldermead\u001b[1;34m(func, x0, args, callback, maxiter, maxfev, disp, return_all, initial_simplex, xatol, fatol, adaptive, bounds, **unknown_options)\u001b[0m\n\u001b[0;32m    <a href='file:///c%3A/Users/Owner/AppData/Local/Programs/Python/Python38-32/lib/site-packages/scipy/optimize/optimize.py?line=765'>766</a>\u001b[0m \u001b[39mif\u001b[39;00m bounds \u001b[39mis\u001b[39;00m \u001b[39mnot\u001b[39;00m \u001b[39mNone\u001b[39;00m:\n\u001b[0;32m    <a href='file:///c%3A/Users/Owner/AppData/Local/Programs/Python/Python38-32/lib/site-packages/scipy/optimize/optimize.py?line=766'>767</a>\u001b[0m     xr \u001b[39m=\u001b[39m np\u001b[39m.\u001b[39mclip(xr, lower_bound, upper_bound)\n\u001b[1;32m--> <a href='file:///c%3A/Users/Owner/AppData/Local/Programs/Python/Python38-32/lib/site-packages/scipy/optimize/optimize.py?line=767'>768</a>\u001b[0m fxr \u001b[39m=\u001b[39m func(xr)\n\u001b[0;32m    <a href='file:///c%3A/Users/Owner/AppData/Local/Programs/Python/Python38-32/lib/site-packages/scipy/optimize/optimize.py?line=768'>769</a>\u001b[0m doshrink \u001b[39m=\u001b[39m \u001b[39m0\u001b[39m\n\u001b[0;32m    <a href='file:///c%3A/Users/Owner/AppData/Local/Programs/Python/Python38-32/lib/site-packages/scipy/optimize/optimize.py?line=770'>771</a>\u001b[0m \u001b[39mif\u001b[39;00m fxr \u001b[39m<\u001b[39m fsim[\u001b[39m0\u001b[39m]:\n",
      "File \u001b[1;32mc:\\Users\\Owner\\AppData\\Local\\Programs\\Python\\Python38-32\\lib\\site-packages\\scipy\\optimize\\optimize.py:464\u001b[0m, in \u001b[0;36m_wrap_function.<locals>.function_wrapper\u001b[1;34m(x, *wrapper_args)\u001b[0m\n\u001b[0;32m    <a href='file:///c%3A/Users/Owner/AppData/Local/Programs/Python/Python38-32/lib/site-packages/scipy/optimize/optimize.py?line=461'>462</a>\u001b[0m \u001b[39mdef\u001b[39;00m \u001b[39mfunction_wrapper\u001b[39m(x, \u001b[39m*\u001b[39mwrapper_args):\n\u001b[0;32m    <a href='file:///c%3A/Users/Owner/AppData/Local/Programs/Python/Python38-32/lib/site-packages/scipy/optimize/optimize.py?line=462'>463</a>\u001b[0m     ncalls[\u001b[39m0\u001b[39m] \u001b[39m+\u001b[39m\u001b[39m=\u001b[39m \u001b[39m1\u001b[39m\n\u001b[1;32m--> <a href='file:///c%3A/Users/Owner/AppData/Local/Programs/Python/Python38-32/lib/site-packages/scipy/optimize/optimize.py?line=463'>464</a>\u001b[0m     \u001b[39mreturn\u001b[39;00m function(np\u001b[39m.\u001b[39;49mcopy(x), \u001b[39m*\u001b[39;49m(wrapper_args \u001b[39m+\u001b[39;49m args))\n",
      "\u001b[1;32mc:\\Users\\Owner\\Desktop\\M2R-Project\\analysis\\fit_m3.ipynb Cell 8'\u001b[0m in \u001b[0;36m<lambda>\u001b[1;34m(x)\u001b[0m\n\u001b[0;32m      <a href='vscode-notebook-cell:/c%3A/Users/Owner/Desktop/M2R-Project/analysis/fit_m3.ipynb#ch0000009?line=8'>9</a>\u001b[0m t \u001b[39m=\u001b[39m station\u001b[39m.\u001b[39mstart_time\u001b[39m.\u001b[39mto_numpy()\n\u001b[0;32m     <a href='vscode-notebook-cell:/c%3A/Users/Owner/Desktop/M2R-Project/analysis/fit_m3.ipynb#ch0000009?line=9'>10</a>\u001b[0m t_prime \u001b[39m=\u001b[39m np\u001b[39m.\u001b[39msort(station\u001b[39m.\u001b[39mend_time\u001b[39m.\u001b[39mto_numpy()) \u001b[39m# Need to sort t_prime for likelihood function\u001b[39;00m\n\u001b[1;32m---> <a href='vscode-notebook-cell:/c%3A/Users/Owner/Desktop/M2R-Project/analysis/fit_m3.ipynb#ch0000009?line=11'>12</a>\u001b[0m op_m3_likelihood \u001b[39m=\u001b[39m \u001b[39mlambda\u001b[39;00m x: \u001b[39m-\u001b[39mm3_log_likelihood(t, t_prime, np\u001b[39m.\u001b[39;49mexp(x[\u001b[39m0\u001b[39;49m]), np\u001b[39m.\u001b[39;49mexp(x[\u001b[39m0\u001b[39;49m]) \u001b[39m+\u001b[39;49m np\u001b[39m.\u001b[39;49mexp(x[\u001b[39m1\u001b[39;49m]), np\u001b[39m.\u001b[39;49mexp(x[\u001b[39m2\u001b[39;49m]))\n\u001b[0;32m     <a href='vscode-notebook-cell:/c%3A/Users/Owner/Desktop/M2R-Project/analysis/fit_m3.ipynb#ch0000009?line=12'>13</a>\u001b[0m sol \u001b[39m=\u001b[39m op\u001b[39m.\u001b[39mminimize(op_m3_likelihood, x0, method\u001b[39m=\u001b[39m\u001b[39m\"\u001b[39m\u001b[39mNelder-Mead\u001b[39m\u001b[39m\"\u001b[39m)\n\u001b[0;32m     <a href='vscode-notebook-cell:/c%3A/Users/Owner/Desktop/M2R-Project/analysis/fit_m3.ipynb#ch0000009?line=13'>14</a>\u001b[0m \u001b[39mif\u001b[39;00m sol\u001b[39m.\u001b[39msuccess:\n",
      "\u001b[1;32mc:\\Users\\Owner\\Desktop\\M2R-Project\\analysis\\fit_m3.ipynb Cell 5'\u001b[0m in \u001b[0;36mm3_log_likelihood\u001b[1;34m(t, t_prime, alpha_i, beta_i, lambda_i)\u001b[0m\n\u001b[0;32m     <a href='vscode-notebook-cell:/c%3A/Users/Owner/Desktop/M2R-Project/analysis/fit_m3.ipynb#ch0000004?line=10'>11</a>\u001b[0m T \u001b[39m=\u001b[39m t[\u001b[39m-\u001b[39m\u001b[39m1\u001b[39m] \u001b[39m# TODO: Is this how we get big T?\u001b[39;00m\n\u001b[0;32m     <a href='vscode-notebook-cell:/c%3A/Users/Owner/Desktop/M2R-Project/analysis/fit_m3.ipynb#ch0000004?line=13'>14</a>\u001b[0m \u001b[39m# Get B list \u001b[39;00m\n\u001b[1;32m---> <a href='vscode-notebook-cell:/c%3A/Users/Owner/Desktop/M2R-Project/analysis/fit_m3.ipynb#ch0000004?line=14'>15</a>\u001b[0m B_ \u001b[39m=\u001b[39m np\u001b[39m.\u001b[39marray(B(\u001b[39mlen\u001b[39;49m(t), t, t_prime, beta_i))\n\u001b[0;32m     <a href='vscode-notebook-cell:/c%3A/Users/Owner/Desktop/M2R-Project/analysis/fit_m3.ipynb#ch0000004?line=16'>17</a>\u001b[0m \u001b[39m#term1 = np.sum(np.log(lambda_i + alpha_i*B_))\u001b[39;00m\n\u001b[0;32m     <a href='vscode-notebook-cell:/c%3A/Users/Owner/Desktop/M2R-Project/analysis/fit_m3.ipynb#ch0000004?line=17'>18</a>\u001b[0m term1 \u001b[39m=\u001b[39m np\u001b[39m.\u001b[39msum([np\u001b[39m.\u001b[39mlog(lambda_i \u001b[39m+\u001b[39m alpha_i\u001b[39m*\u001b[39mB_[j\u001b[39m-\u001b[39m\u001b[39m1\u001b[39m]) \u001b[39mfor\u001b[39;00m j \u001b[39min\u001b[39;00m \u001b[39mrange\u001b[39m(\u001b[39m1\u001b[39m, \u001b[39mlen\u001b[39m(t) \u001b[39m+\u001b[39m \u001b[39m1\u001b[39m)])\n",
      "\u001b[1;32mc:\\Users\\Owner\\Desktop\\M2R-Project\\analysis\\fit_m3.ipynb Cell 4'\u001b[0m in \u001b[0;36mB\u001b[1;34m(h, t, t_prime, beta)\u001b[0m\n\u001b[0;32m     <a href='vscode-notebook-cell:/c%3A/Users/Owner/Desktop/M2R-Project/analysis/fit_m3.ipynb#ch0000003?line=27'>28</a>\u001b[0m term1 \u001b[39m=\u001b[39m np\u001b[39m.\u001b[39mexp(\u001b[39m-\u001b[39m\u001b[39m1\u001b[39m\u001b[39m*\u001b[39mbeta\u001b[39m*\u001b[39m(t[l\u001b[39m-\u001b[39m\u001b[39m1\u001b[39m] \u001b[39m-\u001b[39m t[l\u001b[39m-\u001b[39m\u001b[39m2\u001b[39m])) \u001b[39m*\u001b[39m B[l\u001b[39m-\u001b[39m\u001b[39m2\u001b[39m]\n\u001b[0;32m     <a href='vscode-notebook-cell:/c%3A/Users/Owner/Desktop/M2R-Project/analysis/fit_m3.ipynb#ch0000003?line=29'>30</a>\u001b[0m \u001b[39m# Second term\u001b[39;00m\n\u001b[0;32m     <a href='vscode-notebook-cell:/c%3A/Users/Owner/Desktop/M2R-Project/analysis/fit_m3.ipynb#ch0000003?line=30'>31</a>\u001b[0m \u001b[39m#term2 = np.sum([np.exp(-1*beta*(t[l-1] - t_prime[k-1])) for k in range(N(t[l-2], t_prime) + 1, N(t[l-1], t_prime) + 1)])\u001b[39;00m\n\u001b[1;32m---> <a href='vscode-notebook-cell:/c%3A/Users/Owner/Desktop/M2R-Project/analysis/fit_m3.ipynb#ch0000003?line=33'>34</a>\u001b[0m lower \u001b[39m=\u001b[39m N(t[l\u001b[39m-\u001b[39;49m\u001b[39m2\u001b[39;49m], t_prime)\n\u001b[0;32m     <a href='vscode-notebook-cell:/c%3A/Users/Owner/Desktop/M2R-Project/analysis/fit_m3.ipynb#ch0000003?line=34'>35</a>\u001b[0m upper \u001b[39m=\u001b[39m N(t[l\u001b[39m-\u001b[39m\u001b[39m1\u001b[39m], t_prime)\n\u001b[0;32m     <a href='vscode-notebook-cell:/c%3A/Users/Owner/Desktop/M2R-Project/analysis/fit_m3.ipynb#ch0000003?line=36'>37</a>\u001b[0m term2 \u001b[39m=\u001b[39m np\u001b[39m.\u001b[39msum(np\u001b[39m.\u001b[39mexp(\u001b[39m-\u001b[39m\u001b[39m1\u001b[39m\u001b[39m*\u001b[39mbeta\u001b[39m*\u001b[39m(t[l\u001b[39m-\u001b[39m\u001b[39m1\u001b[39m] \u001b[39m-\u001b[39m t_prime[\u001b[39m0\u001b[39m]))) \u001b[39m# IMP: This is the term taking the most time by far\u001b[39;00m\n",
      "\u001b[1;32mc:\\Users\\Owner\\Desktop\\M2R-Project\\analysis\\fit_m3.ipynb Cell 4'\u001b[0m in \u001b[0;36mN\u001b[1;34m(t_scalar, t)\u001b[0m\n\u001b[0;32m      <a href='vscode-notebook-cell:/c%3A/Users/Owner/Desktop/M2R-Project/analysis/fit_m3.ipynb#ch0000003?line=0'>1</a>\u001b[0m \u001b[39mdef\u001b[39;00m \u001b[39mN\u001b[39m(t_scalar, t):\n\u001b[0;32m      <a href='vscode-notebook-cell:/c%3A/Users/Owner/Desktop/M2R-Project/analysis/fit_m3.ipynb#ch0000003?line=1'>2</a>\u001b[0m     \u001b[39m\"\"\"\u001b[39;00m\n\u001b[0;32m      <a href='vscode-notebook-cell:/c%3A/Users/Owner/Desktop/M2R-Project/analysis/fit_m3.ipynb#ch0000003?line=2'>3</a>\u001b[0m \u001b[39m    Returns the number of times in t less than or equal to t_scalar.\u001b[39;00m\n\u001b[0;32m      <a href='vscode-notebook-cell:/c%3A/Users/Owner/Desktop/M2R-Project/analysis/fit_m3.ipynb#ch0000003?line=3'>4</a>\u001b[0m \u001b[39m    Is used to compute N(t_i,k) and N'(t_i,k) etc\u001b[39;00m\n\u001b[0;32m      <a href='vscode-notebook-cell:/c%3A/Users/Owner/Desktop/M2R-Project/analysis/fit_m3.ipynb#ch0000003?line=4'>5</a>\u001b[0m \u001b[39m    \"\"\"\u001b[39;00m\n\u001b[1;32m----> <a href='vscode-notebook-cell:/c%3A/Users/Owner/Desktop/M2R-Project/analysis/fit_m3.ipynb#ch0000003?line=6'>7</a>\u001b[0m     \u001b[39mreturn\u001b[39;00m np\u001b[39m.\u001b[39;49msearchsorted(t, t_scalar, side\u001b[39m=\u001b[39;49m\u001b[39m\"\u001b[39;49m\u001b[39mright\u001b[39;49m\u001b[39m\"\u001b[39;49m)\n",
      "File \u001b[1;32m<__array_function__ internals>:5\u001b[0m, in \u001b[0;36msearchsorted\u001b[1;34m(*args, **kwargs)\u001b[0m\n",
      "File \u001b[1;32mc:\\Users\\Owner\\AppData\\Local\\Programs\\Python\\Python38-32\\lib\\site-packages\\numpy\\core\\fromnumeric.py:1350\u001b[0m, in \u001b[0;36msearchsorted\u001b[1;34m(a, v, side, sorter)\u001b[0m\n\u001b[0;32m   <a href='file:///c%3A/Users/Owner/AppData/Local/Programs/Python/Python38-32/lib/site-packages/numpy/core/fromnumeric.py?line=1282'>1283</a>\u001b[0m \u001b[39m@array_function_dispatch\u001b[39m(_searchsorted_dispatcher)\n\u001b[0;32m   <a href='file:///c%3A/Users/Owner/AppData/Local/Programs/Python/Python38-32/lib/site-packages/numpy/core/fromnumeric.py?line=1283'>1284</a>\u001b[0m \u001b[39mdef\u001b[39;00m \u001b[39msearchsorted\u001b[39m(a, v, side\u001b[39m=\u001b[39m\u001b[39m'\u001b[39m\u001b[39mleft\u001b[39m\u001b[39m'\u001b[39m, sorter\u001b[39m=\u001b[39m\u001b[39mNone\u001b[39;00m):\n\u001b[0;32m   <a href='file:///c%3A/Users/Owner/AppData/Local/Programs/Python/Python38-32/lib/site-packages/numpy/core/fromnumeric.py?line=1284'>1285</a>\u001b[0m     \u001b[39m\"\"\"\u001b[39;00m\n\u001b[0;32m   <a href='file:///c%3A/Users/Owner/AppData/Local/Programs/Python/Python38-32/lib/site-packages/numpy/core/fromnumeric.py?line=1285'>1286</a>\u001b[0m \u001b[39m    Find indices where elements should be inserted to maintain order.\u001b[39;00m\n\u001b[0;32m   <a href='file:///c%3A/Users/Owner/AppData/Local/Programs/Python/Python38-32/lib/site-packages/numpy/core/fromnumeric.py?line=1286'>1287</a>\u001b[0m \n\u001b[1;32m   (...)\u001b[0m\n\u001b[0;32m   <a href='file:///c%3A/Users/Owner/AppData/Local/Programs/Python/Python38-32/lib/site-packages/numpy/core/fromnumeric.py?line=1347'>1348</a>\u001b[0m \n\u001b[0;32m   <a href='file:///c%3A/Users/Owner/AppData/Local/Programs/Python/Python38-32/lib/site-packages/numpy/core/fromnumeric.py?line=1348'>1349</a>\u001b[0m \u001b[39m    \"\"\"\u001b[39;00m\n\u001b[1;32m-> <a href='file:///c%3A/Users/Owner/AppData/Local/Programs/Python/Python38-32/lib/site-packages/numpy/core/fromnumeric.py?line=1349'>1350</a>\u001b[0m     \u001b[39mreturn\u001b[39;00m _wrapfunc(a, \u001b[39m'\u001b[39;49m\u001b[39msearchsorted\u001b[39;49m\u001b[39m'\u001b[39;49m, v, side\u001b[39m=\u001b[39;49mside, sorter\u001b[39m=\u001b[39;49msorter)\n",
      "File \u001b[1;32mc:\\Users\\Owner\\AppData\\Local\\Programs\\Python\\Python38-32\\lib\\site-packages\\numpy\\core\\fromnumeric.py:57\u001b[0m, in \u001b[0;36m_wrapfunc\u001b[1;34m(obj, method, *args, **kwds)\u001b[0m\n\u001b[0;32m     <a href='file:///c%3A/Users/Owner/AppData/Local/Programs/Python/Python38-32/lib/site-packages/numpy/core/fromnumeric.py?line=53'>54</a>\u001b[0m     \u001b[39mreturn\u001b[39;00m _wrapit(obj, method, \u001b[39m*\u001b[39margs, \u001b[39m*\u001b[39m\u001b[39m*\u001b[39mkwds)\n\u001b[0;32m     <a href='file:///c%3A/Users/Owner/AppData/Local/Programs/Python/Python38-32/lib/site-packages/numpy/core/fromnumeric.py?line=55'>56</a>\u001b[0m \u001b[39mtry\u001b[39;00m:\n\u001b[1;32m---> <a href='file:///c%3A/Users/Owner/AppData/Local/Programs/Python/Python38-32/lib/site-packages/numpy/core/fromnumeric.py?line=56'>57</a>\u001b[0m     \u001b[39mreturn\u001b[39;00m bound(\u001b[39m*\u001b[39;49margs, \u001b[39m*\u001b[39;49m\u001b[39m*\u001b[39;49mkwds)\n\u001b[0;32m     <a href='file:///c%3A/Users/Owner/AppData/Local/Programs/Python/Python38-32/lib/site-packages/numpy/core/fromnumeric.py?line=57'>58</a>\u001b[0m \u001b[39mexcept\u001b[39;00m \u001b[39mTypeError\u001b[39;00m:\n\u001b[0;32m     <a href='file:///c%3A/Users/Owner/AppData/Local/Programs/Python/Python38-32/lib/site-packages/numpy/core/fromnumeric.py?line=58'>59</a>\u001b[0m     \u001b[39m# A TypeError occurs if the object does have such a method in its\u001b[39;00m\n\u001b[0;32m     <a href='file:///c%3A/Users/Owner/AppData/Local/Programs/Python/Python38-32/lib/site-packages/numpy/core/fromnumeric.py?line=59'>60</a>\u001b[0m     \u001b[39m# class, but its signature is not identical to that of NumPy's. This\u001b[39;00m\n\u001b[1;32m   (...)\u001b[0m\n\u001b[0;32m     <a href='file:///c%3A/Users/Owner/AppData/Local/Programs/Python/Python38-32/lib/site-packages/numpy/core/fromnumeric.py?line=63'>64</a>\u001b[0m     \u001b[39m# Call _wrapit from within the except clause to ensure a potential\u001b[39;00m\n\u001b[0;32m     <a href='file:///c%3A/Users/Owner/AppData/Local/Programs/Python/Python38-32/lib/site-packages/numpy/core/fromnumeric.py?line=64'>65</a>\u001b[0m     \u001b[39m# exception has a traceback chain.\u001b[39;00m\n\u001b[0;32m     <a href='file:///c%3A/Users/Owner/AppData/Local/Programs/Python/Python38-32/lib/site-packages/numpy/core/fromnumeric.py?line=65'>66</a>\u001b[0m     \u001b[39mreturn\u001b[39;00m _wrapit(obj, method, \u001b[39m*\u001b[39margs, \u001b[39m*\u001b[39m\u001b[39m*\u001b[39mkwds)\n",
      "\u001b[1;31mKeyboardInterrupt\u001b[0m: "
     ]
    }
   ],
   "source": [
    "class OptimizationError(RuntimeError):\n",
    "    pass\n",
    "\n",
    "optimal_parameters = {}\n",
    "for station in train_sorted_stations:\n",
    "    print(station.start_id.to_numpy()[0])\n",
    "    x0 = [np.log(0.1), np.log(1), np.log(0.1)] # np.log(rates_dict[station.start_id.unique()[0]])]\n",
    "\n",
    "    t = station.start_time.to_numpy()\n",
    "    t_prime = np.sort(station.end_time.to_numpy()) # Need to sort t_prime for likelihood function\n",
    "\n",
    "    op_m3_likelihood = lambda x: -m3_log_likelihood(t, t_prime, np.exp(x[0]), np.exp(x[0]) + np.exp(x[1]), np.exp(x[2]))\n",
    "    sol = op.minimize(op_m3_likelihood, x0, method=\"Nelder-Mead\")\n",
    "    if sol.success:\n",
    "        transformed_alpha = np.exp(sol.x[0])\n",
    "        transformed_beta = np.exp(sol.x[1]) + np.exp(sol.x[0])\n",
    "        transformed_lambda = np.exp(sol.x[2])\n",
    "        max_params = [transformed_alpha, transformed_beta, transformed_lambda]\n",
    "        optimal_parameters[station.start_id.unique()[0]] = max_params\n",
    "        \n",
    "    else:\n",
    "        raise OptimizationError(f\"Failed to converge for station {station}.\")\n",
    "optimal_parameters"
   ]
  },
  {
   "cell_type": "code",
   "execution_count": null,
   "metadata": {},
   "outputs": [],
   "source": []
  },
  {
   "cell_type": "markdown",
   "metadata": {},
   "source": [
    "## Assessing fit for model 3"
   ]
  },
  {
   "cell_type": "markdown",
   "metadata": {},
   "source": []
  }
 ],
 "metadata": {
  "interpreter": {
   "hash": "9c1410969137b62557f626ec5944e60126207e5e8b8864d3436c9c9d7a53b4e1"
  },
  "kernelspec": {
   "display_name": "Python 3.8.2 32-bit",
   "language": "python",
   "name": "python3"
  },
  "language_info": {
   "codemirror_mode": {
    "name": "ipython",
    "version": 3
   },
   "file_extension": ".py",
   "mimetype": "text/x-python",
   "name": "python",
   "nbconvert_exporter": "python",
   "pygments_lexer": "ipython3",
   "version": "3.8.2"
  },
  "orig_nbformat": 4
 },
 "nbformat": 4,
 "nbformat_minor": 2
}
