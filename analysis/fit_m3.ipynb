{
 "cells": [
  {
   "cell_type": "code",
   "execution_count": 3,
   "metadata": {},
   "outputs": [],
   "source": [
    "import pandas as pd\n",
    "import numpy as np\n",
    "import os\n",
    "import matplotlib.pyplot as plt\n",
    "import scipy.stats as st\n",
    "from matplotlib.ticker import FuncFormatter\n",
    "import scipy.optimize as op\n",
    "plt.style.use(\"dark_background\") # Config plots for dark mode, delete if on light mode\n",
    "plt.rcParams['figure.dpi'] = 150 # Hi-res plots"
   ]
  },
  {
   "cell_type": "code",
   "execution_count": 4,
   "metadata": {},
   "outputs": [],
   "source": [
    "station_data = pd.read_csv(\"../data/santander_locations.csv\")\n",
    "\n",
    "\n",
    "class OptimizationError(RuntimeError):\n",
    "    \"\"\"Called when optimizer does not converge.\"\"\"\n",
    "    pass\n",
    "\n",
    "class StationIdError(IndexError):\n",
    "    \"\"\"Called when we try and read a non-existing station id.\"\"\"\n",
    "    pass\n",
    "\n",
    "\n",
    "def get_station_name(in_id):\n",
    "    \"\"\"Get station name from bike_data for a given id.\"\"\"\n",
    "    try:\n",
    "        return station_data[\n",
    "            station_data[\"Station.Id\"] == in_id].StationName.iloc[0]\n",
    "    except IndexError:\n",
    "        StationIdError(\"No station matching input ID\")\n",
    "\n",
    "\n",
    "bike_data = pd.read_csv(\"../data/processed_df.csv\", index_col=0)\n",
    "x = bike_data.min()[\"start_time\"]\n",
    "t_min = (x // 86400) * 86400\n",
    "bike_data[\"start_time\"] = (bike_data[\"start_time\"] - t_min) / 60\n",
    "bike_data[\"end_time\"] = (bike_data[\"end_time\"] - t_min) / 60\n",
    "bike_data[\"start_time\"] = bike_data[\"start_time\"] \\\n",
    "    + np.random.rand(*bike_data[\"start_time\"].shape)\n",
    "bike_data[\"end_time\"] = bike_data[\"end_time\"] \\\n",
    "    + np.random.rand(*bike_data[\"end_time\"].shape)\n",
    "bike_data[\"duration\"] = bike_data.end_time - bike_data.start_time\n",
    "bike_data = bike_data.sort_values(by=[\"start_time\"])\n",
    "\n",
    "train_time = 12*7*24*60\n",
    "train_bike_data = bike_data[bike_data.start_time <= train_time]\n",
    "test_bike_data = bike_data[bike_data.start_time > train_time]\n",
    "train_sorted_stations_start = []\n",
    "for st_id in train_bike_data.start_id.sort_values().unique():\n",
    "    train_sorted_stations_start.append(\n",
    "        train_bike_data[train_bike_data.start_id == st_id]\n",
    "        )\n",
    "test_sorted_stations = []\n",
    "for st_id in test_bike_data.start_id.sort_values().unique():\n",
    "    test_sorted_stations.append(\n",
    "        test_bike_data[test_bike_data.start_id == st_id]\n",
    "        )\n",
    "rates_dict = {}\n",
    "for station in test_sorted_stations:\n",
    "    time_elapsed = station.start_time.to_numpy()[-1] \\\n",
    "        - station.start_time.to_numpy()[0]\n",
    "    n_events = test_sorted_stations[0].size\n",
    "    rate = n_events / time_elapsed\n",
    "\n",
    "    rates_dict[station.start_id.unique()[0]] = rate\n",
    "station_array = list(rates_dict.keys())\n",
    "\n",
    "\n",
    "def ecdf(data):\n",
    "    # https://cmdlinetips.com/2019/05/empirical-cumulative-distribution-function-ecdf-in-python/\n",
    "    \"\"\" Compute ECDF \"\"\"\n",
    "    x = np.sort(data)\n",
    "    n = x.size\n",
    "    y = np.arange(1, n+1) / n\n",
    "    return(x, y)\n",
    "\n",
    "\n",
    "tprime_per_station = {}\n",
    "for id in bike_data.end_id.unique():\n",
    "    unsorted_station_end_time = bike_data[bike_data.end_id == id]\n",
    "    sorted_station_end_time = unsorted_station_end_time.sort_values(\n",
    "        by=[\"end_time\"])\n",
    "    tprime_per_station[id] = sorted_station_end_time.\\\n",
    "        end_time.to_numpy()\n",
    "tprime_per_station\n",
    "\n",
    "t_per_station = {}\n",
    "for id in bike_data.start_id.unique():\n",
    "    unsorted_station_start_time = bike_data[bike_data.start_id == id]\n",
    "    sorted_station_start_time = unsorted_station_start_time.sort_values(\n",
    "        by=[\"start_time\"])\n",
    "    t_per_station[id] = sorted_station_start_time.\\\n",
    "        start_time.to_numpy()\n",
    "\n",
    "sorted_start_ids = np.sort(bike_data.start_id.unique())"
   ]
  },
  {
   "cell_type": "code",
   "execution_count": 5,
   "metadata": {},
   "outputs": [],
   "source": [
    "def N(t_scalar, t):\n",
    "    \"\"\"\n",
    "    Returns the number of times in t less than or equal to t_scalar.\n",
    "    Is used to compute N(t_{i,k}) and N'(t_{i,k}) depending on whether t above is t or t_prime\n",
    "    \"\"\"\n",
    "\n",
    "    return np.searchsorted(t, t_scalar, side=\"right\")\n",
    "\n",
    "\n",
    "def B(h, t, t_prime, beta):\n",
    "\n",
    "    \"\"\"\n",
    "    Returns a list of [B_i(1), ..., B_i(h)]\n",
    "\n",
    "    NOTE: t_prime NEEDS to be sorted here\n",
    "\n",
    "    Note all index variables such as h, k, etc start at 1, like the mathematical notation.\n",
    "    \"\"\"\n",
    "    B = []\n",
    "\n",
    "    # Append base case B_i(1)\n",
    "    B.append(np.sum([np.exp(-1*beta*(t[0] - t_prime[k-1])) for k in range(1, N(t[0], t_prime) + 1)]))\n",
    "\n",
    "    # Append the rest\n",
    "    for l in range(2, h+1):\n",
    "\n",
    "        # First term in recursive formula for B_i(h)\n",
    "        term1 = np.exp(-1*beta*(t[l-1] - t[l-2])) * B[l-2]\n",
    "\n",
    "        # Second term\n",
    "        #term2 = np.sum([np.exp(-1*beta*(t[l-1] - t_prime[k-1])) for k in range(N(t[l-2], t_prime) + 1, N(t[l-1], t_prime) + 1)])\n",
    "\n",
    "        lower = N(t[l-2], t_prime)\n",
    "        upper = N(t[l-1], t_prime)\n",
    "\n",
    "        term2 = np.sum(np.exp(-1*beta*(t[l-1] - t_prime[lower:upper]))) # IMP: This is the term taking the most time by far\n",
    "\n",
    "        B.append(term1 + term2)\n",
    "\n",
    "    return B\n",
    "\n",
    "\n",
    "def compensator_m3(t_scalar, t_prime, lambda_i, alpha_i, beta_i):\n",
    "    \"\"\"\n",
    "    t_scalar: scalar value where Lambda_i(t) is to be evaluated\n",
    "    t_prime: list of arrival times at station i\n",
    "\n",
    "    NOTE: t_prime NEEDS TO BE SORTED HERE.\n",
    "    \"\"\"\n",
    "\n",
    "    term1 = lambda_i * t_scalar\n",
    "    term2 = -(alpha_i / beta_i) * np.sum([np.exp(-beta_i * (t_scalar - t_prime[k-1])) - 1 for k in range(1, N(t_scalar, t_prime) + 1)])\n",
    "\n",
    "    return term1 + term2\n"
   ]
  },
  {
   "cell_type": "code",
   "execution_count": 6,
   "metadata": {},
   "outputs": [],
   "source": [
    "def m3_log_likelihood(t, t_prime, alpha_i, beta_i, lambda_i):\n",
    "\n",
    "    \"\"\"\n",
    "    Gives log likelihood of our three parameters. \n",
    "    t: start times from station i\n",
    "    t_prime: end times at station i\n",
    "\n",
    "    NOTE: t_prime NEEDS TO BE SORTED HERE\n",
    "    \"\"\"\n",
    "    \n",
    "    T = t[-1] # TODO: Is this how we get big T?\n",
    "\n",
    "    # Get B list \n",
    "    B_ = np.array(B(len(t), t, t_prime, beta_i))\n",
    "\n",
    "    #term1 = np.sum(np.log(lambda_i + alpha_i*B_))\n",
    "    term1 = np.sum([np.log(lambda_i + alpha_i*B_[j-1]) for j in range(1, len(t) + 1)])\n",
    "\n",
    "    term2 = -1 * compensator_m3(T, t_prime, lambda_i, alpha_i, beta_i)\n",
    "\n",
    "    return term1 + term2\n",
    "\n"
   ]
  },
  {
   "cell_type": "code",
   "execution_count": 7,
   "metadata": {},
   "outputs": [],
   "source": [
    "def getTimeDifferences(t, t_prime):\n",
    "    \"\"\"\n",
    "    Input: (sorted) times for a particular station i\n",
    "    Output: List of differences indexed by [h][k] for this station i\n",
    "    \"\"\"\n",
    "\n",
    "    # h goes until N(t[-1], t) assuming T = t[-1]\n",
    "    T = t[-1]\n",
    "    D_result = []\n",
    "    for h in range(1, N(T, t)+1):\n",
    "        differences_list = []\n",
    "        # Construct list of t_ih - t'_ik for k = 1 to N'(T)\n",
    "        for k in range(N(t[h-2], t_prime) + 1, N(t[h-1], t_prime) + 1):\n",
    "            differences_list.append(t[h-1] - t_prime[k-1])\n",
    "\n",
    "        D_result.append(np.array(differences_list))\n",
    "\n",
    "    return D_result"
   ]
  },
  {
   "cell_type": "code",
   "execution_count": 11,
   "metadata": {},
   "outputs": [],
   "source": [
    "def new_B(h, t, t_prime, beta, time_differences):\n",
    "\n",
    "    \"\"\"\n",
    "    Returns a list of [B_i(1), ..., B_i(h)]\n",
    "\n",
    "    NOTE: t_prime NEEDS to be sorted here\n",
    "\n",
    "    time_differences: time differences double list for station i\n",
    "\n",
    "    Note all index variables such as h, k, etc start at 1, like the mathematical notation.\n",
    "    \"\"\"\n",
    "    B = []\n",
    "\n",
    "    # Append base case B_i(1)\n",
    "    B.append(np.sum([np.exp(-1*beta*(t[0] - t_prime[k-1])) for k in range(1, N(t[0], t_prime) + 1)]))\n",
    "\n",
    "    # Append the rest\n",
    "    for l in range(2, h+1):\n",
    "\n",
    "        # First term in recursive formula for B_i(h)\n",
    "        term1 = np.exp(-1*beta*(t[l-1] - t[l-2])) * B[l-2]\n",
    "\n",
    "        term2 = np.sum(np.exp(-1*beta*(time_differences[l-1])))\n",
    "        B.append(term1 + term2)\n",
    "\n",
    "    return B\n",
    "\n",
    "def new_m3_log_likelihood(t, t_prime, alpha_i, beta_i, lambda_i, time_differences):\n",
    "    \"\"\"\n",
    "    Gives log likelihood of our three parameters. \n",
    "    t: start times from station i\n",
    "    t_prime: end times at station i\n",
    "\n",
    "    NOTE: t_prime NEEDS TO BE SORTED HERE\n",
    "    \"\"\"\n",
    "    \n",
    "    T = t[-1] # TODO: Is this how we get big T?\n",
    "\n",
    "    # Get B list \n",
    "    B_ = np.array(new_B(len(t), t, t_prime, beta_i, time_differences))\n",
    "\n",
    "    #term1 = np.sum(np.log(lambda_i + alpha_i*B_))\n",
    "    term1 = np.sum([np.log(lambda_i + alpha_i*B_[j-1]) for j in range(1, len(t) + 1)])\n",
    "\n",
    "    term2 = -1 * compensator_m3(T, t_prime, lambda_i, alpha_i, beta_i)\n",
    "\n",
    "    return term1 + term2\n"
   ]
  },
  {
   "cell_type": "markdown",
   "metadata": {},
   "source": [
    "## Test whether our B function with time differences previously computed works"
   ]
  },
  {
   "cell_type": "code",
   "execution_count": 267,
   "metadata": {},
   "outputs": [
    {
     "name": "stdout",
     "output_type": "stream",
     "text": [
      "[0.0, 0.0, 1.5703055024796566, 1.5477079539237808, 2.1467989487940153, 1.9292432014786471, 3.0222128387798928, 2.6028363838903075, 2.7420225109216565]\n",
      "[0.0, 0.0, 1.5703055024796566, 1.5477079539237808, 2.1467989487940153, 1.9292432014786471, 3.0222128387798928, 2.6028363838903075, 2.7420225109216565]\n"
     ]
    }
   ],
   "source": [
    "beta = 0.01\n",
    "\n",
    "t = t_per_station[1]\n",
    "t_prime = tprime_per_station[1]\n",
    "\n",
    "time_differences = getTimeDifferences(t, t_prime) # TODO: convert ragged list to numpy? Elements inside list have different lengths\n",
    "#time_differences\n",
    "print(B(9, t, t_prime, beta))\n",
    "print(new_B(9, t, t_prime, beta, time_differences))"
   ]
  },
  {
   "cell_type": "code",
   "execution_count": 273,
   "metadata": {},
   "outputs": [
    {
     "name": "stdout",
     "output_type": "stream",
     "text": [
      "-21360.786147124014\n",
      "-21360.786147124014\n"
     ]
    }
   ],
   "source": [
    "t = t_per_station[1]\n",
    "t_prime = tprime_per_station[1]\n",
    "\n",
    "time_differences = getTimeDifferences(t, t_prime)\n",
    "print(new_m3_log_likelihood(t, t_prime, 0.1, 1, 0.1, time_differences))\n",
    "print(m3_log_likelihood(t, t_prime, 0.1, 1, 0.1))\n"
   ]
  },
  {
   "cell_type": "markdown",
   "metadata": {},
   "source": [
    "## Finding the parameters using likelihood optimisation"
   ]
  },
  {
   "cell_type": "code",
   "execution_count": 12,
   "metadata": {},
   "outputs": [
    {
     "name": "stdout",
     "output_type": "stream",
     "text": [
      "1\n",
      "2\n",
      "3\n",
      "4\n",
      "5\n",
      "6\n"
     ]
    },
    {
     "ename": "KeyboardInterrupt",
     "evalue": "",
     "output_type": "error",
     "traceback": [
      "\u001b[1;31m---------------------------------------------------------------------------\u001b[0m",
      "\u001b[1;31mKeyboardInterrupt\u001b[0m                         Traceback (most recent call last)",
      "\u001b[1;32mc:\\Users\\Owner\\Desktop\\M2R-Project\\analysis\\fit_m3.ipynb Cell 11'\u001b[0m in \u001b[0;36m<module>\u001b[1;34m\u001b[0m\n\u001b[0;32m      <a href='vscode-notebook-cell:/c%3A/Users/Owner/Desktop/M2R-Project/analysis/fit_m3.ipynb#ch0000014?line=8'>9</a>\u001b[0m time_differences \u001b[39m=\u001b[39m getTimeDifferences(t, t_prime)\n\u001b[0;32m     <a href='vscode-notebook-cell:/c%3A/Users/Owner/Desktop/M2R-Project/analysis/fit_m3.ipynb#ch0000014?line=10'>11</a>\u001b[0m op_m3_likelihood \u001b[39m=\u001b[39m \u001b[39mlambda\u001b[39;00m x: \u001b[39m-\u001b[39mnew_m3_log_likelihood(t, t_prime, np\u001b[39m.\u001b[39mexp(x[\u001b[39m0\u001b[39m]), np\u001b[39m.\u001b[39mexp(x[\u001b[39m0\u001b[39m]) \u001b[39m+\u001b[39m np\u001b[39m.\u001b[39mexp(x[\u001b[39m1\u001b[39m]), np\u001b[39m.\u001b[39mexp(x[\u001b[39m2\u001b[39m]), time_differences)\n\u001b[1;32m---> <a href='vscode-notebook-cell:/c%3A/Users/Owner/Desktop/M2R-Project/analysis/fit_m3.ipynb#ch0000014?line=11'>12</a>\u001b[0m sol \u001b[39m=\u001b[39m op\u001b[39m.\u001b[39;49mminimize(op_m3_likelihood, x0, method\u001b[39m=\u001b[39;49m\u001b[39m\"\u001b[39;49m\u001b[39mNelder-Mead\u001b[39;49m\u001b[39m\"\u001b[39;49m)\n\u001b[0;32m     <a href='vscode-notebook-cell:/c%3A/Users/Owner/Desktop/M2R-Project/analysis/fit_m3.ipynb#ch0000014?line=13'>14</a>\u001b[0m \u001b[39m#sol = op.minimize(op_m3_likelihood, x0, method=\"SLSQP\")\u001b[39;00m\n\u001b[0;32m     <a href='vscode-notebook-cell:/c%3A/Users/Owner/Desktop/M2R-Project/analysis/fit_m3.ipynb#ch0000014?line=14'>15</a>\u001b[0m \u001b[39mif\u001b[39;00m sol\u001b[39m.\u001b[39msuccess:\n",
      "File \u001b[1;32mc:\\Users\\Owner\\AppData\\Local\\Programs\\Python\\Python38-32\\lib\\site-packages\\scipy\\optimize\\_minimize.py:611\u001b[0m, in \u001b[0;36mminimize\u001b[1;34m(fun, x0, args, method, jac, hess, hessp, bounds, constraints, tol, callback, options)\u001b[0m\n\u001b[0;32m    <a href='file:///c%3A/Users/Owner/AppData/Local/Programs/Python/Python38-32/lib/site-packages/scipy/optimize/_minimize.py?line=607'>608</a>\u001b[0m     constraints \u001b[39m=\u001b[39m standardize_constraints(constraints, x0, meth)\n\u001b[0;32m    <a href='file:///c%3A/Users/Owner/AppData/Local/Programs/Python/Python38-32/lib/site-packages/scipy/optimize/_minimize.py?line=609'>610</a>\u001b[0m \u001b[39mif\u001b[39;00m meth \u001b[39m==\u001b[39m \u001b[39m'\u001b[39m\u001b[39mnelder-mead\u001b[39m\u001b[39m'\u001b[39m:\n\u001b[1;32m--> <a href='file:///c%3A/Users/Owner/AppData/Local/Programs/Python/Python38-32/lib/site-packages/scipy/optimize/_minimize.py?line=610'>611</a>\u001b[0m     \u001b[39mreturn\u001b[39;00m _minimize_neldermead(fun, x0, args, callback, bounds\u001b[39m=\u001b[39;49mbounds,\n\u001b[0;32m    <a href='file:///c%3A/Users/Owner/AppData/Local/Programs/Python/Python38-32/lib/site-packages/scipy/optimize/_minimize.py?line=611'>612</a>\u001b[0m                                 \u001b[39m*\u001b[39;49m\u001b[39m*\u001b[39;49moptions)\n\u001b[0;32m    <a href='file:///c%3A/Users/Owner/AppData/Local/Programs/Python/Python38-32/lib/site-packages/scipy/optimize/_minimize.py?line=612'>613</a>\u001b[0m \u001b[39melif\u001b[39;00m meth \u001b[39m==\u001b[39m \u001b[39m'\u001b[39m\u001b[39mpowell\u001b[39m\u001b[39m'\u001b[39m:\n\u001b[0;32m    <a href='file:///c%3A/Users/Owner/AppData/Local/Programs/Python/Python38-32/lib/site-packages/scipy/optimize/_minimize.py?line=613'>614</a>\u001b[0m     \u001b[39mreturn\u001b[39;00m _minimize_powell(fun, x0, args, callback, bounds, \u001b[39m*\u001b[39m\u001b[39m*\u001b[39moptions)\n",
      "File \u001b[1;32mc:\\Users\\Owner\\AppData\\Local\\Programs\\Python\\Python38-32\\lib\\site-packages\\scipy\\optimize\\optimize.py:768\u001b[0m, in \u001b[0;36m_minimize_neldermead\u001b[1;34m(func, x0, args, callback, maxiter, maxfev, disp, return_all, initial_simplex, xatol, fatol, adaptive, bounds, **unknown_options)\u001b[0m\n\u001b[0;32m    <a href='file:///c%3A/Users/Owner/AppData/Local/Programs/Python/Python38-32/lib/site-packages/scipy/optimize/optimize.py?line=765'>766</a>\u001b[0m \u001b[39mif\u001b[39;00m bounds \u001b[39mis\u001b[39;00m \u001b[39mnot\u001b[39;00m \u001b[39mNone\u001b[39;00m:\n\u001b[0;32m    <a href='file:///c%3A/Users/Owner/AppData/Local/Programs/Python/Python38-32/lib/site-packages/scipy/optimize/optimize.py?line=766'>767</a>\u001b[0m     xr \u001b[39m=\u001b[39m np\u001b[39m.\u001b[39mclip(xr, lower_bound, upper_bound)\n\u001b[1;32m--> <a href='file:///c%3A/Users/Owner/AppData/Local/Programs/Python/Python38-32/lib/site-packages/scipy/optimize/optimize.py?line=767'>768</a>\u001b[0m fxr \u001b[39m=\u001b[39m func(xr)\n\u001b[0;32m    <a href='file:///c%3A/Users/Owner/AppData/Local/Programs/Python/Python38-32/lib/site-packages/scipy/optimize/optimize.py?line=768'>769</a>\u001b[0m doshrink \u001b[39m=\u001b[39m \u001b[39m0\u001b[39m\n\u001b[0;32m    <a href='file:///c%3A/Users/Owner/AppData/Local/Programs/Python/Python38-32/lib/site-packages/scipy/optimize/optimize.py?line=770'>771</a>\u001b[0m \u001b[39mif\u001b[39;00m fxr \u001b[39m<\u001b[39m fsim[\u001b[39m0\u001b[39m]:\n",
      "File \u001b[1;32mc:\\Users\\Owner\\AppData\\Local\\Programs\\Python\\Python38-32\\lib\\site-packages\\scipy\\optimize\\optimize.py:464\u001b[0m, in \u001b[0;36m_wrap_function.<locals>.function_wrapper\u001b[1;34m(x, *wrapper_args)\u001b[0m\n\u001b[0;32m    <a href='file:///c%3A/Users/Owner/AppData/Local/Programs/Python/Python38-32/lib/site-packages/scipy/optimize/optimize.py?line=461'>462</a>\u001b[0m \u001b[39mdef\u001b[39;00m \u001b[39mfunction_wrapper\u001b[39m(x, \u001b[39m*\u001b[39mwrapper_args):\n\u001b[0;32m    <a href='file:///c%3A/Users/Owner/AppData/Local/Programs/Python/Python38-32/lib/site-packages/scipy/optimize/optimize.py?line=462'>463</a>\u001b[0m     ncalls[\u001b[39m0\u001b[39m] \u001b[39m+\u001b[39m\u001b[39m=\u001b[39m \u001b[39m1\u001b[39m\n\u001b[1;32m--> <a href='file:///c%3A/Users/Owner/AppData/Local/Programs/Python/Python38-32/lib/site-packages/scipy/optimize/optimize.py?line=463'>464</a>\u001b[0m     \u001b[39mreturn\u001b[39;00m function(np\u001b[39m.\u001b[39;49mcopy(x), \u001b[39m*\u001b[39;49m(wrapper_args \u001b[39m+\u001b[39;49m args))\n",
      "\u001b[1;32mc:\\Users\\Owner\\Desktop\\M2R-Project\\analysis\\fit_m3.ipynb Cell 11'\u001b[0m in \u001b[0;36m<lambda>\u001b[1;34m(x)\u001b[0m\n\u001b[0;32m      <a href='vscode-notebook-cell:/c%3A/Users/Owner/Desktop/M2R-Project/analysis/fit_m3.ipynb#ch0000014?line=7'>8</a>\u001b[0m t_prime \u001b[39m=\u001b[39m tprime_per_station[st_id] \u001b[39m# Need to sort t_prime for likelihood function\u001b[39;00m\n\u001b[0;32m      <a href='vscode-notebook-cell:/c%3A/Users/Owner/Desktop/M2R-Project/analysis/fit_m3.ipynb#ch0000014?line=8'>9</a>\u001b[0m time_differences \u001b[39m=\u001b[39m getTimeDifferences(t, t_prime)\n\u001b[1;32m---> <a href='vscode-notebook-cell:/c%3A/Users/Owner/Desktop/M2R-Project/analysis/fit_m3.ipynb#ch0000014?line=10'>11</a>\u001b[0m op_m3_likelihood \u001b[39m=\u001b[39m \u001b[39mlambda\u001b[39;00m x: \u001b[39m-\u001b[39mnew_m3_log_likelihood(t, t_prime, np\u001b[39m.\u001b[39;49mexp(x[\u001b[39m0\u001b[39;49m]), np\u001b[39m.\u001b[39;49mexp(x[\u001b[39m0\u001b[39;49m]) \u001b[39m+\u001b[39;49m np\u001b[39m.\u001b[39;49mexp(x[\u001b[39m1\u001b[39;49m]), np\u001b[39m.\u001b[39;49mexp(x[\u001b[39m2\u001b[39;49m]), time_differences)\n\u001b[0;32m     <a href='vscode-notebook-cell:/c%3A/Users/Owner/Desktop/M2R-Project/analysis/fit_m3.ipynb#ch0000014?line=11'>12</a>\u001b[0m sol \u001b[39m=\u001b[39m op\u001b[39m.\u001b[39mminimize(op_m3_likelihood, x0, method\u001b[39m=\u001b[39m\u001b[39m\"\u001b[39m\u001b[39mNelder-Mead\u001b[39m\u001b[39m\"\u001b[39m)\n\u001b[0;32m     <a href='vscode-notebook-cell:/c%3A/Users/Owner/Desktop/M2R-Project/analysis/fit_m3.ipynb#ch0000014?line=13'>14</a>\u001b[0m \u001b[39m#sol = op.minimize(op_m3_likelihood, x0, method=\"SLSQP\")\u001b[39;00m\n",
      "\u001b[1;32mc:\\Users\\Owner\\Desktop\\M2R-Project\\analysis\\fit_m3.ipynb Cell 6'\u001b[0m in \u001b[0;36mnew_m3_log_likelihood\u001b[1;34m(t, t_prime, alpha_i, beta_i, lambda_i, time_differences)\u001b[0m\n\u001b[0;32m     <a href='vscode-notebook-cell:/c%3A/Users/Owner/Desktop/M2R-Project/analysis/fit_m3.ipynb#ch0000018?line=36'>37</a>\u001b[0m T \u001b[39m=\u001b[39m t[\u001b[39m-\u001b[39m\u001b[39m1\u001b[39m] \u001b[39m# TODO: Is this how we get big T?\u001b[39;00m\n\u001b[0;32m     <a href='vscode-notebook-cell:/c%3A/Users/Owner/Desktop/M2R-Project/analysis/fit_m3.ipynb#ch0000018?line=38'>39</a>\u001b[0m \u001b[39m# Get B list \u001b[39;00m\n\u001b[1;32m---> <a href='vscode-notebook-cell:/c%3A/Users/Owner/Desktop/M2R-Project/analysis/fit_m3.ipynb#ch0000018?line=39'>40</a>\u001b[0m B_ \u001b[39m=\u001b[39m np\u001b[39m.\u001b[39marray(new_B(\u001b[39mlen\u001b[39;49m(t), t, t_prime, beta_i, time_differences))\n\u001b[0;32m     <a href='vscode-notebook-cell:/c%3A/Users/Owner/Desktop/M2R-Project/analysis/fit_m3.ipynb#ch0000018?line=41'>42</a>\u001b[0m \u001b[39m#term1 = np.sum(np.log(lambda_i + alpha_i*B_))\u001b[39;00m\n\u001b[0;32m     <a href='vscode-notebook-cell:/c%3A/Users/Owner/Desktop/M2R-Project/analysis/fit_m3.ipynb#ch0000018?line=42'>43</a>\u001b[0m term1 \u001b[39m=\u001b[39m np\u001b[39m.\u001b[39msum([np\u001b[39m.\u001b[39mlog(lambda_i \u001b[39m+\u001b[39m alpha_i\u001b[39m*\u001b[39mB_[j\u001b[39m-\u001b[39m\u001b[39m1\u001b[39m]) \u001b[39mfor\u001b[39;00m j \u001b[39min\u001b[39;00m \u001b[39mrange\u001b[39m(\u001b[39m1\u001b[39m, \u001b[39mlen\u001b[39m(t) \u001b[39m+\u001b[39m \u001b[39m1\u001b[39m)])\n",
      "\u001b[1;32mc:\\Users\\Owner\\Desktop\\M2R-Project\\analysis\\fit_m3.ipynb Cell 6'\u001b[0m in \u001b[0;36mnew_B\u001b[1;34m(h, t, t_prime, beta, time_differences)\u001b[0m\n\u001b[0;32m     <a href='vscode-notebook-cell:/c%3A/Users/Owner/Desktop/M2R-Project/analysis/fit_m3.ipynb#ch0000018?line=16'>17</a>\u001b[0m \u001b[39m# Append the rest\u001b[39;00m\n\u001b[0;32m     <a href='vscode-notebook-cell:/c%3A/Users/Owner/Desktop/M2R-Project/analysis/fit_m3.ipynb#ch0000018?line=17'>18</a>\u001b[0m \u001b[39mfor\u001b[39;00m l \u001b[39min\u001b[39;00m \u001b[39mrange\u001b[39m(\u001b[39m2\u001b[39m, h\u001b[39m+\u001b[39m\u001b[39m1\u001b[39m):\n\u001b[0;32m     <a href='vscode-notebook-cell:/c%3A/Users/Owner/Desktop/M2R-Project/analysis/fit_m3.ipynb#ch0000018?line=18'>19</a>\u001b[0m \n\u001b[0;32m     <a href='vscode-notebook-cell:/c%3A/Users/Owner/Desktop/M2R-Project/analysis/fit_m3.ipynb#ch0000018?line=19'>20</a>\u001b[0m     \u001b[39m# First term in recursive formula for B_i(h)\u001b[39;00m\n\u001b[1;32m---> <a href='vscode-notebook-cell:/c%3A/Users/Owner/Desktop/M2R-Project/analysis/fit_m3.ipynb#ch0000018?line=20'>21</a>\u001b[0m     term1 \u001b[39m=\u001b[39m np\u001b[39m.\u001b[39mexp(\u001b[39m-\u001b[39m\u001b[39m1\u001b[39m\u001b[39m*\u001b[39mbeta\u001b[39m*\u001b[39m(t[l\u001b[39m-\u001b[39m\u001b[39m1\u001b[39m] \u001b[39m-\u001b[39m t[l\u001b[39m-\u001b[39m\u001b[39m2\u001b[39m])) \u001b[39m*\u001b[39m B[l\u001b[39m-\u001b[39;49m\u001b[39m2\u001b[39;49m]\n\u001b[0;32m     <a href='vscode-notebook-cell:/c%3A/Users/Owner/Desktop/M2R-Project/analysis/fit_m3.ipynb#ch0000018?line=22'>23</a>\u001b[0m     term2 \u001b[39m=\u001b[39m \u001b[39m0\u001b[39m \u001b[39m#np.sum(np.exp(-1*beta*(time_differences[l-1])))\u001b[39;00m\n\u001b[0;32m     <a href='vscode-notebook-cell:/c%3A/Users/Owner/Desktop/M2R-Project/analysis/fit_m3.ipynb#ch0000018?line=23'>24</a>\u001b[0m     B\u001b[39m.\u001b[39mappend(term1 \u001b[39m+\u001b[39m term2)\n",
      "\u001b[1;31mKeyboardInterrupt\u001b[0m: "
     ]
    }
   ],
   "source": [
    "optimal_parameters = {}\n",
    "for st_id in sorted_start_ids:\n",
    "    print(st_id)\n",
    "    x0 = [np.log(0.01), np.log(0.05), np.log(0.1)] # np.log(rates_dict[station.start_id.unique()[0]])]\n",
    "\n",
    "    # TODO: What bounds should we use here?\n",
    "    t = t_per_station[st_id]\n",
    "    t_prime = tprime_per_station[st_id] # Need to sort t_prime for likelihood function\n",
    "    time_differences = getTimeDifferences(t, t_prime)\n",
    "\n",
    "    op_m3_likelihood = lambda x: -new_m3_log_likelihood(t, t_prime, np.exp(x[0]), np.exp(x[0]) + np.exp(x[1]), np.exp(x[2]), time_differences)\n",
    "    sol = op.minimize(op_m3_likelihood, x0, method=\"Nelder-Mead\")\n",
    "\n",
    "    #sol = op.minimize(op_m3_likelihood, x0, method=\"SLSQP\")\n",
    "    if sol.success:\n",
    "        transformed_alpha = np.exp(sol.x[0])\n",
    "        transformed_beta = np.exp(sol.x[1]) + np.exp(sol.x[0])\n",
    "        transformed_lambda = np.exp(sol.x[2])\n",
    "        max_params = [transformed_alpha, transformed_beta, transformed_lambda]\n",
    "        optimal_parameters[st_id] = max_params\n",
    "\n",
    "    else:\n",
    "        raise OptimizationError(f\"Failed to converge for station {station}.\")\n",
    "optimal_parameters"
   ]
  },
  {
   "cell_type": "code",
   "execution_count": 276,
   "metadata": {},
   "outputs": [
    {
     "name": "stdout",
     "output_type": "stream",
     "text": [
      "1\n",
      "2\n",
      "3\n"
     ]
    },
    {
     "ename": "KeyboardInterrupt",
     "evalue": "",
     "output_type": "error",
     "traceback": [
      "\u001b[1;31m---------------------------------------------------------------------------\u001b[0m",
      "\u001b[1;31mKeyboardInterrupt\u001b[0m                         Traceback (most recent call last)",
      "\u001b[1;32mc:\\Users\\Owner\\Desktop\\M2R-Project\\analysis\\fit_m3.ipynb Cell 12'\u001b[0m in \u001b[0;36m<module>\u001b[1;34m\u001b[0m\n\u001b[0;32m     <a href='vscode-notebook-cell:/c%3A/Users/Owner/Desktop/M2R-Project/analysis/fit_m3.ipynb#ch0000020?line=10'>11</a>\u001b[0m bounds \u001b[39m=\u001b[39m ((\u001b[39m0.0000001\u001b[39m, \u001b[39m10\u001b[39m), (\u001b[39m0.0000001\u001b[39m, \u001b[39m10\u001b[39m), (\u001b[39m0.0000001\u001b[39m, \u001b[39m10\u001b[39m))\n\u001b[0;32m     <a href='vscode-notebook-cell:/c%3A/Users/Owner/Desktop/M2R-Project/analysis/fit_m3.ipynb#ch0000020?line=11'>12</a>\u001b[0m \u001b[39m#sol = op.minimize(op_m3_likelihood, x0, method=\"Nelder-Mead\", bounds=bounds)\u001b[39;00m\n\u001b[1;32m---> <a href='vscode-notebook-cell:/c%3A/Users/Owner/Desktop/M2R-Project/analysis/fit_m3.ipynb#ch0000020?line=12'>13</a>\u001b[0m sol \u001b[39m=\u001b[39m op\u001b[39m.\u001b[39;49mminimize(op_m3_likelihood, x0, method\u001b[39m=\u001b[39;49m\u001b[39m\"\u001b[39;49m\u001b[39mNelder-Mead\u001b[39;49m\u001b[39m\"\u001b[39;49m, bounds\u001b[39m=\u001b[39;49mbounds)\n\u001b[0;32m     <a href='vscode-notebook-cell:/c%3A/Users/Owner/Desktop/M2R-Project/analysis/fit_m3.ipynb#ch0000020?line=13'>14</a>\u001b[0m \u001b[39mif\u001b[39;00m sol\u001b[39m.\u001b[39msuccess:\n\u001b[0;32m     <a href='vscode-notebook-cell:/c%3A/Users/Owner/Desktop/M2R-Project/analysis/fit_m3.ipynb#ch0000020?line=14'>15</a>\u001b[0m     max_params \u001b[39m=\u001b[39m sol\u001b[39m.\u001b[39mx\n",
      "File \u001b[1;32mc:\\Users\\Owner\\AppData\\Local\\Programs\\Python\\Python38-32\\lib\\site-packages\\scipy\\optimize\\_minimize.py:611\u001b[0m, in \u001b[0;36mminimize\u001b[1;34m(fun, x0, args, method, jac, hess, hessp, bounds, constraints, tol, callback, options)\u001b[0m\n\u001b[0;32m    <a href='file:///c%3A/Users/Owner/AppData/Local/Programs/Python/Python38-32/lib/site-packages/scipy/optimize/_minimize.py?line=607'>608</a>\u001b[0m     constraints \u001b[39m=\u001b[39m standardize_constraints(constraints, x0, meth)\n\u001b[0;32m    <a href='file:///c%3A/Users/Owner/AppData/Local/Programs/Python/Python38-32/lib/site-packages/scipy/optimize/_minimize.py?line=609'>610</a>\u001b[0m \u001b[39mif\u001b[39;00m meth \u001b[39m==\u001b[39m \u001b[39m'\u001b[39m\u001b[39mnelder-mead\u001b[39m\u001b[39m'\u001b[39m:\n\u001b[1;32m--> <a href='file:///c%3A/Users/Owner/AppData/Local/Programs/Python/Python38-32/lib/site-packages/scipy/optimize/_minimize.py?line=610'>611</a>\u001b[0m     \u001b[39mreturn\u001b[39;00m _minimize_neldermead(fun, x0, args, callback, bounds\u001b[39m=\u001b[39;49mbounds,\n\u001b[0;32m    <a href='file:///c%3A/Users/Owner/AppData/Local/Programs/Python/Python38-32/lib/site-packages/scipy/optimize/_minimize.py?line=611'>612</a>\u001b[0m                                 \u001b[39m*\u001b[39;49m\u001b[39m*\u001b[39;49moptions)\n\u001b[0;32m    <a href='file:///c%3A/Users/Owner/AppData/Local/Programs/Python/Python38-32/lib/site-packages/scipy/optimize/_minimize.py?line=612'>613</a>\u001b[0m \u001b[39melif\u001b[39;00m meth \u001b[39m==\u001b[39m \u001b[39m'\u001b[39m\u001b[39mpowell\u001b[39m\u001b[39m'\u001b[39m:\n\u001b[0;32m    <a href='file:///c%3A/Users/Owner/AppData/Local/Programs/Python/Python38-32/lib/site-packages/scipy/optimize/_minimize.py?line=613'>614</a>\u001b[0m     \u001b[39mreturn\u001b[39;00m _minimize_powell(fun, x0, args, callback, bounds, \u001b[39m*\u001b[39m\u001b[39m*\u001b[39moptions)\n",
      "File \u001b[1;32mc:\\Users\\Owner\\AppData\\Local\\Programs\\Python\\Python38-32\\lib\\site-packages\\scipy\\optimize\\optimize.py:805\u001b[0m, in \u001b[0;36m_minimize_neldermead\u001b[1;34m(func, x0, args, callback, maxiter, maxfev, disp, return_all, initial_simplex, xatol, fatol, adaptive, bounds, **unknown_options)\u001b[0m\n\u001b[0;32m    <a href='file:///c%3A/Users/Owner/AppData/Local/Programs/Python/Python38-32/lib/site-packages/scipy/optimize/optimize.py?line=802'>803</a>\u001b[0m \u001b[39mif\u001b[39;00m bounds \u001b[39mis\u001b[39;00m \u001b[39mnot\u001b[39;00m \u001b[39mNone\u001b[39;00m:\n\u001b[0;32m    <a href='file:///c%3A/Users/Owner/AppData/Local/Programs/Python/Python38-32/lib/site-packages/scipy/optimize/optimize.py?line=803'>804</a>\u001b[0m     xcc \u001b[39m=\u001b[39m np\u001b[39m.\u001b[39mclip(xcc, lower_bound, upper_bound)\n\u001b[1;32m--> <a href='file:///c%3A/Users/Owner/AppData/Local/Programs/Python/Python38-32/lib/site-packages/scipy/optimize/optimize.py?line=804'>805</a>\u001b[0m fxcc \u001b[39m=\u001b[39m func(xcc)\n\u001b[0;32m    <a href='file:///c%3A/Users/Owner/AppData/Local/Programs/Python/Python38-32/lib/site-packages/scipy/optimize/optimize.py?line=806'>807</a>\u001b[0m \u001b[39mif\u001b[39;00m fxcc \u001b[39m<\u001b[39m fsim[\u001b[39m-\u001b[39m\u001b[39m1\u001b[39m]:\n\u001b[0;32m    <a href='file:///c%3A/Users/Owner/AppData/Local/Programs/Python/Python38-32/lib/site-packages/scipy/optimize/optimize.py?line=807'>808</a>\u001b[0m     sim[\u001b[39m-\u001b[39m\u001b[39m1\u001b[39m] \u001b[39m=\u001b[39m xcc\n",
      "File \u001b[1;32mc:\\Users\\Owner\\AppData\\Local\\Programs\\Python\\Python38-32\\lib\\site-packages\\scipy\\optimize\\optimize.py:464\u001b[0m, in \u001b[0;36m_wrap_function.<locals>.function_wrapper\u001b[1;34m(x, *wrapper_args)\u001b[0m\n\u001b[0;32m    <a href='file:///c%3A/Users/Owner/AppData/Local/Programs/Python/Python38-32/lib/site-packages/scipy/optimize/optimize.py?line=461'>462</a>\u001b[0m \u001b[39mdef\u001b[39;00m \u001b[39mfunction_wrapper\u001b[39m(x, \u001b[39m*\u001b[39mwrapper_args):\n\u001b[0;32m    <a href='file:///c%3A/Users/Owner/AppData/Local/Programs/Python/Python38-32/lib/site-packages/scipy/optimize/optimize.py?line=462'>463</a>\u001b[0m     ncalls[\u001b[39m0\u001b[39m] \u001b[39m+\u001b[39m\u001b[39m=\u001b[39m \u001b[39m1\u001b[39m\n\u001b[1;32m--> <a href='file:///c%3A/Users/Owner/AppData/Local/Programs/Python/Python38-32/lib/site-packages/scipy/optimize/optimize.py?line=463'>464</a>\u001b[0m     \u001b[39mreturn\u001b[39;00m function(np\u001b[39m.\u001b[39;49mcopy(x), \u001b[39m*\u001b[39;49m(wrapper_args \u001b[39m+\u001b[39;49m args))\n",
      "\u001b[1;32mc:\\Users\\Owner\\Desktop\\M2R-Project\\analysis\\fit_m3.ipynb Cell 12'\u001b[0m in \u001b[0;36m<lambda>\u001b[1;34m(x)\u001b[0m\n\u001b[0;32m      <a href='vscode-notebook-cell:/c%3A/Users/Owner/Desktop/M2R-Project/analysis/fit_m3.ipynb#ch0000020?line=6'>7</a>\u001b[0m t_prime \u001b[39m=\u001b[39m np\u001b[39m.\u001b[39msort(station\u001b[39m.\u001b[39mend_time\u001b[39m.\u001b[39mto_numpy()) \u001b[39m# Need to sort t_prime for likelihood function\u001b[39;00m\n\u001b[0;32m      <a href='vscode-notebook-cell:/c%3A/Users/Owner/Desktop/M2R-Project/analysis/fit_m3.ipynb#ch0000020?line=7'>8</a>\u001b[0m time_differences \u001b[39m=\u001b[39m getTimeDifferences(t, t_prime)\n\u001b[1;32m---> <a href='vscode-notebook-cell:/c%3A/Users/Owner/Desktop/M2R-Project/analysis/fit_m3.ipynb#ch0000020?line=9'>10</a>\u001b[0m op_m3_likelihood \u001b[39m=\u001b[39m \u001b[39mlambda\u001b[39;00m x: \u001b[39m-\u001b[39mnew_m3_log_likelihood(t, t_prime, x[\u001b[39m0\u001b[39;49m], x[\u001b[39m1\u001b[39;49m], x[\u001b[39m2\u001b[39;49m], time_differences)\n\u001b[0;32m     <a href='vscode-notebook-cell:/c%3A/Users/Owner/Desktop/M2R-Project/analysis/fit_m3.ipynb#ch0000020?line=10'>11</a>\u001b[0m bounds \u001b[39m=\u001b[39m ((\u001b[39m0.0000001\u001b[39m, \u001b[39m10\u001b[39m), (\u001b[39m0.0000001\u001b[39m, \u001b[39m10\u001b[39m), (\u001b[39m0.0000001\u001b[39m, \u001b[39m10\u001b[39m))\n\u001b[0;32m     <a href='vscode-notebook-cell:/c%3A/Users/Owner/Desktop/M2R-Project/analysis/fit_m3.ipynb#ch0000020?line=11'>12</a>\u001b[0m \u001b[39m#sol = op.minimize(op_m3_likelihood, x0, method=\"Nelder-Mead\", bounds=bounds)\u001b[39;00m\n",
      "\u001b[1;32mc:\\Users\\Owner\\Desktop\\M2R-Project\\analysis\\fit_m3.ipynb Cell 6'\u001b[0m in \u001b[0;36mnew_m3_log_likelihood\u001b[1;34m(t, t_prime, alpha_i, beta_i, lambda_i, time_differences)\u001b[0m\n\u001b[0;32m     <a href='vscode-notebook-cell:/c%3A/Users/Owner/Desktop/M2R-Project/analysis/fit_m3.ipynb#ch0000018?line=42'>43</a>\u001b[0m \u001b[39m#term1 = np.sum(np.log(lambda_i + alpha_i*B_))\u001b[39;00m\n\u001b[0;32m     <a href='vscode-notebook-cell:/c%3A/Users/Owner/Desktop/M2R-Project/analysis/fit_m3.ipynb#ch0000018?line=43'>44</a>\u001b[0m term1 \u001b[39m=\u001b[39m np\u001b[39m.\u001b[39msum([np\u001b[39m.\u001b[39mlog(lambda_i \u001b[39m+\u001b[39m alpha_i\u001b[39m*\u001b[39mB_[j\u001b[39m-\u001b[39m\u001b[39m1\u001b[39m]) \u001b[39mfor\u001b[39;00m j \u001b[39min\u001b[39;00m \u001b[39mrange\u001b[39m(\u001b[39m1\u001b[39m, \u001b[39mlen\u001b[39m(t) \u001b[39m+\u001b[39m \u001b[39m1\u001b[39m)])\n\u001b[1;32m---> <a href='vscode-notebook-cell:/c%3A/Users/Owner/Desktop/M2R-Project/analysis/fit_m3.ipynb#ch0000018?line=45'>46</a>\u001b[0m term2 \u001b[39m=\u001b[39m \u001b[39m-\u001b[39m\u001b[39m1\u001b[39m \u001b[39m*\u001b[39m compensator_m3(T, t_prime, lambda_i, alpha_i, beta_i)\n\u001b[0;32m     <a href='vscode-notebook-cell:/c%3A/Users/Owner/Desktop/M2R-Project/analysis/fit_m3.ipynb#ch0000018?line=47'>48</a>\u001b[0m \u001b[39mreturn\u001b[39;00m term1 \u001b[39m+\u001b[39m term2\n",
      "\u001b[1;32mc:\\Users\\Owner\\Desktop\\M2R-Project\\analysis\\fit_m3.ipynb Cell 3'\u001b[0m in \u001b[0;36mcompensator_m3\u001b[1;34m(t_scalar, t_prime, lambda_i, alpha_i, beta_i)\u001b[0m\n\u001b[0;32m     <a href='vscode-notebook-cell:/c%3A/Users/Owner/Desktop/M2R-Project/analysis/fit_m3.ipynb#ch0000003?line=43'>44</a>\u001b[0m \u001b[39m\"\"\"\u001b[39;00m\n\u001b[0;32m     <a href='vscode-notebook-cell:/c%3A/Users/Owner/Desktop/M2R-Project/analysis/fit_m3.ipynb#ch0000003?line=44'>45</a>\u001b[0m \u001b[39mt_scalar: scalar value where Lambda_i(t) is to be evaluated\u001b[39;00m\n\u001b[0;32m     <a href='vscode-notebook-cell:/c%3A/Users/Owner/Desktop/M2R-Project/analysis/fit_m3.ipynb#ch0000003?line=45'>46</a>\u001b[0m \u001b[39mt_prime: list of arrival times at station i\u001b[39;00m\n\u001b[0;32m     <a href='vscode-notebook-cell:/c%3A/Users/Owner/Desktop/M2R-Project/analysis/fit_m3.ipynb#ch0000003?line=46'>47</a>\u001b[0m \n\u001b[0;32m     <a href='vscode-notebook-cell:/c%3A/Users/Owner/Desktop/M2R-Project/analysis/fit_m3.ipynb#ch0000003?line=47'>48</a>\u001b[0m \u001b[39mNOTE: t_prime NEEDS TO BE SORTED HERE.\u001b[39;00m\n\u001b[0;32m     <a href='vscode-notebook-cell:/c%3A/Users/Owner/Desktop/M2R-Project/analysis/fit_m3.ipynb#ch0000003?line=48'>49</a>\u001b[0m \u001b[39m\"\"\"\u001b[39;00m\n\u001b[0;32m     <a href='vscode-notebook-cell:/c%3A/Users/Owner/Desktop/M2R-Project/analysis/fit_m3.ipynb#ch0000003?line=50'>51</a>\u001b[0m term1 \u001b[39m=\u001b[39m lambda_i \u001b[39m*\u001b[39m t_scalar\n\u001b[1;32m---> <a href='vscode-notebook-cell:/c%3A/Users/Owner/Desktop/M2R-Project/analysis/fit_m3.ipynb#ch0000003?line=51'>52</a>\u001b[0m term2 \u001b[39m=\u001b[39m \u001b[39m-\u001b[39m(alpha_i \u001b[39m/\u001b[39m beta_i) \u001b[39m*\u001b[39m np\u001b[39m.\u001b[39msum([np\u001b[39m.\u001b[39mexp(\u001b[39m-\u001b[39mbeta_i \u001b[39m*\u001b[39m (t_scalar \u001b[39m-\u001b[39m t_prime[k\u001b[39m-\u001b[39m\u001b[39m1\u001b[39m])) \u001b[39m-\u001b[39m \u001b[39m1\u001b[39m \u001b[39mfor\u001b[39;00m k \u001b[39min\u001b[39;00m \u001b[39mrange\u001b[39m(\u001b[39m1\u001b[39m, N(t_scalar, t_prime) \u001b[39m+\u001b[39m \u001b[39m1\u001b[39m)])\n\u001b[0;32m     <a href='vscode-notebook-cell:/c%3A/Users/Owner/Desktop/M2R-Project/analysis/fit_m3.ipynb#ch0000003?line=53'>54</a>\u001b[0m \u001b[39mreturn\u001b[39;00m term1 \u001b[39m+\u001b[39m term2\n",
      "\u001b[1;32mc:\\Users\\Owner\\Desktop\\M2R-Project\\analysis\\fit_m3.ipynb Cell 3'\u001b[0m in \u001b[0;36m<listcomp>\u001b[1;34m(.0)\u001b[0m\n\u001b[0;32m     <a href='vscode-notebook-cell:/c%3A/Users/Owner/Desktop/M2R-Project/analysis/fit_m3.ipynb#ch0000003?line=43'>44</a>\u001b[0m \u001b[39m\"\"\"\u001b[39;00m\n\u001b[0;32m     <a href='vscode-notebook-cell:/c%3A/Users/Owner/Desktop/M2R-Project/analysis/fit_m3.ipynb#ch0000003?line=44'>45</a>\u001b[0m \u001b[39mt_scalar: scalar value where Lambda_i(t) is to be evaluated\u001b[39;00m\n\u001b[0;32m     <a href='vscode-notebook-cell:/c%3A/Users/Owner/Desktop/M2R-Project/analysis/fit_m3.ipynb#ch0000003?line=45'>46</a>\u001b[0m \u001b[39mt_prime: list of arrival times at station i\u001b[39;00m\n\u001b[0;32m     <a href='vscode-notebook-cell:/c%3A/Users/Owner/Desktop/M2R-Project/analysis/fit_m3.ipynb#ch0000003?line=46'>47</a>\u001b[0m \n\u001b[0;32m     <a href='vscode-notebook-cell:/c%3A/Users/Owner/Desktop/M2R-Project/analysis/fit_m3.ipynb#ch0000003?line=47'>48</a>\u001b[0m \u001b[39mNOTE: t_prime NEEDS TO BE SORTED HERE.\u001b[39;00m\n\u001b[0;32m     <a href='vscode-notebook-cell:/c%3A/Users/Owner/Desktop/M2R-Project/analysis/fit_m3.ipynb#ch0000003?line=48'>49</a>\u001b[0m \u001b[39m\"\"\"\u001b[39;00m\n\u001b[0;32m     <a href='vscode-notebook-cell:/c%3A/Users/Owner/Desktop/M2R-Project/analysis/fit_m3.ipynb#ch0000003?line=50'>51</a>\u001b[0m term1 \u001b[39m=\u001b[39m lambda_i \u001b[39m*\u001b[39m t_scalar\n\u001b[1;32m---> <a href='vscode-notebook-cell:/c%3A/Users/Owner/Desktop/M2R-Project/analysis/fit_m3.ipynb#ch0000003?line=51'>52</a>\u001b[0m term2 \u001b[39m=\u001b[39m \u001b[39m-\u001b[39m(alpha_i \u001b[39m/\u001b[39m beta_i) \u001b[39m*\u001b[39m np\u001b[39m.\u001b[39msum([np\u001b[39m.\u001b[39mexp(\u001b[39m-\u001b[39mbeta_i \u001b[39m*\u001b[39m (t_scalar \u001b[39m-\u001b[39m t_prime[k\u001b[39m-\u001b[39m\u001b[39m1\u001b[39m])) \u001b[39m-\u001b[39m \u001b[39m1\u001b[39m \u001b[39mfor\u001b[39;00m k \u001b[39min\u001b[39;00m \u001b[39mrange\u001b[39m(\u001b[39m1\u001b[39m, N(t_scalar, t_prime) \u001b[39m+\u001b[39m \u001b[39m1\u001b[39m)])\n\u001b[0;32m     <a href='vscode-notebook-cell:/c%3A/Users/Owner/Desktop/M2R-Project/analysis/fit_m3.ipynb#ch0000003?line=53'>54</a>\u001b[0m \u001b[39mreturn\u001b[39;00m term1 \u001b[39m+\u001b[39m term2\n",
      "\u001b[1;31mKeyboardInterrupt\u001b[0m: "
     ]
    }
   ],
   "source": [
    "optimal_parameters = {}\n",
    "for station in train_sorted_stations_start:\n",
    "    print(station.start_id.to_numpy()[0])\n",
    "    x0 = [0.1, 1, 0.1] # np.log(rates_dict[station.start_id.unique()[0]])]\n",
    "\n",
    "    t = station.start_time.to_numpy()\n",
    "    t_prime = np.sort(station.end_time.to_numpy()) # Need to sort t_prime for likelihood function\n",
    "    time_differences = getTimeDifferences(t, t_prime)\n",
    "\n",
    "    op_m3_likelihood = lambda x: -new_m3_log_likelihood(t, t_prime, x[0], x[1], x[2], time_differences)\n",
    "    bounds = ((0.0000001, 10), (0.0000001, 10), (0.0000001, 10))\n",
    "    #sol = op.minimize(op_m3_likelihood, x0, method=\"Nelder-Mead\", bounds=bounds)\n",
    "    sol = op.minimize(op_m3_likelihood, x0, method=\"Nelder-Mead\", bounds=bounds)\n",
    "    if sol.success:\n",
    "        max_params = sol.x\n",
    "        optimal_parameters[station.start_id.unique()[0]] = max_params\n",
    "\n",
    "    else:\n",
    "        raise OptimizationError(f\"Failed to converge.\")\n",
    "optimal_parameters"
   ]
  },
  {
   "cell_type": "markdown",
   "metadata": {},
   "source": [
    "## Assessing fit for model 3"
   ]
  },
  {
   "cell_type": "markdown",
   "metadata": {},
   "source": []
  }
 ],
 "metadata": {
  "interpreter": {
   "hash": "c982c42cf71dfd9e4fcac0d9653e64d0ee7da81b005f55f464a28429eb0786e0"
  },
  "kernelspec": {
   "display_name": "Python 3.8.9 ('M2R_venv': venv)",
   "language": "python",
   "name": "python3"
  },
  "language_info": {
   "codemirror_mode": {
    "name": "ipython",
    "version": 3
   },
   "file_extension": ".py",
   "mimetype": "text/x-python",
   "name": "python",
   "nbconvert_exporter": "python",
   "pygments_lexer": "ipython3",
   "version": "3.8.9"
  },
  "orig_nbformat": 4
 },
 "nbformat": 4,
 "nbformat_minor": 2
}
