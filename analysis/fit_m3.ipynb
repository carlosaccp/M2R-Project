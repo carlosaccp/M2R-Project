{
 "cells": [
  {
   "cell_type": "code",
   "execution_count": 2,
   "metadata": {},
   "outputs": [],
   "source": [
    "import pandas as pd\n",
    "import numpy as np\n",
    "import os\n",
    "import matplotlib.pyplot as plt\n",
    "import scipy.stats as st\n",
    "from matplotlib.ticker import FuncFormatter\n",
    "import scipy.optimize as op\n",
    "plt.style.use(\"dark_background\") # Config plots for dark mode, delete if on light mode\n",
    "plt.rcParams['figure.dpi'] = 150 # Hi-res plots"
   ]
  },
  {
   "cell_type": "code",
   "execution_count": 3,
   "metadata": {},
   "outputs": [],
   "source": [
    "station_data = pd.read_csv(\"../data/santander_locations.csv\")\n",
    "station_data.head() # Load the station data and inspect the first 5 rows\n",
    "class StationIdError(IndexError):\n",
    "    \"\"\"Called when we try and read a non-existing station Id\"\"\"\n",
    "    pass\n",
    "\n",
    "def get_station_name(in_id):\n",
    "    \"\"\"Get station name from bike_data for a given id, catching any exceptions\"\"\"\n",
    "    try:\n",
    "        return station_data[station_data[\"Station.Id\"] == in_id].StationName.iloc[0]\n",
    "    except IndexError:\n",
    "        StationIdError(\"No station matching input ID\")"
   ]
  },
  {
   "cell_type": "code",
   "execution_count": 4,
   "metadata": {},
   "outputs": [
    {
     "data": {
      "text/html": [
       "<div>\n",
       "<style scoped>\n",
       "    .dataframe tbody tr th:only-of-type {\n",
       "        vertical-align: middle;\n",
       "    }\n",
       "\n",
       "    .dataframe tbody tr th {\n",
       "        vertical-align: top;\n",
       "    }\n",
       "\n",
       "    .dataframe thead th {\n",
       "        text-align: right;\n",
       "    }\n",
       "</style>\n",
       "<table border=\"1\" class=\"dataframe\">\n",
       "  <thead>\n",
       "    <tr style=\"text-align: right;\">\n",
       "      <th></th>\n",
       "      <th>start_id</th>\n",
       "      <th>end_id</th>\n",
       "      <th>start_time</th>\n",
       "      <th>duration</th>\n",
       "      <th>end_time</th>\n",
       "      <th>dist</th>\n",
       "    </tr>\n",
       "  </thead>\n",
       "  <tbody>\n",
       "    <tr>\n",
       "      <th>3657</th>\n",
       "      <td>667</td>\n",
       "      <td>1</td>\n",
       "      <td>503.443441</td>\n",
       "      <td>38.089527</td>\n",
       "      <td>541.532969</td>\n",
       "      <td>8.365682</td>\n",
       "    </tr>\n",
       "    <tr>\n",
       "      <th>5041</th>\n",
       "      <td>330</td>\n",
       "      <td>1</td>\n",
       "      <td>548.587982</td>\n",
       "      <td>27.625785</td>\n",
       "      <td>576.213767</td>\n",
       "      <td>4.997948</td>\n",
       "    </tr>\n",
       "    <tr>\n",
       "      <th>6023</th>\n",
       "      <td>254</td>\n",
       "      <td>1</td>\n",
       "      <td>586.610871</td>\n",
       "      <td>12.376168</td>\n",
       "      <td>598.987039</td>\n",
       "      <td>0.286054</td>\n",
       "    </tr>\n",
       "    <tr>\n",
       "      <th>6570</th>\n",
       "      <td>6</td>\n",
       "      <td>1</td>\n",
       "      <td>613.549974</td>\n",
       "      <td>20.856796</td>\n",
       "      <td>634.406770</td>\n",
       "      <td>2.675239</td>\n",
       "    </tr>\n",
       "    <tr>\n",
       "      <th>7252</th>\n",
       "      <td>803</td>\n",
       "      <td>1</td>\n",
       "      <td>646.162209</td>\n",
       "      <td>18.797716</td>\n",
       "      <td>664.959925</td>\n",
       "      <td>2.768124</td>\n",
       "    </tr>\n",
       "  </tbody>\n",
       "</table>\n",
       "</div>"
      ],
      "text/plain": [
       "      start_id  end_id  start_time   duration    end_time      dist\n",
       "3657       667       1  503.443441  38.089527  541.532969  8.365682\n",
       "5041       330       1  548.587982  27.625785  576.213767  4.997948\n",
       "6023       254       1  586.610871  12.376168  598.987039  0.286054\n",
       "6570         6       1  613.549974  20.856796  634.406770  2.675239\n",
       "7252       803       1  646.162209  18.797716  664.959925  2.768124"
      ]
     },
     "execution_count": 4,
     "metadata": {},
     "output_type": "execute_result"
    }
   ],
   "source": [
    "bike_data = pd.read_csv(\"../data/processed_df.csv\", index_col=0)\n",
    "bike_data.head() # Load the processed bike data and inspect the first 5 rows\n",
    "\n",
    "# Find minimum start time\n",
    "x = bike_data.min()[\"start_time\"]\n",
    "t_min = (x // 86400) * 86400\n",
    "\n",
    "# Substract t_min from start_time and end_time\n",
    "bike_data[\"start_time\"] = (bike_data[\"start_time\"] - t_min) / 60\n",
    "bike_data[\"end_time\"] = (bike_data[\"end_time\"] - t_min) / 60\n",
    "\n",
    "# Introduce random perturbations to make pseudo-continuous\n",
    "bike_data[\"start_time\"] = bike_data[\"start_time\"] + np.random.rand(*bike_data[\"start_time\"].shape)\n",
    "bike_data[\"end_time\"] = bike_data[\"end_time\"] + np.random.rand(*bike_data[\"end_time\"].shape)\n",
    "\n",
    "bike_data[\"duration\"] = bike_data.end_time - bike_data.start_time\n",
    "bike_data = bike_data.sort_values(by=[\"start_time\"])\n",
    "\n",
    "train_time = 12*7*24*60\n",
    "train_bike_data = bike_data[bike_data.end_time <= train_time]\n",
    "\n",
    "train_sorted_stations = []\n",
    "for st_id in train_bike_data.end_id.sort_values().unique():\n",
    "    train_sorted_stations.append(train_bike_data[train_bike_data.end_id==st_id])\n",
    "\n",
    "train_sorted_stations[0].head()"
   ]
  },
  {
   "cell_type": "code",
   "execution_count": 182,
   "metadata": {},
   "outputs": [],
   "source": [
    "def N(t_scalar, t):\n",
    "    \"\"\"\n",
    "    Returns the number of times in t less than or equal to t_scalar.\n",
    "    Is used to compute N(t_i,k) and N'(t_i,k) etc\n",
    "    \"\"\"\n",
    "\n",
    "    return np.searchsorted(t, t_scalar, side=\"right\")\n",
    "\n",
    "\n",
    "def B(h, t, t_prime, beta):\n",
    "\n",
    "    \"\"\"\n",
    "    Returns a list of [B_i(1), ..., B_i(h)]\n",
    "\n",
    "    NOTE: t_prime NEEDS to be sorted here\n",
    "\n",
    "    Note all index variables such as h, k, etc start at 1, like the mathematical notation.\n",
    "    \"\"\"\n",
    "    B = []\n",
    "\n",
    "    # Append base case B_i(1)\n",
    "    B.append(np.sum([np.exp(-1*beta*(t[0] - t_prime[k-1])) for k in range(1, N(t[0], t_prime) + 1)]))\n",
    "\n",
    "    # Append the rest\n",
    "    for l in range(2, h+1):\n",
    "\n",
    "        # First term in recursive formula for B_i(h)\n",
    "        term1 = np.exp(-1*beta*(t[l-1] - t[l-2])) * B[l-2]\n",
    "\n",
    "        # Second term\n",
    "        #term2 = np.sum([np.exp(-1*beta*(t[l-1] - t_prime[k-1])) for k in range(N(t[l-2], t_prime) + 1, N(t[l-1], t_prime) + 1)])\n",
    "\n",
    "        lower = N(t[l-2], t_prime)\n",
    "        upper = N(t[l-1], t_prime)\n",
    "\n",
    "        term2 = np.sum(np.exp(-1*beta*(t[l-1] - t_prime[lower:upper]))) # IMP: This is the term taking the most time by far\n",
    "\n",
    "        B.append(term1 + term2)\n",
    "\n",
    "    return B\n",
    "\n",
    "\n",
    "def compensator_m3(t_scalar, t_prime, lambda_i, alpha_i, beta_i):\n",
    "    \"\"\"\n",
    "    t_scalar: scalar value where Lambda_i(t) is to be evaluated\n",
    "    t_prime: list of arrival times at station i\n",
    "\n",
    "    NOTE: t_prime NEEDS TO BE SORTED HERE.\n",
    "    \"\"\"\n",
    "\n",
    "    term1 = lambda_i * t_scalar\n",
    "    term2 = -(alpha_i / beta_i) * np.sum([np.exp(-beta_i * (t_scalar - t_prime[k-1])) - 1 for k in range(1, N(t_scalar, t_prime) + 1)])\n",
    "\n",
    "    return term1 + term2\n"
   ]
  },
  {
   "cell_type": "code",
   "execution_count": 183,
   "metadata": {},
   "outputs": [],
   "source": [
    "def m3_log_likelihood(t, t_prime, alpha_i, beta_i, lambda_i):\n",
    "\n",
    "    \"\"\"\n",
    "    Gives log likelihood of our three parameters. \n",
    "    t: start times from station i\n",
    "    t_prime: end times at station i\n",
    "\n",
    "    NOTE: t_prime NEEDS TO BE SORTED HERE\n",
    "    \"\"\"\n",
    "    \n",
    "    T = t[-1] # TODO: Is this how we get big T?\n",
    "\n",
    "\n",
    "    # Get B list \n",
    "    B_ = np.array(B(len(t), t, t_prime, beta_i))\n",
    "\n",
    "    #term1 = np.sum(np.log(lambda_i + alpha_i*B_))\n",
    "    term1 = np.sum([np.log(lambda_i + alpha_i*B_[j-1]) for j in range(1, len(t) + 1)])\n",
    "\n",
    "    term2 = -1 * compensator_m3(T, t_prime, lambda_i, alpha_i, beta_i)\n",
    "\n",
    "    return term1 + term2\n",
    "\n"
   ]
  },
  {
   "cell_type": "code",
   "execution_count": 193,
   "metadata": {},
   "outputs": [
    {
     "data": {
      "text/plain": [
       "-15355.839242998185"
      ]
     },
     "execution_count": 193,
     "metadata": {},
     "output_type": "execute_result"
    }
   ],
   "source": [
    "t = train_sorted_stations[0].start_time.to_numpy()\n",
    "t_prime = train_sorted_stations[0].end_time.to_numpy()\n",
    "\n",
    "m3_log_likelihood(t, np.sort(t_prime), 0.1, 1, 0.1)"
   ]
  },
  {
   "cell_type": "markdown",
   "metadata": {},
   "source": [
    "## Finding the parameters using likelihood optimisation"
   ]
  },
  {
   "cell_type": "code",
   "execution_count": null,
   "metadata": {},
   "outputs": [],
   "source": [
    "class OptimizationError(RuntimeError):\n",
    "    pass\n",
    "\n",
    "optimal_parameters = {}\n",
    "for station in train_sorted_stations:\n",
    "    print(station.start_id.to_numpy()[0])\n",
    "    x0 = [np.log(0.1), np.log(1), np.log(0.1)] # np.log(rates_dict[station.start_id.unique()[0]])]\n",
    "\n",
    "    # TODO: What bounds should we use here?\n",
    "\n",
    "    t = station.start_time.to_numpy()\n",
    "    t_prime = np.sort(station.end_time.to_numpy()) # Need to sort t_prime for likelihood function\n",
    "\n",
    "    op_m3_likelihood = lambda x: -m3_log_likelihood(t, t_prime, np.exp(x[0]), np.exp(x[0]) + np.exp(x[1]), np.exp(x[2]))\n",
    "    sol = op.minimize(op_m3_likelihood, x0, method=\"Nelder-Mead\")\n",
    "    #sol = op.minimize(op_m3_likelihood, x0, method=\"SLSQP\")\n",
    "    if sol.success:\n",
    "        transformed_alpha = np.exp(sol.x[0])\n",
    "        transformed_beta = np.exp(sol.x[1]) + np.exp(sol.x[0])\n",
    "        transformed_lambda = np.exp(sol.x[2])\n",
    "        max_params = [transformed_alpha, transformed_beta, transformed_lambda]\n",
    "        optimal_parameters[station.start_id.unique()[0]] = max_params\n",
    "\n",
    "    else:\n",
    "        raise OptimizationError(f\"Failed to converge for station {station}.\")\n",
    "optimal_parameters"
   ]
  },
  {
   "cell_type": "code",
   "execution_count": 205,
   "metadata": {},
   "outputs": [
    {
     "name": "stdout",
     "output_type": "stream",
     "text": [
      "667\n",
      "2\n",
      "424\n"
     ]
    },
    {
     "ename": "KeyboardInterrupt",
     "evalue": "",
     "output_type": "error",
     "traceback": [
      "\u001b[1;31m---------------------------------------------------------------------------\u001b[0m",
      "\u001b[1;31mKeyboardInterrupt\u001b[0m                         Traceback (most recent call last)",
      "\u001b[1;32mc:\\Users\\Owner\\Desktop\\M2R-Project\\analysis\\fit_m3.ipynb Cell 9'\u001b[0m in \u001b[0;36m<module>\u001b[1;34m\u001b[0m\n\u001b[0;32m     <a href='vscode-notebook-cell:/c%3A/Users/Owner/Desktop/M2R-Project/analysis/fit_m3.ipynb#ch0000011?line=12'>13</a>\u001b[0m bounds \u001b[39m=\u001b[39m ((\u001b[39m0.0000001\u001b[39m, \u001b[39m10\u001b[39m), (\u001b[39m0.0000001\u001b[39m, \u001b[39m10\u001b[39m), (\u001b[39m0.0000001\u001b[39m, \u001b[39m10\u001b[39m))\n\u001b[0;32m     <a href='vscode-notebook-cell:/c%3A/Users/Owner/Desktop/M2R-Project/analysis/fit_m3.ipynb#ch0000011?line=13'>14</a>\u001b[0m \u001b[39m#sol = op.minimize(op_m3_likelihood, x0, method=\"Nelder-Mead\", bounds=bounds)\u001b[39;00m\n\u001b[1;32m---> <a href='vscode-notebook-cell:/c%3A/Users/Owner/Desktop/M2R-Project/analysis/fit_m3.ipynb#ch0000011?line=14'>15</a>\u001b[0m sol \u001b[39m=\u001b[39m op\u001b[39m.\u001b[39;49mminimize(op_m3_likelihood, x0, method\u001b[39m=\u001b[39;49m\u001b[39m\"\u001b[39;49m\u001b[39mSLSQP\u001b[39;49m\u001b[39m\"\u001b[39;49m, bounds\u001b[39m=\u001b[39;49mbounds)\n\u001b[0;32m     <a href='vscode-notebook-cell:/c%3A/Users/Owner/Desktop/M2R-Project/analysis/fit_m3.ipynb#ch0000011?line=15'>16</a>\u001b[0m \u001b[39mif\u001b[39;00m sol\u001b[39m.\u001b[39msuccess:\n\u001b[0;32m     <a href='vscode-notebook-cell:/c%3A/Users/Owner/Desktop/M2R-Project/analysis/fit_m3.ipynb#ch0000011?line=16'>17</a>\u001b[0m     max_params \u001b[39m=\u001b[39m sol\u001b[39m.\u001b[39mx\n",
      "File \u001b[1;32mc:\\Users\\Owner\\AppData\\Local\\Programs\\Python\\Python38-32\\lib\\site-packages\\scipy\\optimize\\_minimize.py:631\u001b[0m, in \u001b[0;36mminimize\u001b[1;34m(fun, x0, args, method, jac, hess, hessp, bounds, constraints, tol, callback, options)\u001b[0m\n\u001b[0;32m    <a href='file:///c%3A/Users/Owner/AppData/Local/Programs/Python/Python38-32/lib/site-packages/scipy/optimize/_minimize.py?line=628'>629</a>\u001b[0m     \u001b[39mreturn\u001b[39;00m _minimize_cobyla(fun, x0, args, constraints, \u001b[39m*\u001b[39m\u001b[39m*\u001b[39moptions)\n\u001b[0;32m    <a href='file:///c%3A/Users/Owner/AppData/Local/Programs/Python/Python38-32/lib/site-packages/scipy/optimize/_minimize.py?line=629'>630</a>\u001b[0m \u001b[39melif\u001b[39;00m meth \u001b[39m==\u001b[39m \u001b[39m'\u001b[39m\u001b[39mslsqp\u001b[39m\u001b[39m'\u001b[39m:\n\u001b[1;32m--> <a href='file:///c%3A/Users/Owner/AppData/Local/Programs/Python/Python38-32/lib/site-packages/scipy/optimize/_minimize.py?line=630'>631</a>\u001b[0m     \u001b[39mreturn\u001b[39;00m _minimize_slsqp(fun, x0, args, jac, bounds,\n\u001b[0;32m    <a href='file:///c%3A/Users/Owner/AppData/Local/Programs/Python/Python38-32/lib/site-packages/scipy/optimize/_minimize.py?line=631'>632</a>\u001b[0m                            constraints, callback\u001b[39m=\u001b[39;49mcallback, \u001b[39m*\u001b[39;49m\u001b[39m*\u001b[39;49moptions)\n\u001b[0;32m    <a href='file:///c%3A/Users/Owner/AppData/Local/Programs/Python/Python38-32/lib/site-packages/scipy/optimize/_minimize.py?line=632'>633</a>\u001b[0m \u001b[39melif\u001b[39;00m meth \u001b[39m==\u001b[39m \u001b[39m'\u001b[39m\u001b[39mtrust-constr\u001b[39m\u001b[39m'\u001b[39m:\n\u001b[0;32m    <a href='file:///c%3A/Users/Owner/AppData/Local/Programs/Python/Python38-32/lib/site-packages/scipy/optimize/_minimize.py?line=633'>634</a>\u001b[0m     \u001b[39mreturn\u001b[39;00m _minimize_trustregion_constr(fun, x0, args, jac, hess, hessp,\n\u001b[0;32m    <a href='file:///c%3A/Users/Owner/AppData/Local/Programs/Python/Python38-32/lib/site-packages/scipy/optimize/_minimize.py?line=634'>635</a>\u001b[0m                                         bounds, constraints,\n\u001b[0;32m    <a href='file:///c%3A/Users/Owner/AppData/Local/Programs/Python/Python38-32/lib/site-packages/scipy/optimize/_minimize.py?line=635'>636</a>\u001b[0m                                         callback\u001b[39m=\u001b[39mcallback, \u001b[39m*\u001b[39m\u001b[39m*\u001b[39moptions)\n",
      "File \u001b[1;32mc:\\Users\\Owner\\AppData\\Local\\Programs\\Python\\Python38-32\\lib\\site-packages\\scipy\\optimize\\slsqp.py:437\u001b[0m, in \u001b[0;36m_minimize_slsqp\u001b[1;34m(func, x0, args, jac, bounds, constraints, maxiter, ftol, iprint, disp, eps, callback, finite_diff_rel_step, **unknown_options)\u001b[0m\n\u001b[0;32m    <a href='file:///c%3A/Users/Owner/AppData/Local/Programs/Python/Python38-32/lib/site-packages/scipy/optimize/slsqp.py?line=433'>434</a>\u001b[0m     c \u001b[39m=\u001b[39m _eval_constraint(x, cons)\n\u001b[0;32m    <a href='file:///c%3A/Users/Owner/AppData/Local/Programs/Python/Python38-32/lib/site-packages/scipy/optimize/slsqp.py?line=435'>436</a>\u001b[0m \u001b[39mif\u001b[39;00m mode \u001b[39m==\u001b[39m \u001b[39m-\u001b[39m\u001b[39m1\u001b[39m:  \u001b[39m# gradient evaluation required\u001b[39;00m\n\u001b[1;32m--> <a href='file:///c%3A/Users/Owner/AppData/Local/Programs/Python/Python38-32/lib/site-packages/scipy/optimize/slsqp.py?line=436'>437</a>\u001b[0m     g \u001b[39m=\u001b[39m append(wrapped_grad(x), \u001b[39m0.0\u001b[39m)\n\u001b[0;32m    <a href='file:///c%3A/Users/Owner/AppData/Local/Programs/Python/Python38-32/lib/site-packages/scipy/optimize/slsqp.py?line=437'>438</a>\u001b[0m     a \u001b[39m=\u001b[39m _eval_con_normals(x, cons, la, n, m, meq, mieq)\n\u001b[0;32m    <a href='file:///c%3A/Users/Owner/AppData/Local/Programs/Python/Python38-32/lib/site-packages/scipy/optimize/slsqp.py?line=439'>440</a>\u001b[0m \u001b[39mif\u001b[39;00m majiter \u001b[39m>\u001b[39m majiter_prev:\n\u001b[0;32m    <a href='file:///c%3A/Users/Owner/AppData/Local/Programs/Python/Python38-32/lib/site-packages/scipy/optimize/slsqp.py?line=440'>441</a>\u001b[0m     \u001b[39m# call callback if major iteration has incremented\u001b[39;00m\n",
      "File \u001b[1;32mc:\\Users\\Owner\\AppData\\Local\\Programs\\Python\\Python38-32\\lib\\site-packages\\scipy\\optimize\\optimize.py:275\u001b[0m, in \u001b[0;36m_clip_x_for_func.<locals>.eval\u001b[1;34m(x)\u001b[0m\n\u001b[0;32m    <a href='file:///c%3A/Users/Owner/AppData/Local/Programs/Python/Python38-32/lib/site-packages/scipy/optimize/optimize.py?line=272'>273</a>\u001b[0m \u001b[39mdef\u001b[39;00m \u001b[39meval\u001b[39m(x):\n\u001b[0;32m    <a href='file:///c%3A/Users/Owner/AppData/Local/Programs/Python/Python38-32/lib/site-packages/scipy/optimize/optimize.py?line=273'>274</a>\u001b[0m     x \u001b[39m=\u001b[39m _check_clip_x(x, bounds)\n\u001b[1;32m--> <a href='file:///c%3A/Users/Owner/AppData/Local/Programs/Python/Python38-32/lib/site-packages/scipy/optimize/optimize.py?line=274'>275</a>\u001b[0m     \u001b[39mreturn\u001b[39;00m func(x)\n",
      "File \u001b[1;32mc:\\Users\\Owner\\AppData\\Local\\Programs\\Python\\Python38-32\\lib\\site-packages\\scipy\\optimize\\_differentiable_functions.py:255\u001b[0m, in \u001b[0;36mScalarFunction.grad\u001b[1;34m(self, x)\u001b[0m\n\u001b[0;32m    <a href='file:///c%3A/Users/Owner/AppData/Local/Programs/Python/Python38-32/lib/site-packages/scipy/optimize/_differentiable_functions.py?line=252'>253</a>\u001b[0m \u001b[39mif\u001b[39;00m \u001b[39mnot\u001b[39;00m np\u001b[39m.\u001b[39marray_equal(x, \u001b[39mself\u001b[39m\u001b[39m.\u001b[39mx):\n\u001b[0;32m    <a href='file:///c%3A/Users/Owner/AppData/Local/Programs/Python/Python38-32/lib/site-packages/scipy/optimize/_differentiable_functions.py?line=253'>254</a>\u001b[0m     \u001b[39mself\u001b[39m\u001b[39m.\u001b[39m_update_x_impl(x)\n\u001b[1;32m--> <a href='file:///c%3A/Users/Owner/AppData/Local/Programs/Python/Python38-32/lib/site-packages/scipy/optimize/_differentiable_functions.py?line=254'>255</a>\u001b[0m \u001b[39mself\u001b[39;49m\u001b[39m.\u001b[39;49m_update_grad()\n\u001b[0;32m    <a href='file:///c%3A/Users/Owner/AppData/Local/Programs/Python/Python38-32/lib/site-packages/scipy/optimize/_differentiable_functions.py?line=255'>256</a>\u001b[0m \u001b[39mreturn\u001b[39;00m \u001b[39mself\u001b[39m\u001b[39m.\u001b[39mg\n",
      "File \u001b[1;32mc:\\Users\\Owner\\AppData\\Local\\Programs\\Python\\Python38-32\\lib\\site-packages\\scipy\\optimize\\_differentiable_functions.py:238\u001b[0m, in \u001b[0;36mScalarFunction._update_grad\u001b[1;34m(self)\u001b[0m\n\u001b[0;32m    <a href='file:///c%3A/Users/Owner/AppData/Local/Programs/Python/Python38-32/lib/site-packages/scipy/optimize/_differentiable_functions.py?line=235'>236</a>\u001b[0m \u001b[39mdef\u001b[39;00m \u001b[39m_update_grad\u001b[39m(\u001b[39mself\u001b[39m):\n\u001b[0;32m    <a href='file:///c%3A/Users/Owner/AppData/Local/Programs/Python/Python38-32/lib/site-packages/scipy/optimize/_differentiable_functions.py?line=236'>237</a>\u001b[0m     \u001b[39mif\u001b[39;00m \u001b[39mnot\u001b[39;00m \u001b[39mself\u001b[39m\u001b[39m.\u001b[39mg_updated:\n\u001b[1;32m--> <a href='file:///c%3A/Users/Owner/AppData/Local/Programs/Python/Python38-32/lib/site-packages/scipy/optimize/_differentiable_functions.py?line=237'>238</a>\u001b[0m         \u001b[39mself\u001b[39;49m\u001b[39m.\u001b[39;49m_update_grad_impl()\n\u001b[0;32m    <a href='file:///c%3A/Users/Owner/AppData/Local/Programs/Python/Python38-32/lib/site-packages/scipy/optimize/_differentiable_functions.py?line=238'>239</a>\u001b[0m         \u001b[39mself\u001b[39m\u001b[39m.\u001b[39mg_updated \u001b[39m=\u001b[39m \u001b[39mTrue\u001b[39;00m\n",
      "File \u001b[1;32mc:\\Users\\Owner\\AppData\\Local\\Programs\\Python\\Python38-32\\lib\\site-packages\\scipy\\optimize\\_differentiable_functions.py:155\u001b[0m, in \u001b[0;36mScalarFunction.__init__.<locals>.update_grad\u001b[1;34m()\u001b[0m\n\u001b[0;32m    <a href='file:///c%3A/Users/Owner/AppData/Local/Programs/Python/Python38-32/lib/site-packages/scipy/optimize/_differentiable_functions.py?line=152'>153</a>\u001b[0m \u001b[39mself\u001b[39m\u001b[39m.\u001b[39m_update_fun()\n\u001b[0;32m    <a href='file:///c%3A/Users/Owner/AppData/Local/Programs/Python/Python38-32/lib/site-packages/scipy/optimize/_differentiable_functions.py?line=153'>154</a>\u001b[0m \u001b[39mself\u001b[39m\u001b[39m.\u001b[39mngev \u001b[39m+\u001b[39m\u001b[39m=\u001b[39m \u001b[39m1\u001b[39m\n\u001b[1;32m--> <a href='file:///c%3A/Users/Owner/AppData/Local/Programs/Python/Python38-32/lib/site-packages/scipy/optimize/_differentiable_functions.py?line=154'>155</a>\u001b[0m \u001b[39mself\u001b[39m\u001b[39m.\u001b[39mg \u001b[39m=\u001b[39m approx_derivative(fun_wrapped, \u001b[39mself\u001b[39;49m\u001b[39m.\u001b[39;49mx, f0\u001b[39m=\u001b[39;49m\u001b[39mself\u001b[39;49m\u001b[39m.\u001b[39;49mf,\n\u001b[0;32m    <a href='file:///c%3A/Users/Owner/AppData/Local/Programs/Python/Python38-32/lib/site-packages/scipy/optimize/_differentiable_functions.py?line=155'>156</a>\u001b[0m                            \u001b[39m*\u001b[39;49m\u001b[39m*\u001b[39;49mfinite_diff_options)\n",
      "File \u001b[1;32mc:\\Users\\Owner\\AppData\\Local\\Programs\\Python\\Python38-32\\lib\\site-packages\\scipy\\optimize\\_numdiff.py:486\u001b[0m, in \u001b[0;36mapprox_derivative\u001b[1;34m(fun, x0, method, rel_step, abs_step, f0, bounds, sparsity, as_linear_operator, args, kwargs)\u001b[0m\n\u001b[0;32m    <a href='file:///c%3A/Users/Owner/AppData/Local/Programs/Python/Python38-32/lib/site-packages/scipy/optimize/_numdiff.py?line=482'>483</a>\u001b[0m     use_one_sided \u001b[39m=\u001b[39m \u001b[39mFalse\u001b[39;00m\n\u001b[0;32m    <a href='file:///c%3A/Users/Owner/AppData/Local/Programs/Python/Python38-32/lib/site-packages/scipy/optimize/_numdiff.py?line=484'>485</a>\u001b[0m \u001b[39mif\u001b[39;00m sparsity \u001b[39mis\u001b[39;00m \u001b[39mNone\u001b[39;00m:\n\u001b[1;32m--> <a href='file:///c%3A/Users/Owner/AppData/Local/Programs/Python/Python38-32/lib/site-packages/scipy/optimize/_numdiff.py?line=485'>486</a>\u001b[0m     \u001b[39mreturn\u001b[39;00m _dense_difference(fun_wrapped, x0, f0, h,\n\u001b[0;32m    <a href='file:///c%3A/Users/Owner/AppData/Local/Programs/Python/Python38-32/lib/site-packages/scipy/optimize/_numdiff.py?line=486'>487</a>\u001b[0m                              use_one_sided, method)\n\u001b[0;32m    <a href='file:///c%3A/Users/Owner/AppData/Local/Programs/Python/Python38-32/lib/site-packages/scipy/optimize/_numdiff.py?line=487'>488</a>\u001b[0m \u001b[39melse\u001b[39;00m:\n\u001b[0;32m    <a href='file:///c%3A/Users/Owner/AppData/Local/Programs/Python/Python38-32/lib/site-packages/scipy/optimize/_numdiff.py?line=488'>489</a>\u001b[0m     \u001b[39mif\u001b[39;00m \u001b[39mnot\u001b[39;00m issparse(sparsity) \u001b[39mand\u001b[39;00m \u001b[39mlen\u001b[39m(sparsity) \u001b[39m==\u001b[39m \u001b[39m2\u001b[39m:\n",
      "File \u001b[1;32mc:\\Users\\Owner\\AppData\\Local\\Programs\\Python\\Python38-32\\lib\\site-packages\\scipy\\optimize\\_numdiff.py:557\u001b[0m, in \u001b[0;36m_dense_difference\u001b[1;34m(fun, x0, f0, h, use_one_sided, method)\u001b[0m\n\u001b[0;32m    <a href='file:///c%3A/Users/Owner/AppData/Local/Programs/Python/Python38-32/lib/site-packages/scipy/optimize/_numdiff.py?line=554'>555</a>\u001b[0m     x \u001b[39m=\u001b[39m x0 \u001b[39m+\u001b[39m h_vecs[i]\n\u001b[0;32m    <a href='file:///c%3A/Users/Owner/AppData/Local/Programs/Python/Python38-32/lib/site-packages/scipy/optimize/_numdiff.py?line=555'>556</a>\u001b[0m     dx \u001b[39m=\u001b[39m x[i] \u001b[39m-\u001b[39m x0[i]  \u001b[39m# Recompute dx as exactly representable number.\u001b[39;00m\n\u001b[1;32m--> <a href='file:///c%3A/Users/Owner/AppData/Local/Programs/Python/Python38-32/lib/site-packages/scipy/optimize/_numdiff.py?line=556'>557</a>\u001b[0m     df \u001b[39m=\u001b[39m fun(x) \u001b[39m-\u001b[39m f0\n\u001b[0;32m    <a href='file:///c%3A/Users/Owner/AppData/Local/Programs/Python/Python38-32/lib/site-packages/scipy/optimize/_numdiff.py?line=557'>558</a>\u001b[0m \u001b[39melif\u001b[39;00m method \u001b[39m==\u001b[39m \u001b[39m'\u001b[39m\u001b[39m3-point\u001b[39m\u001b[39m'\u001b[39m \u001b[39mand\u001b[39;00m use_one_sided[i]:\n\u001b[0;32m    <a href='file:///c%3A/Users/Owner/AppData/Local/Programs/Python/Python38-32/lib/site-packages/scipy/optimize/_numdiff.py?line=558'>559</a>\u001b[0m     x1 \u001b[39m=\u001b[39m x0 \u001b[39m+\u001b[39m h_vecs[i]\n",
      "File \u001b[1;32mc:\\Users\\Owner\\AppData\\Local\\Programs\\Python\\Python38-32\\lib\\site-packages\\scipy\\optimize\\_numdiff.py:437\u001b[0m, in \u001b[0;36mapprox_derivative.<locals>.fun_wrapped\u001b[1;34m(x)\u001b[0m\n\u001b[0;32m    <a href='file:///c%3A/Users/Owner/AppData/Local/Programs/Python/Python38-32/lib/site-packages/scipy/optimize/_numdiff.py?line=435'>436</a>\u001b[0m \u001b[39mdef\u001b[39;00m \u001b[39mfun_wrapped\u001b[39m(x):\n\u001b[1;32m--> <a href='file:///c%3A/Users/Owner/AppData/Local/Programs/Python/Python38-32/lib/site-packages/scipy/optimize/_numdiff.py?line=436'>437</a>\u001b[0m     f \u001b[39m=\u001b[39m np\u001b[39m.\u001b[39matleast_1d(fun(x, \u001b[39m*\u001b[39;49margs, \u001b[39m*\u001b[39;49m\u001b[39m*\u001b[39;49mkwargs))\n\u001b[0;32m    <a href='file:///c%3A/Users/Owner/AppData/Local/Programs/Python/Python38-32/lib/site-packages/scipy/optimize/_numdiff.py?line=437'>438</a>\u001b[0m     \u001b[39mif\u001b[39;00m f\u001b[39m.\u001b[39mndim \u001b[39m>\u001b[39m \u001b[39m1\u001b[39m:\n\u001b[0;32m    <a href='file:///c%3A/Users/Owner/AppData/Local/Programs/Python/Python38-32/lib/site-packages/scipy/optimize/_numdiff.py?line=438'>439</a>\u001b[0m         \u001b[39mraise\u001b[39;00m \u001b[39mRuntimeError\u001b[39;00m(\u001b[39m\"\u001b[39m\u001b[39m`fun` return value has \u001b[39m\u001b[39m\"\u001b[39m\n\u001b[0;32m    <a href='file:///c%3A/Users/Owner/AppData/Local/Programs/Python/Python38-32/lib/site-packages/scipy/optimize/_numdiff.py?line=439'>440</a>\u001b[0m                            \u001b[39m\"\u001b[39m\u001b[39mmore than 1 dimension.\u001b[39m\u001b[39m\"\u001b[39m)\n",
      "File \u001b[1;32mc:\\Users\\Owner\\AppData\\Local\\Programs\\Python\\Python38-32\\lib\\site-packages\\scipy\\optimize\\_differentiable_functions.py:134\u001b[0m, in \u001b[0;36mScalarFunction.__init__.<locals>.fun_wrapped\u001b[1;34m(x)\u001b[0m\n\u001b[0;32m    <a href='file:///c%3A/Users/Owner/AppData/Local/Programs/Python/Python38-32/lib/site-packages/scipy/optimize/_differentiable_functions.py?line=129'>130</a>\u001b[0m \u001b[39mself\u001b[39m\u001b[39m.\u001b[39mnfev \u001b[39m+\u001b[39m\u001b[39m=\u001b[39m \u001b[39m1\u001b[39m\n\u001b[0;32m    <a href='file:///c%3A/Users/Owner/AppData/Local/Programs/Python/Python38-32/lib/site-packages/scipy/optimize/_differentiable_functions.py?line=130'>131</a>\u001b[0m \u001b[39m# Send a copy because the user may overwrite it.\u001b[39;00m\n\u001b[0;32m    <a href='file:///c%3A/Users/Owner/AppData/Local/Programs/Python/Python38-32/lib/site-packages/scipy/optimize/_differentiable_functions.py?line=131'>132</a>\u001b[0m \u001b[39m# Overwriting results in undefined behaviour because\u001b[39;00m\n\u001b[0;32m    <a href='file:///c%3A/Users/Owner/AppData/Local/Programs/Python/Python38-32/lib/site-packages/scipy/optimize/_differentiable_functions.py?line=132'>133</a>\u001b[0m \u001b[39m# fun(self.x) will change self.x, with the two no longer linked.\u001b[39;00m\n\u001b[1;32m--> <a href='file:///c%3A/Users/Owner/AppData/Local/Programs/Python/Python38-32/lib/site-packages/scipy/optimize/_differentiable_functions.py?line=133'>134</a>\u001b[0m \u001b[39mreturn\u001b[39;00m fun(np\u001b[39m.\u001b[39;49mcopy(x), \u001b[39m*\u001b[39;49margs)\n",
      "\u001b[1;32mc:\\Users\\Owner\\Desktop\\M2R-Project\\analysis\\fit_m3.ipynb Cell 9'\u001b[0m in \u001b[0;36m<lambda>\u001b[1;34m(x)\u001b[0m\n\u001b[0;32m      <a href='vscode-notebook-cell:/c%3A/Users/Owner/Desktop/M2R-Project/analysis/fit_m3.ipynb#ch0000011?line=8'>9</a>\u001b[0m t \u001b[39m=\u001b[39m station\u001b[39m.\u001b[39mstart_time\u001b[39m.\u001b[39mto_numpy()\n\u001b[0;32m     <a href='vscode-notebook-cell:/c%3A/Users/Owner/Desktop/M2R-Project/analysis/fit_m3.ipynb#ch0000011?line=9'>10</a>\u001b[0m t_prime \u001b[39m=\u001b[39m np\u001b[39m.\u001b[39msort(station\u001b[39m.\u001b[39mend_time\u001b[39m.\u001b[39mto_numpy()) \u001b[39m# Need to sort t_prime for likelihood function\u001b[39;00m\n\u001b[1;32m---> <a href='vscode-notebook-cell:/c%3A/Users/Owner/Desktop/M2R-Project/analysis/fit_m3.ipynb#ch0000011?line=11'>12</a>\u001b[0m op_m3_likelihood \u001b[39m=\u001b[39m \u001b[39mlambda\u001b[39;00m x: \u001b[39m-\u001b[39mm3_log_likelihood(t, t_prime, x[\u001b[39m0\u001b[39;49m], x[\u001b[39m1\u001b[39;49m], x[\u001b[39m2\u001b[39;49m])\n\u001b[0;32m     <a href='vscode-notebook-cell:/c%3A/Users/Owner/Desktop/M2R-Project/analysis/fit_m3.ipynb#ch0000011?line=12'>13</a>\u001b[0m bounds \u001b[39m=\u001b[39m ((\u001b[39m0.0000001\u001b[39m, \u001b[39m10\u001b[39m), (\u001b[39m0.0000001\u001b[39m, \u001b[39m10\u001b[39m), (\u001b[39m0.0000001\u001b[39m, \u001b[39m10\u001b[39m))\n\u001b[0;32m     <a href='vscode-notebook-cell:/c%3A/Users/Owner/Desktop/M2R-Project/analysis/fit_m3.ipynb#ch0000011?line=13'>14</a>\u001b[0m \u001b[39m#sol = op.minimize(op_m3_likelihood, x0, method=\"Nelder-Mead\", bounds=bounds)\u001b[39;00m\n",
      "\u001b[1;32mc:\\Users\\Owner\\Desktop\\M2R-Project\\analysis\\fit_m3.ipynb Cell 5'\u001b[0m in \u001b[0;36mm3_log_likelihood\u001b[1;34m(t, t_prime, alpha_i, beta_i, lambda_i)\u001b[0m\n\u001b[0;32m     <a href='vscode-notebook-cell:/c%3A/Users/Owner/Desktop/M2R-Project/analysis/fit_m3.ipynb#ch0000004?line=16'>17</a>\u001b[0m \u001b[39m#term1 = np.sum(np.log(lambda_i + alpha_i*B_))\u001b[39;00m\n\u001b[0;32m     <a href='vscode-notebook-cell:/c%3A/Users/Owner/Desktop/M2R-Project/analysis/fit_m3.ipynb#ch0000004?line=17'>18</a>\u001b[0m term1 \u001b[39m=\u001b[39m np\u001b[39m.\u001b[39msum([np\u001b[39m.\u001b[39mlog(lambda_i \u001b[39m+\u001b[39m alpha_i\u001b[39m*\u001b[39mB_[j\u001b[39m-\u001b[39m\u001b[39m1\u001b[39m]) \u001b[39mfor\u001b[39;00m j \u001b[39min\u001b[39;00m \u001b[39mrange\u001b[39m(\u001b[39m1\u001b[39m, \u001b[39mlen\u001b[39m(t) \u001b[39m+\u001b[39m \u001b[39m1\u001b[39m)])\n\u001b[1;32m---> <a href='vscode-notebook-cell:/c%3A/Users/Owner/Desktop/M2R-Project/analysis/fit_m3.ipynb#ch0000004?line=19'>20</a>\u001b[0m term2 \u001b[39m=\u001b[39m \u001b[39m-\u001b[39m\u001b[39m1\u001b[39m \u001b[39m*\u001b[39m compensator_m3(T, t_prime, lambda_i, alpha_i, beta_i)\n\u001b[0;32m     <a href='vscode-notebook-cell:/c%3A/Users/Owner/Desktop/M2R-Project/analysis/fit_m3.ipynb#ch0000004?line=21'>22</a>\u001b[0m \u001b[39mreturn\u001b[39;00m term1 \u001b[39m+\u001b[39m term2\n",
      "\u001b[1;32mc:\\Users\\Owner\\Desktop\\M2R-Project\\analysis\\fit_m3.ipynb Cell 4'\u001b[0m in \u001b[0;36mcompensator_m3\u001b[1;34m(t_scalar, t_prime, lambda_i, alpha_i, beta_i)\u001b[0m\n\u001b[0;32m     <a href='vscode-notebook-cell:/c%3A/Users/Owner/Desktop/M2R-Project/analysis/fit_m3.ipynb#ch0000003?line=44'>45</a>\u001b[0m \u001b[39m\"\"\"\u001b[39;00m\n\u001b[0;32m     <a href='vscode-notebook-cell:/c%3A/Users/Owner/Desktop/M2R-Project/analysis/fit_m3.ipynb#ch0000003?line=45'>46</a>\u001b[0m \u001b[39mt_scalar: scalar value where Lambda_i(t) is to be evaluated\u001b[39;00m\n\u001b[0;32m     <a href='vscode-notebook-cell:/c%3A/Users/Owner/Desktop/M2R-Project/analysis/fit_m3.ipynb#ch0000003?line=46'>47</a>\u001b[0m \u001b[39mt_prime: list of arrival times at station i\u001b[39;00m\n\u001b[0;32m     <a href='vscode-notebook-cell:/c%3A/Users/Owner/Desktop/M2R-Project/analysis/fit_m3.ipynb#ch0000003?line=47'>48</a>\u001b[0m \n\u001b[0;32m     <a href='vscode-notebook-cell:/c%3A/Users/Owner/Desktop/M2R-Project/analysis/fit_m3.ipynb#ch0000003?line=48'>49</a>\u001b[0m \u001b[39mNOTE: t_prime NEEDS TO BE SORTED HERE.\u001b[39;00m\n\u001b[0;32m     <a href='vscode-notebook-cell:/c%3A/Users/Owner/Desktop/M2R-Project/analysis/fit_m3.ipynb#ch0000003?line=49'>50</a>\u001b[0m \u001b[39m\"\"\"\u001b[39;00m\n\u001b[0;32m     <a href='vscode-notebook-cell:/c%3A/Users/Owner/Desktop/M2R-Project/analysis/fit_m3.ipynb#ch0000003?line=51'>52</a>\u001b[0m term1 \u001b[39m=\u001b[39m lambda_i \u001b[39m*\u001b[39m t_scalar\n\u001b[1;32m---> <a href='vscode-notebook-cell:/c%3A/Users/Owner/Desktop/M2R-Project/analysis/fit_m3.ipynb#ch0000003?line=52'>53</a>\u001b[0m term2 \u001b[39m=\u001b[39m \u001b[39m-\u001b[39m(alpha_i \u001b[39m/\u001b[39m beta_i) \u001b[39m*\u001b[39m np\u001b[39m.\u001b[39;49msum([np\u001b[39m.\u001b[39;49mexp(\u001b[39m-\u001b[39;49mbeta_i \u001b[39m*\u001b[39;49m (t_scalar \u001b[39m-\u001b[39;49m t_prime[k\u001b[39m-\u001b[39;49m\u001b[39m1\u001b[39;49m])) \u001b[39m-\u001b[39;49m \u001b[39m1\u001b[39;49m \u001b[39mfor\u001b[39;49;00m k \u001b[39min\u001b[39;49;00m \u001b[39mrange\u001b[39;49m(\u001b[39m1\u001b[39;49m, N(t_scalar, t_prime) \u001b[39m+\u001b[39;49m \u001b[39m1\u001b[39;49m)])\n\u001b[0;32m     <a href='vscode-notebook-cell:/c%3A/Users/Owner/Desktop/M2R-Project/analysis/fit_m3.ipynb#ch0000003?line=54'>55</a>\u001b[0m \u001b[39mreturn\u001b[39;00m term1 \u001b[39m+\u001b[39m term2\n",
      "File \u001b[1;32m<__array_function__ internals>:5\u001b[0m, in \u001b[0;36msum\u001b[1;34m(*args, **kwargs)\u001b[0m\n",
      "File \u001b[1;32mc:\\Users\\Owner\\AppData\\Local\\Programs\\Python\\Python38-32\\lib\\site-packages\\numpy\\core\\fromnumeric.py:2259\u001b[0m, in \u001b[0;36msum\u001b[1;34m(a, axis, dtype, out, keepdims, initial, where)\u001b[0m\n\u001b[0;32m   <a href='file:///c%3A/Users/Owner/AppData/Local/Programs/Python/Python38-32/lib/site-packages/numpy/core/fromnumeric.py?line=2255'>2256</a>\u001b[0m         \u001b[39mreturn\u001b[39;00m out\n\u001b[0;32m   <a href='file:///c%3A/Users/Owner/AppData/Local/Programs/Python/Python38-32/lib/site-packages/numpy/core/fromnumeric.py?line=2256'>2257</a>\u001b[0m     \u001b[39mreturn\u001b[39;00m res\n\u001b[1;32m-> <a href='file:///c%3A/Users/Owner/AppData/Local/Programs/Python/Python38-32/lib/site-packages/numpy/core/fromnumeric.py?line=2258'>2259</a>\u001b[0m \u001b[39mreturn\u001b[39;00m _wrapreduction(a, np\u001b[39m.\u001b[39;49madd, \u001b[39m'\u001b[39;49m\u001b[39msum\u001b[39;49m\u001b[39m'\u001b[39;49m, axis, dtype, out, keepdims\u001b[39m=\u001b[39;49mkeepdims,\n\u001b[0;32m   <a href='file:///c%3A/Users/Owner/AppData/Local/Programs/Python/Python38-32/lib/site-packages/numpy/core/fromnumeric.py?line=2259'>2260</a>\u001b[0m                       initial\u001b[39m=\u001b[39;49minitial, where\u001b[39m=\u001b[39;49mwhere)\n",
      "File \u001b[1;32mc:\\Users\\Owner\\AppData\\Local\\Programs\\Python\\Python38-32\\lib\\site-packages\\numpy\\core\\fromnumeric.py:86\u001b[0m, in \u001b[0;36m_wrapreduction\u001b[1;34m(obj, ufunc, method, axis, dtype, out, **kwargs)\u001b[0m\n\u001b[0;32m     <a href='file:///c%3A/Users/Owner/AppData/Local/Programs/Python/Python38-32/lib/site-packages/numpy/core/fromnumeric.py?line=82'>83</a>\u001b[0m         \u001b[39melse\u001b[39;00m:\n\u001b[0;32m     <a href='file:///c%3A/Users/Owner/AppData/Local/Programs/Python/Python38-32/lib/site-packages/numpy/core/fromnumeric.py?line=83'>84</a>\u001b[0m             \u001b[39mreturn\u001b[39;00m reduction(axis\u001b[39m=\u001b[39maxis, out\u001b[39m=\u001b[39mout, \u001b[39m*\u001b[39m\u001b[39m*\u001b[39mpasskwargs)\n\u001b[1;32m---> <a href='file:///c%3A/Users/Owner/AppData/Local/Programs/Python/Python38-32/lib/site-packages/numpy/core/fromnumeric.py?line=85'>86</a>\u001b[0m \u001b[39mreturn\u001b[39;00m ufunc\u001b[39m.\u001b[39;49mreduce(obj, axis, dtype, out, \u001b[39m*\u001b[39;49m\u001b[39m*\u001b[39;49mpasskwargs)\n",
      "\u001b[1;31mKeyboardInterrupt\u001b[0m: "
     ]
    }
   ],
   "source": [
    "class OptimizationError(RuntimeError):\n",
    "    pass\n",
    "\n",
    "optimal_parameters = {}\n",
    "for station in train_sorted_stations:\n",
    "    print(station.start_id.to_numpy()[0])\n",
    "    x0 = [0.1, 1, 0.1] # np.log(rates_dict[station.start_id.unique()[0]])]\n",
    "\n",
    "    t = station.start_time.to_numpy()\n",
    "    t_prime = np.sort(station.end_time.to_numpy()) # Need to sort t_prime for likelihood function\n",
    "\n",
    "    op_m3_likelihood = lambda x: -m3_log_likelihood(t, t_prime, x[0], x[1], x[2])\n",
    "    bounds = ((0.0000001, 10), (0.0000001, 10), (0.0000001, 10))\n",
    "    #sol = op.minimize(op_m3_likelihood, x0, method=\"Nelder-Mead\", bounds=bounds)\n",
    "    sol = op.minimize(op_m3_likelihood, x0, method=\"SLSQP\", bounds=bounds)\n",
    "    if sol.success:\n",
    "        max_params = sol.x\n",
    "        optimal_parameters[station.start_id.unique()[0]] = max_params\n",
    "\n",
    "    else:\n",
    "        raise OptimizationError(f\"Failed to converge.\")\n",
    "optimal_parameters"
   ]
  },
  {
   "cell_type": "markdown",
   "metadata": {},
   "source": [
    "## Assessing fit for model 3"
   ]
  },
  {
   "cell_type": "markdown",
   "metadata": {},
   "source": []
  }
 ],
 "metadata": {
  "interpreter": {
   "hash": "9c1410969137b62557f626ec5944e60126207e5e8b8864d3436c9c9d7a53b4e1"
  },
  "kernelspec": {
   "display_name": "Python 3.8.2 32-bit",
   "language": "python",
   "name": "python3"
  },
  "language_info": {
   "codemirror_mode": {
    "name": "ipython",
    "version": 3
   },
   "file_extension": ".py",
   "mimetype": "text/x-python",
   "name": "python",
   "nbconvert_exporter": "python",
   "pygments_lexer": "ipython3",
   "version": "3.8.2"
  },
  "orig_nbformat": 4
 },
 "nbformat": 4,
 "nbformat_minor": 2
}
