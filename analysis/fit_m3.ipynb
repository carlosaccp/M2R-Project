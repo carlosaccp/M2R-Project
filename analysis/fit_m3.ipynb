{
 "cells": [
  {
   "cell_type": "code",
   "execution_count": 2,
   "metadata": {},
   "outputs": [],
   "source": [
    "import pandas as pd\n",
    "import numpy as np\n",
    "import os\n",
    "import matplotlib.pyplot as plt\n",
    "import scipy.stats as st\n",
    "from matplotlib.ticker import FuncFormatter\n",
    "import scipy.optimize as op\n",
    "plt.style.use(\"dark_background\") # Config plots for dark mode, delete if on light mode\n",
    "plt.rcParams['figure.dpi'] = 150 # Hi-res plots"
   ]
  },
  {
   "cell_type": "code",
   "execution_count": 3,
   "metadata": {},
   "outputs": [],
   "source": [
    "station_data = pd.read_csv(\"../data/santander_locations.csv\")\n",
    "station_data.head() # Load the station data and inspect the first 5 rows\n",
    "class StationIdError(IndexError):\n",
    "    \"\"\"Called when we try and read a non-existing station Id\"\"\"\n",
    "    pass\n",
    "\n",
    "def get_station_name(in_id):\n",
    "    \"\"\"Get station name from bike_data for a given id, catching any exceptions\"\"\"\n",
    "    try:\n",
    "        return station_data[station_data[\"Station.Id\"] == in_id].StationName.iloc[0]\n",
    "    except IndexError:\n",
    "        StationIdError(\"No station matching input ID\")"
   ]
  },
  {
   "cell_type": "code",
   "execution_count": 5,
   "metadata": {},
   "outputs": [
    {
     "data": {
      "text/html": [
       "<div>\n",
       "<style scoped>\n",
       "    .dataframe tbody tr th:only-of-type {\n",
       "        vertical-align: middle;\n",
       "    }\n",
       "\n",
       "    .dataframe tbody tr th {\n",
       "        vertical-align: top;\n",
       "    }\n",
       "\n",
       "    .dataframe thead th {\n",
       "        text-align: right;\n",
       "    }\n",
       "</style>\n",
       "<table border=\"1\" class=\"dataframe\">\n",
       "  <thead>\n",
       "    <tr style=\"text-align: right;\">\n",
       "      <th></th>\n",
       "      <th>start_id</th>\n",
       "      <th>end_id</th>\n",
       "      <th>start_time</th>\n",
       "      <th>duration</th>\n",
       "      <th>end_time</th>\n",
       "      <th>dist</th>\n",
       "    </tr>\n",
       "  </thead>\n",
       "  <tbody>\n",
       "    <tr>\n",
       "      <th>3657</th>\n",
       "      <td>667</td>\n",
       "      <td>1</td>\n",
       "      <td>503.179481</td>\n",
       "      <td>38.753114</td>\n",
       "      <td>541.932595</td>\n",
       "      <td>8.365682</td>\n",
       "    </tr>\n",
       "    <tr>\n",
       "      <th>5041</th>\n",
       "      <td>330</td>\n",
       "      <td>1</td>\n",
       "      <td>548.914156</td>\n",
       "      <td>27.368573</td>\n",
       "      <td>576.282729</td>\n",
       "      <td>4.997948</td>\n",
       "    </tr>\n",
       "    <tr>\n",
       "      <th>6023</th>\n",
       "      <td>254</td>\n",
       "      <td>1</td>\n",
       "      <td>586.823051</td>\n",
       "      <td>11.721097</td>\n",
       "      <td>598.544148</td>\n",
       "      <td>0.286054</td>\n",
       "    </tr>\n",
       "    <tr>\n",
       "      <th>6570</th>\n",
       "      <td>6</td>\n",
       "      <td>1</td>\n",
       "      <td>613.184308</td>\n",
       "      <td>21.030599</td>\n",
       "      <td>634.214907</td>\n",
       "      <td>2.675239</td>\n",
       "    </tr>\n",
       "    <tr>\n",
       "      <th>7252</th>\n",
       "      <td>803</td>\n",
       "      <td>1</td>\n",
       "      <td>646.771823</td>\n",
       "      <td>17.843453</td>\n",
       "      <td>664.615276</td>\n",
       "      <td>2.768124</td>\n",
       "    </tr>\n",
       "  </tbody>\n",
       "</table>\n",
       "</div>"
      ],
      "text/plain": [
       "      start_id  end_id  start_time   duration    end_time      dist\n",
       "3657       667       1  503.179481  38.753114  541.932595  8.365682\n",
       "5041       330       1  548.914156  27.368573  576.282729  4.997948\n",
       "6023       254       1  586.823051  11.721097  598.544148  0.286054\n",
       "6570         6       1  613.184308  21.030599  634.214907  2.675239\n",
       "7252       803       1  646.771823  17.843453  664.615276  2.768124"
      ]
     },
     "execution_count": 5,
     "metadata": {},
     "output_type": "execute_result"
    }
   ],
   "source": [
    "bike_data = pd.read_csv(\"../data/processed_df.csv\", index_col=0)\n",
    "bike_data.head() # Load the processed bike data and inspect the first 5 rows\n",
    "\n",
    "# Find minimum start time\n",
    "x = bike_data.min()[\"start_time\"]\n",
    "t_min = (x // 86400) * 86400\n",
    "\n",
    "# Substract t_min from start_time and end_time\n",
    "bike_data[\"start_time\"] = (bike_data[\"start_time\"] - t_min) / 60\n",
    "bike_data[\"end_time\"] = (bike_data[\"end_time\"] - t_min) / 60\n",
    "\n",
    "# Introduce random perturbations to make pseudo-continuous\n",
    "bike_data[\"start_time\"] = bike_data[\"start_time\"] + np.random.rand(*bike_data[\"start_time\"].shape)\n",
    "bike_data[\"end_time\"] = bike_data[\"end_time\"] + np.random.rand(*bike_data[\"end_time\"].shape)\n",
    "\n",
    "bike_data[\"duration\"] = bike_data.end_time - bike_data.start_time\n",
    "bike_data = bike_data.sort_values(by=[\"start_time\"])\n",
    "\n",
    "train_time = 12*7*24*60\n",
    "train_bike_data = bike_data[bike_data.end_time <= train_time]\n",
    "\n",
    "train_sorted_stations = []\n",
    "for st_id in train_bike_data.end_id.sort_values().unique():\n",
    "    train_sorted_stations.append(train_bike_data[train_bike_data.end_id==st_id])\n",
    "\n",
    "train_sorted_stations[0].head()"
   ]
  },
  {
   "cell_type": "code",
   "execution_count": 8,
   "metadata": {},
   "outputs": [
    {
     "data": {
      "text/plain": [
       "-122143.1915210818"
      ]
     },
     "execution_count": 8,
     "metadata": {},
     "output_type": "execute_result"
    }
   ],
   "source": [
    "def genA(i, beta, t):\n",
    "    if i == 0:\n",
    "        return 0\n",
    "    else:\n",
    "        return np.exp(-1*beta*(t[i] - t[i-1]))*(1+genA(i-1, beta, t))\n",
    "\n",
    "def hawkes_log_likelihood(t, alpha, beta, lambda_p): \n",
    "    A = []\n",
    "    for i in range(0, len(t)):\n",
    "        if i==0:\n",
    "            A.append(0)\n",
    "        else:\n",
    "            A.append(np.exp(-1*beta*(t[i] - t[i-1]))*(1+A[i-1]))\n",
    "    l = 0\n",
    "    for i in range(0, len(t)):\n",
    "        l += np.log(lambda_p + alpha*A[i]) + (alpha/beta) * (np.exp(-beta*(t[-1] - t[i])) - 1)\n",
    "    l -= lambda_p * t[-1]\n",
    "    return l\n",
    "\n",
    "hawkes_log_likelihood(train_sorted_stations[0].start_time.to_numpy(),1,1,1)\n"
   ]
  },
  {
   "cell_type": "code",
   "execution_count": null,
   "metadata": {},
   "outputs": [],
   "source": []
  }
 ],
 "metadata": {
  "interpreter": {
   "hash": "c982c42cf71dfd9e4fcac0d9653e64d0ee7da81b005f55f464a28429eb0786e0"
  },
  "kernelspec": {
   "display_name": "Python 3.8.9 ('M2R_venv': venv)",
   "language": "python",
   "name": "python3"
  },
  "language_info": {
   "codemirror_mode": {
    "name": "ipython",
    "version": 3
   },
   "file_extension": ".py",
   "mimetype": "text/x-python",
   "name": "python",
   "nbconvert_exporter": "python",
   "pygments_lexer": "ipython3",
   "version": "3.8.9"
  },
  "orig_nbformat": 4
 },
 "nbformat": 4,
 "nbformat_minor": 2
}
