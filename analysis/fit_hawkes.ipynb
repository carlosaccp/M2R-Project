{
 "cells": [
  {
   "cell_type": "markdown",
   "metadata": {},
   "source": [
    "# Hawkes fit to start times\n",
    "Load the imports:"
   ]
  },
  {
   "cell_type": "code",
   "execution_count": 1,
   "metadata": {},
   "outputs": [],
   "source": [
    "import pandas as pd\n",
    "import numpy as np\n",
    "import os\n",
    "import matplotlib.pyplot as plt\n",
    "import scipy.stats as st\n",
    "from matplotlib.ticker import FuncFormatter\n",
    "import scipy.optimize as op\n",
    "plt.style.use(\"dark_background\") # Config plots for dark mode, delete if on light mode\n",
    "plt.rcParams['figure.dpi'] = 150 # Hi-res plots"
   ]
  },
  {
   "cell_type": "markdown",
   "metadata": {},
   "source": [
    "Load the station data:"
   ]
  },
  {
   "cell_type": "code",
   "execution_count": 2,
   "metadata": {},
   "outputs": [],
   "source": [
    "station_data = pd.read_csv(\"../data/santander_locations.csv\")\n",
    "station_data.head() # Load the station data and inspect the first 5 rows\n",
    "class StationIdError(IndexError):\n",
    "    \"\"\"Called when we try and read a non-existing station Id\"\"\"\n",
    "    pass\n",
    "\n",
    "def get_station_name(in_id):\n",
    "    \"\"\"Get station name from bike_data for a given id, catching any exceptions\"\"\"\n",
    "    try:\n",
    "        return station_data[station_data[\"Station.Id\"] == in_id].StationName.iloc[0]\n",
    "    except IndexError:\n",
    "        StationIdError(\"No station matching input ID\")"
   ]
  },
  {
   "cell_type": "markdown",
   "metadata": {},
   "source": [
    "Preprocess the start times to make them pseudo-continuous:"
   ]
  },
  {
   "cell_type": "code",
   "execution_count": 20,
   "metadata": {},
   "outputs": [
    {
     "data": {
      "text/html": [
       "<div>\n",
       "<style scoped>\n",
       "    .dataframe tbody tr th:only-of-type {\n",
       "        vertical-align: middle;\n",
       "    }\n",
       "\n",
       "    .dataframe tbody tr th {\n",
       "        vertical-align: top;\n",
       "    }\n",
       "\n",
       "    .dataframe thead th {\n",
       "        text-align: right;\n",
       "    }\n",
       "</style>\n",
       "<table border=\"1\" class=\"dataframe\">\n",
       "  <thead>\n",
       "    <tr style=\"text-align: right;\">\n",
       "      <th></th>\n",
       "      <th>start_id</th>\n",
       "      <th>end_id</th>\n",
       "      <th>start_time</th>\n",
       "      <th>duration</th>\n",
       "      <th>end_time</th>\n",
       "      <th>dist</th>\n",
       "    </tr>\n",
       "  </thead>\n",
       "  <tbody>\n",
       "    <tr>\n",
       "      <th>1512</th>\n",
       "      <td>1</td>\n",
       "      <td>71</td>\n",
       "      <td>425.422115</td>\n",
       "      <td>7.901661</td>\n",
       "      <td>433.323776</td>\n",
       "      <td>1.718483</td>\n",
       "    </tr>\n",
       "    <tr>\n",
       "      <th>3498</th>\n",
       "      <td>1</td>\n",
       "      <td>3</td>\n",
       "      <td>498.174873</td>\n",
       "      <td>20.456061</td>\n",
       "      <td>518.630934</td>\n",
       "      <td>1.964612</td>\n",
       "    </tr>\n",
       "    <tr>\n",
       "      <th>5961</th>\n",
       "      <td>1</td>\n",
       "      <td>330</td>\n",
       "      <td>584.816500</td>\n",
       "      <td>28.111503</td>\n",
       "      <td>612.928003</td>\n",
       "      <td>4.997948</td>\n",
       "    </tr>\n",
       "    <tr>\n",
       "      <th>5977</th>\n",
       "      <td>1</td>\n",
       "      <td>433</td>\n",
       "      <td>585.173663</td>\n",
       "      <td>3.185362</td>\n",
       "      <td>588.359025</td>\n",
       "      <td>0.673108</td>\n",
       "    </tr>\n",
       "    <tr>\n",
       "      <th>6447</th>\n",
       "      <td>1</td>\n",
       "      <td>803</td>\n",
       "      <td>607.917764</td>\n",
       "      <td>14.576395</td>\n",
       "      <td>622.494159</td>\n",
       "      <td>2.768124</td>\n",
       "    </tr>\n",
       "  </tbody>\n",
       "</table>\n",
       "</div>"
      ],
      "text/plain": [
       "      start_id  end_id  start_time   duration    end_time      dist\n",
       "1512         1      71  425.422115   7.901661  433.323776  1.718483\n",
       "3498         1       3  498.174873  20.456061  518.630934  1.964612\n",
       "5961         1     330  584.816500  28.111503  612.928003  4.997948\n",
       "5977         1     433  585.173663   3.185362  588.359025  0.673108\n",
       "6447         1     803  607.917764  14.576395  622.494159  2.768124"
      ]
     },
     "execution_count": 20,
     "metadata": {},
     "output_type": "execute_result"
    }
   ],
   "source": [
    "bike_data = pd.read_csv(\"../data/processed_df.csv\", index_col=0)\n",
    "bike_data.head() # Load the processed bike data and inspect the first 5 rows\n",
    "\n",
    "# Find minimum start time\n",
    "x = bike_data.min()[\"start_time\"]\n",
    "t_min = (x // 86400) * 86400\n",
    "\n",
    "# Substract t_min from start_time and end_time\n",
    "bike_data[\"start_time\"] = (bike_data[\"start_time\"] - t_min) / 60\n",
    "bike_data[\"end_time\"] = (bike_data[\"end_time\"] - t_min) / 60\n",
    "\n",
    "# Introduce random perturbations to make pseudo-continuous\n",
    "bike_data[\"start_time\"] = bike_data[\"start_time\"] + np.random.rand(*bike_data[\"start_time\"].shape)\n",
    "bike_data[\"end_time\"] = bike_data[\"end_time\"] + np.random.rand(*bike_data[\"end_time\"].shape)\n",
    "\n",
    "bike_data[\"duration\"] = bike_data.end_time - bike_data.start_time\n",
    "bike_data = bike_data.sort_values(by=[\"start_time\"])\n",
    "\n",
    "train_time = 12*7*24*60\n",
    "train_bike_data = bike_data[bike_data.start_time <= train_time]\n",
    "train_bike_data.head()\n",
    "\n",
    "train_sorted_stations = []\n",
    "for st_id in train_bike_data.start_id.sort_values().unique():\n",
    "    train_sorted_stations.append(train_bike_data[train_bike_data.start_id==st_id])\n",
    "\n",
    "sorted_start_times = []\n",
    "\n",
    "for station in train_sorted_stations:\n",
    "    sorted_start_times.append(station.start_time.to_numpy())\n",
    "\n",
    "train_sorted_stations[0].head()"
   ]
  },
  {
   "cell_type": "markdown",
   "metadata": {},
   "source": [
    "We will use the following kernel:\n",
    "$$\n",
    "\\mu_i(t) = \\alpha_i e^{-\\beta_i t},\\, 0 \\leq \\alpha_i \\leq \\beta_i\n",
    "$$"
   ]
  },
  {
   "cell_type": "code",
   "execution_count": 32,
   "metadata": {},
   "outputs": [
    {
     "data": {
      "text/plain": [
       "-122438.30499668307"
      ]
     },
     "execution_count": 32,
     "metadata": {},
     "output_type": "execute_result"
    }
   ],
   "source": [
    "def A(i, beta, t):\n",
    "    if i == 0:\n",
    "        return 0\n",
    "    else:\n",
    "        return np.exp(-1*beta*(t[i] - t[i-1]))*(1+A(i-1, beta, t))\n",
    "\n",
    "def hawkes_likelihood(t, alpha, beta, lambda_p): \n",
    "    l = 0\n",
    "\n",
    "    for i in range(0, len(t)):\n",
    "        if lambda_p + alpha*A(i, beta, t) < 0:\n",
    "            print(\"Stop\")\n",
    "        l += np.log(lambda_p + alpha*A(i, beta, t)) + (alpha/beta) * np.exp(-beta*(t[-1] - t[i])) - 1\n",
    "\n",
    "    l -= lambda_p * t[-1]\n",
    "    return l\n",
    "\n",
    "hawkes_likelihood(sorted_start_times[0],1,1,1)\n"
   ]
  },
  {
   "cell_type": "code",
   "execution_count": null,
   "metadata": {},
   "outputs": [],
   "source": [
    "# log(alpha) = log(beta + alpha)"
   ]
  },
  {
   "cell_type": "code",
   "execution_count": 33,
   "metadata": {},
   "outputs": [],
   "source": [
    "zeroth_station = sorted_start_times[0]\n",
    "op_hawkes_likelihood = lambda x: -hawkes_likelihood(zeroth_station, x[0], x[1], x[2])\n",
    "x0 = [2,2,2]\n",
    "zeroth_sol = op.minimize(op_hawkes_likelihood, x0)\n",
    "min_params_zeroth = zeroth_sol.x\n",
    "min_params_zeroth"
   ]
  },
  {
   "cell_type": "code",
   "execution_count": null,
   "metadata": {},
   "outputs": [],
   "source": []
  }
 ],
 "metadata": {
  "interpreter": {
   "hash": "c982c42cf71dfd9e4fcac0d9653e64d0ee7da81b005f55f464a28429eb0786e0"
  },
  "kernelspec": {
   "display_name": "Python 3.8.9 ('M2R_venv': venv)",
   "language": "python",
   "name": "python3"
  },
  "language_info": {
   "codemirror_mode": {
    "name": "ipython",
    "version": 3
   },
   "file_extension": ".py",
   "mimetype": "text/x-python",
   "name": "python",
   "nbconvert_exporter": "python",
   "pygments_lexer": "ipython3",
   "version": "3.8.9"
  },
  "orig_nbformat": 4
 },
 "nbformat": 4,
 "nbformat_minor": 2
}
