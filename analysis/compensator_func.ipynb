{
 "cells": [
  {
   "cell_type": "code",
   "execution_count": null,
   "metadata": {},
   "outputs": [],
   "source": [
    "def goodcompensator(t, alpha, beta, lambda_p):\n",
    "    result = []\n",
    "    # For each tk, append capital lambda(tk) to result\n",
    "    for tk in t:\n",
    "        # Create sum term\n",
    "        sum_result = 0\n",
    "        for i in range(len(t)):\n",
    "            sum_result += np.exp(-1*beta*(tk - t[i])) - 1\n",
    "\n",
    "        result.append(lambda_p*tk - alpha/beta *(sum_result))\n",
    "\n",
    "    return result # This is now a list of transformed times which follow a Poisson point process with unit rate under H_0\n",
    "\n"
   ]
  }
 ],
 "metadata": {
  "language_info": {
   "name": "python"
  },
  "orig_nbformat": 4
 },
 "nbformat": 4,
 "nbformat_minor": 2
}
