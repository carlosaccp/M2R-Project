{
 "cells": [
  {
   "cell_type": "code",
   "execution_count": 11,
   "metadata": {},
   "outputs": [],
   "source": [
    "import pandas as pd\n",
    "import numpy as np\n",
    "import matplotlib.pyplot as plt\n",
    "from tqdm import tqdm\n",
    "import scipy.stats as st\n",
    "from matplotlib.ticker import FuncFormatter\n",
    "import scipy.optimize as op\n",
    "from preprocessing import *\n",
    "plt.style.use(\"dark_background\") # Config plots for dark mode, delete if on light mode\n",
    "plt.rcParams['figure.dpi'] = 150 # Hi-res plots"
   ]
  },
  {
   "cell_type": "code",
   "execution_count": 12,
   "metadata": {},
   "outputs": [],
   "source": [
    "def N(t_scalar, t):\n",
    "    \"\"\"\n",
    "    Returns the number of times in t less than or equal to t_scalar.\n",
    "    Is used to compute N(t_{i,k}) and N'(t_{i,k}) depending on whether t above is t or t_prime\n",
    "    \"\"\"\n",
    "    return np.searchsorted(t, t_scalar, side=\"right\")"
   ]
  },
  {
   "cell_type": "code",
   "execution_count": 13,
   "metadata": {},
   "outputs": [],
   "source": [
    "def m5_compensator_helper(t_scalar, t_prime, durations):\n",
    "    \"\"\"\n",
    "    Compute the lists that are required for the compensator function but don't depend on the parameters\n",
    "    \"\"\"\n",
    "    t_prime_difference = t_scalar - t_prime[:N(t_scalar, t_prime)]\n",
    "    d_prime_1 = durations[:N(t_scalar, t_prime)] - 1\n",
    "    d_prime_30 = np.absolute(durations[:N(t_scalar, t_prime)] - 30)\n",
    "\n",
    "    return t_prime_difference, d_prime_1, d_prime_30\n",
    "\n",
    "def m5_recursion_helper(t, t_prime, durations):\n",
    "    \"\"\"\n",
    "    Compute the lists required for the recursive definitions of B_i and C_i\n",
    "    \"\"\"\n",
    "    T = end_T\n",
    "    time_differences = [] # Holds time differences t_ih - t'_ik\n",
    "    d1_values = [] # Holds values d'_ik - 1\n",
    "    d30_values = [] # Holds values |d'_ik - 30|\n",
    "\n",
    "    for h in range(N(T, t)):\n",
    "        # Construct list of t_ih - t'_ik for k = 1 to N'(T)\n",
    "        differences_list = t[h] - t_prime[N(t[h-1], t_prime):N(t[h], t_prime)]\n",
    "\n",
    "        # Construct list of d_ik - 1 for k = 1 to N'(T)\n",
    "        d1_values_list = durations[N(t[h-1], t_prime):N(t[h], t_prime)] - 1\n",
    "\n",
    "        # Construct list of |d_ik - 30| for k = 1 to N'(T)\n",
    "        d30_values_list = np.absolute(durations[N(t[h-1], t_prime):N(t[h], t_prime)] - 30)\n",
    "\n",
    "        time_differences.append(differences_list)\n",
    "        d1_values.append(d1_values_list)\n",
    "        d30_values.append(d30_values_list)\n",
    "\n",
    "\n",
    "    return time_differences, d1_values, d30_values"
   ]
  },
  {
   "cell_type": "code",
   "execution_count": 14,
   "metadata": {},
   "outputs": [],
   "source": [
    "def compensator_m5(t_scalar, compensator_helpers, lambda_i, alpha_i,\n",
    " beta_i, beta_i_prime, gamma_i, delta_i, delta_i_prime):\n",
    "    \"\"\"\n",
    "    Evaluate compensator function for model 5.\n",
    "\n",
    "    t_scalar: Scalar value at which we evaluate the compensator\n",
    "    t_prime_precomputed: time differences (t_scalar - t_prime[:N(t_scalar, t_prime)]) array computed outside the function for efficiency\n",
    "    durations: array of journey durations d'_{i,k} for each arrival time t'_{i,k} at station i\n",
    "    The rest are parameters in model 5.   \n",
    "    \"\"\"\n",
    "        \n",
    "    t_prime_precomputed = compensator_helpers[0]\n",
    "    d_prime_1 = compensator_helpers[1]\n",
    "    d_prime_30 = compensator_helpers[2]\n",
    "\n",
    "\n",
    "    term1 = lambda_i * t_scalar\n",
    "    \n",
    "    term2 = -(alpha_i / beta_i_prime) * np.sum(np.exp(-beta_i_prime * (t_prime_precomputed) - beta_i * d_prime_1)-1)\n",
    "\n",
    "    term3 = -(gamma_i / delta_i_prime) * np.sum(np.exp(-delta_i_prime * (t_prime_precomputed) - delta_i * d_prime_30)-1)\n",
    "\n",
    "    return term1 + term2 + term3"
   ]
  },
  {
   "cell_type": "code",
   "execution_count": 15,
   "metadata": {},
   "outputs": [],
   "source": [
    "def B_i(h, t, t_prime, durations, beta_i, beta_i_prime, recursion_helpers):\n",
    "\n",
    "    \"\"\"\n",
    "    Returns a list of [B_i(1), ..., B_i(h)] for model 5\n",
    "\n",
    "    Note all index variables such as h, k, etc start at 1, like the mathematical notation.\n",
    "    \"\"\"\n",
    "\n",
    "    B = [np.sum(np.exp(-beta_i * (durations[:N(t[0], t_prime)] - 1)) * np.exp(-beta_i_prime*(t[0] - t_prime[:N(t[0], t_prime)])))]\n",
    "\n",
    "    time_differences = recursion_helpers[0]\n",
    "    d1_values = recursion_helpers[1]\n",
    "    #d30_values = recursion_helpers[2]\n",
    "\n",
    "    # Append the rest\n",
    "    for l in range(2, h+1):\n",
    "        # First term in recursive formula for B_i(h)\n",
    "        term1 = np.exp(-beta_i_prime*(t[l-1] - t[l-2])) * B[l-2]\n",
    "\n",
    "        term2 = np.sum(np.exp(-beta_i * (d1_values[l-1])) * np.exp(-beta_i_prime*(time_differences[l-1])))\n",
    "        B.append(term1 + term2)\n",
    "    return np.array(B)\n",
    "    \n",
    "\n",
    "def C_i(h, t, t_prime, durations, delta_i, delta_i_prime, recursion_helpers):\n",
    "\n",
    "    \"\"\"\n",
    "    Returns a list of [C_i(1), ..., C_i(h)] for model 5\n",
    "\n",
    "    Note all index variables such as h, k, etc start at 1, like the mathematical notation.\n",
    "    \"\"\"\n",
    "\n",
    "    C = [np.sum(np.exp(-delta_i * (durations[:N(t[0], t_prime)] - 1)) * np.exp(-delta_i_prime*(t[0] - t_prime[:N(t[0], t_prime)])))]\n",
    "\n",
    "    time_differences = recursion_helpers[0]\n",
    "    #d1_values = recursion_helpers[1]\n",
    "    d30_values = recursion_helpers[2]\n",
    "\n",
    "    # Append the rest\n",
    "    for l in range(2, h+1):\n",
    "        # First term in recursive formula for C_i(h)\n",
    "        term1 = np.exp(-delta_i_prime*(t[l-1] - t[l-2])) * C[l-2]\n",
    "        term2 = np.sum(np.exp(-delta_i * (d30_values[l-1])) * np.exp(-delta_i_prime*(time_differences[l-1])))\n",
    "        C.append(term1 + term2)\n",
    "    return np.array(C)"
   ]
  },
  {
   "cell_type": "code",
   "execution_count": 16,
   "metadata": {},
   "outputs": [],
   "source": [
    "def m5_log_likelihood(t, t_prime, durations, compensator_helpers, recursion_helpers, lambda_i,\n",
    " alpha_i, beta_i, beta_i_prime, gamma_i, delta_i, delta_i_prime):\n",
    "   \n",
    "   T = end_T\n",
    "\n",
    "   B_ = B_i(len(t), t, t_prime, durations, beta_i, beta_i_prime, recursion_helpers)\n",
    "\n",
    "   C_ = C_i(len(t), t, t_prime, durations, delta_i, delta_i_prime, recursion_helpers)\n",
    "\n",
    "   term1 = np.sum(np.log(lambda_i + alpha_i*B_ + delta_i*C_))\n",
    "\n",
    "   term2 = -compensator_m5(T, compensator_helpers, lambda_i, alpha_i,\n",
    "      beta_i, beta_i_prime, gamma_i, delta_i, delta_i_prime)\n",
    "\n",
    "   return term1 + term2"
   ]
  },
  {
   "cell_type": "markdown",
   "metadata": {},
   "source": [
    "### TODO: Make sure the durations d_ik correspond exactly to the end times t'_ik. Do we need to get durations from train times sorted by end_time?"
   ]
  },
  {
   "cell_type": "code",
   "execution_count": 17,
   "metadata": {},
   "outputs": [],
   "source": [
    "durations_dict = {}\n",
    "for st_id in train_sorted_start_ids:\n",
    "    station_train_data = train_bike_data[train_bike_data.end_id == st_id]\n",
    "    durations_dict[st_id] = station_train_data.duration.to_numpy()"
   ]
  },
  {
   "cell_type": "code",
   "execution_count": 20,
   "metadata": {},
   "outputs": [
    {
     "name": "stdout",
     "output_type": "stream",
     "text": [
      "-28288.909827850715\n"
     ]
    }
   ],
   "source": [
    "# Test m5 likelihood function\n",
    "\n",
    "t = t_per_station[1]\n",
    "t_prime = t_prime_per_station[1]\n",
    "durations = durations_dict[1]\n",
    "\n",
    "recursion_helpers = m5_recursion_helper(t, t_prime, durations)\n",
    "compensator_helpers = m5_compensator_helper(end_T, t_prime, durations)\n",
    "\n",
    "print(m5_log_likelihood(t, t_prime, durations,\n",
    "    compensator_helpers, recursion_helpers, 0.1, 0.01, 0.1, 0.1, 0.1, 0.01, 0.011))"
   ]
  },
  {
   "cell_type": "code",
   "execution_count": null,
   "metadata": {},
   "outputs": [],
   "source": []
  },
  {
   "cell_type": "code",
   "execution_count": null,
   "metadata": {},
   "outputs": [],
   "source": []
  }
 ],
 "metadata": {
  "kernelspec": {
   "display_name": "Python 3.8.2 32-bit",
   "language": "python",
   "name": "python3"
  },
  "language_info": {
   "codemirror_mode": {
    "name": "ipython",
    "version": 3
   },
   "file_extension": ".py",
   "mimetype": "text/x-python",
   "name": "python",
   "nbconvert_exporter": "python",
   "pygments_lexer": "ipython3",
   "version": "3.8.2"
  },
  "orig_nbformat": 4,
  "vscode": {
   "interpreter": {
    "hash": "9c1410969137b62557f626ec5944e60126207e5e8b8864d3436c9c9d7a53b4e1"
   }
  }
 },
 "nbformat": 4,
 "nbformat_minor": 2
}
