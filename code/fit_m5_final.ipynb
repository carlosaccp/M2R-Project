{
 "cells": [
  {
   "cell_type": "code",
   "execution_count": 22,
   "metadata": {},
   "outputs": [],
   "source": [
    "import pandas as pd\n",
    "import numpy as np\n",
    "import matplotlib.pyplot as plt\n",
    "from tqdm import tqdm\n",
    "import scipy.stats as st\n",
    "from matplotlib.ticker import FuncFormatter\n",
    "import scipy.optimize as op\n",
    "from preprocessing import *\n",
    "plt.style.use(\"dark_background\") # Config plots for dark mode, delete if on light mode\n",
    "plt.rcParams['figure.dpi'] = 150 # Hi-res plots"
   ]
  },
  {
   "cell_type": "code",
   "execution_count": 23,
   "metadata": {},
   "outputs": [],
   "source": [
    "def N(t_scalar, t):\n",
    "    \"\"\"\n",
    "    Returns the number of times in t less than or equal to t_scalar.\n",
    "    Is used to compute N(t_{i,k}) and N'(t_{i,k}) depending on whether t above is t or t_prime\n",
    "    \"\"\"\n",
    "    return np.searchsorted(t, t_scalar, side=\"right\")"
   ]
  },
  {
   "cell_type": "code",
   "execution_count": 24,
   "metadata": {},
   "outputs": [],
   "source": [
    "def m5_compensator_helper(t_scalar, t_prime, durations):\n",
    "    \"\"\"\n",
    "    Compute the lists that are required for the compensator function but don't depend on the parameters\n",
    "    \"\"\"\n",
    "    t_prime_difference = t_scalar - t_prime[:N(t_scalar, t_prime)]\n",
    "    d_prime_1 = durations[:N(t_scalar, t_prime)] - 1\n",
    "    d_prime_30 = np.absolute(durations[:N(t_scalar, t_prime)] - 30)\n",
    "\n",
    "    return t_prime_difference, d_prime_1, d_prime_30\n",
    "\n",
    "def m5_recursion_helper(t, t_prime, durations):\n",
    "    \"\"\"\n",
    "    Compute the lists required for the recursive definitions of B_i and C_i\n",
    "    \"\"\"\n",
    "    T = end_T\n",
    "    time_differences = [] # Holds time differences t_ih - t'_ik\n",
    "    d1_values = [] # Holds values d'_ik - 1\n",
    "    d30_values = [] # Holds values |d'_ik - 30|\n",
    "\n",
    "    for h in range(1, N(T, t)):\n",
    "        # Construct list of t_ih - t'_ik for k = 1 to N'(T)\n",
    "        differences_list = t[h] - t_prime[N(t[h-1], t_prime):N(t[h], t_prime)]\n",
    "\n",
    "        # Construct list of d_ik - 1 for k = 1 to N'(T)\n",
    "        d1_values_list = durations[N(t[h-1], t_prime):N(t[h], t_prime)] - 1\n",
    "\n",
    "        # Construct list of |d_ik - 30| for k = 1 to N'(T)\n",
    "        d30_values_list = np.absolute(durations[N(t[h-1], t_prime):N(t[h], t_prime)] - 30)\n",
    "\n",
    "        time_differences.append(differences_list)\n",
    "        d1_values.append(d1_values_list)\n",
    "        d30_values.append(d30_values_list)\n",
    "\n",
    "    #print(\"--\")\n",
    "    #print(time_differences)\n",
    "    #print(d1_values)\n",
    "    #print(d30_values)\n",
    "    #print(\"--\")\n",
    "\n",
    "    return time_differences, d1_values, d30_values"
   ]
  },
  {
   "cell_type": "code",
   "execution_count": 25,
   "metadata": {},
   "outputs": [],
   "source": [
    "def compensator_m5(t_scalar, compensator_helpers, \n",
    "      lambda_i, alpha_i, beta_i, beta_i_prime, gamma_i, delta_i, delta_i_prime):\n",
    "    \"\"\"\n",
    "    Evaluate compensator function for model 5.\n",
    "\n",
    "    t_scalar: Scalar value at which we evaluate the compensator\n",
    "    t_prime_precomputed: time differences (t_scalar - t_prime[:N(t_scalar, t_prime)]) array computed outside the function for efficiency\n",
    "    durations: array of journey durations d'_{i,k} for each arrival time t'_{i,k} at station i\n",
    "    The rest are parameters in model 5.   \n",
    "    \"\"\"\n",
    "        \n",
    "    t_prime_precomputed = compensator_helpers[0]\n",
    "    d_prime_1 = compensator_helpers[1]\n",
    "    d_prime_30 = compensator_helpers[2]\n",
    "\n",
    "\n",
    "    term1_comp = lambda_i * t_scalar\n",
    "    \n",
    "    term2_comp = -(alpha_i / beta_i_prime) * np.sum(np.exp(-beta_i_prime * (t_prime_precomputed) - beta_i * d_prime_1)-1)\n",
    "\n",
    "    term3_comp = -(gamma_i / delta_i_prime) * np.sum(np.exp(-delta_i_prime * (t_prime_precomputed) - delta_i * d_prime_30)-1)\n",
    "\n",
    "    return term1_comp + term2_comp + term3_comp"
   ]
  },
  {
   "cell_type": "code",
   "execution_count": 26,
   "metadata": {},
   "outputs": [],
   "source": [
    "def B_i(h, t, t_prime, durations, beta_i, beta_i_prime, recursion_helpers):\n",
    "\n",
    "    \"\"\"\n",
    "    Returns a list of [B_i(1), ..., B_i(h)] for model 5\n",
    "\n",
    "    NOTE: All index variables such as h, k, etc start at 1, like the mathematical notation.\n",
    "    \"\"\"\n",
    "\n",
    "    B = [np.sum(np.exp(-beta_i * (durations[:N(t[0], t_prime)] - 1)) * np.exp(-beta_i_prime*(t[0] - t_prime[:N(t[0], t_prime)])))]\n",
    "\n",
    "    time_differences = recursion_helpers[0]\n",
    "    d1_values = recursion_helpers[1]\n",
    "    #d30_values = recursion_helpers[2]\n",
    "\n",
    "    # Append the rest\n",
    "    for l in range(2, h+1):\n",
    "        # First term in recursive formula for B_i(h)\n",
    "        term1_B = np.exp(-beta_i_prime*(t[l-1] - t[l-2])) * B[l-2]\n",
    "\n",
    "        term2_B = np.sum(np.exp(-beta_i * (d1_values[l-2])) * np.exp(-beta_i_prime*(time_differences[l-2])))\n",
    "        B.append(term1_B + term2_B)\n",
    "\n",
    "    return np.array(B)\n",
    "    \n",
    "\n",
    "def C_i(h, t, t_prime, durations, delta_i, delta_i_prime, recursion_helpers):\n",
    "\n",
    "    \"\"\"\n",
    "    Returns a list of [C_i(1), ..., C_i(h)] for model 5\n",
    "\n",
    "    NOTE: all index variables such as h, k, etc start at 1, like the mathematical notation.\n",
    "    \"\"\"\n",
    "\n",
    "    C = [np.sum(np.exp(-delta_i * np.absolute(durations[:N(t[0], t_prime)] - 30)) * np.exp(-delta_i_prime*(t[0] - t_prime[:N(t[0], t_prime)])))]\n",
    "\n",
    "    time_differences = recursion_helpers[0]\n",
    "    #d1_values = recursion_helpers[1]\n",
    "    d30_values = recursion_helpers[2]\n",
    "\n",
    "    # Append the rest\n",
    "    for l in range(2, h+1):\n",
    "        # First term in recursive formula for C_i(h)\n",
    "        term1_C = np.exp(-delta_i_prime*(t[l-1] - t[l-2])) * C[l-2]\n",
    "        term2_C = np.sum(np.exp(-delta_i * (d30_values[l-2])) * np.exp(-delta_i_prime*(time_differences[l-2])))\n",
    "        C.append(term1_C + term2_C)\n",
    "\n",
    "    return np.array(C)"
   ]
  },
  {
   "cell_type": "code",
   "execution_count": 27,
   "metadata": {},
   "outputs": [],
   "source": [
    "def m5_log_likelihood(t, t_prime, durations, compensator_helpers, recursion_helpers, lambda_i,\n",
    " alpha_i, beta_i, beta_i_prime, gamma_i, delta_i, delta_i_prime):\n",
    "   \n",
    "   T = end_T\n",
    "\n",
    "   B_ = B_i(len(t), t, t_prime, durations, beta_i, beta_i_prime, recursion_helpers)\n",
    "\n",
    "   C_ = C_i(len(t), t, t_prime, durations, delta_i, delta_i_prime, recursion_helpers)\n",
    "\n",
    "   term1_log_l = np.sum(np.log(lambda_i + alpha_i*B_ + gamma_i*C_))\n",
    "\n",
    "   term2_log_l = -compensator_m5(T, compensator_helpers, lambda_i, alpha_i,\n",
    "      beta_i, beta_i_prime, gamma_i, delta_i, delta_i_prime)\n",
    "\n",
    "   return term1_log_l + term2_log_l"
   ]
  },
  {
   "cell_type": "code",
   "execution_count": 28,
   "metadata": {},
   "outputs": [],
   "source": [
    "condensed_log_l_m5 = lambda time_params, model_params: m5_log_likelihood(time_params[0],time_params[1], time_params[2], time_params[3], time_params[4], model_params[0], model_params[1], model_params[2], model_params[3], model_params[4], model_params[5],  model_params[6])"
   ]
  },
  {
   "cell_type": "code",
   "execution_count": 29,
   "metadata": {},
   "outputs": [
    {
     "name": "stderr",
     "output_type": "stream",
     "text": [
      "100%|██████████| 789/789 [00:38<00:00, 20.57it/s]\n"
     ]
    }
   ],
   "source": [
    "compensator_helper_dict = {}\n",
    "recursion_helper_dict = {}\n",
    "for st_id in tqdm(train_sorted_start_ids):\n",
    "    compensator_helper_dict[st_id] = m5_compensator_helper(end_T, t_prime_per_station[st_id], durations_per_end_time[st_id])\n",
    "    recursion_helper_dict[st_id] = m5_recursion_helper(t_per_station[st_id], t_prime_per_station[st_id], durations_per_end_time[st_id])"
   ]
  },
  {
   "cell_type": "code",
   "execution_count": 30,
   "metadata": {},
   "outputs": [
    {
     "name": "stderr",
     "output_type": "stream",
     "text": [
      "100%|██████████| 789/789 [00:00<00:00, 14188.90it/s]\n"
     ]
    }
   ],
   "source": [
    "time_params_dict = {}\n",
    "for st_id in tqdm(train_sorted_start_ids):\n",
    "    time_params_dict[st_id] = [t_per_station[st_id], t_prime_per_station[st_id],\n",
    "    durations_per_end_time[st_id], compensator_helper_dict[st_id], recursion_helper_dict[st_id]]\n"
   ]
  },
  {
   "cell_type": "code",
   "execution_count": 31,
   "metadata": {},
   "outputs": [],
   "source": [
    "def transform_params(params):\n",
    "    if len(params) != 7:\n",
    "        raise ValueError(\"Not the right size.\")\n",
    "    lambda_i, alpha_i, beta_i,\\\n",
    "         beta_i_prime, gamma_i, \\\n",
    "            delta_i, delta_i_prime = params\n",
    "    return [np.exp(lambda_i), np.exp(alpha_i), np.exp(beta_i),\n",
    "     np.exp(alpha_i) + np.exp(beta_i_prime), np.exp(gamma_i),\n",
    "     np.exp(delta_i), np.exp(gamma_i) + np.exp(delta_i_prime)]"
   ]
  },
  {
   "cell_type": "code",
   "execution_count": 32,
   "metadata": {},
   "outputs": [],
   "source": [
    "# unconverged_it1 = []\n",
    "# optimal_parameters_it1 = {}\n",
    "# for st_id in tqdm(train_sorted_start_ids):\n",
    "#     # m2_station_params = model_2_params.loc[st_id].to_numpy()\n",
    "#     # m3_station_params = model_3_params.loc[st_id].to_numpy()\n",
    "#     #x0 = [np.log(m2_station_params[0]), np.log(m2_station_params[1] -m2_station_params[0] ), np.log(m3_station_params[0]), np.log(m3_station_params[1] - m3_station_params[0]), np.log(m3_station_params[-1])] # np.log(rates_dict[station.start_id.unique()[0]])]\n",
    "#     #x0 = np.random.random(7)/10\n",
    "#     x0 = -30*np.ones(7)\n",
    "#     op_m5_log_likelihood = lambda x: -condensed_log_l_m5(time_params_dict[st_id], transform_params(x))\n",
    "#     sol = op.minimize(op_m5_log_likelihood, x0, method=\"Nelder-Mead\")\n",
    "#     if sol.success:\n",
    "#         max_params = transform_params(sol.x)\n",
    "#         optimal_parameters_it1[st_id] = max_params\n",
    "#     else:\n",
    "#         unconverged_it1.append(st_id)\n",
    "#         print(f\"{st_id} failed to converge.\")"
   ]
  },
  {
   "cell_type": "code",
   "execution_count": 33,
   "metadata": {},
   "outputs": [],
   "source": [
    "# unconverged_it2 = []\n",
    "# for st_id in tqdm(unconverged_it1):\n",
    "#     # m2_station_params = model_2_params.loc[st_id].to_numpy()\n",
    "#     # m3_station_params = model_3_params.loc[st_id].to_numpy()\n",
    "#     #x0 = [np.log(m2_station_params[0]), np.log(m2_station_params[1] -m2_station_params[0] ), np.log(m3_station_params[0]), np.log(m3_station_params[1] - m3_station_params[0]), np.log(m3_station_params[-1])] # np.log(rates_dict[station.start_id.unique()[0]])]\n",
    "#     #x0 = np.random.random(7)/10\n",
    "#     x0 = -40*np.ones(7)\n",
    "#     op_m5_log_likelihood = lambda x: -condensed_log_l_m5(time_params_dict[st_id], transform_params(x))\n",
    "#     sol = op.minimize(op_m5_log_likelihood, x0, method=\"Nelder-Mead\")\n",
    "#     if sol.success:\n",
    "#         max_params = transform_params(sol.x)\n",
    "#         optimal_parameters_it1[st_id] = max_params\n",
    "#     else:\n",
    "#         unconverged_it2.append(st_id)\n",
    "#         print(f\"{st_id} failed to converge.\")"
   ]
  },
  {
   "cell_type": "code",
   "execution_count": 34,
   "metadata": {},
   "outputs": [],
   "source": [
    "# unconverged_it3 = []\n",
    "# for st_id in tqdm(unconverged_it2):\n",
    "#     # m2_station_params = model_2_params.loc[st_id].to_numpy()\n",
    "#     # m3_station_params = model_3_params.loc[st_id].to_numpy()\n",
    "#     #x0 = [np.log(m2_station_params[0]), np.log(m2_station_params[1] -m2_station_params[0] ), np.log(m3_station_params[0]), np.log(m3_station_params[1] - m3_station_params[0]), np.log(m3_station_params[-1])] # np.log(rates_dict[station.start_id.unique()[0]])]\n",
    "#     #x0 = np.random.random(7)/10\n",
    "#     x0 = np.ones(7) * -50\n",
    "#     op_m5_log_likelihood = lambda x: -condensed_log_l_m5(time_params_dict[st_id], transform_params(x))\n",
    "#     sol = op.minimize(op_m5_log_likelihood, x0, method=\"Nelder-Mead\")\n",
    "#     if sol.success:\n",
    "#         max_params = transform_params(sol.x)\n",
    "#         optimal_parameters_it1[st_id] = max_params\n",
    "#     else:\n",
    "#         unconverged_it3.append(st_id)\n",
    "#         print(f\"{st_id} failed to converge.\")"
   ]
  },
  {
   "cell_type": "code",
   "execution_count": 35,
   "metadata": {},
   "outputs": [],
   "source": [
    "# m5_params_df = pd.DataFrame(optimal_parameters_it1.values(), index=optimal_parameters_it1.keys(), columns=[\"lambda\", \"alpha\", \"beta\",\\\n",
    "#          \"beta_prime\", \"gamma\", \\\n",
    "#             \"delta\", \"delta_prime\"])\n",
    "# m5_params_df.to_csv(\"../data/parameters/M5_train_parameters.csv\")\n",
    "# m5_params_df.head()"
   ]
  },
  {
   "cell_type": "code",
   "execution_count": 36,
   "metadata": {},
   "outputs": [
    {
     "data": {
      "text/html": [
       "<div>\n",
       "<style scoped>\n",
       "    .dataframe tbody tr th:only-of-type {\n",
       "        vertical-align: middle;\n",
       "    }\n",
       "\n",
       "    .dataframe tbody tr th {\n",
       "        vertical-align: top;\n",
       "    }\n",
       "\n",
       "    .dataframe thead th {\n",
       "        text-align: right;\n",
       "    }\n",
       "</style>\n",
       "<table border=\"1\" class=\"dataframe\">\n",
       "  <thead>\n",
       "    <tr style=\"text-align: right;\">\n",
       "      <th></th>\n",
       "      <th>lambda</th>\n",
       "      <th>alpha</th>\n",
       "      <th>beta</th>\n",
       "      <th>beta_prime</th>\n",
       "      <th>gamma</th>\n",
       "      <th>delta</th>\n",
       "      <th>delta_prime</th>\n",
       "    </tr>\n",
       "  </thead>\n",
       "  <tbody>\n",
       "    <tr>\n",
       "      <th>1</th>\n",
       "      <td>3.628044e-03</td>\n",
       "      <td>3.968753e-12</td>\n",
       "      <td>4.955562e-14</td>\n",
       "      <td>3.971255e-12</td>\n",
       "      <td>2.958566e-04</td>\n",
       "      <td>2.899458e-17</td>\n",
       "      <td>2.958566e-04</td>\n",
       "    </tr>\n",
       "    <tr>\n",
       "      <th>2</th>\n",
       "      <td>1.038008e-03</td>\n",
       "      <td>1.584585e-02</td>\n",
       "      <td>1.632917e-14</td>\n",
       "      <td>1.584589e-02</td>\n",
       "      <td>7.907042e-20</td>\n",
       "      <td>4.783324e-13</td>\n",
       "      <td>3.794110e-16</td>\n",
       "    </tr>\n",
       "    <tr>\n",
       "      <th>3</th>\n",
       "      <td>7.101773e-15</td>\n",
       "      <td>4.676181e-03</td>\n",
       "      <td>1.442248e-14</td>\n",
       "      <td>4.676181e-03</td>\n",
       "      <td>4.008636e-13</td>\n",
       "      <td>1.125607e-15</td>\n",
       "      <td>4.278332e-13</td>\n",
       "    </tr>\n",
       "    <tr>\n",
       "      <th>4</th>\n",
       "      <td>1.192679e-14</td>\n",
       "      <td>4.960910e-04</td>\n",
       "      <td>2.262459e-14</td>\n",
       "      <td>4.960910e-04</td>\n",
       "      <td>1.700250e-13</td>\n",
       "      <td>1.923072e-15</td>\n",
       "      <td>1.857485e-13</td>\n",
       "    </tr>\n",
       "    <tr>\n",
       "      <th>5</th>\n",
       "      <td>7.745126e-15</td>\n",
       "      <td>1.922834e-13</td>\n",
       "      <td>8.189353e-16</td>\n",
       "      <td>2.070638e-13</td>\n",
       "      <td>1.126551e-02</td>\n",
       "      <td>2.366444e-14</td>\n",
       "      <td>1.126551e-02</td>\n",
       "    </tr>\n",
       "  </tbody>\n",
       "</table>\n",
       "</div>"
      ],
      "text/plain": [
       "         lambda         alpha          beta    beta_prime         gamma  \\\n",
       "1  3.628044e-03  3.968753e-12  4.955562e-14  3.971255e-12  2.958566e-04   \n",
       "2  1.038008e-03  1.584585e-02  1.632917e-14  1.584589e-02  7.907042e-20   \n",
       "3  7.101773e-15  4.676181e-03  1.442248e-14  4.676181e-03  4.008636e-13   \n",
       "4  1.192679e-14  4.960910e-04  2.262459e-14  4.960910e-04  1.700250e-13   \n",
       "5  7.745126e-15  1.922834e-13  8.189353e-16  2.070638e-13  1.126551e-02   \n",
       "\n",
       "          delta   delta_prime  \n",
       "1  2.899458e-17  2.958566e-04  \n",
       "2  4.783324e-13  3.794110e-16  \n",
       "3  1.125607e-15  4.278332e-13  \n",
       "4  1.923072e-15  1.857485e-13  \n",
       "5  2.366444e-14  1.126551e-02  "
      ]
     },
     "execution_count": 36,
     "metadata": {},
     "output_type": "execute_result"
    }
   ],
   "source": [
    "m5_param_df = pd.read_csv(\"../data/parameters/M5_train_parameters.csv\", index_col=0)\n",
    "m5_param_df = m5_param_df.sort_index()\n",
    "m5_param_df.head()"
   ]
  },
  {
   "cell_type": "code",
   "execution_count": 37,
   "metadata": {},
   "outputs": [
    {
     "name": "stdout",
     "output_type": "stream",
     "text": [
      "[   425.01467171    498.46770188    584.71218343 ... 120718.64342201\n",
      " 120765.40283525 120849.80676051]\n"
     ]
    }
   ],
   "source": [
    "print(t_per_station[1])"
   ]
  },
  {
   "cell_type": "code",
   "execution_count": 38,
   "metadata": {},
   "outputs": [
    {
     "name": "stderr",
     "output_type": "stream",
     "text": [
      "100%|██████████| 789/789 [02:16<00:00,  5.78it/s]\n"
     ]
    }
   ],
   "source": [
    "train_compensated_times_m5 = {}\n",
    "for st_id in tqdm(train_sorted_start_ids):\n",
    "    params = m5_param_df.loc[st_id].to_numpy()\n",
    "    comp_condensed = lambda t: compensator_m5(t, m5_compensator_helper(t, t_prime_per_station[st_id], durations_per_end_time[st_id]),\n",
    "     params[0], params[1], params[2], params[3], params[4], params[5], params[6] )\n",
    "    train_compensated_times_m5[st_id] = [comp_condensed(t2) for t2 in t_per_station[st_id]]"
   ]
  },
  {
   "cell_type": "code",
   "execution_count": 39,
   "metadata": {},
   "outputs": [
    {
     "name": "stderr",
     "output_type": "stream",
     "text": [
      "100%|██████████| 788/788 [00:19<00:00, 39.96it/s]\n"
     ]
    }
   ],
   "source": [
    "test_compensated_times_m5 = {}\n",
    "for st_id in tqdm(test_sorted_start_ids):\n",
    "    params = m5_param_df.loc[st_id].to_numpy()\n",
    "    comp_condensed = lambda t: compensator_m5(t, m5_compensator_helper(t, test_t_prime_per_station[st_id], test_durations_per_end_time[st_id]),\n",
    "     params[0], params[1], params[2], params[3], params[4], params[5], params[6] )\n",
    "    test_compensated_times_m5[st_id] = [comp_condensed(t2) for t2 in test_t_per_station[st_id]]\n"
   ]
  },
  {
   "cell_type": "code",
   "execution_count": 40,
   "metadata": {},
   "outputs": [],
   "source": [
    "m5_compensated_times_test_df = pd.DataFrame(test_compensated_times_m5.values(), index=test_compensated_times_m5.keys())\n",
    "m5_compensated_times_test_df.to_csv(\"../data/compensated_times/M1_compensated_times_test.csv\")\n",
    "m5_compensated_times_test_df = pd.DataFrame(train_compensated_times_m5.values(), index=train_compensated_times_m5.keys())\n",
    "m5_compensated_times_test_df.to_csv(\"../data/compensated_times/M1_compensated_times_test.csv\")"
   ]
  },
  {
   "cell_type": "code",
   "execution_count": 19,
   "metadata": {},
   "outputs": [
    {
     "name": "stderr",
     "output_type": "stream",
     "text": [
      "100%|██████████| 789/789 [00:00<00:00, 4240.70it/s]\n"
     ]
    }
   ],
   "source": [
    "m5_p_values_train = {}\n",
    "\n",
    "for st_id in tqdm(train_sorted_start_ids):\n",
    "    inter_arrival_times = np.diff(train_compensated_times_m5[st_id])\n",
    "    inter_arrival_times = np.insert(inter_arrival_times,0,train_compensated_times_m5[st_id][0])\n",
    "    station_p_values = np.exp(-inter_arrival_times)\n",
    "    m5_p_values_train[st_id] = station_p_values"
   ]
  },
  {
   "cell_type": "code",
   "execution_count": 20,
   "metadata": {},
   "outputs": [
    {
     "name": "stderr",
     "output_type": "stream",
     "text": [
      "100%|██████████| 788/788 [00:00<00:00, 18605.15it/s]\n"
     ]
    }
   ],
   "source": [
    "m5_p_values_test = {}\n",
    "\n",
    "for st_id in tqdm(test_sorted_start_ids):\n",
    "    inter_arrival_times = np.diff(test_compensated_times_m5[st_id])\n",
    "    inter_arrival_times = np.insert(inter_arrival_times,0,test_compensated_times_m5[st_id][0])\n",
    "    station_p_values = np.exp(-inter_arrival_times)\n",
    "    m5_p_values_test[st_id] = station_p_values"
   ]
  },
  {
   "cell_type": "code",
   "execution_count": 21,
   "metadata": {},
   "outputs": [],
   "source": [
    "m5_p_values_df_train = pd.DataFrame(m5_p_values_train.values(), m5_p_values_train.keys())\n",
    "m5_p_values_df_train.to_csv(\"../data/p_values/M5_p_values_train.csv\")\n",
    "m5_p_values_df_test = pd.DataFrame(m5_p_values_test.values(), m5_p_values_test.keys())\n",
    "m5_p_values_df_test.to_csv(\"../data/p_values/M5_p_values_test.csv\")"
   ]
  },
  {
   "cell_type": "code",
   "execution_count": 58,
   "metadata": {},
   "outputs": [
    {
     "data": {
      "image/png": "[encoded data removed]",
      "text/plain": [
       "<Figure size 432x288 with 1 Axes>"
      ]
     },
     "metadata": {
      "needs_background": "dark"
     },
     "output_type": "display_data"
    }
   ],
   "source": [
    "plt.title(\"Histogram of p-values for station 1 using Model 4\")\n",
    "plt.hist(m5_p_values[1])\n",
    "plt.show()"
   ]
  },
  {
   "cell_type": "code",
   "execution_count": 60,
   "metadata": {},
   "outputs": [
    {
     "data": {
      "image/png": "[encoded data removed]",
      "text/plain": [
       "<Figure size 432x288 with 1 Axes>"
      ]
     },
     "metadata": {
      "needs_background": "dark"
     },
     "output_type": "display_data"
    }
   ],
   "source": [
    "joined_p_values = np.concatenate(np.asarray(list(m5_p_values.values()), dtype=object))\n",
    "n, bins, patches = plt.hist(joined_p_values, bins=100)\n",
    "ax = plt.gca()\n",
    "def lblFormat(n, pos):\n",
    "    return str(int(n / 1e3))\n",
    "lblFormatter = FuncFormatter(lblFormat)\n",
    "ax.yaxis.set_major_formatter(lblFormatter)\n",
    "plt.title(\"Histogram of p-values for all stations for Model 4\")\n",
    "plt.xlabel(\"P-value\")\n",
    "plt.ylabel(\"Counts (Thousands)\")\n",
    "plt.savefig(\"../figures/p-values_m3.png\")\n",
    "plt.show()"
   ]
  },
  {
   "cell_type": "code",
   "execution_count": null,
   "metadata": {},
   "outputs": [],
   "source": []
  }
 ],
 "metadata": {
  "kernelspec": {
   "display_name": "Python 3.8.9 ('M2R_venv': venv)",
   "language": "python",
   "name": "python3"
  },
  "language_info": {
   "codemirror_mode": {
    "name": "ipython",
    "version": 3
   },
   "file_extension": ".py",
   "mimetype": "text/x-python",
   "name": "python",
   "nbconvert_exporter": "python",
   "pygments_lexer": "ipython3",
   "version": "3.8.9"
  },
  "orig_nbformat": 4,
  "vscode": {
   "interpreter": {
    "hash": "c982c42cf71dfd9e4fcac0d9653e64d0ee7da81b005f55f464a28429eb0786e0"
   }
  }
 },
 "nbformat": 4,
 "nbformat_minor": 2
}
