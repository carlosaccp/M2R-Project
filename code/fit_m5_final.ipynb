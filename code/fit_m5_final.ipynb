{
 "cells": [
  {
   "cell_type": "code",
   "execution_count": 1,
   "metadata": {},
   "outputs": [],
   "source": [
    "import pandas as pd\n",
    "import numpy as np\n",
    "import matplotlib.pyplot as plt\n",
    "from tqdm import tqdm\n",
    "import scipy.stats as st\n",
    "from matplotlib.ticker import FuncFormatter\n",
    "import scipy.optimize as op\n",
    "from preprocessing import *\n",
    "plt.style.use(\"dark_background\") # Config plots for dark mode, delete if on light mode\n",
    "plt.rcParams['figure.dpi'] = 150 # Hi-res plots"
   ]
  },
  {
   "cell_type": "code",
   "execution_count": 2,
   "metadata": {},
   "outputs": [],
   "source": [
    "def N(t_scalar, t):\n",
    "    \"\"\"\n",
    "    Returns the number of times in t less than or equal to t_scalar.\n",
    "    Is used to compute N(t_{i,k}) and N'(t_{i,k}) depending on whether t above is t or t_prime\n",
    "    \"\"\"\n",
    "    return np.searchsorted(t, t_scalar, side=\"right\")"
   ]
  },
  {
   "cell_type": "code",
   "execution_count": 3,
   "metadata": {},
   "outputs": [],
   "source": [
    "def m5_compensator_helper(t_scalar, t_prime, durations):\n",
    "    \"\"\"\n",
    "    Compute the lists that are required for the compensator function but don't depend on the parameters\n",
    "    \"\"\"\n",
    "    t_prime_difference = t_scalar - t_prime[:N(t_scalar, t_prime)]\n",
    "    d_prime_1 = durations[:N(t_scalar, t_prime)] - 1\n",
    "    d_prime_30 = np.absolute(durations[:N(t_scalar, t_prime)] - 30)\n",
    "\n",
    "    return t_prime_difference, d_prime_1, d_prime_30\n",
    "\n",
    "def m5_recursion_helper(t, t_prime, durations):\n",
    "    \"\"\"\n",
    "    Compute the lists required for the recursive definitions of B_i and C_i\n",
    "    \"\"\"\n",
    "    T = end_T\n",
    "    time_differences = [] # Holds time differences t_ih - t'_ik\n",
    "    d1_values = [] # Holds values d'_ik - 1\n",
    "    d30_values = [] # Holds values |d'_ik - 30|\n",
    "\n",
    "    for h in range(N(T, t)):\n",
    "        # Construct list of t_ih - t'_ik for k = 1 to N'(T)\n",
    "        differences_list = t[h] - t_prime[N(t[h-1], t_prime):N(t[h], t_prime)]\n",
    "\n",
    "        # Construct list of d_ik - 1 for k = 1 to N'(T)\n",
    "        d1_values_list = durations[N(t[h-1], t_prime):N(t[h], t_prime)] - 1\n",
    "\n",
    "        # Construct list of |d_ik - 30| for k = 1 to N'(T)\n",
    "        d30_values_list = np.absolute(durations[N(t[h-1], t_prime):N(t[h], t_prime)] - 30)\n",
    "\n",
    "        time_differences.append(differences_list)\n",
    "        d1_values.append(d1_values_list)\n",
    "        d30_values.append(d30_values_list)\n",
    "\n",
    "\n",
    "    return time_differences, d1_values, d30_values"
   ]
  },
  {
   "cell_type": "code",
   "execution_count": 4,
   "metadata": {},
   "outputs": [],
   "source": [
    "def compensator_m5(t_scalar, compensator_helpers, \n",
    "      lambda_i, alpha_i, beta_i, beta_i_prime, gamma_i, delta_i, delta_i_prime):\n",
    "    \"\"\"\n",
    "    Evaluate compensator function for model 5.\n",
    "\n",
    "    t_scalar: Scalar value at which we evaluate the compensator\n",
    "    t_prime_precomputed: time differences (t_scalar - t_prime[:N(t_scalar, t_prime)]) array computed outside the function for efficiency\n",
    "    durations: array of journey durations d'_{i,k} for each arrival time t'_{i,k} at station i\n",
    "    The rest are parameters in model 5.   \n",
    "    \"\"\"\n",
    "        \n",
    "    t_prime_precomputed = compensator_helpers[0]\n",
    "    d_prime_1 = compensator_helpers[1]\n",
    "    d_prime_30 = compensator_helpers[2]\n",
    "\n",
    "\n",
    "    term1 = lambda_i * t_scalar\n",
    "    \n",
    "    term2 = -(alpha_i / beta_i_prime) * np.sum(np.exp(-beta_i_prime * (t_prime_precomputed) - beta_i * d_prime_1)-1)\n",
    "\n",
    "    term3 = -(gamma_i / delta_i_prime) * np.sum(np.exp(-delta_i_prime * (t_prime_precomputed) - delta_i * d_prime_30)-1)\n",
    "\n",
    "    return term1 + term2 + term3"
   ]
  },
  {
   "cell_type": "code",
   "execution_count": 5,
   "metadata": {},
   "outputs": [],
   "source": [
    "def B_i(h, t, t_prime, durations, beta_i, beta_i_prime, recursion_helpers):\n",
    "\n",
    "    \"\"\"\n",
    "    Returns a list of [B_i(1), ..., B_i(h)] for model 5\n",
    "\n",
    "    Note all index variables such as h, k, etc start at 1, like the mathematical notation.\n",
    "    \"\"\"\n",
    "\n",
    "    B = [np.sum(np.exp(-beta_i * (durations[:N(t[0], t_prime)] - 1)) * np.exp(-beta_i_prime*(t[0] - t_prime[:N(t[0], t_prime)])))]\n",
    "\n",
    "    time_differences = recursion_helpers[0]\n",
    "    d1_values = recursion_helpers[1]\n",
    "    #d30_values = recursion_helpers[2]\n",
    "\n",
    "    # Append the rest\n",
    "    for l in range(2, h+1):\n",
    "        # First term in recursive formula for B_i(h)\n",
    "        term1 = np.exp(-beta_i_prime*(t[l-1] - t[l-2])) * B[l-2]\n",
    "\n",
    "        term2 = np.sum(np.exp(-beta_i * (d1_values[l-1])) * np.exp(-beta_i_prime*(time_differences[l-1])))\n",
    "        B.append(term1 + term2)\n",
    "    return np.array(B)\n",
    "    \n",
    "\n",
    "def C_i(h, t, t_prime, durations, delta_i, delta_i_prime, recursion_helpers):\n",
    "\n",
    "    \"\"\"\n",
    "    Returns a list of [C_i(1), ..., C_i(h)] for model 5\n",
    "\n",
    "    Note all index variables such as h, k, etc start at 1, like the mathematical notation.\n",
    "    \"\"\"\n",
    "\n",
    "    C = [np.sum(np.exp(-delta_i * np.absolute(durations[:N(t[0], t_prime)] - 30)) * np.exp(-delta_i_prime*(t[0] - t_prime[:N(t[0], t_prime)])))]\n",
    "\n",
    "    time_differences = recursion_helpers[0]\n",
    "    #d1_values = recursion_helpers[1]\n",
    "    d30_values = recursion_helpers[2]\n",
    "\n",
    "    # Append the rest\n",
    "    for l in range(2, h+1):\n",
    "        # First term in recursive formula for C_i(h)\n",
    "        term1 = np.exp(-delta_i_prime*(t[l-1] - t[l-2])) * C[l-2]\n",
    "        term2 = np.sum(np.exp(-delta_i * (d30_values[l-1])) * np.exp(-delta_i_prime*(time_differences[l-1])))\n",
    "        C.append(term1 + term2)\n",
    "    return np.array(C)"
   ]
  },
  {
   "cell_type": "code",
   "execution_count": 6,
   "metadata": {},
   "outputs": [],
   "source": [
    "def m5_log_likelihood(t, t_prime, durations, compensator_helpers, recursion_helpers, lambda_i,\n",
    " alpha_i, beta_i, beta_i_prime, gamma_i, delta_i, delta_i_prime):\n",
    "   \n",
    "   T = end_T\n",
    "\n",
    "   B_ = B_i(len(t), t, t_prime, durations, beta_i, beta_i_prime, recursion_helpers)\n",
    "\n",
    "   C_ = C_i(len(t), t, t_prime, durations, delta_i, delta_i_prime, recursion_helpers)\n",
    "\n",
    "   term1 = np.sum(np.log(lambda_i + alpha_i*B_ + gamma_i*C_))\n",
    "\n",
    "   term2 = -compensator_m5(T, compensator_helpers, lambda_i, alpha_i,\n",
    "      beta_i, beta_i_prime, gamma_i, delta_i, delta_i_prime)\n",
    "\n",
    "   return term1 + term2"
   ]
  },
  {
   "cell_type": "markdown",
   "metadata": {},
   "source": [
    "### TODO: Make sure the durations d_ik correspond exactly to the end times t'_ik. Do we need to get durations from train times sorted by end_time?"
   ]
  },
  {
   "cell_type": "code",
   "execution_count": 7,
   "metadata": {},
   "outputs": [
    {
     "data": {
      "text/plain": [
       "array([38.0811817 , 27.80359035, 11.58253296, ...,  6.93912279,\n",
       "       20.85816307,  6.99643917])"
      ]
     },
     "execution_count": 7,
     "metadata": {},
     "output_type": "execute_result"
    }
   ],
   "source": [
    "durations_per_end_time[1]"
   ]
  },
  {
   "cell_type": "code",
   "execution_count": 8,
   "metadata": {},
   "outputs": [
    {
     "name": "stdout",
     "output_type": "stream",
     "text": [
      "-68798.12740072113\n"
     ]
    }
   ],
   "source": [
    "# Test m5 likelihood function\n",
    "\n",
    "t = t_per_station[2]\n",
    "t_prime = t_prime_per_station[2]\n",
    "durations = durations_per_end_time[2]\n",
    "compensator_helpers = m5_compensator_helper(end_T, t_prime, durations)\n",
    "recursion_helpers = m5_recursion_helper(t, t_prime, durations)\n",
    "\n",
    "print(m5_log_likelihood(t, t_prime, durations,\n",
    "    compensator_helpers, recursion_helpers, 0.1, 0.01, 0.1, 0.1, 0.1, 0.01, 0.011))"
   ]
  },
  {
   "cell_type": "code",
   "execution_count": 9,
   "metadata": {},
   "outputs": [],
   "source": [
    "condensed_log_l_m5 = lambda time_params, model_params: m5_log_likelihood(time_params[0],time_params[1], time_params[2], time_params[3], time_params[4], model_params[0], model_params[1], model_params[2], model_params[3], model_params[4], model_params[5],  model_params[6])"
   ]
  },
  {
   "cell_type": "code",
   "execution_count": 10,
   "metadata": {},
   "outputs": [
    {
     "data": {
      "text/plain": [
       "576.533889934963"
      ]
     },
     "execution_count": 10,
     "metadata": {},
     "output_type": "execute_result"
    }
   ],
   "source": [
    "t_prime_per_station[1][1]"
   ]
  },
  {
   "cell_type": "code",
   "execution_count": 11,
   "metadata": {},
   "outputs": [
    {
     "name": "stderr",
     "output_type": "stream",
     "text": [
      " 83%|████████▎ | 655/789 [03:29<00:42,  3.13it/s]\n"
     ]
    }
   ],
   "source": [
    "compensator_helper_dict = {}\n",
    "recursion_helper_dict = {}\n",
    "for st_id in tqdm(train_sorted_start_ids):\n",
    "    compensator_helper_dict[st_id] = m5_compensator_helper(end_T, t_prime_per_station[st_id], durations_per_end_time[st_id])\n",
    "    recursion_helper_dict[st_id] = m5_recursion_helper(t_per_station[st_id], t_prime_per_station[st_id], durations_per_end_time[st_id])"
   ]
  },
  {
   "cell_type": "code",
   "execution_count": null,
   "metadata": {},
   "outputs": [
    {
     "name": "stderr",
     "output_type": "stream",
     "text": [
      "100%|██████████| 789/789 [00:00<00:00, 4892.94it/s]\n"
     ]
    }
   ],
   "source": [
    "time_params_dict = {}\n",
    "for st_id in tqdm(train_sorted_start_ids):\n",
    "    time_params_dict[st_id] = [t_per_station[st_id], t_prime_per_station[st_id],\n",
    "    durations_per_end_time[st_id], compensator_helper_dict[st_id], recursion_helper_dict[st_id]]\n"
   ]
  },
  {
   "cell_type": "code",
   "execution_count": 49,
   "metadata": {},
   "outputs": [
    {
     "name": "stderr",
     "output_type": "stream",
     "text": [
      "/var/folders/82/t8qzqs6x2f19402hdk543xd80000gn/T/ipykernel_46531/332327016.py:1: DeprecationWarning: elementwise comparison failed; this will raise an error in the future.\n",
      "  time_params_dict[1] == time_params_dict[2]\n"
     ]
    },
    {
     "data": {
      "text/plain": [
       "False"
      ]
     },
     "execution_count": 49,
     "metadata": {},
     "output_type": "execute_result"
    }
   ],
   "source": [
    "time_params_dict[1] == time_params_dict[2]"
   ]
  },
  {
   "cell_type": "code",
   "execution_count": 31,
   "metadata": {},
   "outputs": [],
   "source": [
    "def transform_params(params):\n",
    "    if len(params) != 7:\n",
    "        raise ValueError(\"Not the right size.\")\n",
    "    lambda_i, alpha_i, beta_i,\\\n",
    "         beta_i_prime, gamma_i, \\\n",
    "            delta_i, delta_i_prime = params\n",
    "    return [np.exp(lambda_i), np.exp(alpha_i), np.exp(beta_i),\n",
    "     np.exp(alpha_i) + np.exp(beta_i_prime), np.exp(gamma_i),\n",
    "     np.exp(delta_i), np.exp(gamma_i) + np.exp(delta_i_prime)]"
   ]
  },
  {
   "cell_type": "code",
   "execution_count": 55,
   "metadata": {},
   "outputs": [
    {
     "name": "stderr",
     "output_type": "stream",
     "text": [
      "100%|██████████| 5/5 [00:11<00:00,  2.28s/it]\n"
     ]
    }
   ],
   "source": [
    "unconverged_it1 = []\n",
    "N_stat = 5\n",
    "optimal_parameters_it1 = {}\n",
    "for st_id in tqdm(train_sorted_start_ids[:N_stat]):\n",
    "    # m2_station_params = model_2_params.loc[st_id].to_numpy()\n",
    "    # m3_station_params = model_3_params.loc[st_id].to_numpy()\n",
    "    #x0 = [np.log(m2_station_params[0]), np.log(m2_station_params[1] -m2_station_params[0] ), np.log(m3_station_params[0]), np.log(m3_station_params[1] - m3_station_params[0]), np.log(m3_station_params[-1])] # np.log(rates_dict[station.start_id.unique()[0]])]\n",
    "    #x0 = np.random.random(7)/10\n",
    "    x0 = np.ones(7) * -3\n",
    "    op_m5_log_likelihood = lambda x: -condensed_log_l_m5(time_params_dict[st_id], transform_params(x))\n",
    "    sol = op.minimize(op_m5_log_likelihood, x0, method=\"Nelder-Mead\")\n",
    "    if sol.success:\n",
    "        max_params = transform_params(sol.x)\n",
    "        optimal_parameters_it1[st_id] = max_params\n",
    "    else:\n",
    "        unconverged_it1.append(st_id)\n",
    "        print(f\"{st_id} failed to converge.\")"
   ]
  },
  {
   "cell_type": "code",
   "execution_count": 56,
   "metadata": {},
   "outputs": [
    {
     "data": {
      "text/plain": [
       "{1: [1.0269163979862075,\n",
       "  1.0562799353686771,\n",
       "  1.0835429989768606,\n",
       "  2.083247666634845,\n",
       "  1.0100739024378216,\n",
       "  1.102897288580086,\n",
       "  2.0996888273173586],\n",
       " 2: [1.0588489388722486,\n",
       "  1.049501037173833,\n",
       "  1.044553855309569,\n",
       "  2.093647158839925,\n",
       "  1.0239268710327096,\n",
       "  1.0652065505526351,\n",
       "  2.044006708564674],\n",
       " 3: [1.013036669370214,\n",
       "  1.051750260916667,\n",
       "  1.0354996100826204,\n",
       "  2.0835361081552968,\n",
       "  1.0825873921577969,\n",
       "  1.0597812660114292,\n",
       "  2.0840766231240493],\n",
       " 4: [1.0743135067015799,\n",
       "  1.076402258163898,\n",
       "  1.104850597413892,\n",
       "  2.128028792863896,\n",
       "  1.0812959283278782,\n",
       "  1.0557590477962926,\n",
       "  2.157664866945902],\n",
       " 5: [1.004820024120488,\n",
       "  1.0714430070111545,\n",
       "  1.03468316552485,\n",
       "  2.1724245957579367,\n",
       "  1.075731933792216,\n",
       "  1.0211110013769884,\n",
       "  2.0950222356931167]}"
      ]
     },
     "execution_count": 56,
     "metadata": {},
     "output_type": "execute_result"
    }
   ],
   "source": [
    "optimal_parameters_it1"
   ]
  },
  {
   "cell_type": "code",
   "execution_count": 37,
   "metadata": {},
   "outputs": [
    {
     "data": {
      "text/html": [
       "<div>\n",
       "<style scoped>\n",
       "    .dataframe tbody tr th:only-of-type {\n",
       "        vertical-align: middle;\n",
       "    }\n",
       "\n",
       "    .dataframe tbody tr th {\n",
       "        vertical-align: top;\n",
       "    }\n",
       "\n",
       "    .dataframe thead th {\n",
       "        text-align: right;\n",
       "    }\n",
       "</style>\n",
       "<table border=\"1\" class=\"dataframe\">\n",
       "  <thead>\n",
       "    <tr style=\"text-align: right;\">\n",
       "      <th></th>\n",
       "      <th>lambda_i</th>\n",
       "      <th>alpha_i</th>\n",
       "      <th>beta_i</th>\n",
       "      <th>beta_i_prime</th>\n",
       "      <th>gamma_i</th>\n",
       "      <th>delta_i</th>\n",
       "      <th>delta_i_prime</th>\n",
       "    </tr>\n",
       "  </thead>\n",
       "  <tbody>\n",
       "    <tr>\n",
       "      <th>1</th>\n",
       "      <td>0.049787</td>\n",
       "      <td>0.049787</td>\n",
       "      <td>0.049787</td>\n",
       "      <td>0.099574</td>\n",
       "      <td>0.049787</td>\n",
       "      <td>0.049787</td>\n",
       "      <td>0.099574</td>\n",
       "    </tr>\n",
       "    <tr>\n",
       "      <th>2</th>\n",
       "      <td>0.049787</td>\n",
       "      <td>0.049787</td>\n",
       "      <td>0.049787</td>\n",
       "      <td>0.099574</td>\n",
       "      <td>0.049787</td>\n",
       "      <td>0.049787</td>\n",
       "      <td>0.099574</td>\n",
       "    </tr>\n",
       "    <tr>\n",
       "      <th>3</th>\n",
       "      <td>0.049787</td>\n",
       "      <td>0.049787</td>\n",
       "      <td>0.049787</td>\n",
       "      <td>0.099574</td>\n",
       "      <td>0.049787</td>\n",
       "      <td>0.049787</td>\n",
       "      <td>0.099574</td>\n",
       "    </tr>\n",
       "    <tr>\n",
       "      <th>4</th>\n",
       "      <td>0.049787</td>\n",
       "      <td>0.049787</td>\n",
       "      <td>0.049787</td>\n",
       "      <td>0.099574</td>\n",
       "      <td>0.049787</td>\n",
       "      <td>0.049787</td>\n",
       "      <td>0.099574</td>\n",
       "    </tr>\n",
       "    <tr>\n",
       "      <th>5</th>\n",
       "      <td>0.049787</td>\n",
       "      <td>0.049787</td>\n",
       "      <td>0.049787</td>\n",
       "      <td>0.099574</td>\n",
       "      <td>0.049787</td>\n",
       "      <td>0.049787</td>\n",
       "      <td>0.099574</td>\n",
       "    </tr>\n",
       "  </tbody>\n",
       "</table>\n",
       "</div>"
      ],
      "text/plain": [
       "   lambda_i   alpha_i    beta_i  beta_i_prime   gamma_i   delta_i  \\\n",
       "1  0.049787  0.049787  0.049787      0.099574  0.049787  0.049787   \n",
       "2  0.049787  0.049787  0.049787      0.099574  0.049787  0.049787   \n",
       "3  0.049787  0.049787  0.049787      0.099574  0.049787  0.049787   \n",
       "4  0.049787  0.049787  0.049787      0.099574  0.049787  0.049787   \n",
       "5  0.049787  0.049787  0.049787      0.099574  0.049787  0.049787   \n",
       "\n",
       "   delta_i_prime  \n",
       "1       0.099574  \n",
       "2       0.099574  \n",
       "3       0.099574  \n",
       "4       0.099574  \n",
       "5       0.099574  "
      ]
     },
     "execution_count": 37,
     "metadata": {},
     "output_type": "execute_result"
    }
   ],
   "source": [
    "m5_param_df = pd.DataFrame(optimal_parameters_it1.values(), index=optimal_parameters_it1.keys(), columns = [\"lambda\", \"alpha\", \"beta\", \"beta_i_prime\", \"gamma_i\", \"delta_i\", \"delta_i_prime\"])\n",
    "m5_param_df.head() "
   ]
  },
  {
   "cell_type": "code",
   "execution_count": null,
   "metadata": {},
   "outputs": [],
   "source": []
  }
 ],
 "metadata": {
  "kernelspec": {
   "display_name": "Python 3.8.2 32-bit",
   "language": "python",
   "name": "python3"
  },
  "language_info": {
   "codemirror_mode": {
    "name": "ipython",
    "version": 3
   },
   "file_extension": ".py",
   "mimetype": "text/x-python",
   "name": "python",
   "nbconvert_exporter": "python",
   "pygments_lexer": "ipython3",
   "version": "3.8.2"
  },
  "orig_nbformat": 4,
  "vscode": {
   "interpreter": {
    "hash": "9c1410969137b62557f626ec5944e60126207e5e8b8864d3436c9c9d7a53b4e1"
   }
  }
 },
 "nbformat": 4,
 "nbformat_minor": 2
}
