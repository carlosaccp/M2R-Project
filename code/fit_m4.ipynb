{
 "cells": [
  {
   "cell_type": "code",
   "execution_count": 1,
   "metadata": {},
   "outputs": [],
   "source": [
    "import pandas as pd\n",
    "import numpy as np\n",
    "import matplotlib.pyplot as plt\n",
    "from tqdm import tqdm\n",
    "from matplotlib.ticker import FuncFormatter\n",
    "import scipy.optimize as op\n",
    "import scipy.stats as st\n",
    "from preprocessing import *\n",
    "plt.style.use(\"dark_background\") # Config plots for dark mode, delete if on light mode\n",
    "plt.rcParams['figure.dpi'] = 150 # Hi-res plots"
   ]
  },
  {
   "cell_type": "code",
   "execution_count": 2,
   "metadata": {},
   "outputs": [],
   "source": [
    "def N(t_scalar, t):\n",
    "    \"\"\"\n",
    "    Returns the number of times in t less than or equal to t_scalar.\n",
    "    Is used to compute N(t_{i,k}) and N'(t_{i,k}) depending on whether t above is t or t_prime\n",
    "    \"\"\"\n",
    "    return np.searchsorted(t, t_scalar, side=\"right\")\n",
    "\n",
    "def get_time_differences(t, t_prime):\n",
    "    \"\"\"\n",
    "    Input: (sorted) times for a particular station i\n",
    "    Output: List of differences indexed by [h][k] for this station i\n",
    "    \"\"\"\n",
    "\n",
    "    # h goes until N(t[-1], t)\n",
    "    T = end_T\n",
    "    differences = []\n",
    "    for h in range(N(T, t)):\n",
    "        differences_list = []\n",
    "        # Construct list of t_ih - t'_ik for k = 1 to N'(T)\n",
    "        differences_list.append(t[h] - t_prime[N(t[h-1], t_prime):N(t[h], t_prime)])\n",
    "\n",
    "        differences.append(np.asarray(differences_list))\n",
    "\n",
    "    return differences\n",
    "\n",
    "def m4_compensator_helper(t_scalar, t, t_prime):\n",
    "    \"\"\"\n",
    "    Computes the lists that are required for the compensator function outside of it (without the parameters)\n",
    "    \"\"\"\n",
    "    t_difference = t_scalar - t[:N(t_scalar, t)]\n",
    "    t_prime_difference = t_scalar - t_prime[:N(t_scalar, t_prime)]\n",
    "    return t_difference, t_prime_difference"
   ]
  },
  {
   "cell_type": "code",
   "execution_count": 3,
   "metadata": {},
   "outputs": [],
   "source": [
    "# def get_time_differences_2(t, t_prime):\n",
    "#     \"\"\"\n",
    "#     Input: (sorted) times for a particular station i\n",
    "#     Output: List of differences indexed by [h][k] for this station i\n",
    "#     \"\"\"\n",
    "\n",
    "#     # h goes until N(t[-1], t)\n",
    "#     T = end_T\n",
    "#     differences = np.array([])\n",
    "#     for h in range(N(T, t)):\n",
    "#         differences_list = []\n",
    "#         # Construct list of t_ih - t'_ik for k = 1 to N'(T)\n",
    "#         differences_list.append(t[h] - t_prime[N(t[h-1], t_prime):N(t[h], t_prime)])\n",
    "\n",
    "#         differences = np.append(differences, np.asarray(differences_list))\n",
    "\n",
    "#     return differences"
   ]
  },
  {
   "cell_type": "code",
   "execution_count": 4,
   "metadata": {},
   "outputs": [],
   "source": [
    "# def compensator_m4(t_scalar, t, t_prime, alpha_i, beta_i, alpha_i_prime, beta_i_prime,lambda_i):\n",
    "#     \"\"\"\n",
    "#     t_scalar: scalar value where Lambda_i(t) is to be evaluated\n",
    "#     t_prime: list of arrival times at station i\n",
    "\n",
    "#     NOTE: t_prime NEEDS TO BE SORTED HERE.\n",
    "#     \"\"\"\n",
    "\n",
    "#     term1 = lambda_i * t_scalar\n",
    "#     term2 = -(alpha_i_prime / beta_i_prime) * np.sum(np.exp(-beta_i_prime * (t_scalar - t_prime[:N(t_scalar, t_prime)]))-1)\n",
    "#     term3 = -(alpha_i / beta_i) * np.sum(np.exp(-beta_i * (t_scalar - t[:N(t_scalar, t)]))-1)\n",
    "#     return term1 + term2 + term3\n"
   ]
  },
  {
   "cell_type": "code",
   "execution_count": 5,
   "metadata": {},
   "outputs": [],
   "source": [
    "def B_m4(h, t, t_prime, beta, time_differences):\n",
    "\n",
    "    \"\"\"\n",
    "    Returns a list of [B_i(1), ..., B_i(h)]\n",
    "\n",
    "    NOTE: t_prime NEEDS to be sorted here\n",
    "\n",
    "    time_differences: time differences double list for station i\n",
    "\n",
    "    Note all index variables such as h, k, etc start at 1, like the mathematical notation.\n",
    "    \"\"\"\n",
    "    B = [np.sum(np.exp(-beta*(t[0] - t_prime[:N(t[0], t_prime)])))]\n",
    "\n",
    "    # Append the rest\n",
    "    for l in range(1, h):\n",
    "        # First term in recursive formula for B_i(h)\n",
    "        term1 = np.exp(-beta*(t[l] - t[l-1])) * B[l-1]\n",
    "        term2 = np.sum(np.exp(-beta*(time_differences[l])))\n",
    "        B.append(term1 + term2)\n",
    "    return np.array(B)\n",
    "\n",
    "\n",
    "def A_m4(h, t, beta):\n",
    "    A = [0]\n",
    "    for j in range(1, h):\n",
    "            A.append(np.exp(-beta*(t[j] - t[j-1]))*(1+A[j-1]))\n",
    "    return np.asarray(A)\n",
    "import numpy as np\n",
    "\n",
    "\n",
    "# def m4_log_likelihood(t, t_prime, time_differences, alpha_i, beta_i, alpha_i_prime, beta_i_prime, lambda_i):\n",
    "#     \"\"\"\n",
    "#     Gives log likelihood of our five parameters. \n",
    "#     t: start times from station i\n",
    "#     t_prime: end times at station i\n",
    "\n",
    "#     NOTE: t_prime NEEDS TO BE SORTED HERE\n",
    "#     \"\"\"\n",
    "    \n",
    "#     T = end_T # TODO: Is this how we get big T?\n",
    "\n",
    "#     # Get A list\n",
    "#     A_ = new_A(len(t), t, beta_i)\n",
    "\n",
    "#     # Get B list \n",
    "#     B_ = new_B(len(t), t, t_prime, beta_i_prime, time_differences)\n",
    "\n",
    "#     term1 = np.sum(np.log(lambda_i + alpha_i_prime*B_[:len(t)+1] + alpha_i*A_[:len(t)+1]))\n",
    "\n",
    "#     term2 = -compensator_m4(T, t, t_prime, alpha_i, beta_i, alpha_i_prime, beta_i_prime, lambda_i)\n",
    "\n",
    "#     return term1 + term2\n"
   ]
  },
  {
   "cell_type": "code",
   "execution_count": 6,
   "metadata": {},
   "outputs": [],
   "source": [
    "def compensator_m4(t_scalar, t_precomputed, t_prime_precomputed, lambda_i, alpha_i, alpha_i_prime, beta_i, beta_i_prime):\n",
    "    \"\"\"\n",
    "    Evaluates compensator using already pre-computed list terms so we don't compute it every time.\n",
    "    \"\"\"\n",
    "    term1 = lambda_i * t_scalar\n",
    "    term2 = -(alpha_i_prime / beta_i_prime) * np.sum(np.exp(-beta_i_prime * (t_prime_precomputed))-1)\n",
    "    term3 = -(alpha_i / beta_i) * np.sum(np.exp(-beta_i * (t_precomputed))-1)\n",
    "    return term1 + term2 + term3\n",
    "\n",
    "def m4_log_likelihood(t_params,\n",
    " lambda_i, alpha_i, alpha_i_prime, beta_i, beta_i_prime):\n",
    "    \"\"\"\n",
    "    Gives log likelihood of our five parameters. \n",
    "    t: start times from station i\n",
    "    t_prime: end times at station i\n",
    "\n",
    "    NOTE: t_prime NEEDS TO BE SORTED HERE\n",
    "    \"\"\"\n",
    "    # t_params: t, trunc_t, tprime, trunc_tprime, time_diffs\n",
    "    t, t_precomputed, t_prime, t_prime_precomputed, time_differences = t_params\n",
    "    length_t = N(end_T, t)\n",
    "    T = end_T\n",
    "    A_ = A_m4(length_t, t, beta_i)\n",
    "    B_ = B_m4(length_t, t, t_prime, beta_i_prime, time_differences)\n",
    "    term1 = np.sum(np.log(lambda_i + alpha_i*A_ + alpha_i_prime*B_))\n",
    "    term2 = -compensator_m4(T, t_precomputed, t_prime_precomputed, lambda_i, alpha_i, alpha_i_prime,beta_i, beta_i_prime)\n",
    "\n",
    "    return term1 + term2"
   ]
  },
  {
   "cell_type": "code",
   "execution_count": 7,
   "metadata": {},
   "outputs": [
    {
     "name": "stderr",
     "output_type": "stream",
     "text": [
      "100%|██████████| 789/789 [00:13<00:00, 58.28it/s]\n"
     ]
    }
   ],
   "source": [
    "time_diffs = {}\n",
    "for st_id in tqdm(train_sorted_start_ids):\n",
    "    time_diffs[st_id] = get_time_differences(t_per_station[st_id], t_prime_per_station[st_id])"
   ]
  },
  {
   "cell_type": "code",
   "execution_count": 8,
   "metadata": {},
   "outputs": [
    {
     "name": "stderr",
     "output_type": "stream",
     "text": [
      "100%|██████████| 789/789 [00:00<00:00, 63089.68it/s]\n",
      "100%|██████████| 789/789 [00:00<00:00, 58717.28it/s]\n"
     ]
    }
   ],
   "source": [
    "trunc_t_per_station = {}\n",
    "for st_id in tqdm(train_sorted_start_ids):\n",
    "    t = t_per_station[st_id]\n",
    "    t_prime = t_prime_per_station[st_id]\n",
    "    trunc_t_per_station[st_id] = m4_compensator_helper(end_T, t, t_prime)[0]\n",
    "trunc_t_prime_per_station = {}\n",
    "for st_id in tqdm(train_sorted_start_ids):\n",
    "    t = t_per_station[st_id]\n",
    "    t_prime = t_prime_per_station[st_id]\n",
    "    trunc_t_prime_per_station[st_id] = m4_compensator_helper(end_T, t, t_prime)[1]"
   ]
  },
  {
   "cell_type": "code",
   "execution_count": 9,
   "metadata": {},
   "outputs": [
    {
     "name": "stderr",
     "output_type": "stream",
     "text": [
      "100%|██████████| 789/789 [00:00<00:00, 1349085.14it/s]\n"
     ]
    }
   ],
   "source": [
    "# combine to new dict called station parameters: ordered as t, trunc_t, tprime, trunc_tprime, time_diffs\n",
    "station_time_parameters = {}\n",
    "for st_id in tqdm(train_sorted_start_ids):\n",
    "    station_time_parameters[st_id] = [t_per_station[st_id], trunc_t_per_station[st_id], t_prime_per_station[st_id], trunc_t_prime_per_station[st_id], time_diffs[st_id]]"
   ]
  },
  {
   "cell_type": "markdown",
   "metadata": {},
   "source": [
    "## Finding the parameters using likelihood optimisation"
   ]
  },
  {
   "cell_type": "code",
   "execution_count": 10,
   "metadata": {},
   "outputs": [
    {
     "data": {
      "text/html": [
       "<div>\n",
       "<style scoped>\n",
       "    .dataframe tbody tr th:only-of-type {\n",
       "        vertical-align: middle;\n",
       "    }\n",
       "\n",
       "    .dataframe tbody tr th {\n",
       "        vertical-align: top;\n",
       "    }\n",
       "\n",
       "    .dataframe thead th {\n",
       "        text-align: right;\n",
       "    }\n",
       "</style>\n",
       "<table border=\"1\" class=\"dataframe\">\n",
       "  <thead>\n",
       "    <tr style=\"text-align: right;\">\n",
       "      <th></th>\n",
       "      <th>alpha</th>\n",
       "      <th>beta</th>\n",
       "      <th>lambda</th>\n",
       "    </tr>\n",
       "  </thead>\n",
       "  <tbody>\n",
       "    <tr>\n",
       "      <th>1</th>\n",
       "      <td>0.020179</td>\n",
       "      <td>0.035553</td>\n",
       "      <td>7.705058e-03</td>\n",
       "    </tr>\n",
       "    <tr>\n",
       "      <th>2</th>\n",
       "      <td>0.015271</td>\n",
       "      <td>0.016036</td>\n",
       "      <td>1.213006e-03</td>\n",
       "    </tr>\n",
       "    <tr>\n",
       "      <th>3</th>\n",
       "      <td>0.004644</td>\n",
       "      <td>0.004644</td>\n",
       "      <td>3.779973e-17</td>\n",
       "    </tr>\n",
       "    <tr>\n",
       "      <th>4</th>\n",
       "      <td>0.009820</td>\n",
       "      <td>0.023543</td>\n",
       "      <td>9.676464e-03</td>\n",
       "    </tr>\n",
       "    <tr>\n",
       "      <th>5</th>\n",
       "      <td>0.011876</td>\n",
       "      <td>0.012869</td>\n",
       "      <td>1.258996e-03</td>\n",
       "    </tr>\n",
       "    <tr>\n",
       "      <th>...</th>\n",
       "      <td>...</td>\n",
       "      <td>...</td>\n",
       "      <td>...</td>\n",
       "    </tr>\n",
       "    <tr>\n",
       "      <th>836</th>\n",
       "      <td>0.014502</td>\n",
       "      <td>0.039605</td>\n",
       "      <td>1.707352e-02</td>\n",
       "    </tr>\n",
       "    <tr>\n",
       "      <th>838</th>\n",
       "      <td>0.006228</td>\n",
       "      <td>0.006470</td>\n",
       "      <td>4.663218e-04</td>\n",
       "    </tr>\n",
       "    <tr>\n",
       "      <th>839</th>\n",
       "      <td>0.023140</td>\n",
       "      <td>0.028994</td>\n",
       "      <td>8.233945e-03</td>\n",
       "    </tr>\n",
       "    <tr>\n",
       "      <th>840</th>\n",
       "      <td>0.018468</td>\n",
       "      <td>0.019006</td>\n",
       "      <td>2.030979e-04</td>\n",
       "    </tr>\n",
       "    <tr>\n",
       "      <th>841</th>\n",
       "      <td>0.000851</td>\n",
       "      <td>0.000851</td>\n",
       "      <td>9.391903e-06</td>\n",
       "    </tr>\n",
       "  </tbody>\n",
       "</table>\n",
       "<p>789 rows × 3 columns</p>\n",
       "</div>"
      ],
      "text/plain": [
       "        alpha      beta        lambda\n",
       "1    0.020179  0.035553  7.705058e-03\n",
       "2    0.015271  0.016036  1.213006e-03\n",
       "3    0.004644  0.004644  3.779973e-17\n",
       "4    0.009820  0.023543  9.676464e-03\n",
       "5    0.011876  0.012869  1.258996e-03\n",
       "..        ...       ...           ...\n",
       "836  0.014502  0.039605  1.707352e-02\n",
       "838  0.006228  0.006470  4.663218e-04\n",
       "839  0.023140  0.028994  8.233945e-03\n",
       "840  0.018468  0.019006  2.030979e-04\n",
       "841  0.000851  0.000851  9.391903e-06\n",
       "\n",
       "[789 rows x 3 columns]"
      ]
     },
     "execution_count": 10,
     "metadata": {},
     "output_type": "execute_result"
    }
   ],
   "source": [
    "model_2_params = pd.read_csv(\"../data/parameters/M2_train_params.csv\", index_col=0)\n",
    "model_3_params = pd.read_csv(\"../data/parameters/M3_train_params.csv\", index_col=0)\n",
    "model_3_params"
   ]
  },
  {
   "cell_type": "code",
   "execution_count": 18,
   "metadata": {},
   "outputs": [
    {
     "name": "stderr",
     "output_type": "stream",
     "text": [
      "  6%|▋         | 51/789 [06:07<1:25:13,  6.93s/it]"
     ]
    },
    {
     "name": "stdout",
     "output_type": "stream",
     "text": [
      "53 failed to converge.\n"
     ]
    },
    {
     "name": "stderr",
     "output_type": "stream",
     "text": [
      " 32%|███▏      | 253/789 [37:10<1:15:55,  8.50s/it]"
     ]
    },
    {
     "name": "stdout",
     "output_type": "stream",
     "text": [
      "263 failed to converge.\n"
     ]
    },
    {
     "name": "stderr",
     "output_type": "stream",
     "text": [
      " 40%|████      | 319/789 [1:59:13<1:58:58, 15.19s/it]   "
     ]
    },
    {
     "name": "stdout",
     "output_type": "stream",
     "text": [
      "332 failed to converge.\n"
     ]
    },
    {
     "name": "stderr",
     "output_type": "stream",
     "text": [
      " 42%|████▏     | 333/789 [2:01:33<1:44:52, 13.80s/it]"
     ]
    },
    {
     "name": "stdout",
     "output_type": "stream",
     "text": [
      "348 failed to converge.\n"
     ]
    },
    {
     "name": "stderr",
     "output_type": "stream",
     "text": [
      " 46%|████▋     | 365/789 [2:05:39<50:05,  7.09s/it]  "
     ]
    },
    {
     "name": "stdout",
     "output_type": "stream",
     "text": [
      "382 failed to converge.\n"
     ]
    },
    {
     "name": "stderr",
     "output_type": "stream",
     "text": [
      " 47%|████▋     | 373/789 [2:06:57<54:49,  7.91s/it]  "
     ]
    },
    {
     "name": "stdout",
     "output_type": "stream",
     "text": [
      "391 failed to converge.\n"
     ]
    },
    {
     "name": "stderr",
     "output_type": "stream",
     "text": [
      " 63%|██████▎   | 494/789 [2:21:01<31:49,  6.47s/it]  "
     ]
    },
    {
     "name": "stdout",
     "output_type": "stream",
     "text": [
      "528 failed to converge.\n"
     ]
    },
    {
     "name": "stderr",
     "output_type": "stream",
     "text": [
      " 70%|███████   | 554/789 [2:28:28<21:47,  5.56s/it]"
     ]
    },
    {
     "name": "stdout",
     "output_type": "stream",
     "text": [
      "594 failed to converge.\n"
     ]
    },
    {
     "name": "stderr",
     "output_type": "stream",
     "text": [
      "100%|██████████| 789/789 [2:57:59<00:00, 13.54s/it]\n"
     ]
    }
   ],
   "source": [
    "unconverged_it1 = []\n",
    "N_stat = len(train_sorted_start_ids)+1\n",
    "optimal_parameters_it1 = {}\n",
    "for st_id in tqdm(train_sorted_start_ids[:N_stat]):\n",
    "    # m2_station_params = model_2_params.loc[st_id].to_numpy()\n",
    "    # m3_station_params = model_3_params.loc[st_id].to_numpy()\n",
    "    #x0 = [np.log(m2_station_params[0]), np.log(m2_station_params[1] -m2_station_params[0] ), np.log(m3_station_params[0]), np.log(m3_station_params[1] - m3_station_params[0]), np.log(m3_station_params[-1])] # np.log(rates_dict[station.start_id.unique()[0]])]\n",
    "    x0 = -np.ones(5) * 3\n",
    "    op_m4_log_likelihood = lambda x: -m4_log_likelihood(station_time_parameters[st_id], np.exp(x[0]), np.exp(x[1]), np.exp(x[2]), np.exp(x[1]) + np.exp(x[3]), np.exp(x[2]) + np.exp(x[4]))\n",
    "    sol = op.minimize(op_m4_log_likelihood, x0, method=\"Nelder-Mead\")\n",
    "    if sol.success:\n",
    "        transformed_lambda = np.exp(sol.x[0])\n",
    "        transformed_alpha = np.exp(sol.x[1])\n",
    "        transformed_alpha_prime = np.exp(sol.x[2])\n",
    "        transformed_beta = np.exp(sol.x[1]) + np.exp(sol.x[3])\n",
    "        transformed_beta_prime = np.exp(sol.x[2]) + np.exp(sol.x[4])\n",
    "        max_params = [transformed_lambda, transformed_alpha, transformed_alpha_prime, transformed_beta, transformed_beta_prime]\n",
    "        optimal_parameters_it1[st_id] = max_params\n",
    "\n",
    "    else:\n",
    "        unconverged_it1.append(st_id)\n",
    "        print(f\"{st_id} failed to converge.\")"
   ]
  },
  {
   "cell_type": "code",
   "execution_count": 20,
   "metadata": {},
   "outputs": [
    {
     "name": "stderr",
     "output_type": "stream",
     "text": [
      "100%|██████████| 8/8 [01:11<00:00,  8.97s/it]\n"
     ]
    }
   ],
   "source": [
    "unconverged_it2 = []\n",
    "optimal_parameters_it2 = {}\n",
    "for st_id in tqdm(unconverged_it1):\n",
    "    # m2_station_params = model_2_params.loc[st_id].to_numpy()\n",
    "    # m3_station_params = model_3_params.loc[st_id].to_numpy()\n",
    "    #x0 = [np.log(m2_station_params[0]), np.log(m2_station_params[1] -m2_station_params[0] ), np.log(m3_station_params[0]), np.log(m3_station_params[1] - m3_station_params[0]), np.log(m3_station_params[-1])] # np.log(rates_dict[station.start_id.unique()[0]])]\n",
    "    x0 = -np.ones(5) * 5\n",
    "    op_m4_log_likelihood = lambda x: -m4_log_likelihood(station_time_parameters[st_id], np.exp(x[0]), np.exp(x[1]), np.exp(x[2]), np.exp(x[1]) + np.exp(x[3]), np.exp(x[2]) + np.exp(x[4]))\n",
    "    sol = op.minimize(op_m4_log_likelihood, x0, method=\"Nelder-Mead\")\n",
    "    if sol.success:\n",
    "        transformed_lambda = np.exp(sol.x[0])\n",
    "        transformed_alpha = np.exp(sol.x[1])\n",
    "        transformed_alpha_prime = np.exp(sol.x[2])\n",
    "        transformed_beta = np.exp(sol.x[1]) + np.exp(sol.x[3])\n",
    "        transformed_beta_prime = np.exp(sol.x[2]) + np.exp(sol.x[4])\n",
    "        max_params = [transformed_lambda, transformed_alpha, transformed_alpha_prime, transformed_beta, transformed_beta_prime]\n",
    "        optimal_parameters_it1[st_id] = max_params\n",
    "\n",
    "    else:\n",
    "        unconverged_it2.append(st_id)\n",
    "        print(f\"{st_id} failed to converge.\")"
   ]
  },
  {
   "cell_type": "code",
   "execution_count": 25,
   "metadata": {},
   "outputs": [
    {
     "data": {
      "text/plain": [
       "789"
      ]
     },
     "execution_count": 25,
     "metadata": {},
     "output_type": "execute_result"
    }
   ],
   "source": []
  },
  {
   "cell_type": "code",
   "execution_count": 11,
   "metadata": {},
   "outputs": [
    {
     "data": {
      "text/html": [
       "<div>\n",
       "<style scoped>\n",
       "    .dataframe tbody tr th:only-of-type {\n",
       "        vertical-align: middle;\n",
       "    }\n",
       "\n",
       "    .dataframe tbody tr th {\n",
       "        vertical-align: top;\n",
       "    }\n",
       "\n",
       "    .dataframe thead th {\n",
       "        text-align: right;\n",
       "    }\n",
       "</style>\n",
       "<table border=\"1\" class=\"dataframe\">\n",
       "  <thead>\n",
       "    <tr style=\"text-align: right;\">\n",
       "      <th></th>\n",
       "      <th>lambda</th>\n",
       "      <th>alpha</th>\n",
       "      <th>alpha_prime</th>\n",
       "      <th>beta</th>\n",
       "      <th>beta_prime</th>\n",
       "    </tr>\n",
       "  </thead>\n",
       "  <tbody>\n",
       "    <tr>\n",
       "      <th>1</th>\n",
       "      <td>4.289390e-03</td>\n",
       "      <td>0.013056</td>\n",
       "      <td>0.017923</td>\n",
       "      <td>0.031378</td>\n",
       "      <td>0.051294</td>\n",
       "    </tr>\n",
       "    <tr>\n",
       "      <th>2</th>\n",
       "      <td>9.572699e-04</td>\n",
       "      <td>0.185765</td>\n",
       "      <td>0.012679</td>\n",
       "      <td>1.004565</td>\n",
       "      <td>0.016323</td>\n",
       "    </tr>\n",
       "    <tr>\n",
       "      <th>3</th>\n",
       "      <td>4.247778e-05</td>\n",
       "      <td>0.039154</td>\n",
       "      <td>0.003156</td>\n",
       "      <td>0.099732</td>\n",
       "      <td>0.005210</td>\n",
       "    </tr>\n",
       "    <tr>\n",
       "      <th>4</th>\n",
       "      <td>7.389633e-03</td>\n",
       "      <td>0.229210</td>\n",
       "      <td>0.007624</td>\n",
       "      <td>1.002632</td>\n",
       "      <td>0.023494</td>\n",
       "    </tr>\n",
       "    <tr>\n",
       "      <th>5</th>\n",
       "      <td>1.122830e-03</td>\n",
       "      <td>0.135349</td>\n",
       "      <td>0.009782</td>\n",
       "      <td>0.695608</td>\n",
       "      <td>0.013202</td>\n",
       "    </tr>\n",
       "    <tr>\n",
       "      <th>...</th>\n",
       "      <td>...</td>\n",
       "      <td>...</td>\n",
       "      <td>...</td>\n",
       "      <td>...</td>\n",
       "      <td>...</td>\n",
       "    </tr>\n",
       "    <tr>\n",
       "      <th>348</th>\n",
       "      <td>4.788027e-16</td>\n",
       "      <td>0.180440</td>\n",
       "      <td>0.007293</td>\n",
       "      <td>0.649903</td>\n",
       "      <td>0.010667</td>\n",
       "    </tr>\n",
       "    <tr>\n",
       "      <th>382</th>\n",
       "      <td>8.784522e-16</td>\n",
       "      <td>0.056997</td>\n",
       "      <td>0.002474</td>\n",
       "      <td>0.133069</td>\n",
       "      <td>0.004793</td>\n",
       "    </tr>\n",
       "    <tr>\n",
       "      <th>391</th>\n",
       "      <td>2.377948e-16</td>\n",
       "      <td>0.043655</td>\n",
       "      <td>0.001641</td>\n",
       "      <td>0.070177</td>\n",
       "      <td>0.004700</td>\n",
       "    </tr>\n",
       "    <tr>\n",
       "      <th>528</th>\n",
       "      <td>3.731134e-16</td>\n",
       "      <td>0.069921</td>\n",
       "      <td>0.002179</td>\n",
       "      <td>0.158773</td>\n",
       "      <td>0.004028</td>\n",
       "    </tr>\n",
       "    <tr>\n",
       "      <th>594</th>\n",
       "      <td>1.092294e-15</td>\n",
       "      <td>0.226075</td>\n",
       "      <td>0.002963</td>\n",
       "      <td>0.930949</td>\n",
       "      <td>0.004495</td>\n",
       "    </tr>\n",
       "  </tbody>\n",
       "</table>\n",
       "<p>789 rows × 5 columns</p>\n",
       "</div>"
      ],
      "text/plain": [
       "           lambda     alpha  alpha_prime      beta  beta_prime\n",
       "1    4.289390e-03  0.013056     0.017923  0.031378    0.051294\n",
       "2    9.572699e-04  0.185765     0.012679  1.004565    0.016323\n",
       "3    4.247778e-05  0.039154     0.003156  0.099732    0.005210\n",
       "4    7.389633e-03  0.229210     0.007624  1.002632    0.023494\n",
       "5    1.122830e-03  0.135349     0.009782  0.695608    0.013202\n",
       "..            ...       ...          ...       ...         ...\n",
       "348  4.788027e-16  0.180440     0.007293  0.649903    0.010667\n",
       "382  8.784522e-16  0.056997     0.002474  0.133069    0.004793\n",
       "391  2.377948e-16  0.043655     0.001641  0.070177    0.004700\n",
       "528  3.731134e-16  0.069921     0.002179  0.158773    0.004028\n",
       "594  1.092294e-15  0.226075     0.002963  0.930949    0.004495\n",
       "\n",
       "[789 rows x 5 columns]"
      ]
     },
     "execution_count": 11,
     "metadata": {},
     "output_type": "execute_result"
    }
   ],
   "source": [
    "m4_parameters = pd.read_csv(\"../data/parameters/M4_train_params.csv\", index_col=0)\n",
    "m4_parameters"
   ]
  },
  {
   "cell_type": "markdown",
   "metadata": {},
   "source": [
    "## Assessing fit for model 4"
   ]
  },
  {
   "cell_type": "code",
   "execution_count": 12,
   "metadata": {},
   "outputs": [],
   "source": [
    "# m4_param_df = pd.DataFrame(optimal_parameters.values(), index=optimal_parameters.keys(), columns = [\"alpha\", \"beta\", \"alpha_prime\", \"beta_prime\", \"lambda\"])\n",
    "# m4_param_df.head() \n",
    "# m4_param_df.to_csv(\"../data/parameters/M4_train_params.csv\")"
   ]
  },
  {
   "cell_type": "code",
   "execution_count": 13,
   "metadata": {},
   "outputs": [
    {
     "name": "stderr",
     "output_type": "stream",
     "text": [
      "100%|██████████| 789/789 [00:09<00:00, 81.15it/s] \n"
     ]
    }
   ],
   "source": [
    "test_precomputed_t_dict = {}\n",
    "test_precomputed_t_prime_dict = {}\n",
    "for st_id in tqdm(train_sorted_start_ids):\n",
    "    tprime = test_t_prime_per_station[st_id]\n",
    "    time = test_t_per_station[st_id]\n",
    "    precomputed_t_lambda = lambda x: m4_compensator_helper(x, time, tprime)[0]\n",
    "    precomputed_t_prime_lambda = lambda x: m4_compensator_helper(x, time, tprime)[1]\n",
    "    test_precomputed_t_dict[st_id] = np.asarray([precomputed_t_lambda(t) for t in time], dtype=object)\n",
    "    test_precomputed_t_prime_dict[st_id] = np.asarray([precomputed_t_prime_lambda(t) for t in time], dtype=object)"
   ]
  },
  {
   "cell_type": "code",
   "execution_count": 14,
   "metadata": {},
   "outputs": [
    {
     "name": "stderr",
     "output_type": "stream",
     "text": [
      "100%|██████████| 789/789 [00:18<00:00, 43.68it/s]\n"
     ]
    }
   ],
   "source": [
    "compensated_times_dict = {}\n",
    "for st_id in tqdm(train_sorted_start_ids):\n",
    "    params = m4_parameters.loc[st_id].to_numpy()\n",
    "    tprime = test_t_prime_per_station[st_id]\n",
    "    time = test_t_per_station[st_id]\n",
    "    comp_st = lambda x: compensator_m4(x, m4_compensator_helper(x, time, tprime)[0],m4_compensator_helper(x, time, tprime)[1] , params[0], params[1], params[2], params[3], params[4])\n",
    "    compensated_times_dict[st_id] = [comp_st(t) for t in time]"
   ]
  },
  {
   "cell_type": "code",
   "execution_count": 15,
   "metadata": {},
   "outputs": [
    {
     "name": "stderr",
     "output_type": "stream",
     "text": [
      "100%|██████████| 788/788 [00:00<00:00, 22124.94it/s]\n"
     ]
    }
   ],
   "source": [
    "m4_p_values = {}\n",
    "\n",
    "for st_id in tqdm(test_sorted_start_ids):\n",
    "    inter_arrival_times = np.diff(compensated_times_dict[st_id])\n",
    "    inter_arrival_times = np.insert(inter_arrival_times,0,compensated_times_dict[st_id][0])\n",
    "    station_p_values = np.exp(-inter_arrival_times)\n",
    "    m4_p_values[st_id] = station_p_values"
   ]
  },
  {
   "cell_type": "code",
   "execution_count": 16,
   "metadata": {},
   "outputs": [],
   "source": [
    "m4_p_values_df = pd.DataFrame(m4_p_values.values(), m4_p_values.keys())\n",
    "m4_p_values_df.to_csv(\"../data/p_values/M4_p_values.csv\")"
   ]
  },
  {
   "cell_type": "code",
   "execution_count": 17,
   "metadata": {},
   "outputs": [
    {
     "data": {
      "image/png": "[encoded data removed]",
      "text/plain": [
       "<Figure size 432x288 with 1 Axes>"
      ]
     },
     "metadata": {
      "needs_background": "dark"
     },
     "output_type": "display_data"
    }
   ],
   "source": [
    "plt.title(\"Histogram of p-values for station 1 using Model 4\")\n",
    "plt.hist(m4_p_values[1])\n",
    "plt.show()"
   ]
  },
  {
   "cell_type": "code",
   "execution_count": 18,
   "metadata": {},
   "outputs": [
    {
     "data": {
      "image/png": "[encoded data removed]",
      "text/plain": [
       "<Figure size 432x288 with 1 Axes>"
      ]
     },
     "metadata": {
      "needs_background": "dark"
     },
     "output_type": "display_data"
    }
   ],
   "source": [
    "joined_p_values = np.concatenate(np.asarray(list(m4_p_values.values()), dtype=object))\n",
    "n, bins, patches = plt.hist(joined_p_values, bins=100)\n",
    "ax = plt.gca()\n",
    "def lblFormat(n, pos):\n",
    "    return str(int(n / 1e3))\n",
    "lblFormatter = FuncFormatter(lblFormat)\n",
    "ax.yaxis.set_major_formatter(lblFormatter)\n",
    "plt.title(\"Histogram of p-values for all stations for Model 4\")\n",
    "plt.xlabel(\"P-value\")\n",
    "plt.ylabel(\"Counts (Thousands)\")\n",
    "plt.savefig(\"../figures/p-values_m3.png\")\n",
    "plt.show()"
   ]
  },
  {
   "cell_type": "code",
   "execution_count": 19,
   "metadata": {},
   "outputs": [
    {
     "data": {
      "image/png": "[encoded data removed]",
      "text/plain": [
       "<Figure size 432x288 with 1 Axes>"
      ]
     },
     "metadata": {
      "needs_background": "dark"
     },
     "output_type": "display_data"
    }
   ],
   "source": [
    "kol_smir_test = {}\n",
    "for station_id, pvals in m4_p_values.items():\n",
    "    kol_smir_test[station_id] = st.kstest(pvals, \"uniform\").statistic\n",
    "\n",
    "plt.plot(kol_smir_test.keys(), kol_smir_test.values(), linewidth=0.7)\n",
    "plt.title(\"Kolmogorov-Smirnov test for all stations for Model 3\")\n",
    "plt.xlabel(\"Station Id\")\n",
    "plt.ylabel(\"$D_n$\")\n",
    "plt.savefig(\"../figures/kol-smir_m3.png\")\n",
    "plt.show()"
   ]
  },
  {
   "cell_type": "code",
   "execution_count": 20,
   "metadata": {},
   "outputs": [],
   "source": [
    "popularity_dict = {}\n",
    "for station_id in m4_p_values.keys():\n",
    "    popularity_dict[station_id] = len(test_bike_data[test_bike_data.start_id == station_id])\n"
   ]
  },
  {
   "cell_type": "code",
   "execution_count": 21,
   "metadata": {},
   "outputs": [
    {
     "data": {
      "image/png": "[encoded data removed]",
      "text/plain": [
       "<Figure size 432x288 with 1 Axes>"
      ]
     },
     "metadata": {
      "needs_background": "dark"
     },
     "output_type": "display_data"
    }
   ],
   "source": [
    "plt.scatter(popularity_dict.values(), kol_smir_test.values(), alpha=0.5)\n",
    "plt.show()"
   ]
  },
  {
   "cell_type": "code",
   "execution_count": 22,
   "metadata": {},
   "outputs": [
    {
     "data": {
      "image/png": "[encoded data removed]",
      "text/plain": [
       "<Figure size 432x288 with 1 Axes>"
      ]
     },
     "metadata": {
      "needs_background": "dark"
     },
     "output_type": "display_data"
    }
   ],
   "source": [
    "plt.boxplot(kol_smir_test.values())\n",
    "plt.title(\"Boxplot of Kolmogorov-Smirnov test statistic for Model 3\")\n",
    "plt.show()"
   ]
  },
  {
   "cell_type": "code",
   "execution_count": 23,
   "metadata": {},
   "outputs": [
    {
     "data": {
      "image/png": "[encoded data removed]",
      "text/plain": [
       "<Figure size 432x288 with 1 Axes>"
      ]
     },
     "metadata": {
      "needs_background": "dark"
     },
     "output_type": "display_data"
    }
   ],
   "source": [
    "for station, pvals in m4_p_values.items():\n",
    "    x,y = ecdf(pvals)\n",
    "    plt.plot(x,y, alpha=0.2, linewidth=0.5, color=\"gray\")\n",
    "\n",
    "plt.title(\"ECDF for p-values of Model 4\")\n",
    "plt.xlabel(\"P-value\")\n",
    "plt.ylabel(\"ECDF value\")\n",
    "plt.plot([0,1], [0,1], color=\"white\", label=\"Theoretical ECDF\")\n",
    "plt.legend()\n",
    "plt.show()"
   ]
  },
  {
   "cell_type": "code",
   "execution_count": 32,
   "metadata": {},
   "outputs": [
    {
     "data": {
      "text/plain": [
       "474"
      ]
     },
     "execution_count": 32,
     "metadata": {},
     "output_type": "execute_result"
    }
   ],
   "source": [
    "len(m4_p_values[3])"
   ]
  },
  {
   "cell_type": "code",
   "execution_count": 29,
   "metadata": {},
   "outputs": [
    {
     "data": {
      "text/html": [
       "<div>\n",
       "<style scoped>\n",
       "    .dataframe tbody tr th:only-of-type {\n",
       "        vertical-align: middle;\n",
       "    }\n",
       "\n",
       "    .dataframe tbody tr th {\n",
       "        vertical-align: top;\n",
       "    }\n",
       "\n",
       "    .dataframe thead th {\n",
       "        text-align: right;\n",
       "    }\n",
       "</style>\n",
       "<table border=\"1\" class=\"dataframe\">\n",
       "  <thead>\n",
       "    <tr style=\"text-align: right;\">\n",
       "      <th></th>\n",
       "      <th>0</th>\n",
       "      <th>1</th>\n",
       "      <th>2</th>\n",
       "      <th>3</th>\n",
       "      <th>4</th>\n",
       "      <th>5</th>\n",
       "      <th>6</th>\n",
       "      <th>7</th>\n",
       "      <th>8</th>\n",
       "      <th>9</th>\n",
       "      <th>...</th>\n",
       "      <th>4352</th>\n",
       "      <th>4353</th>\n",
       "      <th>4354</th>\n",
       "      <th>4355</th>\n",
       "      <th>4356</th>\n",
       "      <th>4357</th>\n",
       "      <th>4358</th>\n",
       "      <th>4359</th>\n",
       "      <th>4360</th>\n",
       "      <th>4361</th>\n",
       "    </tr>\n",
       "  </thead>\n",
       "  <tbody>\n",
       "    <tr>\n",
       "      <th>1</th>\n",
       "      <td>3.110169e-226</td>\n",
       "      <td>0.178030</td>\n",
       "      <td>0.740483</td>\n",
       "      <td>0.427315</td>\n",
       "      <td>0.470397</td>\n",
       "      <td>0.494245</td>\n",
       "      <td>0.739303</td>\n",
       "      <td>0.474243</td>\n",
       "      <td>0.264241</td>\n",
       "      <td>0.104245</td>\n",
       "      <td>...</td>\n",
       "      <td>NaN</td>\n",
       "      <td>NaN</td>\n",
       "      <td>NaN</td>\n",
       "      <td>NaN</td>\n",
       "      <td>NaN</td>\n",
       "      <td>NaN</td>\n",
       "      <td>NaN</td>\n",
       "      <td>NaN</td>\n",
       "      <td>NaN</td>\n",
       "      <td>NaN</td>\n",
       "    </tr>\n",
       "    <tr>\n",
       "      <th>2</th>\n",
       "      <td>3.498305e-51</td>\n",
       "      <td>0.264423</td>\n",
       "      <td>0.491664</td>\n",
       "      <td>0.730459</td>\n",
       "      <td>0.559447</td>\n",
       "      <td>0.305992</td>\n",
       "      <td>0.644635</td>\n",
       "      <td>0.766815</td>\n",
       "      <td>0.551480</td>\n",
       "      <td>0.815830</td>\n",
       "      <td>...</td>\n",
       "      <td>NaN</td>\n",
       "      <td>NaN</td>\n",
       "      <td>NaN</td>\n",
       "      <td>NaN</td>\n",
       "      <td>NaN</td>\n",
       "      <td>NaN</td>\n",
       "      <td>NaN</td>\n",
       "      <td>NaN</td>\n",
       "      <td>NaN</td>\n",
       "      <td>NaN</td>\n",
       "    </tr>\n",
       "    <tr>\n",
       "      <th>3</th>\n",
       "      <td>1.104514e-03</td>\n",
       "      <td>0.729350</td>\n",
       "      <td>0.044869</td>\n",
       "      <td>0.036989</td>\n",
       "      <td>0.188444</td>\n",
       "      <td>0.328876</td>\n",
       "      <td>0.346981</td>\n",
       "      <td>0.531849</td>\n",
       "      <td>0.424849</td>\n",
       "      <td>0.913623</td>\n",
       "      <td>...</td>\n",
       "      <td>NaN</td>\n",
       "      <td>NaN</td>\n",
       "      <td>NaN</td>\n",
       "      <td>NaN</td>\n",
       "      <td>NaN</td>\n",
       "      <td>NaN</td>\n",
       "      <td>NaN</td>\n",
       "      <td>NaN</td>\n",
       "      <td>NaN</td>\n",
       "      <td>NaN</td>\n",
       "    </tr>\n",
       "    <tr>\n",
       "      <th>4</th>\n",
       "      <td>0.000000e+00</td>\n",
       "      <td>0.866121</td>\n",
       "      <td>0.070403</td>\n",
       "      <td>0.941311</td>\n",
       "      <td>0.415753</td>\n",
       "      <td>0.641061</td>\n",
       "      <td>0.725298</td>\n",
       "      <td>0.901251</td>\n",
       "      <td>0.441435</td>\n",
       "      <td>0.679316</td>\n",
       "      <td>...</td>\n",
       "      <td>NaN</td>\n",
       "      <td>NaN</td>\n",
       "      <td>NaN</td>\n",
       "      <td>NaN</td>\n",
       "      <td>NaN</td>\n",
       "      <td>NaN</td>\n",
       "      <td>NaN</td>\n",
       "      <td>NaN</td>\n",
       "      <td>NaN</td>\n",
       "      <td>NaN</td>\n",
       "    </tr>\n",
       "    <tr>\n",
       "      <th>5</th>\n",
       "      <td>5.729671e-60</td>\n",
       "      <td>0.649058</td>\n",
       "      <td>0.118300</td>\n",
       "      <td>0.990327</td>\n",
       "      <td>0.657583</td>\n",
       "      <td>0.246330</td>\n",
       "      <td>0.820590</td>\n",
       "      <td>0.087088</td>\n",
       "      <td>0.468166</td>\n",
       "      <td>0.392953</td>\n",
       "      <td>...</td>\n",
       "      <td>NaN</td>\n",
       "      <td>NaN</td>\n",
       "      <td>NaN</td>\n",
       "      <td>NaN</td>\n",
       "      <td>NaN</td>\n",
       "      <td>NaN</td>\n",
       "      <td>NaN</td>\n",
       "      <td>NaN</td>\n",
       "      <td>NaN</td>\n",
       "      <td>NaN</td>\n",
       "    </tr>\n",
       "    <tr>\n",
       "      <th>...</th>\n",
       "      <td>...</td>\n",
       "      <td>...</td>\n",
       "      <td>...</td>\n",
       "      <td>...</td>\n",
       "      <td>...</td>\n",
       "      <td>...</td>\n",
       "      <td>...</td>\n",
       "      <td>...</td>\n",
       "      <td>...</td>\n",
       "      <td>...</td>\n",
       "      <td>...</td>\n",
       "      <td>...</td>\n",
       "      <td>...</td>\n",
       "      <td>...</td>\n",
       "      <td>...</td>\n",
       "      <td>...</td>\n",
       "      <td>...</td>\n",
       "      <td>...</td>\n",
       "      <td>...</td>\n",
       "      <td>...</td>\n",
       "      <td>...</td>\n",
       "    </tr>\n",
       "    <tr>\n",
       "      <th>836</th>\n",
       "      <td>6.560295e-264</td>\n",
       "      <td>0.393216</td>\n",
       "      <td>0.232001</td>\n",
       "      <td>0.047882</td>\n",
       "      <td>0.009304</td>\n",
       "      <td>0.933708</td>\n",
       "      <td>0.556340</td>\n",
       "      <td>0.339619</td>\n",
       "      <td>0.065255</td>\n",
       "      <td>0.140370</td>\n",
       "      <td>...</td>\n",
       "      <td>NaN</td>\n",
       "      <td>NaN</td>\n",
       "      <td>NaN</td>\n",
       "      <td>NaN</td>\n",
       "      <td>NaN</td>\n",
       "      <td>NaN</td>\n",
       "      <td>NaN</td>\n",
       "      <td>NaN</td>\n",
       "      <td>NaN</td>\n",
       "      <td>NaN</td>\n",
       "    </tr>\n",
       "    <tr>\n",
       "      <th>838</th>\n",
       "      <td>1.599353e-58</td>\n",
       "      <td>0.344229</td>\n",
       "      <td>0.349302</td>\n",
       "      <td>0.116183</td>\n",
       "      <td>0.000310</td>\n",
       "      <td>0.958197</td>\n",
       "      <td>0.247395</td>\n",
       "      <td>0.826581</td>\n",
       "      <td>0.285378</td>\n",
       "      <td>0.710278</td>\n",
       "      <td>...</td>\n",
       "      <td>NaN</td>\n",
       "      <td>NaN</td>\n",
       "      <td>NaN</td>\n",
       "      <td>NaN</td>\n",
       "      <td>NaN</td>\n",
       "      <td>NaN</td>\n",
       "      <td>NaN</td>\n",
       "      <td>NaN</td>\n",
       "      <td>NaN</td>\n",
       "      <td>NaN</td>\n",
       "    </tr>\n",
       "    <tr>\n",
       "      <th>839</th>\n",
       "      <td>0.000000e+00</td>\n",
       "      <td>0.025645</td>\n",
       "      <td>0.249427</td>\n",
       "      <td>0.219567</td>\n",
       "      <td>0.412691</td>\n",
       "      <td>0.840799</td>\n",
       "      <td>0.722998</td>\n",
       "      <td>0.529644</td>\n",
       "      <td>0.488707</td>\n",
       "      <td>0.919732</td>\n",
       "      <td>...</td>\n",
       "      <td>NaN</td>\n",
       "      <td>NaN</td>\n",
       "      <td>NaN</td>\n",
       "      <td>NaN</td>\n",
       "      <td>NaN</td>\n",
       "      <td>NaN</td>\n",
       "      <td>NaN</td>\n",
       "      <td>NaN</td>\n",
       "      <td>NaN</td>\n",
       "      <td>NaN</td>\n",
       "    </tr>\n",
       "    <tr>\n",
       "      <th>840</th>\n",
       "      <td>7.787637e-09</td>\n",
       "      <td>0.954094</td>\n",
       "      <td>0.939288</td>\n",
       "      <td>0.749014</td>\n",
       "      <td>0.981471</td>\n",
       "      <td>0.528109</td>\n",
       "      <td>0.009515</td>\n",
       "      <td>0.934117</td>\n",
       "      <td>0.512659</td>\n",
       "      <td>0.709124</td>\n",
       "      <td>...</td>\n",
       "      <td>NaN</td>\n",
       "      <td>NaN</td>\n",
       "      <td>NaN</td>\n",
       "      <td>NaN</td>\n",
       "      <td>NaN</td>\n",
       "      <td>NaN</td>\n",
       "      <td>NaN</td>\n",
       "      <td>NaN</td>\n",
       "      <td>NaN</td>\n",
       "      <td>NaN</td>\n",
       "    </tr>\n",
       "    <tr>\n",
       "      <th>841</th>\n",
       "      <td>2.400559e-01</td>\n",
       "      <td>0.688400</td>\n",
       "      <td>0.598096</td>\n",
       "      <td>0.665531</td>\n",
       "      <td>0.815193</td>\n",
       "      <td>0.740202</td>\n",
       "      <td>0.372021</td>\n",
       "      <td>0.054385</td>\n",
       "      <td>0.267349</td>\n",
       "      <td>0.419659</td>\n",
       "      <td>...</td>\n",
       "      <td>NaN</td>\n",
       "      <td>NaN</td>\n",
       "      <td>NaN</td>\n",
       "      <td>NaN</td>\n",
       "      <td>NaN</td>\n",
       "      <td>NaN</td>\n",
       "      <td>NaN</td>\n",
       "      <td>NaN</td>\n",
       "      <td>NaN</td>\n",
       "      <td>NaN</td>\n",
       "    </tr>\n",
       "  </tbody>\n",
       "</table>\n",
       "<p>788 rows × 4362 columns</p>\n",
       "</div>"
      ],
      "text/plain": [
       "              0         1         2         3         4         5     \\\n",
       "1    3.110169e-226  0.178030  0.740483  0.427315  0.470397  0.494245   \n",
       "2     3.498305e-51  0.264423  0.491664  0.730459  0.559447  0.305992   \n",
       "3     1.104514e-03  0.729350  0.044869  0.036989  0.188444  0.328876   \n",
       "4     0.000000e+00  0.866121  0.070403  0.941311  0.415753  0.641061   \n",
       "5     5.729671e-60  0.649058  0.118300  0.990327  0.657583  0.246330   \n",
       "..             ...       ...       ...       ...       ...       ...   \n",
       "836  6.560295e-264  0.393216  0.232001  0.047882  0.009304  0.933708   \n",
       "838   1.599353e-58  0.344229  0.349302  0.116183  0.000310  0.958197   \n",
       "839   0.000000e+00  0.025645  0.249427  0.219567  0.412691  0.840799   \n",
       "840   7.787637e-09  0.954094  0.939288  0.749014  0.981471  0.528109   \n",
       "841   2.400559e-01  0.688400  0.598096  0.665531  0.815193  0.740202   \n",
       "\n",
       "         6         7         8         9     ...  4352  4353  4354  4355  \\\n",
       "1    0.739303  0.474243  0.264241  0.104245  ...   NaN   NaN   NaN   NaN   \n",
       "2    0.644635  0.766815  0.551480  0.815830  ...   NaN   NaN   NaN   NaN   \n",
       "3    0.346981  0.531849  0.424849  0.913623  ...   NaN   NaN   NaN   NaN   \n",
       "4    0.725298  0.901251  0.441435  0.679316  ...   NaN   NaN   NaN   NaN   \n",
       "5    0.820590  0.087088  0.468166  0.392953  ...   NaN   NaN   NaN   NaN   \n",
       "..        ...       ...       ...       ...  ...   ...   ...   ...   ...   \n",
       "836  0.556340  0.339619  0.065255  0.140370  ...   NaN   NaN   NaN   NaN   \n",
       "838  0.247395  0.826581  0.285378  0.710278  ...   NaN   NaN   NaN   NaN   \n",
       "839  0.722998  0.529644  0.488707  0.919732  ...   NaN   NaN   NaN   NaN   \n",
       "840  0.009515  0.934117  0.512659  0.709124  ...   NaN   NaN   NaN   NaN   \n",
       "841  0.372021  0.054385  0.267349  0.419659  ...   NaN   NaN   NaN   NaN   \n",
       "\n",
       "     4356  4357  4358  4359  4360  4361  \n",
       "1     NaN   NaN   NaN   NaN   NaN   NaN  \n",
       "2     NaN   NaN   NaN   NaN   NaN   NaN  \n",
       "3     NaN   NaN   NaN   NaN   NaN   NaN  \n",
       "4     NaN   NaN   NaN   NaN   NaN   NaN  \n",
       "5     NaN   NaN   NaN   NaN   NaN   NaN  \n",
       "..    ...   ...   ...   ...   ...   ...  \n",
       "836   NaN   NaN   NaN   NaN   NaN   NaN  \n",
       "838   NaN   NaN   NaN   NaN   NaN   NaN  \n",
       "839   NaN   NaN   NaN   NaN   NaN   NaN  \n",
       "840   NaN   NaN   NaN   NaN   NaN   NaN  \n",
       "841   NaN   NaN   NaN   NaN   NaN   NaN  \n",
       "\n",
       "[788 rows x 4362 columns]"
      ]
     },
     "execution_count": 29,
     "metadata": {},
     "output_type": "execute_result"
    }
   ],
   "source": [
    "\n",
    "\n",
    "pd.DataFrame.from_dict(m4_p_values, orient=\"index\")"
   ]
  },
  {
   "cell_type": "code",
   "execution_count": null,
   "metadata": {},
   "outputs": [],
   "source": []
  }
 ],
 "metadata": {
  "interpreter": {
   "hash": "c982c42cf71dfd9e4fcac0d9653e64d0ee7da81b005f55f464a28429eb0786e0"
  },
  "kernelspec": {
   "display_name": "Python 3.8.9 ('M2R_venv': venv)",
   "language": "python",
   "name": "python3"
  },
  "language_info": {
   "codemirror_mode": {
    "name": "ipython",
    "version": 3
   },
   "file_extension": ".py",
   "mimetype": "text/x-python",
   "name": "python",
   "nbconvert_exporter": "python",
   "pygments_lexer": "ipython3",
   "version": "3.8.9"
  },
  "orig_nbformat": 4
 },
 "nbformat": 4,
 "nbformat_minor": 2
}
