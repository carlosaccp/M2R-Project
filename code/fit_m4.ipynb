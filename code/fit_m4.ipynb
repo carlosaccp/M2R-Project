{
 "cells": [
  {
   "cell_type": "code",
   "execution_count": 38,
   "metadata": {},
   "outputs": [],
   "source": [
    "import pandas as pd\n",
    "import numpy as np\n",
    "import matplotlib.pyplot as plt\n",
    "from tqdm import tqdm\n",
    "import scipy.stats as st\n",
    "from matplotlib.ticker import FuncFormatter\n",
    "import scipy.optimize as op\n",
    "from preprocessing import *\n",
    "plt.style.use(\"dark_background\") # Config plots for dark mode, delete if on light mode\n",
    "plt.rcParams['figure.dpi'] = 150 # Hi-res plots"
   ]
  },
  {
   "cell_type": "code",
   "execution_count": 39,
   "metadata": {},
   "outputs": [
    {
     "data": {
      "text/plain": [
       "[array([], shape=(1, 0), dtype=float64), array([[0.9]]), array([[0.8]])]"
      ]
     },
     "execution_count": 39,
     "metadata": {},
     "output_type": "execute_result"
    }
   ],
   "source": [
    "def N(t_scalar, t):\n",
    "    \"\"\"\n",
    "    Returns the number of times in t less than or equal to t_scalar.\n",
    "    Is used to compute N(t_{i,k}) and N'(t_{i,k}) depending on whether t above is t or t_prime\n",
    "    \"\"\"\n",
    "    return np.searchsorted(t, t_scalar, side=\"right\")\n",
    "\n",
    "def getTimeDifferences(t, t_prime):\n",
    "    \"\"\"\n",
    "    Input: (sorted) times for a particular station i\n",
    "    Output: List of differences indexed by [h][k] for this station i\n",
    "    \"\"\"\n",
    "\n",
    "    # h goes until N(t[-1], t) assuming T = t[-1]\n",
    "    T = end_T\n",
    "    D_result = []\n",
    "    for h in range(1, N(T, t)+1):\n",
    "        differences_list = []\n",
    "        # Construct list of t_ih - t'_ik for k = 1 to N'(T)\n",
    "        differences_list.append(t[h-1] - t_prime[N(t[h-2], t_prime):N(t[h-1], t_prime)])\n",
    "\n",
    "        D_result.append(np.array(differences_list))\n",
    "\n",
    "    return D_result\n",
    "\n",
    "getTimeDifferences(np.array([1,2,3]),np.array([1.1,2.2,3.3]))"
   ]
  },
  {
   "cell_type": "code",
   "execution_count": 40,
   "metadata": {},
   "outputs": [],
   "source": [
    "def compensator_m4(t_scalar, t, t_prime, alpha_i, beta_i, alpha_i_prime, beta_i_prime,lambda_i):\n",
    "    \"\"\"\n",
    "    t_scalar: scalar value where Lambda_i(t) is to be evaluated\n",
    "    t_prime: list of arrival times at station i\n",
    "\n",
    "    NOTE: t_prime NEEDS TO BE SORTED HERE.\n",
    "    \"\"\"\n",
    "\n",
    "    term1 = lambda_i * t_scalar\n",
    "    term2 = -(alpha_i_prime / beta_i_prime) * np.sum(np.exp(-beta_i_prime * (t_scalar - t_prime[:N(t_scalar, t_prime)]))-1)\n",
    "    term3 = -(alpha_i / beta_i) * np.sum(np.exp(-beta_i * (t_scalar - t[:N(t_scalar, t)]))-1)\n",
    "    return term1 + term2 + term3\n"
   ]
  },
  {
   "cell_type": "code",
   "execution_count": 51,
   "metadata": {},
   "outputs": [],
   "source": [
    "def new_B(h, t, t_prime, beta, time_differences):\n",
    "\n",
    "    \"\"\"\n",
    "    Returns a list of [B_i(1), ..., B_i(h)]\n",
    "\n",
    "    NOTE: t_prime NEEDS to be sorted here\n",
    "\n",
    "    time_differences: time differences double list for station i\n",
    "\n",
    "    Note all index variables such as h, k, etc start at 1, like the mathematical notation.\n",
    "    \"\"\"\n",
    "    B = [np.sum(np.exp(-beta*(t[0] - t_prime[:N(t[0], t_prime)])))]\n",
    "\n",
    "    # Append the rest\n",
    "    for l in range(2, h+1):\n",
    "        # First term in recursive formula for B_i(h)\n",
    "        term1 = np.exp(-beta*(t[l-1] - t[l-2])) * B[l-2]\n",
    "        term2 = np.sum(np.exp(-beta*(time_differences[l-1])))\n",
    "        B.append(term1 + term2)\n",
    "    return np.array(B)\n",
    "\n",
    "\n",
    "def new_A(h, t, beta):\n",
    "\n",
    "    A = [0]\n",
    "    for i in range(2, h+1):\n",
    "            A.append(np.exp(-1*beta*(t[i-1] - t[i-2]))*(1+A[i-2]))\n",
    "    return np.array(A)\n",
    "\n",
    "\n",
    "def m4_log_likelihood(t, t_prime, time_differences, alpha_i, beta_i, alpha_i_prime, beta_i_prime, lambda_i):\n",
    "    \"\"\"\n",
    "    Gives log likelihood of our five parameters. \n",
    "    t: start times from station i\n",
    "    t_prime: end times at station i\n",
    "\n",
    "    NOTE: t_prime NEEDS TO BE SORTED HERE\n",
    "    \"\"\"\n",
    "    \n",
    "    T = end_T # TODO: Is this how we get big T?\n",
    "\n",
    "    # Get A list\n",
    "    A_ = new_A(len(t), t, beta_i)\n",
    "\n",
    "    # Get B list \n",
    "    B_ = new_B(len(t), t, t_prime, beta_i_prime, time_differences)\n",
    "\n",
    "    term1 = np.sum(np.log(lambda_i + alpha_i_prime*B_[:len(t)+1] + alpha_i*A_[:len(t)+1]))\n",
    "\n",
    "    term2 = -compensator_m4(T, t, t_prime, alpha_i, beta_i, alpha_i_prime, beta_i_prime, lambda_i)\n",
    "\n",
    "    return term1 + term2\n"
   ]
  },
  {
   "cell_type": "code",
   "execution_count": 53,
   "metadata": {},
   "outputs": [
    {
     "data": {
      "text/plain": [
       "-8972.94409858594"
      ]
     },
     "execution_count": 53,
     "metadata": {},
     "output_type": "execute_result"
    }
   ],
   "source": [
    "# Test m4 likelihood function\n",
    "beta = 0.01\n",
    "\n",
    "t = t_per_station[1]\n",
    "t_prime = t_prime_per_station[1]\n",
    "\n",
    "time_differences = getTimeDifferences(t, t_prime)\n",
    "\n",
    "m4_log_likelihood(t, t_prime,time_differences, 0.1, 0.1, 0.01, 0.1, 0.01)"
   ]
  },
  {
   "cell_type": "markdown",
   "metadata": {},
   "source": [
    "## Finding the parameters using likelihood optimisation"
   ]
  },
  {
   "cell_type": "code",
   "execution_count": 54,
   "metadata": {},
   "outputs": [
    {
     "name": "stderr",
     "output_type": "stream",
     "text": [
      "100%|██████████| 789/789 [00:13<00:00, 57.22it/s]\n"
     ]
    }
   ],
   "source": [
    "time_diffs = {}\n",
    "for st_id in tqdm(train_sorted_start_ids):\n",
    "    t = t_per_station[st_id]\n",
    "    t_prime = t_prime_per_station[st_id] # Need to sort t_prime for likelihood function\n",
    "    time_diffs[st_id] = getTimeDifferences(t, t_prime)"
   ]
  },
  {
   "cell_type": "code",
   "execution_count": 55,
   "metadata": {},
   "outputs": [
    {
     "data": {
      "text/html": [
       "<div>\n",
       "<style scoped>\n",
       "    .dataframe tbody tr th:only-of-type {\n",
       "        vertical-align: middle;\n",
       "    }\n",
       "\n",
       "    .dataframe tbody tr th {\n",
       "        vertical-align: top;\n",
       "    }\n",
       "\n",
       "    .dataframe thead th {\n",
       "        text-align: right;\n",
       "    }\n",
       "</style>\n",
       "<table border=\"1\" class=\"dataframe\">\n",
       "  <thead>\n",
       "    <tr style=\"text-align: right;\">\n",
       "      <th></th>\n",
       "      <th>alpha</th>\n",
       "      <th>beta</th>\n",
       "      <th>lambda</th>\n",
       "    </tr>\n",
       "  </thead>\n",
       "  <tbody>\n",
       "    <tr>\n",
       "      <th>1</th>\n",
       "      <td>0.020179</td>\n",
       "      <td>0.035553</td>\n",
       "      <td>7.705058e-03</td>\n",
       "    </tr>\n",
       "    <tr>\n",
       "      <th>2</th>\n",
       "      <td>0.015271</td>\n",
       "      <td>0.016036</td>\n",
       "      <td>1.213006e-03</td>\n",
       "    </tr>\n",
       "    <tr>\n",
       "      <th>3</th>\n",
       "      <td>0.004644</td>\n",
       "      <td>0.004644</td>\n",
       "      <td>3.779973e-17</td>\n",
       "    </tr>\n",
       "    <tr>\n",
       "      <th>4</th>\n",
       "      <td>0.009820</td>\n",
       "      <td>0.023543</td>\n",
       "      <td>9.676464e-03</td>\n",
       "    </tr>\n",
       "    <tr>\n",
       "      <th>5</th>\n",
       "      <td>0.011876</td>\n",
       "      <td>0.012869</td>\n",
       "      <td>1.258996e-03</td>\n",
       "    </tr>\n",
       "    <tr>\n",
       "      <th>...</th>\n",
       "      <td>...</td>\n",
       "      <td>...</td>\n",
       "      <td>...</td>\n",
       "    </tr>\n",
       "    <tr>\n",
       "      <th>836</th>\n",
       "      <td>0.014502</td>\n",
       "      <td>0.039605</td>\n",
       "      <td>1.707352e-02</td>\n",
       "    </tr>\n",
       "    <tr>\n",
       "      <th>838</th>\n",
       "      <td>0.006228</td>\n",
       "      <td>0.006470</td>\n",
       "      <td>4.663218e-04</td>\n",
       "    </tr>\n",
       "    <tr>\n",
       "      <th>839</th>\n",
       "      <td>0.023140</td>\n",
       "      <td>0.028994</td>\n",
       "      <td>8.233945e-03</td>\n",
       "    </tr>\n",
       "    <tr>\n",
       "      <th>840</th>\n",
       "      <td>0.018468</td>\n",
       "      <td>0.019006</td>\n",
       "      <td>2.030979e-04</td>\n",
       "    </tr>\n",
       "    <tr>\n",
       "      <th>841</th>\n",
       "      <td>0.000851</td>\n",
       "      <td>0.000851</td>\n",
       "      <td>9.391903e-06</td>\n",
       "    </tr>\n",
       "  </tbody>\n",
       "</table>\n",
       "<p>789 rows × 3 columns</p>\n",
       "</div>"
      ],
      "text/plain": [
       "        alpha      beta        lambda\n",
       "1    0.020179  0.035553  7.705058e-03\n",
       "2    0.015271  0.016036  1.213006e-03\n",
       "3    0.004644  0.004644  3.779973e-17\n",
       "4    0.009820  0.023543  9.676464e-03\n",
       "5    0.011876  0.012869  1.258996e-03\n",
       "..        ...       ...           ...\n",
       "836  0.014502  0.039605  1.707352e-02\n",
       "838  0.006228  0.006470  4.663218e-04\n",
       "839  0.023140  0.028994  8.233945e-03\n",
       "840  0.018468  0.019006  2.030979e-04\n",
       "841  0.000851  0.000851  9.391903e-06\n",
       "\n",
       "[789 rows x 3 columns]"
      ]
     },
     "execution_count": 55,
     "metadata": {},
     "output_type": "execute_result"
    }
   ],
   "source": [
    "model_2_params = pd.read_csv(\"../data/N_M_params.csv\", index_col=0)\n",
    "model_3_params = pd.read_csv(\"../data/M3_train_params.csv\", index_col=0)\n",
    "model_3_params"
   ]
  },
  {
   "cell_type": "code",
   "execution_count": 56,
   "metadata": {},
   "outputs": [
    {
     "data": {
      "text/plain": [
       "array([  1,   2,   3,   4,   5,   6,   7,   8,   9,  10,  11,  12,  13,\n",
       "        14,  15,  16,  17,  18,  19,  20,  22,  23,  24,  25,  26,  27,\n",
       "        28,  29,  30,  31,  32,  33,  34,  36,  37,  38,  39,  40,  41,\n",
       "        42,  43,  44,  45,  46,  47,  48,  49,  50,  51,  52,  53,  54,\n",
       "        55,  56,  57,  58,  60,  61,  62,  63,  64,  66,  67,  68,  69,\n",
       "        70,  71,  72,  73,  74,  75,  76,  77,  78,  79,  80,  81,  82,\n",
       "        83,  84,  85,  86,  87,  88,  89,  90,  91,  92,  93,  94,  95,\n",
       "        96,  97,  98,  99, 100, 101, 102, 103, 104, 105, 106, 107, 108,\n",
       "       109, 110, 111, 112, 113, 114, 115, 116, 117, 118, 119, 120, 121,\n",
       "       122, 123, 124, 125, 126, 127, 128, 129, 130, 131, 132, 133, 134,\n",
       "       135, 136, 138, 139, 140, 141, 142, 143, 144, 145, 146, 148, 149,\n",
       "       150, 151, 152, 153, 154, 155, 156, 157, 158, 159, 160, 161, 162,\n",
       "       163, 164, 165, 166, 167, 168, 169, 170, 171, 172, 173, 174, 175,\n",
       "       176, 177, 178, 180, 181, 182, 183, 184, 185, 186, 187, 188, 189,\n",
       "       190, 191, 192, 193, 194, 195, 196, 197, 199, 200, 201, 202, 203,\n",
       "       204, 206, 207, 208, 209, 210, 211, 212, 213, 214, 215, 216, 217,\n",
       "       218, 219, 220, 221, 222, 223, 224, 225, 226, 227, 228, 229, 230,\n",
       "       231, 232, 233, 234, 235, 236, 237, 238, 239, 240, 242, 243, 244,\n",
       "       245, 246, 247, 248, 249, 250, 251, 252, 253, 254, 255, 256, 257,\n",
       "       258, 259, 260, 261, 262, 263, 264, 265, 266, 267, 268, 269, 270,\n",
       "       271, 272, 273, 274, 275, 276, 277, 278, 279, 280, 281, 282, 283,\n",
       "       284, 286, 287, 288, 289, 290, 291, 292, 293, 294, 295, 296, 297,\n",
       "       298, 299, 300, 301, 302, 303, 306, 307, 308, 309, 310, 311, 312,\n",
       "       313, 314, 315, 316, 317, 318, 319, 320, 321, 322, 323, 324, 325,\n",
       "       326, 327, 328, 329, 330, 331, 332, 333, 334, 335, 336, 337, 338,\n",
       "       339, 340, 341, 343, 344, 345, 347, 348, 349, 350, 351, 352, 353,\n",
       "       354, 356, 357, 358, 359, 360, 361, 362, 363, 364, 365, 366, 367,\n",
       "       368, 370, 371, 372, 373, 374, 375, 376, 377, 378, 379, 380, 381,\n",
       "       382, 383, 384, 386, 387, 388, 389, 390, 391, 392, 393, 394, 395,\n",
       "       396, 397, 398, 399, 400, 401, 402, 403, 404, 405, 409, 410, 411,\n",
       "       412, 419, 420, 421, 423, 424, 425, 426, 427, 428, 430, 431, 432,\n",
       "       433, 435, 436, 437, 439, 440, 441, 442, 443, 444, 445, 446, 447,\n",
       "       448, 449, 450, 451, 452, 453, 454, 455, 456, 457, 458, 459, 460,\n",
       "       461, 462, 463, 464, 465, 466, 467, 468, 469, 470, 471, 472, 473,\n",
       "       475, 476, 477, 478, 479, 480, 481, 482, 483, 484, 485, 486, 487,\n",
       "       488, 489, 490, 491, 492, 494, 495, 496, 497, 498, 499, 500, 501,\n",
       "       502, 503, 504, 505, 506, 507, 508, 509, 510, 511, 512, 513, 514,\n",
       "       515, 516, 517, 518, 519, 520, 521, 522, 523, 524, 526, 527, 528,\n",
       "       529, 530, 531, 532, 533, 534, 535, 536, 537, 538, 539, 540, 541,\n",
       "       542, 543, 544, 545, 546, 547, 548, 549, 550, 551, 552, 553, 554,\n",
       "       556, 557, 558, 559, 560, 561, 562, 563, 564, 565, 566, 568, 569,\n",
       "       570, 571, 572, 573, 574, 576, 577, 578, 579, 580, 581, 583, 584,\n",
       "       586, 587, 588, 589, 590, 592, 593, 594, 595, 596, 597, 598, 599,\n",
       "       600, 601, 602, 603, 604, 605, 606, 607, 608, 609, 610, 611, 612,\n",
       "       613, 614, 615, 616, 617, 618, 619, 620, 621, 622, 623, 624, 625,\n",
       "       626, 627, 628, 629, 630, 631, 632, 633, 634, 635, 636, 637, 638,\n",
       "       639, 640, 641, 642, 643, 644, 645, 646, 647, 648, 649, 650, 651,\n",
       "       652, 653, 654, 655, 656, 657, 658, 659, 660, 661, 662, 663, 664,\n",
       "       665, 666, 667, 668, 669, 670, 671, 673, 674, 675, 676, 677, 678,\n",
       "       679, 680, 681, 682, 683, 684, 685, 686, 687, 688, 689, 690, 691,\n",
       "       692, 693, 694, 695, 696, 697, 698, 699, 700, 701, 702, 703, 704,\n",
       "       705, 706, 707, 708, 709, 710, 711, 712, 713, 714, 715, 716, 717,\n",
       "       718, 719, 720, 721, 722, 723, 724, 725, 726, 727, 728, 729, 730,\n",
       "       731, 732, 733, 734, 735, 736, 737, 738, 739, 740, 741, 742, 743,\n",
       "       744, 745, 746, 747, 748, 749, 750, 751, 754, 755, 756, 757, 758,\n",
       "       759, 760, 761, 762, 763, 764, 765, 766, 767, 768, 769, 770, 771,\n",
       "       772, 773, 774, 775, 776, 777, 779, 780, 781, 782, 783, 784, 785,\n",
       "       786, 787, 789, 790, 792, 793, 794, 795, 796, 797, 798, 799, 800,\n",
       "       801, 802, 803, 804, 805, 806, 807, 809, 810, 811, 812, 813, 814,\n",
       "       815, 816, 817, 818, 819, 820, 821, 826, 827, 828, 829, 830, 831,\n",
       "       832, 833, 834, 835, 836, 838, 839, 840, 841])"
      ]
     },
     "execution_count": 56,
     "metadata": {},
     "output_type": "execute_result"
    }
   ],
   "source": [
    "train_sorted_start_ids"
   ]
  },
  {
   "cell_type": "code",
   "execution_count": 57,
   "metadata": {},
   "outputs": [
    {
     "name": "stderr",
     "output_type": "stream",
     "text": [
      "100%|██████████| 4/4 [00:25<00:00,  6.45s/it]\n"
     ]
    },
    {
     "data": {
      "text/plain": [
       "{1: [0.013183804346844762,\n",
       "  0.03204896550159225,\n",
       "  0.01777630282414354,\n",
       "  2.8405615087466374,\n",
       "  0.004301538642541513],\n",
       " 2: [0.1848084460174985,\n",
       "  1.0013729920147205,\n",
       "  0.012741137220732855,\n",
       "  1.2997328904535017,\n",
       "  0.0009639938161912862],\n",
       " 3: [0.039253357457139,\n",
       "  0.09996044961524642,\n",
       "  0.003159864249373914,\n",
       "  1.6548102340695694,\n",
       "  4.495496431908357e-05],\n",
       " 4: [0.2221891135967183,\n",
       "  0.9659284236137465,\n",
       "  0.007488718267348448,\n",
       "  3.104779408468895,\n",
       "  0.007395204151242728]}"
      ]
     },
     "execution_count": 57,
     "metadata": {},
     "output_type": "execute_result"
    }
   ],
   "source": [
    "optimal_parameters = {}\n",
    "for st_id in tqdm(train_sorted_start_ids[:4]):\n",
    "    m2_station_params = model_2_params.loc[st_id].to_numpy()\n",
    "    m3_station_params = model_3_params.loc[st_id].to_numpy()\n",
    "    #x0 = [np.log(m2_station_params[0]), np.log(m2_station_params[1] -m2_station_params[0] ), np.log(m3_station_params[0]), np.log(m3_station_params[1] - m3_station_params[0]), np.log(m3_station_params[-1])] # np.log(rates_dict[station.start_id.unique()[0]])]\n",
    "    x0 = -np.ones(5) * 3\n",
    "\n",
    "    # TODO: What bounds should we use here?\n",
    "    t = t_per_station[st_id]\n",
    "    t_prime = t_prime_per_station[st_id] # Need to sort t_prime for likelihood function\n",
    "    time_differences = time_diffs[st_id]\n",
    "    op_m4_log_likelihood = lambda x: -m4_log_likelihood(t, t_prime, time_differences, np.exp(x[0]), np.exp(x[0]) + np.exp(x[1]) , np.exp(x[2]), np.exp(x[2] + x[3]), np.exp(x[4]))\n",
    "    sol = op.minimize(op_m4_log_likelihood, x0, method=\"Nelder-Mead\")\n",
    "    # m4_log_likelihood(t, t_prime, time_differences, alpha_i, beta_i, alpha_i_prime, beta_i_prime, lambda_i):\n",
    "    #sol = op.minimize(op_m3_likelihood, x0, method=\"SLSQP\")\n",
    "    if sol.success:\n",
    "        transformed_alpha = np.exp(sol.x[0])\n",
    "        transformed_beta = np.exp(sol.x[0]) + np.exp(sol.x[1])\n",
    "        transformed_alpha_prime = np.exp(sol.x[2])\n",
    "        transformed_beta_prime = np.exp(sol.x[2]) + np.exp(sol.x[3])\n",
    "        transformed_lambda = np.exp(sol.x[4])\n",
    "        max_params = [transformed_alpha, transformed_beta, transformed_alpha_prime, transformed_beta_prime, transformed_lambda]\n",
    "        optimal_parameters[st_id] = max_params\n",
    "\n",
    "    else:\n",
    "        raise OptimizationError(f\"Failed to converge for station {st_id}.\")\n",
    "optimal_parameters"
   ]
  },
  {
   "cell_type": "markdown",
   "metadata": {},
   "source": [
    "## Assessing fit for model 4"
   ]
  },
  {
   "cell_type": "markdown",
   "metadata": {},
   "source": []
  },
  {
   "cell_type": "code",
   "execution_count": 58,
   "metadata": {},
   "outputs": [
    {
     "data": {
      "text/html": [
       "<div>\n",
       "<style scoped>\n",
       "    .dataframe tbody tr th:only-of-type {\n",
       "        vertical-align: middle;\n",
       "    }\n",
       "\n",
       "    .dataframe tbody tr th {\n",
       "        vertical-align: top;\n",
       "    }\n",
       "\n",
       "    .dataframe thead th {\n",
       "        text-align: right;\n",
       "    }\n",
       "</style>\n",
       "<table border=\"1\" class=\"dataframe\">\n",
       "  <thead>\n",
       "    <tr style=\"text-align: right;\">\n",
       "      <th></th>\n",
       "      <th>alpha</th>\n",
       "      <th>beta</th>\n",
       "      <th>alpha_prime</th>\n",
       "      <th>beta_prime</th>\n",
       "      <th>lambda</th>\n",
       "    </tr>\n",
       "  </thead>\n",
       "  <tbody>\n",
       "    <tr>\n",
       "      <th>1</th>\n",
       "      <td>0.013184</td>\n",
       "      <td>0.032049</td>\n",
       "      <td>0.017776</td>\n",
       "      <td>2.840562</td>\n",
       "      <td>0.004302</td>\n",
       "    </tr>\n",
       "    <tr>\n",
       "      <th>2</th>\n",
       "      <td>0.184808</td>\n",
       "      <td>1.001373</td>\n",
       "      <td>0.012741</td>\n",
       "      <td>1.299733</td>\n",
       "      <td>0.000964</td>\n",
       "    </tr>\n",
       "    <tr>\n",
       "      <th>3</th>\n",
       "      <td>0.039253</td>\n",
       "      <td>0.099960</td>\n",
       "      <td>0.003160</td>\n",
       "      <td>1.654810</td>\n",
       "      <td>0.000045</td>\n",
       "    </tr>\n",
       "    <tr>\n",
       "      <th>4</th>\n",
       "      <td>0.222189</td>\n",
       "      <td>0.965928</td>\n",
       "      <td>0.007489</td>\n",
       "      <td>3.104779</td>\n",
       "      <td>0.007395</td>\n",
       "    </tr>\n",
       "  </tbody>\n",
       "</table>\n",
       "</div>"
      ],
      "text/plain": [
       "      alpha      beta  alpha_prime  beta_prime    lambda\n",
       "1  0.013184  0.032049     0.017776    2.840562  0.004302\n",
       "2  0.184808  1.001373     0.012741    1.299733  0.000964\n",
       "3  0.039253  0.099960     0.003160    1.654810  0.000045\n",
       "4  0.222189  0.965928     0.007489    3.104779  0.007395"
      ]
     },
     "execution_count": 58,
     "metadata": {},
     "output_type": "execute_result"
    }
   ],
   "source": [
    "optimal_parameters_df = pd.DataFrame(optimal_parameters.values(), index=optimal_parameters.keys(), columns = [\"alpha\", \"beta\",\"alpha_prime\",\"beta_prime\", \"lambda\"])\n",
    "optimal_parameters_df"
   ]
  },
  {
   "cell_type": "code",
   "execution_count": 62,
   "metadata": {},
   "outputs": [
    {
     "name": "stderr",
     "output_type": "stream",
     "text": [
      "100%|██████████| 4/4 [00:00<00:00, 83.60it/s]\n"
     ]
    }
   ],
   "source": [
    "compensated_times_dict = {}\n",
    "for st_id in tqdm(train_sorted_start_ids[:4]):\n",
    "    params = optimal_parameters_df.loc[st_id].to_numpy()\n",
    "    tprime = test_t_prime_per_station[st_id]\n",
    "    time = test_t_per_station[st_id]\n",
    "    comp_st = lambda x: compensator_m4(x, time, tprime, params[0], params[1], params[2], params[3], params[4])\n",
    "    compensated_times_dict[st_id] = [comp_st(i) for i in time]\n",
    "#compensator_m4(t_scalar, t, t_prime, alpha_i, beta_i, alpha_i_prime, beta_i_prime,lambda_i)"
   ]
  },
  {
   "cell_type": "code",
   "execution_count": 63,
   "metadata": {},
   "outputs": [
    {
     "name": "stderr",
     "output_type": "stream",
     "text": [
      "100%|██████████| 4/4 [00:00<00:00, 6839.47it/s]\n"
     ]
    }
   ],
   "source": [
    "m4_p_values = {}\n",
    "\n",
    "for st_id in tqdm(test_sorted_start_ids[:4]):\n",
    "    rate = rates_dict[st_id]\n",
    "    inter_arrival_times = np.diff(compensated_times_dict[st_id])\n",
    "    inter_arrival_times = np.insert(inter_arrival_times,0,compensated_times_dict[st_id][0])\n",
    "    station_p_values = np.exp(-inter_arrival_times)\n",
    "    m4_p_values[st_id] = station_p_values"
   ]
  },
  {
   "cell_type": "code",
   "execution_count": 64,
   "metadata": {},
   "outputs": [
    {
     "data": {
      "image/png": "[encoded data removed]",
      "text/plain": [
       "<Figure size 432x288 with 1 Axes>"
      ]
     },
     "metadata": {
      "needs_background": "dark"
     },
     "output_type": "display_data"
    }
   ],
   "source": [
    "plt.title(\"Histogram of p-values for station 1 using Model 3\")\n",
    "plt.hist(m4_p_values[1])\n",
    "plt.show()"
   ]
  },
  {
   "cell_type": "code",
   "execution_count": 66,
   "metadata": {},
   "outputs": [
    {
     "data": {
      "image/png": "[encoded data removed]",
      "text/plain": [
       "<Figure size 432x288 with 1 Axes>"
      ]
     },
     "metadata": {
      "needs_background": "dark"
     },
     "output_type": "display_data"
    }
   ],
   "source": [
    "joined_p_values = np.concatenate(np.array(list(m4_p_values.values()), dtype=object))\n",
    "n, bins, patches = plt.hist(joined_p_values, bins=100)\n",
    "ax = plt.gca()\n",
    "def lblFormat(n, pos):\n",
    "    return str(int(n / 1e3))\n",
    "lblFormatter = FuncFormatter(lblFormat)\n",
    "ax.yaxis.set_major_formatter(lblFormatter)\n",
    "plt.title(\"Histogram of p-values for all stations for Model 2\")\n",
    "plt.xlabel(\"P-value\")\n",
    "plt.ylabel(\"Counts (Thousands)\")\n",
    "plt.savefig(\"../figures/p-values_m3.png\")\n",
    "plt.show()"
   ]
  },
  {
   "cell_type": "code",
   "execution_count": null,
   "metadata": {},
   "outputs": [],
   "source": []
  }
 ],
 "metadata": {
  "interpreter": {
   "hash": "c982c42cf71dfd9e4fcac0d9653e64d0ee7da81b005f55f464a28429eb0786e0"
  },
  "kernelspec": {
   "display_name": "Python 3.8.9 ('M2R_venv': venv)",
   "language": "python",
   "name": "python3"
  },
  "language_info": {
   "codemirror_mode": {
    "name": "ipython",
    "version": 3
   },
   "file_extension": ".py",
   "mimetype": "text/x-python",
   "name": "python",
   "nbconvert_exporter": "python",
   "pygments_lexer": "ipython3",
   "version": "3.8.9"
  },
  "orig_nbformat": 4
 },
 "nbformat": 4,
 "nbformat_minor": 2
}
