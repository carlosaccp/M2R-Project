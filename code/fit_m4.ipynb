{
 "cells": [
  {
   "cell_type": "code",
   "execution_count": 69,
   "metadata": {},
   "outputs": [],
   "source": [
    "import pandas as pd\n",
    "import numpy as np\n",
    "import matplotlib.pyplot as plt\n",
    "from tqdm import tqdm\n",
    "from matplotlib.ticker import FuncFormatter\n",
    "import scipy.optimize as op\n",
    "from preprocessing import *\n",
    "plt.style.use(\"dark_background\") # Config plots for dark mode, delete if on light mode\n",
    "plt.rcParams['figure.dpi'] = 150 # Hi-res plots"
   ]
  },
  {
   "cell_type": "code",
   "execution_count": 70,
   "metadata": {},
   "outputs": [],
   "source": [
    "def N(t_scalar, t):\n",
    "    \"\"\"\n",
    "    Returns the number of times in t less than or equal to t_scalar.\n",
    "    Is used to compute N(t_{i,k}) and N'(t_{i,k}) depending on whether t above is t or t_prime\n",
    "    \"\"\"\n",
    "    return np.searchsorted(t, t_scalar, side=\"right\")\n",
    "\n",
    "def get_time_differences(t, t_prime):\n",
    "    \"\"\"\n",
    "    Input: (sorted) times for a particular station i\n",
    "    Output: List of differences indexed by [h][k] for this station i\n",
    "    \"\"\"\n",
    "\n",
    "    # h goes until N(t[-1], t)\n",
    "    T = end_T\n",
    "    D_result = []\n",
    "    for h in range(1, N(T, t)+1):\n",
    "        differences_list = []\n",
    "        # Construct list of t_ih - t'_ik for k = 1 to N'(T)\n",
    "        differences_list.append(t[h-1] - t_prime[N(t[h-2], t_prime):N(t[h-1], t_prime)])\n",
    "\n",
    "        D_result.append(np.array(differences_list))\n",
    "\n",
    "    return D_result\n",
    "\n",
    "def m4_compensator_helper(t_scalar, t, t_prime):\n",
    "    \"\"\"\n",
    "    Computes the lists that are required for the compensator function outside of it (without the parameters)\n",
    "    \"\"\"\n",
    "    return t_scalar - t[:N(t_scalar, t)], t_scalar - t_prime[:N(t_scalar, t_prime)]"
   ]
  },
  {
   "cell_type": "code",
   "execution_count": 71,
   "metadata": {},
   "outputs": [],
   "source": [
    "# def compensator_m4(t_scalar, t, t_prime, alpha_i, beta_i, alpha_i_prime, beta_i_prime,lambda_i):\n",
    "#     \"\"\"\n",
    "#     t_scalar: scalar value where Lambda_i(t) is to be evaluated\n",
    "#     t_prime: list of arrival times at station i\n",
    "\n",
    "#     NOTE: t_prime NEEDS TO BE SORTED HERE.\n",
    "#     \"\"\"\n",
    "\n",
    "#     term1 = lambda_i * t_scalar\n",
    "#     term2 = -(alpha_i_prime / beta_i_prime) * np.sum(np.exp(-beta_i_prime * (t_scalar - t_prime[:N(t_scalar, t_prime)]))-1)\n",
    "#     term3 = -(alpha_i / beta_i) * np.sum(np.exp(-beta_i * (t_scalar - t[:N(t_scalar, t)]))-1)\n",
    "#     return term1 + term2 + term3\n"
   ]
  },
  {
   "cell_type": "code",
   "execution_count": 72,
   "metadata": {},
   "outputs": [],
   "source": [
    "def B_m4(h, t, t_prime, beta, time_differences):\n",
    "\n",
    "    \"\"\"\n",
    "    Returns a list of [B_i(1), ..., B_i(h)]\n",
    "\n",
    "    NOTE: t_prime NEEDS to be sorted here\n",
    "\n",
    "    time_differences: time differences double list for station i\n",
    "\n",
    "    Note all index variables such as h, k, etc start at 1, like the mathematical notation.\n",
    "    \"\"\"\n",
    "    B = [np.sum(np.exp(-beta*(t[0] - t_prime[:N(t[0], t_prime)])))]\n",
    "\n",
    "    # Append the rest\n",
    "    for l in range(2, h+1):\n",
    "        # First term in recursive formula for B_i(h)\n",
    "        term1 = np.exp(-beta*(t[l-1] - t[l-2])) * B[l-2]\n",
    "        term2 = np.sum(np.exp(-beta*(time_differences[l-1])))\n",
    "        B.append(term1 + term2)\n",
    "    return np.array(B)\n",
    "\n",
    "\n",
    "def A_m4(h, t, beta):\n",
    "\n",
    "    A = [0]\n",
    "    for i in range(2, h+1):\n",
    "            A.append(np.exp(-1*beta*(t[i-1] - t[i-2]))*(1+A[i-2]))\n",
    "    return np.array(A)\n",
    "\n",
    "\n",
    "# def m4_log_likelihood(t, t_prime, time_differences, alpha_i, beta_i, alpha_i_prime, beta_i_prime, lambda_i):\n",
    "#     \"\"\"\n",
    "#     Gives log likelihood of our five parameters. \n",
    "#     t: start times from station i\n",
    "#     t_prime: end times at station i\n",
    "\n",
    "#     NOTE: t_prime NEEDS TO BE SORTED HERE\n",
    "#     \"\"\"\n",
    "    \n",
    "#     T = end_T # TODO: Is this how we get big T?\n",
    "\n",
    "#     # Get A list\n",
    "#     A_ = new_A(len(t), t, beta_i)\n",
    "\n",
    "#     # Get B list \n",
    "#     B_ = new_B(len(t), t, t_prime, beta_i_prime, time_differences)\n",
    "\n",
    "#     term1 = np.sum(np.log(lambda_i + alpha_i_prime*B_[:len(t)+1] + alpha_i*A_[:len(t)+1]))\n",
    "\n",
    "#     term2 = -compensator_m4(T, t, t_prime, alpha_i, beta_i, alpha_i_prime, beta_i_prime, lambda_i)\n",
    "\n",
    "#     return term1 + term2\n"
   ]
  },
  {
   "cell_type": "code",
   "execution_count": 73,
   "metadata": {},
   "outputs": [
    {
     "data": {
      "text/plain": [
       "-120962.7285170497"
      ]
     },
     "execution_count": 73,
     "metadata": {},
     "output_type": "execute_result"
    }
   ],
   "source": [
    "def compensator_m4(t_scalar, t_precomputed, t_prime_precomputed, lambda_i, alpha_i, beta_i, alpha_i_prime, beta_i_prime):\n",
    "    \"\"\"\n",
    "    Evaluates compensator using already pre-computed list terms so we don't compute it every time.\n",
    "    \"\"\"\n",
    "    term1 = lambda_i * t_scalar\n",
    "    term2 = -(alpha_i_prime / beta_i_prime) * np.sum(np.exp(-beta_i_prime * (t_prime_precomputed))-1)\n",
    "    term3 = -(alpha_i / beta_i) * np.sum(np.exp(-beta_i * (t_precomputed))-1)\n",
    "    return term1 + term2 + term3\n",
    "\n",
    "def m4_log_likelihood(t_params,\n",
    " alpha_i, beta_i, alpha_i_prime, beta_i_prime, lambda_i):\n",
    "    \"\"\"\n",
    "    Gives log likelihood of our five parameters. \n",
    "    t: start times from station i\n",
    "    t_prime: end times at station i\n",
    "\n",
    "    NOTE: t_prime NEEDS TO BE SORTED HERE\n",
    "    \"\"\"\n",
    "    t, t_precomputed, t_prime, t_prime_precomputed, time_differences = t_params\n",
    "\n",
    "\n",
    "    T = end_T # TODO: Is this how we get big T?\n",
    "\n",
    "    # Get A list\n",
    "    A_ = A_m4(len(t), t, beta_i)\n",
    "\n",
    "    # Get B list \n",
    "    B_ = B_m4(len(t), t, t_prime, beta_i_prime, time_differences)\n",
    "\n",
    "    term1 = np.sum(np.log(lambda_i + alpha_i_prime*B_[:len(t)+1] + alpha_i*A_[:len(t)+1]))\n",
    "\n",
    "    term2 = -compensator_m4(T, t_precomputed, t_prime_precomputed, lambda_i, alpha_i, beta_i, alpha_i_prime, beta_i_prime)\n",
    "\n",
    "    return term1 + term2"
   ]
  },
  {
   "cell_type": "code",
   "execution_count": null,
   "metadata": {},
   "outputs": [],
   "source": []
  },
  {
   "cell_type": "markdown",
   "metadata": {},
   "source": [
    "## CARLOS: To use the pre-computed times, do the following to evaluate the log-likelihood inside the for loop for each station"
   ]
  },
  {
   "cell_type": "code",
   "execution_count": 74,
   "metadata": {},
   "outputs": [
    {
     "name": "stderr",
     "output_type": "stream",
     "text": [
      "100%|██████████| 789/789 [00:13<00:00, 56.83it/s]\n"
     ]
    }
   ],
   "source": [
    "time_diffs = {}\n",
    "for st_id in tqdm(train_sorted_start_ids):\n",
    "    time_diffs[st_id] = get_time_differences(t_per_station[st_id], t_prime_per_station[st_id])"
   ]
  },
  {
   "cell_type": "code",
   "execution_count": 75,
   "metadata": {},
   "outputs": [
    {
     "name": "stderr",
     "output_type": "stream",
     "text": [
      "100%|██████████| 789/789 [00:00<00:00, 33862.41it/s]\n",
      "100%|██████████| 789/789 [00:00<00:00, 36714.59it/s]\n"
     ]
    }
   ],
   "source": [
    "trunc_t_per_station = {}\n",
    "for st_id in tqdm(train_sorted_start_ids):\n",
    "    t = t_per_station[st_id]\n",
    "    t_prime = t_prime_per_station[st_id]\n",
    "    trunc_t_per_station[st_id] = m4_compensator_helper(end_T, t, t_prime)[0]\n",
    "trunc_t_prime_per_station = {}\n",
    "for st_id in tqdm(train_sorted_start_ids):\n",
    "    t = t_per_station[st_id]\n",
    "    t_prime = t_prime_per_station[st_id]\n",
    "    trunc_t_prime_per_station[st_id] = m4_compensator_helper(end_T, t, t_prime)[1]"
   ]
  },
  {
   "cell_type": "code",
   "execution_count": 76,
   "metadata": {},
   "outputs": [
    {
     "name": "stderr",
     "output_type": "stream",
     "text": [
      "100%|██████████| 789/789 [00:00<00:00, 248988.48it/s]\n"
     ]
    }
   ],
   "source": [
    "# combine to new dict called station parameters: ordered as t, trunc_t, tprime, trunc_tprime, time_diffs\n",
    "station_time_parameters = {}\n",
    "for st_id in tqdm(train_sorted_start_ids):\n",
    "    station_time_parameters[st_id] = np.array([t_per_station[st_id], trunc_t_per_station[st_id], t_prime_per_station[st_id], trunc_t_prime_per_station[st_id], time_diffs[st_id]], dtype=object)"
   ]
  },
  {
   "cell_type": "markdown",
   "metadata": {},
   "source": [
    "## Finding the parameters using likelihood optimisation"
   ]
  },
  {
   "cell_type": "code",
   "execution_count": 77,
   "metadata": {},
   "outputs": [
    {
     "data": {
      "text/html": [
       "<div>\n",
       "<style scoped>\n",
       "    .dataframe tbody tr th:only-of-type {\n",
       "        vertical-align: middle;\n",
       "    }\n",
       "\n",
       "    .dataframe tbody tr th {\n",
       "        vertical-align: top;\n",
       "    }\n",
       "\n",
       "    .dataframe thead th {\n",
       "        text-align: right;\n",
       "    }\n",
       "</style>\n",
       "<table border=\"1\" class=\"dataframe\">\n",
       "  <thead>\n",
       "    <tr style=\"text-align: right;\">\n",
       "      <th></th>\n",
       "      <th>alpha</th>\n",
       "      <th>beta</th>\n",
       "      <th>lambda</th>\n",
       "    </tr>\n",
       "  </thead>\n",
       "  <tbody>\n",
       "    <tr>\n",
       "      <th>1</th>\n",
       "      <td>0.020179</td>\n",
       "      <td>0.035553</td>\n",
       "      <td>7.705058e-03</td>\n",
       "    </tr>\n",
       "    <tr>\n",
       "      <th>2</th>\n",
       "      <td>0.015271</td>\n",
       "      <td>0.016036</td>\n",
       "      <td>1.213006e-03</td>\n",
       "    </tr>\n",
       "    <tr>\n",
       "      <th>3</th>\n",
       "      <td>0.004644</td>\n",
       "      <td>0.004644</td>\n",
       "      <td>3.779973e-17</td>\n",
       "    </tr>\n",
       "    <tr>\n",
       "      <th>4</th>\n",
       "      <td>0.009820</td>\n",
       "      <td>0.023543</td>\n",
       "      <td>9.676464e-03</td>\n",
       "    </tr>\n",
       "    <tr>\n",
       "      <th>5</th>\n",
       "      <td>0.011876</td>\n",
       "      <td>0.012869</td>\n",
       "      <td>1.258996e-03</td>\n",
       "    </tr>\n",
       "    <tr>\n",
       "      <th>...</th>\n",
       "      <td>...</td>\n",
       "      <td>...</td>\n",
       "      <td>...</td>\n",
       "    </tr>\n",
       "    <tr>\n",
       "      <th>836</th>\n",
       "      <td>0.014502</td>\n",
       "      <td>0.039605</td>\n",
       "      <td>1.707352e-02</td>\n",
       "    </tr>\n",
       "    <tr>\n",
       "      <th>838</th>\n",
       "      <td>0.006228</td>\n",
       "      <td>0.006470</td>\n",
       "      <td>4.663218e-04</td>\n",
       "    </tr>\n",
       "    <tr>\n",
       "      <th>839</th>\n",
       "      <td>0.023140</td>\n",
       "      <td>0.028994</td>\n",
       "      <td>8.233945e-03</td>\n",
       "    </tr>\n",
       "    <tr>\n",
       "      <th>840</th>\n",
       "      <td>0.018468</td>\n",
       "      <td>0.019006</td>\n",
       "      <td>2.030979e-04</td>\n",
       "    </tr>\n",
       "    <tr>\n",
       "      <th>841</th>\n",
       "      <td>0.000851</td>\n",
       "      <td>0.000851</td>\n",
       "      <td>9.391903e-06</td>\n",
       "    </tr>\n",
       "  </tbody>\n",
       "</table>\n",
       "<p>789 rows × 3 columns</p>\n",
       "</div>"
      ],
      "text/plain": [
       "        alpha      beta        lambda\n",
       "1    0.020179  0.035553  7.705058e-03\n",
       "2    0.015271  0.016036  1.213006e-03\n",
       "3    0.004644  0.004644  3.779973e-17\n",
       "4    0.009820  0.023543  9.676464e-03\n",
       "5    0.011876  0.012869  1.258996e-03\n",
       "..        ...       ...           ...\n",
       "836  0.014502  0.039605  1.707352e-02\n",
       "838  0.006228  0.006470  4.663218e-04\n",
       "839  0.023140  0.028994  8.233945e-03\n",
       "840  0.018468  0.019006  2.030979e-04\n",
       "841  0.000851  0.000851  9.391903e-06\n",
       "\n",
       "[789 rows x 3 columns]"
      ]
     },
     "execution_count": 77,
     "metadata": {},
     "output_type": "execute_result"
    }
   ],
   "source": [
    "model_2_params = pd.read_csv(\"../data/N_M_params.csv\", index_col=0)\n",
    "model_3_params = pd.read_csv(\"../data/M3_train_params.csv\", index_col=0)\n",
    "model_3_params"
   ]
  },
  {
   "cell_type": "code",
   "execution_count": 85,
   "metadata": {},
   "outputs": [
    {
     "name": "stderr",
     "output_type": "stream",
     "text": [
      "100%|██████████| 10/10 [01:26<00:00,  8.60s/it]\n"
     ]
    }
   ],
   "source": [
    "optimal_parameters = {}\n",
    "for st_id in tqdm(train_sorted_start_ids[:10]):\n",
    "    # m2_station_params = model_2_params.loc[st_id].to_numpy()\n",
    "    # m3_station_params = model_3_params.loc[st_id].to_numpy()\n",
    "    #x0 = [np.log(m2_station_params[0]), np.log(m2_station_params[1] -m2_station_params[0] ), np.log(m3_station_params[0]), np.log(m3_station_params[1] - m3_station_params[0]), np.log(m3_station_params[-1])] # np.log(rates_dict[station.start_id.unique()[0]])]\n",
    "    x0 = -np.ones(5) * 3\n",
    "    op_m4_log_likelihood = lambda x: -m4_log_likelihood(station_time_parameters[st_id], np.exp(x[0]), np.exp(x[0]) + np.exp(x[1]),np.exp(x[2]), np.exp(x[2]) + np.exp(x[3]), np.exp(x[4]))\n",
    "    sol = op.minimize(op_m4_log_likelihood, x0, method=\"Nelder-Mead\")\n",
    "    if sol.success:\n",
    "        transformed_alpha = np.exp(sol.x[0])\n",
    "        transformed_beta = np.exp(sol.x[0]) + np.exp(sol.x[1])\n",
    "        transformed_alpha_prime = np.exp(sol.x[2])\n",
    "        transformed_beta_prime = np.exp(sol.x[2]) + np.exp(sol.x[3])\n",
    "        transformed_lambda = np.exp(sol.x[4])\n",
    "        max_params = [transformed_alpha, transformed_beta, transformed_alpha_prime, transformed_beta_prime, transformed_lambda]\n",
    "        optimal_parameters[st_id] = max_params\n",
    "\n",
    "    else:\n",
    "        raise OptimizationError(f\"Failed to converge for station {st_id}.\")"
   ]
  },
  {
   "cell_type": "code",
   "execution_count": 86,
   "metadata": {},
   "outputs": [],
   "source": [
    "param_df = pd.DataFrame(optimal_parameters.values(), index=optimal_parameters.keys(), columns = [\"alpha\", \"beta\",\"alpha_prime\", \"beta_prime\", \"lambda\"])\n",
    "param_df = param_df[[\"lambda\", \"alpha\", \"beta\", \"alpha_prime\", \"beta_prime\"]]\n",
    "param_df.head()\n",
    "m4_param_df = param_df"
   ]
  },
  {
   "cell_type": "markdown",
   "metadata": {},
   "source": [
    "## Assessing fit for model 4"
   ]
  },
  {
   "cell_type": "code",
   "execution_count": 58,
   "metadata": {},
   "outputs": [
    {
     "data": {
      "text/html": [
       "<div>\n",
       "<style scoped>\n",
       "    .dataframe tbody tr th:only-of-type {\n",
       "        vertical-align: middle;\n",
       "    }\n",
       "\n",
       "    .dataframe tbody tr th {\n",
       "        vertical-align: top;\n",
       "    }\n",
       "\n",
       "    .dataframe thead th {\n",
       "        text-align: right;\n",
       "    }\n",
       "</style>\n",
       "<table border=\"1\" class=\"dataframe\">\n",
       "  <thead>\n",
       "    <tr style=\"text-align: right;\">\n",
       "      <th></th>\n",
       "      <th>alpha</th>\n",
       "      <th>beta</th>\n",
       "      <th>alpha_prime</th>\n",
       "      <th>beta_prime</th>\n",
       "      <th>lambda</th>\n",
       "    </tr>\n",
       "  </thead>\n",
       "  <tbody>\n",
       "    <tr>\n",
       "      <th>1</th>\n",
       "      <td>0.013184</td>\n",
       "      <td>0.032049</td>\n",
       "      <td>0.017776</td>\n",
       "      <td>2.840562</td>\n",
       "      <td>0.004302</td>\n",
       "    </tr>\n",
       "    <tr>\n",
       "      <th>2</th>\n",
       "      <td>0.184808</td>\n",
       "      <td>1.001373</td>\n",
       "      <td>0.012741</td>\n",
       "      <td>1.299733</td>\n",
       "      <td>0.000964</td>\n",
       "    </tr>\n",
       "    <tr>\n",
       "      <th>3</th>\n",
       "      <td>0.039253</td>\n",
       "      <td>0.099960</td>\n",
       "      <td>0.003160</td>\n",
       "      <td>1.654810</td>\n",
       "      <td>0.000045</td>\n",
       "    </tr>\n",
       "    <tr>\n",
       "      <th>4</th>\n",
       "      <td>0.222189</td>\n",
       "      <td>0.965928</td>\n",
       "      <td>0.007489</td>\n",
       "      <td>3.104779</td>\n",
       "      <td>0.007395</td>\n",
       "    </tr>\n",
       "  </tbody>\n",
       "</table>\n",
       "</div>"
      ],
      "text/plain": [
       "      alpha      beta  alpha_prime  beta_prime    lambda\n",
       "1  0.013184  0.032049     0.017776    2.840562  0.004302\n",
       "2  0.184808  1.001373     0.012741    1.299733  0.000964\n",
       "3  0.039253  0.099960     0.003160    1.654810  0.000045\n",
       "4  0.222189  0.965928     0.007489    3.104779  0.007395"
      ]
     },
     "execution_count": 58,
     "metadata": {},
     "output_type": "execute_result"
    }
   ],
   "source": [
    "m4_param_df = pd.DataFrame(optimal_parameters.values(), index=optimal_parameters.keys(), columns = [\"alpha\", \"beta\", \"alpha_prime\", \"beta_prime\", \"lambda\"])\n",
    "m4_param_df.head() \n",
    "m4_param_df.to_csv(\"../data/M4_train_params.csv\")"
   ]
  },
  {
   "cell_type": "code",
   "execution_count": null,
   "metadata": {},
   "outputs": [],
   "source": []
  },
  {
   "cell_type": "code",
   "execution_count": 96,
   "metadata": {},
   "outputs": [
    {
     "name": "stderr",
     "output_type": "stream",
     "text": [
      "100%|██████████| 10/10 [00:00<00:00, 73.19it/s]\n"
     ]
    }
   ],
   "source": [
    "compensated_times_dict = {}\n",
    "for st_id in tqdm(train_sorted_start_ids[:10]):\n",
    "    params = m4_param_df.loc[st_id].to_numpy()\n",
    "    tprime = test_t_prime_per_station[st_id]\n",
    "    time = test_t_per_station[st_id]\n",
    "    comp_st = lambda x: compensator_m4(x, time, tprime, params[0], params[1], params[2], params[3], params[4])\n",
    "    compensated_times_dict[st_id] = [comp_st(i) for i in time]\n",
    "#compensator_m4(t_scalar, t, t_prime, alpha_i, beta_i, alpha_i_prime, beta_i_prime,lambda_i)"
   ]
  },
  {
   "cell_type": "code",
   "execution_count": 97,
   "metadata": {},
   "outputs": [
    {
     "name": "stderr",
     "output_type": "stream",
     "text": [
      "100%|██████████| 10/10 [00:00<00:00, 10307.95it/s]\n"
     ]
    }
   ],
   "source": [
    "m4_p_values = {}\n",
    "\n",
    "for st_id in tqdm(test_sorted_start_ids[:10]):\n",
    "    rate = rates_dict[st_id]\n",
    "    inter_arrival_times = np.diff(compensated_times_dict[st_id])\n",
    "    inter_arrival_times = np.insert(inter_arrival_times,0,compensated_times_dict[st_id][0])\n",
    "    station_p_values = np.exp(-inter_arrival_times)\n",
    "    m4_p_values[st_id] = station_p_values"
   ]
  },
  {
   "cell_type": "code",
   "execution_count": 98,
   "metadata": {},
   "outputs": [
    {
     "data": {
      "image/png": "[encoded data removed]",
      "text/plain": [
       "<Figure size 432x288 with 1 Axes>"
      ]
     },
     "metadata": {
      "needs_background": "dark"
     },
     "output_type": "display_data"
    }
   ],
   "source": [
    "plt.title(\"Histogram of p-values for station 1 using Model 4\")\n",
    "plt.hist(m4_p_values[1])\n",
    "plt.show()"
   ]
  },
  {
   "cell_type": "code",
   "execution_count": 99,
   "metadata": {},
   "outputs": [
    {
     "data": {
      "image/png": "[encoded data removed]",
      "text/plain": [
       "<Figure size 432x288 with 1 Axes>"
      ]
     },
     "metadata": {
      "needs_background": "dark"
     },
     "output_type": "display_data"
    }
   ],
   "source": [
    "joined_p_values = np.concatenate(np.array(list(m4_p_values.values()), dtype=object))\n",
    "n, bins, patches = plt.hist(joined_p_values, bins=100)\n",
    "ax = plt.gca()\n",
    "def lblFormat(n, pos):\n",
    "    return str(int(n / 1e3))\n",
    "lblFormatter = FuncFormatter(lblFormat)\n",
    "ax.yaxis.set_major_formatter(lblFormatter)\n",
    "plt.title(\"Histogram of p-values for all stations for Model 4\")\n",
    "plt.xlabel(\"P-value\")\n",
    "plt.ylabel(\"Counts (Thousands)\")\n",
    "plt.savefig(\"../figures/p-values_m3.png\")\n",
    "plt.show()"
   ]
  },
  {
   "cell_type": "code",
   "execution_count": null,
   "metadata": {},
   "outputs": [],
   "source": []
  }
 ],
 "metadata": {
  "interpreter": {
   "hash": "c982c42cf71dfd9e4fcac0d9653e64d0ee7da81b005f55f464a28429eb0786e0"
  },
  "kernelspec": {
   "display_name": "Python 3.8.9 ('M2R_venv': venv)",
   "language": "python",
   "name": "python3"
  },
  "language_info": {
   "codemirror_mode": {
    "name": "ipython",
    "version": 3
   },
   "file_extension": ".py",
   "mimetype": "text/x-python",
   "name": "python",
   "nbconvert_exporter": "python",
   "pygments_lexer": "ipython3",
   "version": "3.8.9"
  },
  "orig_nbformat": 4
 },
 "nbformat": 4,
 "nbformat_minor": 2
}
