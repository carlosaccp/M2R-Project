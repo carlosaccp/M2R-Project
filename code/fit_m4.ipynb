{
 "cells": [
  {
   "cell_type": "code",
   "execution_count": 1,
   "metadata": {},
   "outputs": [],
   "source": [
    "import pandas as pd\n",
    "import numpy as np\n",
    "import matplotlib.pyplot as plt\n",
    "from tqdm import tqdm\n",
    "import scipy.stats as st\n",
    "from matplotlib.ticker import FuncFormatter\n",
    "import scipy.optimize as op\n",
    "from preprocessing import *\n",
    "plt.style.use(\"dark_background\") # Config plots for dark mode, delete if on light mode\n",
    "plt.rcParams['figure.dpi'] = 150 # Hi-res plots"
   ]
  },
  {
   "cell_type": "code",
   "execution_count": 2,
   "metadata": {},
   "outputs": [
    {
     "data": {
      "text/plain": [
       "[array([], shape=(1, 0), dtype=float64), array([[0.9]]), array([[0.8]])]"
      ]
     },
     "execution_count": 2,
     "metadata": {},
     "output_type": "execute_result"
    }
   ],
   "source": [
    "def N(t_scalar, t):\n",
    "    \"\"\"\n",
    "    Returns the number of times in t less than or equal to t_scalar.\n",
    "    Is used to compute N(t_{i,k}) and N'(t_{i,k}) depending on whether t above is t or t_prime\n",
    "    \"\"\"\n",
    "\n",
    "    return np.searchsorted(t, t_scalar, side=\"right\")\n",
    "\n",
    "def getTimeDifferences(t, t_prime):\n",
    "    \"\"\"\n",
    "    Input: (sorted) times for a particular station i\n",
    "    Output: List of differences indexed by [h][k] for this station i\n",
    "    \"\"\"\n",
    "\n",
    "    # h goes until N(t[-1], t) assuming T = t[-1]\n",
    "    T = t[-1]\n",
    "    D_result = []\n",
    "    for h in range(1, N(T, t)+1):\n",
    "        differences_list = []\n",
    "        # Construct list of t_ih - t'_ik for k = 1 to N'(T)\n",
    "        differences_list.append(t[h-1] - t_prime[N(t[h-2], t_prime):N(t[h-1], t_prime)])\n",
    "\n",
    "        D_result.append(np.array(differences_list))\n",
    "\n",
    "    return D_result\n",
    "\n",
    "getTimeDifferences(np.array([1,2,3]),np.array([1.1,2.2,3.3]))"
   ]
  },
  {
   "cell_type": "code",
   "execution_count": 3,
   "metadata": {},
   "outputs": [],
   "source": [
    "def compensator_m4(t_scalar, t, t_prime, lambda_i, alpha_i, beta_i, alpha_i_prime, beta_i_prime):\n",
    "    \"\"\"\n",
    "    t_scalar: scalar value where Lambda_i(t) is to be evaluated\n",
    "    t_prime: list of arrival times at station i\n",
    "\n",
    "    NOTE: t_prime NEEDS TO BE SORTED HERE.\n",
    "    \"\"\"\n",
    "\n",
    "    term1 = lambda_i * t_scalar\n",
    "    term2 = -(alpha_i_prime / beta_i_prime) * np.sum(np.exp(-beta_i_prime * (t_scalar - t_prime[:N(t_scalar, t_prime)]))-1)\n",
    "    term3 = -(alpha_i / beta_i) * np.sum(np.exp(-beta_i * (t_scalar - t[:N(t_scalar, t)]))-1)\n",
    "    return term1 + term2 + term3\n"
   ]
  },
  {
   "cell_type": "code",
   "execution_count": 4,
   "metadata": {},
   "outputs": [],
   "source": [
    "def new_B(h, t, t_prime, beta, time_differences):\n",
    "\n",
    "    \"\"\"\n",
    "    Returns a list of [B_i(1), ..., B_i(h)]\n",
    "\n",
    "    NOTE: t_prime NEEDS to be sorted here\n",
    "\n",
    "    time_differences: time differences double list for station i\n",
    "\n",
    "    Note all index variables such as h, k, etc start at 1, like the mathematical notation.\n",
    "    \"\"\"\n",
    "    B = [np.sum(np.exp(-beta*(t[0] - t_prime[:N(t[0], t_prime)])))]\n",
    "\n",
    "    # Append the rest\n",
    "    for l in range(2, h+1):\n",
    "        # First term in recursive formula for B_i(h)\n",
    "        term1 = np.exp(-beta*(t[l-1] - t[l-2])) * B[l-2]\n",
    "        term2 = np.sum(np.exp(-beta*(time_differences[l-1])))\n",
    "        B.append(term1 + term2)\n",
    "    return np.array(B)\n",
    "\n",
    "\n",
    "def new_A(h, t, beta):\n",
    "\n",
    "    A = []\n",
    "    for i in range(1, h+1):\n",
    "        if i==1:\n",
    "            A.append(0)\n",
    "        else:\n",
    "            A.append(np.exp(-1*beta*(t[i-1] - t[i-2]))*(1+A[i-2]))\n",
    "    return np.array(A)\n",
    "\n",
    "\n",
    "def m4_log_likelihood(t, t_prime, time_differences, alpha_i, beta_i, alpha_i_prime, beta_i_prime, lambda_i):\n",
    "    \"\"\"\n",
    "    Gives log likelihood of our five parameters. \n",
    "    t: start times from station i\n",
    "    t_prime: end times at station i\n",
    "\n",
    "    NOTE: t_prime NEEDS TO BE SORTED HERE\n",
    "    \"\"\"\n",
    "    \n",
    "    T = end_T # TODO: Is this how we get big T?\n",
    "\n",
    "    # Get A list\n",
    "    A_ = new_A(len(t), t, beta_i)\n",
    "\n",
    "    # Get B list \n",
    "    B_ = new_B(len(t), t, t_prime, beta_i_prime, time_differences)\n",
    "\n",
    "    term1 = np.sum(np.log(lambda_i + alpha_i_prime*B_[:len(t)+1] + alpha_i*A_[:len(t)+1]))\n",
    "\n",
    "    term2 = -compensator_m4(T, t, t_prime, lambda_i, alpha_i, beta_i, alpha_i_prime, beta_i_prime)\n",
    "\n",
    "    return term1 + term2\n"
   ]
  },
  {
   "cell_type": "code",
   "execution_count": 6,
   "metadata": {},
   "outputs": [
    {
     "data": {
      "text/plain": [
       "-5699173.13371635"
      ]
     },
     "execution_count": 39,
     "metadata": {},
     "output_type": "execute_result"
    }
   ],
   "source": [
    "# Test m4 likelihood function\n",
    "beta = 0.01\n",
    "\n",
    "t = t_per_station[1]\n",
    "t_prime = t_prime_per_station[1]\n",
    "\n",
    "time_differences = getTimeDifferences(t, t_prime)\n",
    "\n",
    "m4_log_likelihood(t, t_prime,time_differences, 0.01, 0.1, 0.01, 0.1, 0.1)"
   ]
  },
  {
   "cell_type": "markdown",
   "metadata": {},
   "source": [
    "## Finding the parameters using likelihood optimisation"
   ]
  },
  {
   "cell_type": "code",
   "execution_count": 7,
   "metadata": {},
   "outputs": [
    {
     "name": "stderr",
     "output_type": "stream",
     "text": [
      "100%|██████████| 789/789 [00:13<00:00, 58.18it/s]\n"
     ]
    }
   ],
   "source": [
    "time_diffs = {}\n",
    "for st_id in tqdm(train_sorted_start_ids):\n",
    "    t = t_per_station[st_id]\n",
    "    t_prime = t_prime_per_station[st_id] # Need to sort t_prime for likelihood function\n",
    "    time_diffs[st_id] = getTimeDifferences(t, t_prime)"
   ]
  },
  {
   "cell_type": "code",
   "execution_count": 16,
   "metadata": {},
   "outputs": [
    {
     "name": "stdout",
     "output_type": "stream",
     "text": [
      "1\n"
     ]
    },
    {
     "name": "stderr",
     "output_type": "stream",
     "text": [
      "/var/folders/82/t8qzqs6x2f19402hdk543xd80000gn/T/ipykernel_67449/879912918.py:10: RuntimeWarning: overflow encountered in exp\n",
      "  op_m4_log_likelihood = lambda x: m4_log_likelihood(t, t_prime, time_differences, np.exp(x[0]), np.exp(x[0]) + np.exp(x[1]) , np.exp(x[2]), np.exp(x[2] + x[3]), np.exp(x[4]))\n",
      "/var/folders/82/t8qzqs6x2f19402hdk543xd80000gn/T/ipykernel_67449/1452695959.py:55: RuntimeWarning: invalid value encountered in double_scalars\n",
      "  return term1 + term2\n",
      "/var/folders/82/t8qzqs6x2f19402hdk543xd80000gn/T/ipykernel_67449/264851157.py:9: RuntimeWarning: overflow encountered in double_scalars\n",
      "  term1 = lambda_i * t_scalar\n",
      "/Users/carlosperello/Desktop/M2R-Project/M2R_venv/lib/python3.8/site-packages/scipy/optimize/_optimize.py:811: RuntimeWarning: invalid value encountered in subtract\n",
      "  np.max(np.abs(fsim[0] - fsim[1:])) <= fatol):\n"
     ]
    },
    {
     "ename": "KeyboardInterrupt",
     "evalue": "",
     "output_type": "error",
     "traceback": [
      "\u001b[0;31m---------------------------------------------------------------------------\u001b[0m",
      "\u001b[0;31mKeyboardInterrupt\u001b[0m                         Traceback (most recent call last)",
      "\u001b[1;32m/Users/carlosperello/Desktop/M2R-Project/code/fit_m4.ipynb Cell 8'\u001b[0m in \u001b[0;36m<cell line: 2>\u001b[0;34m()\u001b[0m\n\u001b[1;32m      <a href='vscode-notebook-cell:/Users/carlosperello/Desktop/M2R-Project/code/fit_m4.ipynb#ch0000008?line=8'>9</a>\u001b[0m time_differences \u001b[39m=\u001b[39m time_diffs[st_id]\n\u001b[1;32m     <a href='vscode-notebook-cell:/Users/carlosperello/Desktop/M2R-Project/code/fit_m4.ipynb#ch0000008?line=9'>10</a>\u001b[0m op_m4_log_likelihood \u001b[39m=\u001b[39m \u001b[39mlambda\u001b[39;00m x: m4_log_likelihood(t, t_prime, time_differences, np\u001b[39m.\u001b[39mexp(x[\u001b[39m0\u001b[39m]), np\u001b[39m.\u001b[39mexp(x[\u001b[39m0\u001b[39m]) \u001b[39m+\u001b[39m np\u001b[39m.\u001b[39mexp(x[\u001b[39m1\u001b[39m]) , np\u001b[39m.\u001b[39mexp(x[\u001b[39m2\u001b[39m]), np\u001b[39m.\u001b[39mexp(x[\u001b[39m2\u001b[39m] \u001b[39m+\u001b[39m x[\u001b[39m3\u001b[39m]), np\u001b[39m.\u001b[39mexp(x[\u001b[39m4\u001b[39m]))\n\u001b[0;32m---> <a href='vscode-notebook-cell:/Users/carlosperello/Desktop/M2R-Project/code/fit_m4.ipynb#ch0000008?line=10'>11</a>\u001b[0m sol \u001b[39m=\u001b[39m op\u001b[39m.\u001b[39;49mminimize(op_m4_log_likelihood, x0, method\u001b[39m=\u001b[39;49m\u001b[39m\"\u001b[39;49m\u001b[39mNelder-Mead\u001b[39;49m\u001b[39m\"\u001b[39;49m)\n\u001b[1;32m     <a href='vscode-notebook-cell:/Users/carlosperello/Desktop/M2R-Project/code/fit_m4.ipynb#ch0000008?line=11'>12</a>\u001b[0m \u001b[39m# m4_log_likelihood(t, t_prime, time_differences, alpha_i, beta_i, alpha_i_prime, beta_i_prime, lambda_i):\u001b[39;00m\n\u001b[1;32m     <a href='vscode-notebook-cell:/Users/carlosperello/Desktop/M2R-Project/code/fit_m4.ipynb#ch0000008?line=12'>13</a>\u001b[0m \u001b[39m#sol = op.minimize(op_m3_likelihood, x0, method=\"SLSQP\")\u001b[39;00m\n\u001b[1;32m     <a href='vscode-notebook-cell:/Users/carlosperello/Desktop/M2R-Project/code/fit_m4.ipynb#ch0000008?line=13'>14</a>\u001b[0m \u001b[39mif\u001b[39;00m sol\u001b[39m.\u001b[39msuccess:\n",
      "File \u001b[0;32m~/Desktop/M2R-Project/M2R_venv/lib/python3.8/site-packages/scipy/optimize/_minimize.py:680\u001b[0m, in \u001b[0;36mminimize\u001b[0;34m(fun, x0, args, method, jac, hess, hessp, bounds, constraints, tol, callback, options)\u001b[0m\n\u001b[1;32m    <a href='file:///Users/carlosperello/Desktop/M2R-Project/M2R_venv/lib/python3.8/site-packages/scipy/optimize/_minimize.py?line=676'>677</a>\u001b[0m     bounds \u001b[39m=\u001b[39m standardize_bounds(bounds, x0, meth)\n\u001b[1;32m    <a href='file:///Users/carlosperello/Desktop/M2R-Project/M2R_venv/lib/python3.8/site-packages/scipy/optimize/_minimize.py?line=678'>679</a>\u001b[0m \u001b[39mif\u001b[39;00m meth \u001b[39m==\u001b[39m \u001b[39m'\u001b[39m\u001b[39mnelder-mead\u001b[39m\u001b[39m'\u001b[39m:\n\u001b[0;32m--> <a href='file:///Users/carlosperello/Desktop/M2R-Project/M2R_venv/lib/python3.8/site-packages/scipy/optimize/_minimize.py?line=679'>680</a>\u001b[0m     res \u001b[39m=\u001b[39m _minimize_neldermead(fun, x0, args, callback, bounds\u001b[39m=\u001b[39;49mbounds,\n\u001b[1;32m    <a href='file:///Users/carlosperello/Desktop/M2R-Project/M2R_venv/lib/python3.8/site-packages/scipy/optimize/_minimize.py?line=680'>681</a>\u001b[0m                                \u001b[39m*\u001b[39;49m\u001b[39m*\u001b[39;49moptions)\n\u001b[1;32m    <a href='file:///Users/carlosperello/Desktop/M2R-Project/M2R_venv/lib/python3.8/site-packages/scipy/optimize/_minimize.py?line=681'>682</a>\u001b[0m \u001b[39melif\u001b[39;00m meth \u001b[39m==\u001b[39m \u001b[39m'\u001b[39m\u001b[39mpowell\u001b[39m\u001b[39m'\u001b[39m:\n\u001b[1;32m    <a href='file:///Users/carlosperello/Desktop/M2R-Project/M2R_venv/lib/python3.8/site-packages/scipy/optimize/_minimize.py?line=682'>683</a>\u001b[0m     res \u001b[39m=\u001b[39m _minimize_powell(fun, x0, args, callback, bounds, \u001b[39m*\u001b[39m\u001b[39m*\u001b[39moptions)\n",
      "File \u001b[0;32m~/Desktop/M2R-Project/M2R_venv/lib/python3.8/site-packages/scipy/optimize/_optimize.py:855\u001b[0m, in \u001b[0;36m_minimize_neldermead\u001b[0;34m(func, x0, args, callback, maxiter, maxfev, disp, return_all, initial_simplex, xatol, fatol, adaptive, bounds, **unknown_options)\u001b[0m\n\u001b[1;32m    <a href='file:///Users/carlosperello/Desktop/M2R-Project/M2R_venv/lib/python3.8/site-packages/scipy/optimize/_optimize.py?line=852'>853</a>\u001b[0m \u001b[39mif\u001b[39;00m bounds \u001b[39mis\u001b[39;00m \u001b[39mnot\u001b[39;00m \u001b[39mNone\u001b[39;00m:\n\u001b[1;32m    <a href='file:///Users/carlosperello/Desktop/M2R-Project/M2R_venv/lib/python3.8/site-packages/scipy/optimize/_optimize.py?line=853'>854</a>\u001b[0m     xcc \u001b[39m=\u001b[39m np\u001b[39m.\u001b[39mclip(xcc, lower_bound, upper_bound)\n\u001b[0;32m--> <a href='file:///Users/carlosperello/Desktop/M2R-Project/M2R_venv/lib/python3.8/site-packages/scipy/optimize/_optimize.py?line=854'>855</a>\u001b[0m fxcc \u001b[39m=\u001b[39m func(xcc)\n\u001b[1;32m    <a href='file:///Users/carlosperello/Desktop/M2R-Project/M2R_venv/lib/python3.8/site-packages/scipy/optimize/_optimize.py?line=856'>857</a>\u001b[0m \u001b[39mif\u001b[39;00m fxcc \u001b[39m<\u001b[39m fsim[\u001b[39m-\u001b[39m\u001b[39m1\u001b[39m]:\n\u001b[1;32m    <a href='file:///Users/carlosperello/Desktop/M2R-Project/M2R_venv/lib/python3.8/site-packages/scipy/optimize/_optimize.py?line=857'>858</a>\u001b[0m     sim[\u001b[39m-\u001b[39m\u001b[39m1\u001b[39m] \u001b[39m=\u001b[39m xcc\n",
      "File \u001b[0;32m~/Desktop/M2R-Project/M2R_venv/lib/python3.8/site-packages/scipy/optimize/_optimize.py:496\u001b[0m, in \u001b[0;36m_wrap_scalar_function_maxfun_validation.<locals>.function_wrapper\u001b[0;34m(x, *wrapper_args)\u001b[0m\n\u001b[1;32m    <a href='file:///Users/carlosperello/Desktop/M2R-Project/M2R_venv/lib/python3.8/site-packages/scipy/optimize/_optimize.py?line=493'>494</a>\u001b[0m ncalls[\u001b[39m0\u001b[39m] \u001b[39m+\u001b[39m\u001b[39m=\u001b[39m \u001b[39m1\u001b[39m\n\u001b[1;32m    <a href='file:///Users/carlosperello/Desktop/M2R-Project/M2R_venv/lib/python3.8/site-packages/scipy/optimize/_optimize.py?line=494'>495</a>\u001b[0m \u001b[39m# A copy of x is sent to the user function (gh13740)\u001b[39;00m\n\u001b[0;32m--> <a href='file:///Users/carlosperello/Desktop/M2R-Project/M2R_venv/lib/python3.8/site-packages/scipy/optimize/_optimize.py?line=495'>496</a>\u001b[0m fx \u001b[39m=\u001b[39m function(np\u001b[39m.\u001b[39;49mcopy(x), \u001b[39m*\u001b[39;49m(wrapper_args \u001b[39m+\u001b[39;49m args))\n\u001b[1;32m    <a href='file:///Users/carlosperello/Desktop/M2R-Project/M2R_venv/lib/python3.8/site-packages/scipy/optimize/_optimize.py?line=496'>497</a>\u001b[0m \u001b[39m# Ideally, we'd like to a have a true scalar returned from f(x). For\u001b[39;00m\n\u001b[1;32m    <a href='file:///Users/carlosperello/Desktop/M2R-Project/M2R_venv/lib/python3.8/site-packages/scipy/optimize/_optimize.py?line=497'>498</a>\u001b[0m \u001b[39m# backwards-compatibility, also allow np.array([1.3]),\u001b[39;00m\n\u001b[1;32m    <a href='file:///Users/carlosperello/Desktop/M2R-Project/M2R_venv/lib/python3.8/site-packages/scipy/optimize/_optimize.py?line=498'>499</a>\u001b[0m \u001b[39m# np.array([[1.3]]) etc.\u001b[39;00m\n\u001b[1;32m    <a href='file:///Users/carlosperello/Desktop/M2R-Project/M2R_venv/lib/python3.8/site-packages/scipy/optimize/_optimize.py?line=499'>500</a>\u001b[0m \u001b[39mif\u001b[39;00m \u001b[39mnot\u001b[39;00m np\u001b[39m.\u001b[39misscalar(fx):\n",
      "\u001b[1;32m/Users/carlosperello/Desktop/M2R-Project/code/fit_m4.ipynb Cell 8'\u001b[0m in \u001b[0;36m<lambda>\u001b[0;34m(x)\u001b[0m\n\u001b[1;32m      <a href='vscode-notebook-cell:/Users/carlosperello/Desktop/M2R-Project/code/fit_m4.ipynb#ch0000008?line=7'>8</a>\u001b[0m t_prime \u001b[39m=\u001b[39m t_prime_per_station[st_id] \u001b[39m# Need to sort t_prime for likelihood function\u001b[39;00m\n\u001b[1;32m      <a href='vscode-notebook-cell:/Users/carlosperello/Desktop/M2R-Project/code/fit_m4.ipynb#ch0000008?line=8'>9</a>\u001b[0m time_differences \u001b[39m=\u001b[39m time_diffs[st_id]\n\u001b[0;32m---> <a href='vscode-notebook-cell:/Users/carlosperello/Desktop/M2R-Project/code/fit_m4.ipynb#ch0000008?line=9'>10</a>\u001b[0m op_m4_log_likelihood \u001b[39m=\u001b[39m \u001b[39mlambda\u001b[39;00m x: m4_log_likelihood(t, t_prime, time_differences, np\u001b[39m.\u001b[39;49mexp(x[\u001b[39m0\u001b[39;49m]), np\u001b[39m.\u001b[39;49mexp(x[\u001b[39m0\u001b[39;49m]) \u001b[39m+\u001b[39;49m np\u001b[39m.\u001b[39;49mexp(x[\u001b[39m1\u001b[39;49m]) , np\u001b[39m.\u001b[39;49mexp(x[\u001b[39m2\u001b[39;49m]), np\u001b[39m.\u001b[39;49mexp(x[\u001b[39m2\u001b[39;49m] \u001b[39m+\u001b[39;49m x[\u001b[39m3\u001b[39;49m]), np\u001b[39m.\u001b[39;49mexp(x[\u001b[39m4\u001b[39;49m]))\n\u001b[1;32m     <a href='vscode-notebook-cell:/Users/carlosperello/Desktop/M2R-Project/code/fit_m4.ipynb#ch0000008?line=10'>11</a>\u001b[0m sol \u001b[39m=\u001b[39m op\u001b[39m.\u001b[39mminimize(op_m4_log_likelihood, x0, method\u001b[39m=\u001b[39m\u001b[39m\"\u001b[39m\u001b[39mNelder-Mead\u001b[39m\u001b[39m\"\u001b[39m)\n\u001b[1;32m     <a href='vscode-notebook-cell:/Users/carlosperello/Desktop/M2R-Project/code/fit_m4.ipynb#ch0000008?line=11'>12</a>\u001b[0m \u001b[39m# m4_log_likelihood(t, t_prime, time_differences, alpha_i, beta_i, alpha_i_prime, beta_i_prime, lambda_i):\u001b[39;00m\n\u001b[1;32m     <a href='vscode-notebook-cell:/Users/carlosperello/Desktop/M2R-Project/code/fit_m4.ipynb#ch0000008?line=12'>13</a>\u001b[0m \u001b[39m#sol = op.minimize(op_m3_likelihood, x0, method=\"SLSQP\")\u001b[39;00m\n",
      "\u001b[1;32m/Users/carlosperello/Desktop/M2R-Project/code/fit_m4.ipynb Cell 4'\u001b[0m in \u001b[0;36mm4_log_likelihood\u001b[0;34m(t, t_prime, time_differences, alpha_i, beta_i, alpha_i_prime, beta_i_prime, lambda_i)\u001b[0m\n\u001b[1;32m     <a href='vscode-notebook-cell:/Users/carlosperello/Desktop/M2R-Project/code/fit_m4.ipynb#ch0000004?line=42'>43</a>\u001b[0m T \u001b[39m=\u001b[39m t[\u001b[39m-\u001b[39m\u001b[39m1\u001b[39m] \u001b[39m# TODO: Is this how we get big T?\u001b[39;00m\n\u001b[1;32m     <a href='vscode-notebook-cell:/Users/carlosperello/Desktop/M2R-Project/code/fit_m4.ipynb#ch0000004?line=44'>45</a>\u001b[0m \u001b[39m# Get A list\u001b[39;00m\n\u001b[0;32m---> <a href='vscode-notebook-cell:/Users/carlosperello/Desktop/M2R-Project/code/fit_m4.ipynb#ch0000004?line=45'>46</a>\u001b[0m A_ \u001b[39m=\u001b[39m new_A(\u001b[39mlen\u001b[39;49m(t), t, beta_i)\n\u001b[1;32m     <a href='vscode-notebook-cell:/Users/carlosperello/Desktop/M2R-Project/code/fit_m4.ipynb#ch0000004?line=47'>48</a>\u001b[0m \u001b[39m# Get B list \u001b[39;00m\n\u001b[1;32m     <a href='vscode-notebook-cell:/Users/carlosperello/Desktop/M2R-Project/code/fit_m4.ipynb#ch0000004?line=48'>49</a>\u001b[0m B_ \u001b[39m=\u001b[39m new_B(\u001b[39mlen\u001b[39m(t), t, t_prime, beta_i_prime, time_differences)\n",
      "\u001b[1;32m/Users/carlosperello/Desktop/M2R-Project/code/fit_m4.ipynb Cell 4'\u001b[0m in \u001b[0;36mnew_A\u001b[0;34m(h, t, beta)\u001b[0m\n\u001b[1;32m     <a href='vscode-notebook-cell:/Users/carlosperello/Desktop/M2R-Project/code/fit_m4.ipynb#ch0000004?line=27'>28</a>\u001b[0m         A\u001b[39m.\u001b[39mappend(\u001b[39m0\u001b[39m)\n\u001b[1;32m     <a href='vscode-notebook-cell:/Users/carlosperello/Desktop/M2R-Project/code/fit_m4.ipynb#ch0000004?line=28'>29</a>\u001b[0m     \u001b[39melse\u001b[39;00m:\n\u001b[0;32m---> <a href='vscode-notebook-cell:/Users/carlosperello/Desktop/M2R-Project/code/fit_m4.ipynb#ch0000004?line=29'>30</a>\u001b[0m         A\u001b[39m.\u001b[39mappend(np\u001b[39m.\u001b[39;49mexp(\u001b[39m-\u001b[39;49m\u001b[39m1\u001b[39;49m\u001b[39m*\u001b[39;49mbeta\u001b[39m*\u001b[39;49m(t[i\u001b[39m-\u001b[39;49m\u001b[39m1\u001b[39;49m] \u001b[39m-\u001b[39;49m t[i\u001b[39m-\u001b[39;49m\u001b[39m2\u001b[39;49m]))\u001b[39m*\u001b[39m(\u001b[39m1\u001b[39m\u001b[39m+\u001b[39mA[i\u001b[39m-\u001b[39m\u001b[39m2\u001b[39m]))\n\u001b[1;32m     <a href='vscode-notebook-cell:/Users/carlosperello/Desktop/M2R-Project/code/fit_m4.ipynb#ch0000004?line=30'>31</a>\u001b[0m \u001b[39mreturn\u001b[39;00m np\u001b[39m.\u001b[39marray(A)\n",
      "\u001b[0;31mKeyboardInterrupt\u001b[0m: "
     ]
    }
   ],
   "source": [
    "optimal_parameters = {}\n",
    "for st_id in train_sorted_start_ids:\n",
    "    print(st_id)\n",
    "    x0 = [np.log(0.1), np.log(1), np.log(0.2), np.log(2), np.log(0.1)] # np.log(rates_dict[station.start_id.unique()[0]])]\n",
    "\n",
    "    # TODO: What bounds should we use here?\n",
    "    t = t_per_station[st_id]\n",
    "    t_prime = t_prime_per_station[st_id] # Need to sort t_prime for likelihood function\n",
    "    time_differences = time_diffs[st_id]\n",
    "    op_m4_log_likelihood = lambda x: m4_log_likelihood(t, t_prime, time_differences, np.exp(x[0]), np.exp(x[0]) + np.exp(x[1]) , np.exp(x[2]), np.exp(x[2] + x[3]), np.exp(x[4]))\n",
    "    sol = op.minimize(op_m4_log_likelihood, x0, method=\"Nelder-Mead\")\n",
    "    # m4_log_likelihood(t, t_prime, time_differences, alpha_i, beta_i, alpha_i_prime, beta_i_prime, lambda_i):\n",
    "    #sol = op.minimize(op_m3_likelihood, x0, method=\"SLSQP\")\n",
    "    if sol.success:\n",
    "        transformed_alpha = np.exp(sol.x[0])\n",
    "        transformed_beta = np.exp(sol.x[0]) + np.exp(sol.x[1])\n",
    "        transformed_alpha_prime = np.exp(sol.x[2])\n",
    "        transformed_beta_prime = np.exp(sol.x[2]) + np.exp(sol.x[3])\n",
    "        transformed_lambda = np.exp(sol.x[4])\n",
    "        max_params = [transformed_alpha, transformed_beta, transformed_alpha_prime, transformed_beta_prime, transformed_lambda]\n",
    "        optimal_parameters[st_id] = max_params\n",
    "\n",
    "    else:\n",
    "        raise OptimizationError(f\"Failed to converge for station {station}.\")\n",
    "optimal_parameters"
   ]
  },
  {
   "cell_type": "markdown",
   "metadata": {},
   "source": [
    "## Assessing fit for model 4"
   ]
  },
  {
   "cell_type": "markdown",
   "metadata": {},
   "source": []
  }
 ],
 "metadata": {
  "interpreter": {
   "hash": "c982c42cf71dfd9e4fcac0d9653e64d0ee7da81b005f55f464a28429eb0786e0"
  },
  "kernelspec": {
   "display_name": "Python 3.8.9 ('M2R_venv': venv)",
   "language": "python",
   "name": "python3"
  },
  "language_info": {
   "codemirror_mode": {
    "name": "ipython",
    "version": 3
   },
   "file_extension": ".py",
   "mimetype": "text/x-python",
   "name": "python",
   "nbconvert_exporter": "python",
   "pygments_lexer": "ipython3",
   "version": "3.8.9"
  },
  "orig_nbformat": 4
 },
 "nbformat": 4,
 "nbformat_minor": 2
}
