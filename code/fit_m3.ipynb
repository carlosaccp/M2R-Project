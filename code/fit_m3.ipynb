{
 "cells": [
  {
   "cell_type": "code",
   "execution_count": 1,
   "metadata": {},
   "outputs": [],
   "source": [
    "import pandas as pd\n",
    "import numpy as np\n",
    "import matplotlib.pyplot as plt\n",
    "import scipy.stats as st\n",
    "from matplotlib.ticker import FuncFormatter\n",
    "from preprocessing import *\n",
    "import scipy.optimize as op\n",
    "plt.style.use(\"dark_background\") # Config plots for dark mode, delete if on light mode\n",
    "plt.rcParams['figure.dpi'] = 150 # Hi-res plots"
   ]
  },
  {
   "cell_type": "code",
   "execution_count": 39,
   "metadata": {},
   "outputs": [],
   "source": [
    "def Nprime(station_id, t):\n",
    "    filter_end_stations = bike_data[bike_data.end_id == station_id]\n",
    "    return len(filter_end_stations[filter_end_stations.end_time < t])\n",
    "\n",
    "def N(station_id, t):\n",
    "    filter_start_stations = bike_data[bike_data.start_id == station_id]\n",
    "    return len(filter_start_stations[filter_start_stations.start_time < t])\n",
    "\n",
    "def Nmax(station_id):\n",
    "    return bike_data[bike_data.start_id == station_id]\n",
    "\n",
    "def compensator_m3(station_id, t, alpha, beta, lambda_p):\n",
    "    Nprime_comp = Nprime(station_id, t)\n",
    "    summation = (alpha/beta)*np.sum(np.exp(-beta*(t-end_times_per_station_sorted[station_id][:Nprime_comp]))-1)\n",
    "    return lambda_p*t - summation\n",
    "\n",
    "def genB(station_id, beta):\n",
    "    B = [0]\n",
    "    ts = start_times_per_station_sorted[station_id]\n",
    "    tprimes = end_times_per_station_sorted[station_id]\n",
    "    for h in range(1, Nmax(station_id)):\n",
    "        Nprimeh = Nprime(station_id, ts[h])\n",
    "        Nprimeh_minus_one = Nprime(station_id, ts[h-1])\n",
    "        tprimes_trunc = tprimes[Nprimeh_minus_one:Nprimeh]\n",
    "        B_h = np.exp(-beta*(ts[h] - ts[h-1]))*B[h-1] + np.sum(np.exp(-beta*(ts[h] - tprimes_trunc)))\n",
    "        B.append(B_h)\n",
    "    return np.array(B)\n",
    "genB(37, 1)\n",
    "\n",
    "def log_likelihood(station_id, alpha,beta,lambda_p ):\n",
    "    T = start_times_per_station_sorted[station_id][-1]\n",
    "    B = genB(station_id, beta)\n",
    "    trunc_B = B[:Nmax(station_id)]\n",
    "    l_i = np.log(lambda_p + alpha*trunc_B)\n",
    "    return l_i - compensator_m3(station_id, T, alpha, beta, lambda_p)\n",
    "        \n"
   ]
  },
  {
   "cell_type": "code",
   "execution_count": null,
   "metadata": {},
   "outputs": [],
   "source": []
  }
 ],
 "metadata": {
  "interpreter": {
   "hash": "c982c42cf71dfd9e4fcac0d9653e64d0ee7da81b005f55f464a28429eb0786e0"
  },
  "kernelspec": {
   "display_name": "Python 3.8.9 ('M2R_venv': venv)",
   "language": "python",
   "name": "python3"
  },
  "language_info": {
   "codemirror_mode": {
    "name": "ipython",
    "version": 3
   },
   "file_extension": ".py",
   "mimetype": "text/x-python",
   "name": "python",
   "nbconvert_exporter": "python",
   "pygments_lexer": "ipython3",
   "version": "3.8.9"
  },
  "orig_nbformat": 4
 },
 "nbformat": 4,
 "nbformat_minor": 2
}
