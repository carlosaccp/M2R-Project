{
 "cells": [
  {
   "cell_type": "code",
   "execution_count": null,
   "metadata": {},
   "outputs": [],
   "source": [
    "import numpy as np\n",
    "import matplotlib.pyplot as plt\n",
    "from matplotlib.ticker import FuncFormatter\n",
    "from preprocessing import *\n",
    "import scipy.optimize as op\n",
    "plt.style.use(\"dark_background\") # Config plots for dark mode, delete if on light mode\n",
    "plt.rcParams['figure.dpi'] = 150 # Hi-res plots"
   ]
  },
  {
   "cell_type": "code",
   "execution_count": null,
   "metadata": {},
   "outputs": [],
   "source": [
    "def N(t_scalar, t):\n",
    "    \"\"\"\n",
    "    Returns the number of times in t less than or equal to t_scalar.\n",
    "    Is used to compute N(t_i,k) and N'(t_i,k) etc\n",
    "    \"\"\"\n",
    "\n",
    "    return np.searchsorted(t, t_scalar, side=\"right\")\n",
    "\n",
    "\n",
    "def B(h, t, t_prime, beta):\n",
    "\n",
    "    \"\"\"\n",
    "    Returns a list of [B_i(1), ..., B_i(h)]\n",
    "\n",
    "    NOTE: t_prime NEEDS to be sorted here\n",
    "\n",
    "    Note all index variables such as h, k, etc start at 1, like the mathematical notation.\n",
    "    \"\"\"\n",
    "    B = []\n",
    "\n",
    "    # Append base case B_i(1)\n",
    "    B.append(np.sum([np.exp(-1*beta*(t[0] - t_prime[k-1])) for k in range(1, N(t[0], t_prime) + 1)]))\n",
    "\n",
    "    # Append the rest\n",
    "    for l in range(2, h+1):\n",
    "\n",
    "        # First term in recursive formula for B_i(h)\n",
    "        term1 = np.exp(-1*beta*(t[l-1] - t[l-2])) * B[l-2]\n",
    "\n",
    "        # Second term\n",
    "        #term2 = np.sum([np.exp(-1*beta*(t[l-1] - t_prime[k-1])) for k in range(N(t[l-2], t_prime) + 1, N(t[l-1], t_prime) + 1)])\n",
    "\n",
    "        lower = N(t[l-2], t_prime)\n",
    "        upper = N(t[l-1], t_prime)\n",
    "\n",
    "        term2 = np.sum(np.exp(-beta*(t[l-1] - t_prime[lower:upper]))) # IMP: This is the term taking the most time by far\n",
    "\n",
    "        B.append(term1 + term2)\n",
    "\n",
    "    return np.array(B)\n",
    "\n",
    "\n",
    "def compensator_m3(t_scalar, t_prime, lambda_i, alpha_i, beta_i):\n",
    "    \"\"\"\n",
    "    t_scalar: scalar value where Lambda_i(t) is to be evaluated\n",
    "    t_prime: list of arrival times at station i\n",
    "\n",
    "    NOTE: t_prime NEEDS TO BE SORTED HERE.\n",
    "    \"\"\"\n",
    "\n",
    "    term1 = lambda_i * t_scalar\n",
    "    term2 = -(alpha_i / beta_i) * np.sum([np.exp(-beta_i * (t_scalar - t_prime[k-1])) - 1 for k in range(1, N(t_scalar, t_prime) + 1)])\n",
    "\n",
    "    return term1 + term2\n"
   ]
  },
  {
   "cell_type": "code",
   "execution_count": null,
   "metadata": {},
   "outputs": [],
   "source": [
    "def m3_log_likelihood(t, t_prime, alpha_i, beta_i, lambda_i):\n",
    "\n",
    "    \"\"\"\n",
    "    Gives log likelihood of our three parameters. \n",
    "    t: start times from station i\n",
    "    t_prime: end times at station i\n",
    "\n",
    "    NOTE: t_prime NEEDS TO BE SORTED HERE\n",
    "    \"\"\"\n",
    "    \n",
    "    T = t[-1] # TODO: Is this how we get big T? Yes\n",
    "\n",
    "\n",
    "    # Get B list \n",
    "    B_ = np.array(B(len(t), t, t_prime, beta_i))\n",
    "    truncB = B_[0:len(t)+1]\n",
    "\n",
    "    #term1 = np.sum(np.log(lambda_i + alpha_i*B_))\n",
    "    term1 = np.sum(np.log(lambda_i + alpha_i*truncB))\n",
    "    term2 = -compensator_m3(T, t_prime, lambda_i, alpha_i, beta_i)\n",
    "\n",
    "    return term1 + term2\n",
    "\n"
   ]
  },
  {
   "cell_type": "code",
   "execution_count": null,
   "metadata": {},
   "outputs": [],
   "source": [
    "t = t_per_station[1]\n",
    "t_prime = tprime_per_station[1]\n",
    "\n",
    "m3_log_likelihood(t, np.sort(t_prime), 0.1, 1, 0.1)"
   ]
  },
  {
   "cell_type": "code",
   "execution_count": null,
   "metadata": {},
   "outputs": [],
   "source": [
    "sorted_start_ids = np.sort(bike_data.start_id.unique())"
   ]
  },
  {
   "cell_type": "markdown",
   "metadata": {},
   "source": [
    "## Finding the parameters using likelihood optimisation"
   ]
  },
  {
   "cell_type": "code",
   "execution_count": 33,
   "metadata": {},
   "outputs": [
    {
     "ename": "KeyboardInterrupt",
     "evalue": "",
     "output_type": "error",
     "traceback": [
      "\u001b[0;31m---------------------------------------------------------------------------\u001b[0m",
      "\u001b[0;31mKeyboardInterrupt\u001b[0m                         Traceback (most recent call last)",
      "\u001b[1;32m/Users/carlosperello/Desktop/M2R-Project/code/fit_m3.ipynb Cell 7'\u001b[0m in \u001b[0;36m<cell line: 2>\u001b[0;34m()\u001b[0m\n\u001b[1;32m      <a href='vscode-notebook-cell:/Users/carlosperello/Desktop/M2R-Project/code/fit_m3.ipynb#ch0000005?line=8'>9</a>\u001b[0m t_prime \u001b[39m=\u001b[39m tprime_per_station[st_id] \u001b[39m# Need to sort t_prime for likelihood function\u001b[39;00m\n\u001b[1;32m     <a href='vscode-notebook-cell:/Users/carlosperello/Desktop/M2R-Project/code/fit_m3.ipynb#ch0000005?line=10'>11</a>\u001b[0m op_m3_likelihood \u001b[39m=\u001b[39m \u001b[39mlambda\u001b[39;00m x: \u001b[39m-\u001b[39mm3_log_likelihood(t, t_prime, np\u001b[39m.\u001b[39mexp(x[\u001b[39m0\u001b[39m]), np\u001b[39m.\u001b[39mexp(x[\u001b[39m0\u001b[39m]) \u001b[39m+\u001b[39m np\u001b[39m.\u001b[39mexp(x[\u001b[39m1\u001b[39m]), np\u001b[39m.\u001b[39mexp(x[\u001b[39m2\u001b[39m]))\n\u001b[0;32m---> <a href='vscode-notebook-cell:/Users/carlosperello/Desktop/M2R-Project/code/fit_m3.ipynb#ch0000005?line=11'>12</a>\u001b[0m sol \u001b[39m=\u001b[39m op\u001b[39m.\u001b[39;49mminimize(op_m3_likelihood, x0, method\u001b[39m=\u001b[39;49m\u001b[39m\"\u001b[39;49m\u001b[39mNelder-Mead\u001b[39;49m\u001b[39m\"\u001b[39;49m)\n\u001b[1;32m     <a href='vscode-notebook-cell:/Users/carlosperello/Desktop/M2R-Project/code/fit_m3.ipynb#ch0000005?line=12'>13</a>\u001b[0m \u001b[39m#sol = op.minimize(op_m3_likelihood, x0, method=\"SLSQP\")\u001b[39;00m\n\u001b[1;32m     <a href='vscode-notebook-cell:/Users/carlosperello/Desktop/M2R-Project/code/fit_m3.ipynb#ch0000005?line=13'>14</a>\u001b[0m \u001b[39mif\u001b[39;00m sol\u001b[39m.\u001b[39msuccess:\n",
      "File \u001b[0;32m~/Desktop/M2R-Project/M2R_venv/lib/python3.8/site-packages/scipy/optimize/_minimize.py:680\u001b[0m, in \u001b[0;36mminimize\u001b[0;34m(fun, x0, args, method, jac, hess, hessp, bounds, constraints, tol, callback, options)\u001b[0m\n\u001b[1;32m    <a href='file:///Users/carlosperello/Desktop/M2R-Project/M2R_venv/lib/python3.8/site-packages/scipy/optimize/_minimize.py?line=676'>677</a>\u001b[0m     bounds \u001b[39m=\u001b[39m standardize_bounds(bounds, x0, meth)\n\u001b[1;32m    <a href='file:///Users/carlosperello/Desktop/M2R-Project/M2R_venv/lib/python3.8/site-packages/scipy/optimize/_minimize.py?line=678'>679</a>\u001b[0m \u001b[39mif\u001b[39;00m meth \u001b[39m==\u001b[39m \u001b[39m'\u001b[39m\u001b[39mnelder-mead\u001b[39m\u001b[39m'\u001b[39m:\n\u001b[0;32m--> <a href='file:///Users/carlosperello/Desktop/M2R-Project/M2R_venv/lib/python3.8/site-packages/scipy/optimize/_minimize.py?line=679'>680</a>\u001b[0m     res \u001b[39m=\u001b[39m _minimize_neldermead(fun, x0, args, callback, bounds\u001b[39m=\u001b[39;49mbounds,\n\u001b[1;32m    <a href='file:///Users/carlosperello/Desktop/M2R-Project/M2R_venv/lib/python3.8/site-packages/scipy/optimize/_minimize.py?line=680'>681</a>\u001b[0m                                \u001b[39m*\u001b[39;49m\u001b[39m*\u001b[39;49moptions)\n\u001b[1;32m    <a href='file:///Users/carlosperello/Desktop/M2R-Project/M2R_venv/lib/python3.8/site-packages/scipy/optimize/_minimize.py?line=681'>682</a>\u001b[0m \u001b[39melif\u001b[39;00m meth \u001b[39m==\u001b[39m \u001b[39m'\u001b[39m\u001b[39mpowell\u001b[39m\u001b[39m'\u001b[39m:\n\u001b[1;32m    <a href='file:///Users/carlosperello/Desktop/M2R-Project/M2R_venv/lib/python3.8/site-packages/scipy/optimize/_minimize.py?line=682'>683</a>\u001b[0m     res \u001b[39m=\u001b[39m _minimize_powell(fun, x0, args, callback, bounds, \u001b[39m*\u001b[39m\u001b[39m*\u001b[39moptions)\n",
      "File \u001b[0;32m~/Desktop/M2R-Project/M2R_venv/lib/python3.8/site-packages/scipy/optimize/_optimize.py:818\u001b[0m, in \u001b[0;36m_minimize_neldermead\u001b[0;34m(func, x0, args, callback, maxiter, maxfev, disp, return_all, initial_simplex, xatol, fatol, adaptive, bounds, **unknown_options)\u001b[0m\n\u001b[1;32m    <a href='file:///Users/carlosperello/Desktop/M2R-Project/M2R_venv/lib/python3.8/site-packages/scipy/optimize/_optimize.py?line=815'>816</a>\u001b[0m \u001b[39mif\u001b[39;00m bounds \u001b[39mis\u001b[39;00m \u001b[39mnot\u001b[39;00m \u001b[39mNone\u001b[39;00m:\n\u001b[1;32m    <a href='file:///Users/carlosperello/Desktop/M2R-Project/M2R_venv/lib/python3.8/site-packages/scipy/optimize/_optimize.py?line=816'>817</a>\u001b[0m     xr \u001b[39m=\u001b[39m np\u001b[39m.\u001b[39mclip(xr, lower_bound, upper_bound)\n\u001b[0;32m--> <a href='file:///Users/carlosperello/Desktop/M2R-Project/M2R_venv/lib/python3.8/site-packages/scipy/optimize/_optimize.py?line=817'>818</a>\u001b[0m fxr \u001b[39m=\u001b[39m func(xr)\n\u001b[1;32m    <a href='file:///Users/carlosperello/Desktop/M2R-Project/M2R_venv/lib/python3.8/site-packages/scipy/optimize/_optimize.py?line=818'>819</a>\u001b[0m doshrink \u001b[39m=\u001b[39m \u001b[39m0\u001b[39m\n\u001b[1;32m    <a href='file:///Users/carlosperello/Desktop/M2R-Project/M2R_venv/lib/python3.8/site-packages/scipy/optimize/_optimize.py?line=820'>821</a>\u001b[0m \u001b[39mif\u001b[39;00m fxr \u001b[39m<\u001b[39m fsim[\u001b[39m0\u001b[39m]:\n",
      "File \u001b[0;32m~/Desktop/M2R-Project/M2R_venv/lib/python3.8/site-packages/scipy/optimize/_optimize.py:496\u001b[0m, in \u001b[0;36m_wrap_scalar_function_maxfun_validation.<locals>.function_wrapper\u001b[0;34m(x, *wrapper_args)\u001b[0m\n\u001b[1;32m    <a href='file:///Users/carlosperello/Desktop/M2R-Project/M2R_venv/lib/python3.8/site-packages/scipy/optimize/_optimize.py?line=493'>494</a>\u001b[0m ncalls[\u001b[39m0\u001b[39m] \u001b[39m+\u001b[39m\u001b[39m=\u001b[39m \u001b[39m1\u001b[39m\n\u001b[1;32m    <a href='file:///Users/carlosperello/Desktop/M2R-Project/M2R_venv/lib/python3.8/site-packages/scipy/optimize/_optimize.py?line=494'>495</a>\u001b[0m \u001b[39m# A copy of x is sent to the user function (gh13740)\u001b[39;00m\n\u001b[0;32m--> <a href='file:///Users/carlosperello/Desktop/M2R-Project/M2R_venv/lib/python3.8/site-packages/scipy/optimize/_optimize.py?line=495'>496</a>\u001b[0m fx \u001b[39m=\u001b[39m function(np\u001b[39m.\u001b[39;49mcopy(x), \u001b[39m*\u001b[39;49m(wrapper_args \u001b[39m+\u001b[39;49m args))\n\u001b[1;32m    <a href='file:///Users/carlosperello/Desktop/M2R-Project/M2R_venv/lib/python3.8/site-packages/scipy/optimize/_optimize.py?line=496'>497</a>\u001b[0m \u001b[39m# Ideally, we'd like to a have a true scalar returned from f(x). For\u001b[39;00m\n\u001b[1;32m    <a href='file:///Users/carlosperello/Desktop/M2R-Project/M2R_venv/lib/python3.8/site-packages/scipy/optimize/_optimize.py?line=497'>498</a>\u001b[0m \u001b[39m# backwards-compatibility, also allow np.array([1.3]),\u001b[39;00m\n\u001b[1;32m    <a href='file:///Users/carlosperello/Desktop/M2R-Project/M2R_venv/lib/python3.8/site-packages/scipy/optimize/_optimize.py?line=498'>499</a>\u001b[0m \u001b[39m# np.array([[1.3]]) etc.\u001b[39;00m\n\u001b[1;32m    <a href='file:///Users/carlosperello/Desktop/M2R-Project/M2R_venv/lib/python3.8/site-packages/scipy/optimize/_optimize.py?line=499'>500</a>\u001b[0m \u001b[39mif\u001b[39;00m \u001b[39mnot\u001b[39;00m np\u001b[39m.\u001b[39misscalar(fx):\n",
      "\u001b[1;32m/Users/carlosperello/Desktop/M2R-Project/code/fit_m3.ipynb Cell 7'\u001b[0m in \u001b[0;36m<lambda>\u001b[0;34m(x)\u001b[0m\n\u001b[1;32m      <a href='vscode-notebook-cell:/Users/carlosperello/Desktop/M2R-Project/code/fit_m3.ipynb#ch0000005?line=7'>8</a>\u001b[0m t \u001b[39m=\u001b[39m t_per_station[st_id]\n\u001b[1;32m      <a href='vscode-notebook-cell:/Users/carlosperello/Desktop/M2R-Project/code/fit_m3.ipynb#ch0000005?line=8'>9</a>\u001b[0m t_prime \u001b[39m=\u001b[39m tprime_per_station[st_id] \u001b[39m# Need to sort t_prime for likelihood function\u001b[39;00m\n\u001b[0;32m---> <a href='vscode-notebook-cell:/Users/carlosperello/Desktop/M2R-Project/code/fit_m3.ipynb#ch0000005?line=10'>11</a>\u001b[0m op_m3_likelihood \u001b[39m=\u001b[39m \u001b[39mlambda\u001b[39;00m x: \u001b[39m-\u001b[39mm3_log_likelihood(t, t_prime, np\u001b[39m.\u001b[39;49mexp(x[\u001b[39m0\u001b[39;49m]), np\u001b[39m.\u001b[39;49mexp(x[\u001b[39m0\u001b[39;49m]) \u001b[39m+\u001b[39;49m np\u001b[39m.\u001b[39;49mexp(x[\u001b[39m1\u001b[39;49m]), np\u001b[39m.\u001b[39;49mexp(x[\u001b[39m2\u001b[39;49m]))\n\u001b[1;32m     <a href='vscode-notebook-cell:/Users/carlosperello/Desktop/M2R-Project/code/fit_m3.ipynb#ch0000005?line=11'>12</a>\u001b[0m sol \u001b[39m=\u001b[39m op\u001b[39m.\u001b[39mminimize(op_m3_likelihood, x0, method\u001b[39m=\u001b[39m\u001b[39m\"\u001b[39m\u001b[39mNelder-Mead\u001b[39m\u001b[39m\"\u001b[39m)\n\u001b[1;32m     <a href='vscode-notebook-cell:/Users/carlosperello/Desktop/M2R-Project/code/fit_m3.ipynb#ch0000005?line=12'>13</a>\u001b[0m \u001b[39m#sol = op.minimize(op_m3_likelihood, x0, method=\"SLSQP\")\u001b[39;00m\n",
      "\u001b[1;32m/Users/carlosperello/Desktop/M2R-Project/code/fit_m3.ipynb Cell 3'\u001b[0m in \u001b[0;36mm3_log_likelihood\u001b[0;34m(t, t_prime, alpha_i, beta_i, lambda_i)\u001b[0m\n\u001b[1;32m     <a href='vscode-notebook-cell:/Users/carlosperello/Desktop/M2R-Project/code/fit_m3.ipynb#ch0000002?line=10'>11</a>\u001b[0m T \u001b[39m=\u001b[39m t[\u001b[39m-\u001b[39m\u001b[39m1\u001b[39m] \u001b[39m# TODO: Is this how we get big T? Yes\u001b[39;00m\n\u001b[1;32m     <a href='vscode-notebook-cell:/Users/carlosperello/Desktop/M2R-Project/code/fit_m3.ipynb#ch0000002?line=13'>14</a>\u001b[0m \u001b[39m# Get B list \u001b[39;00m\n\u001b[0;32m---> <a href='vscode-notebook-cell:/Users/carlosperello/Desktop/M2R-Project/code/fit_m3.ipynb#ch0000002?line=14'>15</a>\u001b[0m B_ \u001b[39m=\u001b[39m np\u001b[39m.\u001b[39marray(B(\u001b[39mlen\u001b[39;49m(t), t, t_prime, beta_i))\n\u001b[1;32m     <a href='vscode-notebook-cell:/Users/carlosperello/Desktop/M2R-Project/code/fit_m3.ipynb#ch0000002?line=15'>16</a>\u001b[0m truncB \u001b[39m=\u001b[39m B_[\u001b[39m0\u001b[39m:\u001b[39mlen\u001b[39m(t)\u001b[39m+\u001b[39m\u001b[39m1\u001b[39m]\n\u001b[1;32m     <a href='vscode-notebook-cell:/Users/carlosperello/Desktop/M2R-Project/code/fit_m3.ipynb#ch0000002?line=17'>18</a>\u001b[0m \u001b[39m#term1 = np.sum(np.log(lambda_i + alpha_i*B_))\u001b[39;00m\n",
      "\u001b[1;32m/Users/carlosperello/Desktop/M2R-Project/code/fit_m3.ipynb Cell 2'\u001b[0m in \u001b[0;36mB\u001b[0;34m(h, t, t_prime, beta)\u001b[0m\n\u001b[1;32m     <a href='vscode-notebook-cell:/Users/carlosperello/Desktop/M2R-Project/code/fit_m3.ipynb#ch0000001?line=27'>28</a>\u001b[0m term1 \u001b[39m=\u001b[39m np\u001b[39m.\u001b[39mexp(\u001b[39m-\u001b[39m\u001b[39m1\u001b[39m\u001b[39m*\u001b[39mbeta\u001b[39m*\u001b[39m(t[l\u001b[39m-\u001b[39m\u001b[39m1\u001b[39m] \u001b[39m-\u001b[39m t[l\u001b[39m-\u001b[39m\u001b[39m2\u001b[39m])) \u001b[39m*\u001b[39m B[l\u001b[39m-\u001b[39m\u001b[39m2\u001b[39m]\n\u001b[1;32m     <a href='vscode-notebook-cell:/Users/carlosperello/Desktop/M2R-Project/code/fit_m3.ipynb#ch0000001?line=29'>30</a>\u001b[0m \u001b[39m# Second term\u001b[39;00m\n\u001b[1;32m     <a href='vscode-notebook-cell:/Users/carlosperello/Desktop/M2R-Project/code/fit_m3.ipynb#ch0000001?line=30'>31</a>\u001b[0m \u001b[39m#term2 = np.sum([np.exp(-1*beta*(t[l-1] - t_prime[k-1])) for k in range(N(t[l-2], t_prime) + 1, N(t[l-1], t_prime) + 1)])\u001b[39;00m\n\u001b[0;32m---> <a href='vscode-notebook-cell:/Users/carlosperello/Desktop/M2R-Project/code/fit_m3.ipynb#ch0000001?line=32'>33</a>\u001b[0m lower \u001b[39m=\u001b[39m N(t[l\u001b[39m-\u001b[39;49m\u001b[39m2\u001b[39;49m], t_prime)\n\u001b[1;32m     <a href='vscode-notebook-cell:/Users/carlosperello/Desktop/M2R-Project/code/fit_m3.ipynb#ch0000001?line=33'>34</a>\u001b[0m upper \u001b[39m=\u001b[39m N(t[l\u001b[39m-\u001b[39m\u001b[39m1\u001b[39m], t_prime)\n\u001b[1;32m     <a href='vscode-notebook-cell:/Users/carlosperello/Desktop/M2R-Project/code/fit_m3.ipynb#ch0000001?line=35'>36</a>\u001b[0m term2 \u001b[39m=\u001b[39m np\u001b[39m.\u001b[39msum(np\u001b[39m.\u001b[39mexp(\u001b[39m-\u001b[39mbeta\u001b[39m*\u001b[39m(t[l\u001b[39m-\u001b[39m\u001b[39m1\u001b[39m] \u001b[39m-\u001b[39m t_prime[lower:upper]))) \u001b[39m# IMP: This is the term taking the most time by far\u001b[39;00m\n",
      "\u001b[1;32m/Users/carlosperello/Desktop/M2R-Project/code/fit_m3.ipynb Cell 2'\u001b[0m in \u001b[0;36mN\u001b[0;34m(t_scalar, t)\u001b[0m\n\u001b[1;32m      <a href='vscode-notebook-cell:/Users/carlosperello/Desktop/M2R-Project/code/fit_m3.ipynb#ch0000001?line=0'>1</a>\u001b[0m \u001b[39mdef\u001b[39;00m \u001b[39mN\u001b[39m(t_scalar, t):\n\u001b[1;32m      <a href='vscode-notebook-cell:/Users/carlosperello/Desktop/M2R-Project/code/fit_m3.ipynb#ch0000001?line=1'>2</a>\u001b[0m     \u001b[39m\"\"\"\u001b[39;00m\n\u001b[1;32m      <a href='vscode-notebook-cell:/Users/carlosperello/Desktop/M2R-Project/code/fit_m3.ipynb#ch0000001?line=2'>3</a>\u001b[0m \u001b[39m    Returns the number of times in t less than or equal to t_scalar.\u001b[39;00m\n\u001b[1;32m      <a href='vscode-notebook-cell:/Users/carlosperello/Desktop/M2R-Project/code/fit_m3.ipynb#ch0000001?line=3'>4</a>\u001b[0m \u001b[39m    Is used to compute N(t_i,k) and N'(t_i,k) etc\u001b[39;00m\n\u001b[1;32m      <a href='vscode-notebook-cell:/Users/carlosperello/Desktop/M2R-Project/code/fit_m3.ipynb#ch0000001?line=4'>5</a>\u001b[0m \u001b[39m    \"\"\"\u001b[39;00m\n\u001b[0;32m----> <a href='vscode-notebook-cell:/Users/carlosperello/Desktop/M2R-Project/code/fit_m3.ipynb#ch0000001?line=6'>7</a>\u001b[0m     \u001b[39mreturn\u001b[39;00m np\u001b[39m.\u001b[39;49msearchsorted(t, t_scalar, side\u001b[39m=\u001b[39;49m\u001b[39m\"\u001b[39;49m\u001b[39mright\u001b[39;49m\u001b[39m\"\u001b[39;49m)\n",
      "File \u001b[0;32m<__array_function__ internals>:180\u001b[0m, in \u001b[0;36msearchsorted\u001b[0;34m(*args, **kwargs)\u001b[0m\n",
      "File \u001b[0;32m~/Desktop/M2R-Project/M2R_venv/lib/python3.8/site-packages/numpy/core/fromnumeric.py:1319\u001b[0m, in \u001b[0;36msearchsorted\u001b[0;34m(a, v, side, sorter)\u001b[0m\n\u001b[1;32m   <a href='file:///Users/carlosperello/Desktop/M2R-Project/M2R_venv/lib/python3.8/site-packages/numpy/core/fromnumeric.py?line=1314'>1315</a>\u001b[0m \u001b[39mdef\u001b[39;00m \u001b[39m_searchsorted_dispatcher\u001b[39m(a, v, side\u001b[39m=\u001b[39m\u001b[39mNone\u001b[39;00m, sorter\u001b[39m=\u001b[39m\u001b[39mNone\u001b[39;00m):\n\u001b[1;32m   <a href='file:///Users/carlosperello/Desktop/M2R-Project/M2R_venv/lib/python3.8/site-packages/numpy/core/fromnumeric.py?line=1315'>1316</a>\u001b[0m     \u001b[39mreturn\u001b[39;00m (a, v, sorter)\n\u001b[0;32m-> <a href='file:///Users/carlosperello/Desktop/M2R-Project/M2R_venv/lib/python3.8/site-packages/numpy/core/fromnumeric.py?line=1318'>1319</a>\u001b[0m \u001b[39m@array_function_dispatch\u001b[39m(_searchsorted_dispatcher)\n\u001b[1;32m   <a href='file:///Users/carlosperello/Desktop/M2R-Project/M2R_venv/lib/python3.8/site-packages/numpy/core/fromnumeric.py?line=1319'>1320</a>\u001b[0m \u001b[39mdef\u001b[39;00m \u001b[39msearchsorted\u001b[39m(a, v, side\u001b[39m=\u001b[39m\u001b[39m'\u001b[39m\u001b[39mleft\u001b[39m\u001b[39m'\u001b[39m, sorter\u001b[39m=\u001b[39m\u001b[39mNone\u001b[39;00m):\n\u001b[1;32m   <a href='file:///Users/carlosperello/Desktop/M2R-Project/M2R_venv/lib/python3.8/site-packages/numpy/core/fromnumeric.py?line=1320'>1321</a>\u001b[0m     \u001b[39m\"\"\"\u001b[39;00m\n\u001b[1;32m   <a href='file:///Users/carlosperello/Desktop/M2R-Project/M2R_venv/lib/python3.8/site-packages/numpy/core/fromnumeric.py?line=1321'>1322</a>\u001b[0m \u001b[39m    Find indices where elements should be inserted to maintain order.\u001b[39;00m\n\u001b[1;32m   <a href='file:///Users/carlosperello/Desktop/M2R-Project/M2R_venv/lib/python3.8/site-packages/numpy/core/fromnumeric.py?line=1322'>1323</a>\u001b[0m \n\u001b[0;32m   (...)\u001b[0m\n\u001b[1;32m   <a href='file:///Users/carlosperello/Desktop/M2R-Project/M2R_venv/lib/python3.8/site-packages/numpy/core/fromnumeric.py?line=1384'>1385</a>\u001b[0m \n\u001b[1;32m   <a href='file:///Users/carlosperello/Desktop/M2R-Project/M2R_venv/lib/python3.8/site-packages/numpy/core/fromnumeric.py?line=1385'>1386</a>\u001b[0m \u001b[39m    \"\"\"\u001b[39;00m\n\u001b[1;32m   <a href='file:///Users/carlosperello/Desktop/M2R-Project/M2R_venv/lib/python3.8/site-packages/numpy/core/fromnumeric.py?line=1386'>1387</a>\u001b[0m     \u001b[39mreturn\u001b[39;00m _wrapfunc(a, \u001b[39m'\u001b[39m\u001b[39msearchsorted\u001b[39m\u001b[39m'\u001b[39m, v, side\u001b[39m=\u001b[39mside, sorter\u001b[39m=\u001b[39msorter)\n",
      "\u001b[0;31mKeyboardInterrupt\u001b[0m: "
     ]
    }
   ],
   "source": [
    "optimal_parameters = {}\n",
    "for st_id in sorted_start_ids:\n",
    "    print(st_id)\n",
    "    x0 = [np.log(0.01), np.log(0.1), np.log(0.1)] # np.log(rates_dict[station.start_id.unique()[0]])]\n",
    "\n",
    "    # TODO: What bounds should we use here?\n",
    "\n",
    "    t = t_per_station[st_id]\n",
    "    t_prime = tprime_per_station[st_id] # Need to sort t_prime for likelihood function\n",
    "\n",
    "    op_m3_likelihood = lambda x: -m3_log_likelihood(t, t_prime, np.exp(x[0]), np.exp(x[0]) + np.exp(x[1]), np.exp(x[2]))\n",
    "    sol = op.minimize(op_m3_likelihood, x0, method=\"Nelder-Mead\")\n",
    "    #sol = op.minimize(op_m3_likelihood, x0, method=\"SLSQP\")\n",
    "    if sol.success:\n",
    "        transformed_alpha = np.exp(sol.x[0])\n",
    "        transformed_beta = np.exp(sol.x[1]) + np.exp(sol.x[0])\n",
    "        transformed_lambda = np.exp(sol.x[2])\n",
    "        max_params = [transformed_alpha, transformed_beta, transformed_lambda]\n",
    "        optimal_parameters[st_id] = max_params\n",
    "\n",
    "    else:\n",
    "        raise OptimizationError(f\"Failed to converge for station {station}.\")\n",
    "optimal_parameters"
   ]
  },
  {
   "cell_type": "code",
   "execution_count": null,
   "metadata": {},
   "outputs": [],
   "source": [
    "\n",
    "optimal_parameters = {}\n",
    "for station in train_sorted_stations_start:\n",
    "    print(station.start_id.to_numpy()[0])\n",
    "    x0 = [0.1, 1, 0.1] # np.log(rates_dict[station.start_id.unique()[0]])]\n",
    "\n",
    "    t = station.start_time.to_numpy()\n",
    "    t_prime = np.sort(station.end_time.to_numpy()) # Need to sort t_prime for likelihood function\n",
    "\n",
    "    op_m3_likelihood = lambda x: -m3_log_likelihood(t, t_prime, x[0], x[1], x[2])\n",
    "    bounds = ((0.0000001, 10), (0.0000001, 10), (0.0000001, 10))\n",
    "    #sol = op.minimize(op_m3_likelihood, x0, method=\"Nelder-Mead\", bounds=bounds)\n",
    "    sol = op.minimize(op_m3_likelihood, x0, method=\"SLSQP\", bounds=bounds)\n",
    "    if sol.success:\n",
    "        max_params = sol.x\n",
    "        optimal_parameters[station.start_id.unique()[0]] = max_params\n",
    "\n",
    "    else:\n",
    "        raise OptimizationError(f\"Failed to converge.\")\n",
    "optimal_parameters"
   ]
  },
  {
   "cell_type": "markdown",
   "metadata": {},
   "source": [
    "## Assessing fit for model 3"
   ]
  },
  {
   "cell_type": "markdown",
   "metadata": {},
   "source": []
  }
 ],
 "metadata": {
  "interpreter": {
   "hash": "c982c42cf71dfd9e4fcac0d9653e64d0ee7da81b005f55f464a28429eb0786e0"
  },
  "kernelspec": {
   "display_name": "Python 3.8.9 ('M2R_venv': venv)",
   "language": "python",
   "name": "python3"
  },
  "language_info": {
   "codemirror_mode": {
    "name": "ipython",
    "version": 3
   },
   "file_extension": ".py",
   "mimetype": "text/x-python",
   "name": "python",
   "nbconvert_exporter": "python",
   "pygments_lexer": "ipython3",
   "version": "3.8.9"
  },
  "orig_nbformat": 4
 },
 "nbformat": 4,
 "nbformat_minor": 2
}
