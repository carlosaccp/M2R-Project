{
 "cells": [
  {
   "cell_type": "code",
   "execution_count": 1,
   "metadata": {},
   "outputs": [],
   "source": [
    "import pandas as pd\n",
    "import numpy as np\n",
    "import matplotlib.pyplot as plt\n",
    "import scipy.stats as st\n",
    "from matplotlib.ticker import FuncFormatter\n",
    "from preprocessing import *\n",
    "import scipy.optimize as op\n",
    "plt.style.use(\"dark_background\") # Config plots for dark mode, delete if on light mode\n",
    "plt.rcParams['figure.dpi'] = 150 # Hi-res plots"
   ]
  },
  {
   "cell_type": "code",
   "execution_count": 2,
   "metadata": {},
   "outputs": [],
   "source": [
    "def N(t_scalar, t):\n",
    "    \"\"\"\n",
    "    Returns the number of times in t less than or equal to t_scalar.\n",
    "    Is used to compute N(t_i,k) and N'(t_i,k) etc\n",
    "    \"\"\"\n",
    "\n",
    "    return np.searchsorted(t, t_scalar, side=\"right\")\n",
    "\n",
    "\n",
    "def B(h, t, t_prime, beta):\n",
    "\n",
    "    \"\"\"\n",
    "    Returns a list of [B_i(1), ..., B_i(h)]\n",
    "\n",
    "    NOTE: t_prime NEEDS to be sorted here\n",
    "\n",
    "    Note all index variables such as h, k, etc start at 1, like the mathematical notation.\n",
    "    \"\"\"\n",
    "    B = []\n",
    "\n",
    "    # Append base case B_i(1)\n",
    "    B.append(np.sum([np.exp(-1*beta*(t[0] - t_prime[k-1])) for k in range(1, N(t[0], t_prime) + 1)]))\n",
    "\n",
    "    # Append the rest\n",
    "    for l in range(2, h+1):\n",
    "\n",
    "        # First term in recursive formula for B_i(h)\n",
    "        term1 = np.exp(-1*beta*(t[l-1] - t[l-2])) * B[l-2]\n",
    "\n",
    "        # Second term\n",
    "        #term2 = np.sum([np.exp(-1*beta*(t[l-1] - t_prime[k-1])) for k in range(N(t[l-2], t_prime) + 1, N(t[l-1], t_prime) + 1)])\n",
    "\n",
    "        lower = N(t[l-2], t_prime)\n",
    "        upper = N(t[l-1], t_prime)\n",
    "\n",
    "        term2 = np.sum(np.exp(-1*beta*(t[l-1] - t_prime[lower:upper]))) # IMP: This is the term taking the most time by far\n",
    "\n",
    "        B.append(term1 + term2)\n",
    "\n",
    "    return B\n",
    "\n",
    "\n",
    "def compensator_m3(t_scalar, t_prime, lambda_i, alpha_i, beta_i):\n",
    "    \"\"\"\n",
    "    t_scalar: scalar value where Lambda_i(t) is to be evaluated\n",
    "    t_prime: list of arrival times at station i\n",
    "\n",
    "    NOTE: t_prime NEEDS TO BE SORTED HERE.\n",
    "    \"\"\"\n",
    "\n",
    "    term1 = lambda_i * t_scalar\n",
    "    term2 = -(alpha_i / beta_i) * np.sum([np.exp(-beta_i * (t_scalar - t_prime[k-1])) - 1 for k in range(1, N(t_scalar, t_prime) + 1)])\n",
    "\n",
    "    return term1 + term2\n"
   ]
  },
  {
   "cell_type": "code",
   "execution_count": 5,
   "metadata": {},
   "outputs": [],
   "source": [
    "def m3_log_likelihood(t, t_prime, alpha_i, beta_i, lambda_i):\n",
    "\n",
    "    \"\"\"\n",
    "    Gives log likelihood of our three parameters. \n",
    "    t: start times from station i\n",
    "    t_prime: end times at station i\n",
    "\n",
    "    NOTE: t_prime NEEDS TO BE SORTED HERE\n",
    "    \"\"\"\n",
    "    \n",
    "    T = t[-1] # TODO: Is this how we get big T?\n",
    "\n",
    "\n",
    "    # Get B list \n",
    "    B_ = np.array(B(len(t), t, t_prime, beta_i))\n",
    "\n",
    "    #term1 = np.sum(np.log(lambda_i + alpha_i*B_))\n",
    "    term1 = np.sum([np.log(lambda_i + alpha_i*B_[j-1]) for j in range(1, len(t) + 1)])\n",
    "\n",
    "    term2 = -1 * compensator_m3(T, t_prime, lambda_i, alpha_i, beta_i)\n",
    "\n",
    "    return term1 + term2\n",
    "\n"
   ]
  },
  {
   "cell_type": "code",
   "execution_count": 6,
   "metadata": {},
   "outputs": [
    {
     "data": {
      "text/plain": [
       "-16139.950140050132"
      ]
     },
     "execution_count": 6,
     "metadata": {},
     "output_type": "execute_result"
    }
   ],
   "source": [
    "t = train_sorted_stations_start[0].start_time.to_numpy()\n",
    "t_prime = train_sorted_stations_start[0].end_time.to_numpy()\n",
    "\n",
    "m3_log_likelihood(t, np.sort(t_prime), 0.1, 1, 0.1)"
   ]
  },
  {
   "cell_type": "markdown",
   "metadata": {},
   "source": [
    "## Finding the parameters using likelihood optimisation"
   ]
  },
  {
   "cell_type": "code",
   "execution_count": 8,
   "metadata": {},
   "outputs": [
    {
     "name": "stdout",
     "output_type": "stream",
     "text": [
      "1\n",
      "2\n",
      "3\n",
      "4\n",
      "5\n"
     ]
    }
   ],
   "source": [
    "optimal_parameters = {}\n",
    "for station in train_sorted_stations_start:\n",
    "    print(station.start_id.to_numpy()[0])\n",
    "    x0 = [np.log(0.1), np.log(1), np.log(0.1)] # np.log(rates_dict[station.start_id.unique()[0]])]\n",
    "\n",
    "    # TODO: What bounds should we use here?\n",
    "\n",
    "    t = station.start_time.to_numpy()\n",
    "    t_prime = np.sort(station.end_time.to_numpy()) # Need to sort t_prime for likelihood function\n",
    "\n",
    "    op_m3_likelihood = lambda x: -m3_log_likelihood(t, t_prime, np.exp(x[0]), np.exp(x[0]) + np.exp(x[1]), np.exp(x[2]))\n",
    "    sol = op.minimize(op_m3_likelihood, x0, method=\"Nelder-Mead\")\n",
    "    #sol = op.minimize(op_m3_likelihood, x0, method=\"SLSQP\")\n",
    "    if sol.success:\n",
    "        transformed_alpha = np.exp(sol.x[0])\n",
    "        transformed_beta = np.exp(sol.x[1]) + np.exp(sol.x[0])\n",
    "        transformed_lambda = np.exp(sol.x[2])\n",
    "        max_params = [transformed_alpha, transformed_beta, transformed_lambda]\n",
    "        optimal_parameters[station.start_id.unique()[0]] = max_params\n",
    "\n",
    "    else:\n",
    "        raise OptimizationError(f\"Failed to converge for station {station}.\")\n",
    "optimal_parameters"
   ]
  },
  {
   "cell_type": "code",
   "execution_count": 7,
   "metadata": {},
   "outputs": [
    {
     "name": "stdout",
     "output_type": "stream",
     "text": [
      "1\n",
      "2\n"
     ]
    },
    {
     "name": "stderr",
     "output_type": "stream",
     "text": [
      "/Users/carlosperello/Desktop/M2R-Project/M2R_venv/lib/python3.8/site-packages/scipy/optimize/_optimize.py:284: RuntimeWarning: Values in x were outside bounds during a minimize step, clipping to bounds\n",
      "  warnings.warn(\"Values in x were outside bounds during a \"\n"
     ]
    },
    {
     "name": "stdout",
     "output_type": "stream",
     "text": [
      "3\n",
      "4\n",
      "5\n",
      "6\n",
      "7\n",
      "8\n"
     ]
    },
    {
     "ename": "KeyboardInterrupt",
     "evalue": "",
     "output_type": "error",
     "traceback": [
      "\u001b[0;31m---------------------------------------------------------------------------\u001b[0m",
      "\u001b[0;31mKeyboardInterrupt\u001b[0m                         Traceback (most recent call last)",
      "\u001b[1;32m/Users/carlosperello/Desktop/M2R-Project/code/fit_m3.ipynb Cell 7'\u001b[0m in \u001b[0;36m<cell line: 2>\u001b[0;34m()\u001b[0m\n\u001b[1;32m     <a href='vscode-notebook-cell:/Users/carlosperello/Desktop/M2R-Project/code/fit_m3.ipynb#ch0000008?line=9'>10</a>\u001b[0m bounds \u001b[39m=\u001b[39m ((\u001b[39m0.0000001\u001b[39m, \u001b[39m10\u001b[39m), (\u001b[39m0.0000001\u001b[39m, \u001b[39m10\u001b[39m), (\u001b[39m0.0000001\u001b[39m, \u001b[39m10\u001b[39m))\n\u001b[1;32m     <a href='vscode-notebook-cell:/Users/carlosperello/Desktop/M2R-Project/code/fit_m3.ipynb#ch0000008?line=10'>11</a>\u001b[0m \u001b[39m#sol = op.minimize(op_m3_likelihood, x0, method=\"Nelder-Mead\", bounds=bounds)\u001b[39;00m\n\u001b[0;32m---> <a href='vscode-notebook-cell:/Users/carlosperello/Desktop/M2R-Project/code/fit_m3.ipynb#ch0000008?line=11'>12</a>\u001b[0m sol \u001b[39m=\u001b[39m op\u001b[39m.\u001b[39;49mminimize(op_m3_likelihood, x0, method\u001b[39m=\u001b[39;49m\u001b[39m\"\u001b[39;49m\u001b[39mSLSQP\u001b[39;49m\u001b[39m\"\u001b[39;49m, bounds\u001b[39m=\u001b[39;49mbounds)\n\u001b[1;32m     <a href='vscode-notebook-cell:/Users/carlosperello/Desktop/M2R-Project/code/fit_m3.ipynb#ch0000008?line=12'>13</a>\u001b[0m \u001b[39mif\u001b[39;00m sol\u001b[39m.\u001b[39msuccess:\n\u001b[1;32m     <a href='vscode-notebook-cell:/Users/carlosperello/Desktop/M2R-Project/code/fit_m3.ipynb#ch0000008?line=13'>14</a>\u001b[0m     max_params \u001b[39m=\u001b[39m sol\u001b[39m.\u001b[39mx\n",
      "File \u001b[0;32m~/Desktop/M2R-Project/M2R_venv/lib/python3.8/site-packages/scipy/optimize/_minimize.py:701\u001b[0m, in \u001b[0;36mminimize\u001b[0;34m(fun, x0, args, method, jac, hess, hessp, bounds, constraints, tol, callback, options)\u001b[0m\n\u001b[1;32m    <a href='file:///Users/carlosperello/Desktop/M2R-Project/M2R_venv/lib/python3.8/site-packages/scipy/optimize/_minimize.py?line=697'>698</a>\u001b[0m     res \u001b[39m=\u001b[39m _minimize_cobyla(fun, x0, args, constraints, callback\u001b[39m=\u001b[39mcallback,\n\u001b[1;32m    <a href='file:///Users/carlosperello/Desktop/M2R-Project/M2R_venv/lib/python3.8/site-packages/scipy/optimize/_minimize.py?line=698'>699</a>\u001b[0m                             \u001b[39m*\u001b[39m\u001b[39m*\u001b[39moptions)\n\u001b[1;32m    <a href='file:///Users/carlosperello/Desktop/M2R-Project/M2R_venv/lib/python3.8/site-packages/scipy/optimize/_minimize.py?line=699'>700</a>\u001b[0m \u001b[39melif\u001b[39;00m meth \u001b[39m==\u001b[39m \u001b[39m'\u001b[39m\u001b[39mslsqp\u001b[39m\u001b[39m'\u001b[39m:\n\u001b[0;32m--> <a href='file:///Users/carlosperello/Desktop/M2R-Project/M2R_venv/lib/python3.8/site-packages/scipy/optimize/_minimize.py?line=700'>701</a>\u001b[0m     res \u001b[39m=\u001b[39m _minimize_slsqp(fun, x0, args, jac, bounds,\n\u001b[1;32m    <a href='file:///Users/carlosperello/Desktop/M2R-Project/M2R_venv/lib/python3.8/site-packages/scipy/optimize/_minimize.py?line=701'>702</a>\u001b[0m                           constraints, callback\u001b[39m=\u001b[39;49mcallback, \u001b[39m*\u001b[39;49m\u001b[39m*\u001b[39;49moptions)\n\u001b[1;32m    <a href='file:///Users/carlosperello/Desktop/M2R-Project/M2R_venv/lib/python3.8/site-packages/scipy/optimize/_minimize.py?line=702'>703</a>\u001b[0m \u001b[39melif\u001b[39;00m meth \u001b[39m==\u001b[39m \u001b[39m'\u001b[39m\u001b[39mtrust-constr\u001b[39m\u001b[39m'\u001b[39m:\n\u001b[1;32m    <a href='file:///Users/carlosperello/Desktop/M2R-Project/M2R_venv/lib/python3.8/site-packages/scipy/optimize/_minimize.py?line=703'>704</a>\u001b[0m     res \u001b[39m=\u001b[39m _minimize_trustregion_constr(fun, x0, args, jac, hess, hessp,\n\u001b[1;32m    <a href='file:///Users/carlosperello/Desktop/M2R-Project/M2R_venv/lib/python3.8/site-packages/scipy/optimize/_minimize.py?line=704'>705</a>\u001b[0m                                        bounds, constraints,\n\u001b[1;32m    <a href='file:///Users/carlosperello/Desktop/M2R-Project/M2R_venv/lib/python3.8/site-packages/scipy/optimize/_minimize.py?line=705'>706</a>\u001b[0m                                        callback\u001b[39m=\u001b[39mcallback, \u001b[39m*\u001b[39m\u001b[39m*\u001b[39moptions)\n",
      "File \u001b[0;32m~/Desktop/M2R-Project/M2R_venv/lib/python3.8/site-packages/scipy/optimize/_slsqp_py.py:432\u001b[0m, in \u001b[0;36m_minimize_slsqp\u001b[0;34m(func, x0, args, jac, bounds, constraints, maxiter, ftol, iprint, disp, eps, callback, finite_diff_rel_step, **unknown_options)\u001b[0m\n\u001b[1;32m    <a href='file:///Users/carlosperello/Desktop/M2R-Project/M2R_venv/lib/python3.8/site-packages/scipy/optimize/_slsqp_py.py?line=428'>429</a>\u001b[0m     c \u001b[39m=\u001b[39m _eval_constraint(x, cons)\n\u001b[1;32m    <a href='file:///Users/carlosperello/Desktop/M2R-Project/M2R_venv/lib/python3.8/site-packages/scipy/optimize/_slsqp_py.py?line=430'>431</a>\u001b[0m \u001b[39mif\u001b[39;00m mode \u001b[39m==\u001b[39m \u001b[39m-\u001b[39m\u001b[39m1\u001b[39m:  \u001b[39m# gradient evaluation required\u001b[39;00m\n\u001b[0;32m--> <a href='file:///Users/carlosperello/Desktop/M2R-Project/M2R_venv/lib/python3.8/site-packages/scipy/optimize/_slsqp_py.py?line=431'>432</a>\u001b[0m     g \u001b[39m=\u001b[39m append(wrapped_grad(x), \u001b[39m0.0\u001b[39m)\n\u001b[1;32m    <a href='file:///Users/carlosperello/Desktop/M2R-Project/M2R_venv/lib/python3.8/site-packages/scipy/optimize/_slsqp_py.py?line=432'>433</a>\u001b[0m     a \u001b[39m=\u001b[39m _eval_con_normals(x, cons, la, n, m, meq, mieq)\n\u001b[1;32m    <a href='file:///Users/carlosperello/Desktop/M2R-Project/M2R_venv/lib/python3.8/site-packages/scipy/optimize/_slsqp_py.py?line=434'>435</a>\u001b[0m \u001b[39mif\u001b[39;00m majiter \u001b[39m>\u001b[39m majiter_prev:\n\u001b[1;32m    <a href='file:///Users/carlosperello/Desktop/M2R-Project/M2R_venv/lib/python3.8/site-packages/scipy/optimize/_slsqp_py.py?line=435'>436</a>\u001b[0m     \u001b[39m# call callback if major iteration has incremented\u001b[39;00m\n",
      "File \u001b[0;32m~/Desktop/M2R-Project/M2R_venv/lib/python3.8/site-packages/scipy/optimize/_optimize.py:277\u001b[0m, in \u001b[0;36m_clip_x_for_func.<locals>.eval\u001b[0;34m(x)\u001b[0m\n\u001b[1;32m    <a href='file:///Users/carlosperello/Desktop/M2R-Project/M2R_venv/lib/python3.8/site-packages/scipy/optimize/_optimize.py?line=274'>275</a>\u001b[0m \u001b[39mdef\u001b[39;00m \u001b[39meval\u001b[39m(x):\n\u001b[1;32m    <a href='file:///Users/carlosperello/Desktop/M2R-Project/M2R_venv/lib/python3.8/site-packages/scipy/optimize/_optimize.py?line=275'>276</a>\u001b[0m     x \u001b[39m=\u001b[39m _check_clip_x(x, bounds)\n\u001b[0;32m--> <a href='file:///Users/carlosperello/Desktop/M2R-Project/M2R_venv/lib/python3.8/site-packages/scipy/optimize/_optimize.py?line=276'>277</a>\u001b[0m     \u001b[39mreturn\u001b[39;00m func(x)\n",
      "File \u001b[0;32m~/Desktop/M2R-Project/M2R_venv/lib/python3.8/site-packages/scipy/optimize/_differentiable_functions.py:273\u001b[0m, in \u001b[0;36mScalarFunction.grad\u001b[0;34m(self, x)\u001b[0m\n\u001b[1;32m    <a href='file:///Users/carlosperello/Desktop/M2R-Project/M2R_venv/lib/python3.8/site-packages/scipy/optimize/_differentiable_functions.py?line=270'>271</a>\u001b[0m \u001b[39mif\u001b[39;00m \u001b[39mnot\u001b[39;00m np\u001b[39m.\u001b[39marray_equal(x, \u001b[39mself\u001b[39m\u001b[39m.\u001b[39mx):\n\u001b[1;32m    <a href='file:///Users/carlosperello/Desktop/M2R-Project/M2R_venv/lib/python3.8/site-packages/scipy/optimize/_differentiable_functions.py?line=271'>272</a>\u001b[0m     \u001b[39mself\u001b[39m\u001b[39m.\u001b[39m_update_x_impl(x)\n\u001b[0;32m--> <a href='file:///Users/carlosperello/Desktop/M2R-Project/M2R_venv/lib/python3.8/site-packages/scipy/optimize/_differentiable_functions.py?line=272'>273</a>\u001b[0m \u001b[39mself\u001b[39;49m\u001b[39m.\u001b[39;49m_update_grad()\n\u001b[1;32m    <a href='file:///Users/carlosperello/Desktop/M2R-Project/M2R_venv/lib/python3.8/site-packages/scipy/optimize/_differentiable_functions.py?line=273'>274</a>\u001b[0m \u001b[39mreturn\u001b[39;00m \u001b[39mself\u001b[39m\u001b[39m.\u001b[39mg\n",
      "File \u001b[0;32m~/Desktop/M2R-Project/M2R_venv/lib/python3.8/site-packages/scipy/optimize/_differentiable_functions.py:256\u001b[0m, in \u001b[0;36mScalarFunction._update_grad\u001b[0;34m(self)\u001b[0m\n\u001b[1;32m    <a href='file:///Users/carlosperello/Desktop/M2R-Project/M2R_venv/lib/python3.8/site-packages/scipy/optimize/_differentiable_functions.py?line=253'>254</a>\u001b[0m \u001b[39mdef\u001b[39;00m \u001b[39m_update_grad\u001b[39m(\u001b[39mself\u001b[39m):\n\u001b[1;32m    <a href='file:///Users/carlosperello/Desktop/M2R-Project/M2R_venv/lib/python3.8/site-packages/scipy/optimize/_differentiable_functions.py?line=254'>255</a>\u001b[0m     \u001b[39mif\u001b[39;00m \u001b[39mnot\u001b[39;00m \u001b[39mself\u001b[39m\u001b[39m.\u001b[39mg_updated:\n\u001b[0;32m--> <a href='file:///Users/carlosperello/Desktop/M2R-Project/M2R_venv/lib/python3.8/site-packages/scipy/optimize/_differentiable_functions.py?line=255'>256</a>\u001b[0m         \u001b[39mself\u001b[39;49m\u001b[39m.\u001b[39;49m_update_grad_impl()\n\u001b[1;32m    <a href='file:///Users/carlosperello/Desktop/M2R-Project/M2R_venv/lib/python3.8/site-packages/scipy/optimize/_differentiable_functions.py?line=256'>257</a>\u001b[0m         \u001b[39mself\u001b[39m\u001b[39m.\u001b[39mg_updated \u001b[39m=\u001b[39m \u001b[39mTrue\u001b[39;00m\n",
      "File \u001b[0;32m~/Desktop/M2R-Project/M2R_venv/lib/python3.8/site-packages/scipy/optimize/_differentiable_functions.py:173\u001b[0m, in \u001b[0;36mScalarFunction.__init__.<locals>.update_grad\u001b[0;34m()\u001b[0m\n\u001b[1;32m    <a href='file:///Users/carlosperello/Desktop/M2R-Project/M2R_venv/lib/python3.8/site-packages/scipy/optimize/_differentiable_functions.py?line=170'>171</a>\u001b[0m \u001b[39mself\u001b[39m\u001b[39m.\u001b[39m_update_fun()\n\u001b[1;32m    <a href='file:///Users/carlosperello/Desktop/M2R-Project/M2R_venv/lib/python3.8/site-packages/scipy/optimize/_differentiable_functions.py?line=171'>172</a>\u001b[0m \u001b[39mself\u001b[39m\u001b[39m.\u001b[39mngev \u001b[39m+\u001b[39m\u001b[39m=\u001b[39m \u001b[39m1\u001b[39m\n\u001b[0;32m--> <a href='file:///Users/carlosperello/Desktop/M2R-Project/M2R_venv/lib/python3.8/site-packages/scipy/optimize/_differentiable_functions.py?line=172'>173</a>\u001b[0m \u001b[39mself\u001b[39m\u001b[39m.\u001b[39mg \u001b[39m=\u001b[39m approx_derivative(fun_wrapped, \u001b[39mself\u001b[39;49m\u001b[39m.\u001b[39;49mx, f0\u001b[39m=\u001b[39;49m\u001b[39mself\u001b[39;49m\u001b[39m.\u001b[39;49mf,\n\u001b[1;32m    <a href='file:///Users/carlosperello/Desktop/M2R-Project/M2R_venv/lib/python3.8/site-packages/scipy/optimize/_differentiable_functions.py?line=173'>174</a>\u001b[0m                            \u001b[39m*\u001b[39;49m\u001b[39m*\u001b[39;49mfinite_diff_options)\n",
      "File \u001b[0;32m~/Desktop/M2R-Project/M2R_venv/lib/python3.8/site-packages/scipy/optimize/_numdiff.py:505\u001b[0m, in \u001b[0;36mapprox_derivative\u001b[0;34m(fun, x0, method, rel_step, abs_step, f0, bounds, sparsity, as_linear_operator, args, kwargs)\u001b[0m\n\u001b[1;32m    <a href='file:///Users/carlosperello/Desktop/M2R-Project/M2R_venv/lib/python3.8/site-packages/scipy/optimize/_numdiff.py?line=501'>502</a>\u001b[0m     use_one_sided \u001b[39m=\u001b[39m \u001b[39mFalse\u001b[39;00m\n\u001b[1;32m    <a href='file:///Users/carlosperello/Desktop/M2R-Project/M2R_venv/lib/python3.8/site-packages/scipy/optimize/_numdiff.py?line=503'>504</a>\u001b[0m \u001b[39mif\u001b[39;00m sparsity \u001b[39mis\u001b[39;00m \u001b[39mNone\u001b[39;00m:\n\u001b[0;32m--> <a href='file:///Users/carlosperello/Desktop/M2R-Project/M2R_venv/lib/python3.8/site-packages/scipy/optimize/_numdiff.py?line=504'>505</a>\u001b[0m     \u001b[39mreturn\u001b[39;00m _dense_difference(fun_wrapped, x0, f0, h,\n\u001b[1;32m    <a href='file:///Users/carlosperello/Desktop/M2R-Project/M2R_venv/lib/python3.8/site-packages/scipy/optimize/_numdiff.py?line=505'>506</a>\u001b[0m                              use_one_sided, method)\n\u001b[1;32m    <a href='file:///Users/carlosperello/Desktop/M2R-Project/M2R_venv/lib/python3.8/site-packages/scipy/optimize/_numdiff.py?line=506'>507</a>\u001b[0m \u001b[39melse\u001b[39;00m:\n\u001b[1;32m    <a href='file:///Users/carlosperello/Desktop/M2R-Project/M2R_venv/lib/python3.8/site-packages/scipy/optimize/_numdiff.py?line=507'>508</a>\u001b[0m     \u001b[39mif\u001b[39;00m \u001b[39mnot\u001b[39;00m issparse(sparsity) \u001b[39mand\u001b[39;00m \u001b[39mlen\u001b[39m(sparsity) \u001b[39m==\u001b[39m \u001b[39m2\u001b[39m:\n",
      "File \u001b[0;32m~/Desktop/M2R-Project/M2R_venv/lib/python3.8/site-packages/scipy/optimize/_numdiff.py:576\u001b[0m, in \u001b[0;36m_dense_difference\u001b[0;34m(fun, x0, f0, h, use_one_sided, method)\u001b[0m\n\u001b[1;32m    <a href='file:///Users/carlosperello/Desktop/M2R-Project/M2R_venv/lib/python3.8/site-packages/scipy/optimize/_numdiff.py?line=573'>574</a>\u001b[0m     x \u001b[39m=\u001b[39m x0 \u001b[39m+\u001b[39m h_vecs[i]\n\u001b[1;32m    <a href='file:///Users/carlosperello/Desktop/M2R-Project/M2R_venv/lib/python3.8/site-packages/scipy/optimize/_numdiff.py?line=574'>575</a>\u001b[0m     dx \u001b[39m=\u001b[39m x[i] \u001b[39m-\u001b[39m x0[i]  \u001b[39m# Recompute dx as exactly representable number.\u001b[39;00m\n\u001b[0;32m--> <a href='file:///Users/carlosperello/Desktop/M2R-Project/M2R_venv/lib/python3.8/site-packages/scipy/optimize/_numdiff.py?line=575'>576</a>\u001b[0m     df \u001b[39m=\u001b[39m fun(x) \u001b[39m-\u001b[39m f0\n\u001b[1;32m    <a href='file:///Users/carlosperello/Desktop/M2R-Project/M2R_venv/lib/python3.8/site-packages/scipy/optimize/_numdiff.py?line=576'>577</a>\u001b[0m \u001b[39melif\u001b[39;00m method \u001b[39m==\u001b[39m \u001b[39m'\u001b[39m\u001b[39m3-point\u001b[39m\u001b[39m'\u001b[39m \u001b[39mand\u001b[39;00m use_one_sided[i]:\n\u001b[1;32m    <a href='file:///Users/carlosperello/Desktop/M2R-Project/M2R_venv/lib/python3.8/site-packages/scipy/optimize/_numdiff.py?line=577'>578</a>\u001b[0m     x1 \u001b[39m=\u001b[39m x0 \u001b[39m+\u001b[39m h_vecs[i]\n",
      "File \u001b[0;32m~/Desktop/M2R-Project/M2R_venv/lib/python3.8/site-packages/scipy/optimize/_numdiff.py:456\u001b[0m, in \u001b[0;36mapprox_derivative.<locals>.fun_wrapped\u001b[0;34m(x)\u001b[0m\n\u001b[1;32m    <a href='file:///Users/carlosperello/Desktop/M2R-Project/M2R_venv/lib/python3.8/site-packages/scipy/optimize/_numdiff.py?line=454'>455</a>\u001b[0m \u001b[39mdef\u001b[39;00m \u001b[39mfun_wrapped\u001b[39m(x):\n\u001b[0;32m--> <a href='file:///Users/carlosperello/Desktop/M2R-Project/M2R_venv/lib/python3.8/site-packages/scipy/optimize/_numdiff.py?line=455'>456</a>\u001b[0m     f \u001b[39m=\u001b[39m np\u001b[39m.\u001b[39matleast_1d(fun(x, \u001b[39m*\u001b[39;49margs, \u001b[39m*\u001b[39;49m\u001b[39m*\u001b[39;49mkwargs))\n\u001b[1;32m    <a href='file:///Users/carlosperello/Desktop/M2R-Project/M2R_venv/lib/python3.8/site-packages/scipy/optimize/_numdiff.py?line=456'>457</a>\u001b[0m     \u001b[39mif\u001b[39;00m f\u001b[39m.\u001b[39mndim \u001b[39m>\u001b[39m \u001b[39m1\u001b[39m:\n\u001b[1;32m    <a href='file:///Users/carlosperello/Desktop/M2R-Project/M2R_venv/lib/python3.8/site-packages/scipy/optimize/_numdiff.py?line=457'>458</a>\u001b[0m         \u001b[39mraise\u001b[39;00m \u001b[39mRuntimeError\u001b[39;00m(\u001b[39m\"\u001b[39m\u001b[39m`fun` return value has \u001b[39m\u001b[39m\"\u001b[39m\n\u001b[1;32m    <a href='file:///Users/carlosperello/Desktop/M2R-Project/M2R_venv/lib/python3.8/site-packages/scipy/optimize/_numdiff.py?line=458'>459</a>\u001b[0m                            \u001b[39m\"\u001b[39m\u001b[39mmore than 1 dimension.\u001b[39m\u001b[39m\"\u001b[39m)\n",
      "File \u001b[0;32m~/Desktop/M2R-Project/M2R_venv/lib/python3.8/site-packages/scipy/optimize/_differentiable_functions.py:137\u001b[0m, in \u001b[0;36mScalarFunction.__init__.<locals>.fun_wrapped\u001b[0;34m(x)\u001b[0m\n\u001b[1;32m    <a href='file:///Users/carlosperello/Desktop/M2R-Project/M2R_venv/lib/python3.8/site-packages/scipy/optimize/_differentiable_functions.py?line=132'>133</a>\u001b[0m \u001b[39mself\u001b[39m\u001b[39m.\u001b[39mnfev \u001b[39m+\u001b[39m\u001b[39m=\u001b[39m \u001b[39m1\u001b[39m\n\u001b[1;32m    <a href='file:///Users/carlosperello/Desktop/M2R-Project/M2R_venv/lib/python3.8/site-packages/scipy/optimize/_differentiable_functions.py?line=133'>134</a>\u001b[0m \u001b[39m# Send a copy because the user may overwrite it.\u001b[39;00m\n\u001b[1;32m    <a href='file:///Users/carlosperello/Desktop/M2R-Project/M2R_venv/lib/python3.8/site-packages/scipy/optimize/_differentiable_functions.py?line=134'>135</a>\u001b[0m \u001b[39m# Overwriting results in undefined behaviour because\u001b[39;00m\n\u001b[1;32m    <a href='file:///Users/carlosperello/Desktop/M2R-Project/M2R_venv/lib/python3.8/site-packages/scipy/optimize/_differentiable_functions.py?line=135'>136</a>\u001b[0m \u001b[39m# fun(self.x) will change self.x, with the two no longer linked.\u001b[39;00m\n\u001b[0;32m--> <a href='file:///Users/carlosperello/Desktop/M2R-Project/M2R_venv/lib/python3.8/site-packages/scipy/optimize/_differentiable_functions.py?line=136'>137</a>\u001b[0m fx \u001b[39m=\u001b[39m fun(np\u001b[39m.\u001b[39;49mcopy(x), \u001b[39m*\u001b[39;49margs)\n\u001b[1;32m    <a href='file:///Users/carlosperello/Desktop/M2R-Project/M2R_venv/lib/python3.8/site-packages/scipy/optimize/_differentiable_functions.py?line=137'>138</a>\u001b[0m \u001b[39m# Make sure the function returns a true scalar\u001b[39;00m\n\u001b[1;32m    <a href='file:///Users/carlosperello/Desktop/M2R-Project/M2R_venv/lib/python3.8/site-packages/scipy/optimize/_differentiable_functions.py?line=138'>139</a>\u001b[0m \u001b[39mif\u001b[39;00m \u001b[39mnot\u001b[39;00m np\u001b[39m.\u001b[39misscalar(fx):\n",
      "\u001b[1;32m/Users/carlosperello/Desktop/M2R-Project/code/fit_m3.ipynb Cell 7'\u001b[0m in \u001b[0;36m<lambda>\u001b[0;34m(x)\u001b[0m\n\u001b[1;32m      <a href='vscode-notebook-cell:/Users/carlosperello/Desktop/M2R-Project/code/fit_m3.ipynb#ch0000008?line=5'>6</a>\u001b[0m t \u001b[39m=\u001b[39m station\u001b[39m.\u001b[39mstart_time\u001b[39m.\u001b[39mto_numpy()\n\u001b[1;32m      <a href='vscode-notebook-cell:/Users/carlosperello/Desktop/M2R-Project/code/fit_m3.ipynb#ch0000008?line=6'>7</a>\u001b[0m t_prime \u001b[39m=\u001b[39m np\u001b[39m.\u001b[39msort(station\u001b[39m.\u001b[39mend_time\u001b[39m.\u001b[39mto_numpy()) \u001b[39m# Need to sort t_prime for likelihood function\u001b[39;00m\n\u001b[0;32m----> <a href='vscode-notebook-cell:/Users/carlosperello/Desktop/M2R-Project/code/fit_m3.ipynb#ch0000008?line=8'>9</a>\u001b[0m op_m3_likelihood \u001b[39m=\u001b[39m \u001b[39mlambda\u001b[39;00m x: \u001b[39m-\u001b[39mm3_log_likelihood(t, t_prime, x[\u001b[39m0\u001b[39;49m], x[\u001b[39m1\u001b[39;49m], x[\u001b[39m2\u001b[39;49m])\n\u001b[1;32m     <a href='vscode-notebook-cell:/Users/carlosperello/Desktop/M2R-Project/code/fit_m3.ipynb#ch0000008?line=9'>10</a>\u001b[0m bounds \u001b[39m=\u001b[39m ((\u001b[39m0.0000001\u001b[39m, \u001b[39m10\u001b[39m), (\u001b[39m0.0000001\u001b[39m, \u001b[39m10\u001b[39m), (\u001b[39m0.0000001\u001b[39m, \u001b[39m10\u001b[39m))\n\u001b[1;32m     <a href='vscode-notebook-cell:/Users/carlosperello/Desktop/M2R-Project/code/fit_m3.ipynb#ch0000008?line=10'>11</a>\u001b[0m \u001b[39m#sol = op.minimize(op_m3_likelihood, x0, method=\"Nelder-Mead\", bounds=bounds)\u001b[39;00m\n",
      "\u001b[1;32m/Users/carlosperello/Desktop/M2R-Project/code/fit_m3.ipynb Cell 3'\u001b[0m in \u001b[0;36mm3_log_likelihood\u001b[0;34m(t, t_prime, alpha_i, beta_i, lambda_i)\u001b[0m\n\u001b[1;32m     <a href='vscode-notebook-cell:/Users/carlosperello/Desktop/M2R-Project/code/fit_m3.ipynb#ch0000004?line=10'>11</a>\u001b[0m T \u001b[39m=\u001b[39m t[\u001b[39m-\u001b[39m\u001b[39m1\u001b[39m] \u001b[39m# TODO: Is this how we get big T?\u001b[39;00m\n\u001b[1;32m     <a href='vscode-notebook-cell:/Users/carlosperello/Desktop/M2R-Project/code/fit_m3.ipynb#ch0000004?line=13'>14</a>\u001b[0m \u001b[39m# Get B list \u001b[39;00m\n\u001b[0;32m---> <a href='vscode-notebook-cell:/Users/carlosperello/Desktop/M2R-Project/code/fit_m3.ipynb#ch0000004?line=14'>15</a>\u001b[0m B_ \u001b[39m=\u001b[39m np\u001b[39m.\u001b[39marray(B(\u001b[39mlen\u001b[39;49m(t), t, t_prime, beta_i))\n\u001b[1;32m     <a href='vscode-notebook-cell:/Users/carlosperello/Desktop/M2R-Project/code/fit_m3.ipynb#ch0000004?line=16'>17</a>\u001b[0m \u001b[39m#term1 = np.sum(np.log(lambda_i + alpha_i*B_))\u001b[39;00m\n\u001b[1;32m     <a href='vscode-notebook-cell:/Users/carlosperello/Desktop/M2R-Project/code/fit_m3.ipynb#ch0000004?line=17'>18</a>\u001b[0m term1 \u001b[39m=\u001b[39m np\u001b[39m.\u001b[39msum([np\u001b[39m.\u001b[39mlog(lambda_i \u001b[39m+\u001b[39m alpha_i\u001b[39m*\u001b[39mB_[j\u001b[39m-\u001b[39m\u001b[39m1\u001b[39m]) \u001b[39mfor\u001b[39;00m j \u001b[39min\u001b[39;00m \u001b[39mrange\u001b[39m(\u001b[39m1\u001b[39m, \u001b[39mlen\u001b[39m(t) \u001b[39m+\u001b[39m \u001b[39m1\u001b[39m)])\n",
      "\u001b[1;32m/Users/carlosperello/Desktop/M2R-Project/code/fit_m3.ipynb Cell 2'\u001b[0m in \u001b[0;36mB\u001b[0;34m(h, t, t_prime, beta)\u001b[0m\n\u001b[1;32m     <a href='vscode-notebook-cell:/Users/carlosperello/Desktop/M2R-Project/code/fit_m3.ipynb#ch0000003?line=27'>28</a>\u001b[0m term1 \u001b[39m=\u001b[39m np\u001b[39m.\u001b[39mexp(\u001b[39m-\u001b[39m\u001b[39m1\u001b[39m\u001b[39m*\u001b[39mbeta\u001b[39m*\u001b[39m(t[l\u001b[39m-\u001b[39m\u001b[39m1\u001b[39m] \u001b[39m-\u001b[39m t[l\u001b[39m-\u001b[39m\u001b[39m2\u001b[39m])) \u001b[39m*\u001b[39m B[l\u001b[39m-\u001b[39m\u001b[39m2\u001b[39m]\n\u001b[1;32m     <a href='vscode-notebook-cell:/Users/carlosperello/Desktop/M2R-Project/code/fit_m3.ipynb#ch0000003?line=29'>30</a>\u001b[0m \u001b[39m# Second term\u001b[39;00m\n\u001b[1;32m     <a href='vscode-notebook-cell:/Users/carlosperello/Desktop/M2R-Project/code/fit_m3.ipynb#ch0000003?line=30'>31</a>\u001b[0m \u001b[39m#term2 = np.sum([np.exp(-1*beta*(t[l-1] - t_prime[k-1])) for k in range(N(t[l-2], t_prime) + 1, N(t[l-1], t_prime) + 1)])\u001b[39;00m\n\u001b[0;32m---> <a href='vscode-notebook-cell:/Users/carlosperello/Desktop/M2R-Project/code/fit_m3.ipynb#ch0000003?line=32'>33</a>\u001b[0m lower \u001b[39m=\u001b[39m N(t[l\u001b[39m-\u001b[39;49m\u001b[39m2\u001b[39;49m], t_prime)\n\u001b[1;32m     <a href='vscode-notebook-cell:/Users/carlosperello/Desktop/M2R-Project/code/fit_m3.ipynb#ch0000003?line=33'>34</a>\u001b[0m upper \u001b[39m=\u001b[39m N(t[l\u001b[39m-\u001b[39m\u001b[39m1\u001b[39m], t_prime)\n\u001b[1;32m     <a href='vscode-notebook-cell:/Users/carlosperello/Desktop/M2R-Project/code/fit_m3.ipynb#ch0000003?line=35'>36</a>\u001b[0m term2 \u001b[39m=\u001b[39m np\u001b[39m.\u001b[39msum(np\u001b[39m.\u001b[39mexp(\u001b[39m-\u001b[39m\u001b[39m1\u001b[39m\u001b[39m*\u001b[39mbeta\u001b[39m*\u001b[39m(t[l\u001b[39m-\u001b[39m\u001b[39m1\u001b[39m] \u001b[39m-\u001b[39m t_prime[lower:upper]))) \u001b[39m# IMP: This is the term taking the most time by far\u001b[39;00m\n",
      "\u001b[1;32m/Users/carlosperello/Desktop/M2R-Project/code/fit_m3.ipynb Cell 2'\u001b[0m in \u001b[0;36mN\u001b[0;34m(t_scalar, t)\u001b[0m\n\u001b[1;32m      <a href='vscode-notebook-cell:/Users/carlosperello/Desktop/M2R-Project/code/fit_m3.ipynb#ch0000003?line=0'>1</a>\u001b[0m \u001b[39mdef\u001b[39;00m \u001b[39mN\u001b[39m(t_scalar, t):\n\u001b[1;32m      <a href='vscode-notebook-cell:/Users/carlosperello/Desktop/M2R-Project/code/fit_m3.ipynb#ch0000003?line=1'>2</a>\u001b[0m     \u001b[39m\"\"\"\u001b[39;00m\n\u001b[1;32m      <a href='vscode-notebook-cell:/Users/carlosperello/Desktop/M2R-Project/code/fit_m3.ipynb#ch0000003?line=2'>3</a>\u001b[0m \u001b[39m    Returns the number of times in t less than or equal to t_scalar.\u001b[39;00m\n\u001b[1;32m      <a href='vscode-notebook-cell:/Users/carlosperello/Desktop/M2R-Project/code/fit_m3.ipynb#ch0000003?line=3'>4</a>\u001b[0m \u001b[39m    Is used to compute N(t_i,k) and N'(t_i,k) etc\u001b[39;00m\n\u001b[1;32m      <a href='vscode-notebook-cell:/Users/carlosperello/Desktop/M2R-Project/code/fit_m3.ipynb#ch0000003?line=4'>5</a>\u001b[0m \u001b[39m    \"\"\"\u001b[39;00m\n\u001b[0;32m----> <a href='vscode-notebook-cell:/Users/carlosperello/Desktop/M2R-Project/code/fit_m3.ipynb#ch0000003?line=6'>7</a>\u001b[0m     \u001b[39mreturn\u001b[39;00m np\u001b[39m.\u001b[39;49msearchsorted(t, t_scalar, side\u001b[39m=\u001b[39;49m\u001b[39m\"\u001b[39;49m\u001b[39mright\u001b[39;49m\u001b[39m\"\u001b[39;49m)\n",
      "File \u001b[0;32m<__array_function__ internals>:180\u001b[0m, in \u001b[0;36msearchsorted\u001b[0;34m(*args, **kwargs)\u001b[0m\n",
      "File \u001b[0;32m~/Desktop/M2R-Project/M2R_venv/lib/python3.8/site-packages/numpy/core/fromnumeric.py:1387\u001b[0m, in \u001b[0;36msearchsorted\u001b[0;34m(a, v, side, sorter)\u001b[0m\n\u001b[1;32m   <a href='file:///Users/carlosperello/Desktop/M2R-Project/M2R_venv/lib/python3.8/site-packages/numpy/core/fromnumeric.py?line=1318'>1319</a>\u001b[0m \u001b[39m@array_function_dispatch\u001b[39m(_searchsorted_dispatcher)\n\u001b[1;32m   <a href='file:///Users/carlosperello/Desktop/M2R-Project/M2R_venv/lib/python3.8/site-packages/numpy/core/fromnumeric.py?line=1319'>1320</a>\u001b[0m \u001b[39mdef\u001b[39;00m \u001b[39msearchsorted\u001b[39m(a, v, side\u001b[39m=\u001b[39m\u001b[39m'\u001b[39m\u001b[39mleft\u001b[39m\u001b[39m'\u001b[39m, sorter\u001b[39m=\u001b[39m\u001b[39mNone\u001b[39;00m):\n\u001b[1;32m   <a href='file:///Users/carlosperello/Desktop/M2R-Project/M2R_venv/lib/python3.8/site-packages/numpy/core/fromnumeric.py?line=1320'>1321</a>\u001b[0m     \u001b[39m\"\"\"\u001b[39;00m\n\u001b[1;32m   <a href='file:///Users/carlosperello/Desktop/M2R-Project/M2R_venv/lib/python3.8/site-packages/numpy/core/fromnumeric.py?line=1321'>1322</a>\u001b[0m \u001b[39m    Find indices where elements should be inserted to maintain order.\u001b[39;00m\n\u001b[1;32m   <a href='file:///Users/carlosperello/Desktop/M2R-Project/M2R_venv/lib/python3.8/site-packages/numpy/core/fromnumeric.py?line=1322'>1323</a>\u001b[0m \n\u001b[0;32m   (...)\u001b[0m\n\u001b[1;32m   <a href='file:///Users/carlosperello/Desktop/M2R-Project/M2R_venv/lib/python3.8/site-packages/numpy/core/fromnumeric.py?line=1384'>1385</a>\u001b[0m \n\u001b[1;32m   <a href='file:///Users/carlosperello/Desktop/M2R-Project/M2R_venv/lib/python3.8/site-packages/numpy/core/fromnumeric.py?line=1385'>1386</a>\u001b[0m \u001b[39m    \"\"\"\u001b[39;00m\n\u001b[0;32m-> <a href='file:///Users/carlosperello/Desktop/M2R-Project/M2R_venv/lib/python3.8/site-packages/numpy/core/fromnumeric.py?line=1386'>1387</a>\u001b[0m     \u001b[39mreturn\u001b[39;00m _wrapfunc(a, \u001b[39m'\u001b[39;49m\u001b[39msearchsorted\u001b[39;49m\u001b[39m'\u001b[39;49m, v, side\u001b[39m=\u001b[39;49mside, sorter\u001b[39m=\u001b[39;49msorter)\n",
      "File \u001b[0;32m~/Desktop/M2R-Project/M2R_venv/lib/python3.8/site-packages/numpy/core/fromnumeric.py:57\u001b[0m, in \u001b[0;36m_wrapfunc\u001b[0;34m(obj, method, *args, **kwds)\u001b[0m\n\u001b[1;32m     <a href='file:///Users/carlosperello/Desktop/M2R-Project/M2R_venv/lib/python3.8/site-packages/numpy/core/fromnumeric.py?line=53'>54</a>\u001b[0m     \u001b[39mreturn\u001b[39;00m _wrapit(obj, method, \u001b[39m*\u001b[39margs, \u001b[39m*\u001b[39m\u001b[39m*\u001b[39mkwds)\n\u001b[1;32m     <a href='file:///Users/carlosperello/Desktop/M2R-Project/M2R_venv/lib/python3.8/site-packages/numpy/core/fromnumeric.py?line=55'>56</a>\u001b[0m \u001b[39mtry\u001b[39;00m:\n\u001b[0;32m---> <a href='file:///Users/carlosperello/Desktop/M2R-Project/M2R_venv/lib/python3.8/site-packages/numpy/core/fromnumeric.py?line=56'>57</a>\u001b[0m     \u001b[39mreturn\u001b[39;00m bound(\u001b[39m*\u001b[39;49margs, \u001b[39m*\u001b[39;49m\u001b[39m*\u001b[39;49mkwds)\n\u001b[1;32m     <a href='file:///Users/carlosperello/Desktop/M2R-Project/M2R_venv/lib/python3.8/site-packages/numpy/core/fromnumeric.py?line=57'>58</a>\u001b[0m \u001b[39mexcept\u001b[39;00m \u001b[39mTypeError\u001b[39;00m:\n\u001b[1;32m     <a href='file:///Users/carlosperello/Desktop/M2R-Project/M2R_venv/lib/python3.8/site-packages/numpy/core/fromnumeric.py?line=58'>59</a>\u001b[0m     \u001b[39m# A TypeError occurs if the object does have such a method in its\u001b[39;00m\n\u001b[1;32m     <a href='file:///Users/carlosperello/Desktop/M2R-Project/M2R_venv/lib/python3.8/site-packages/numpy/core/fromnumeric.py?line=59'>60</a>\u001b[0m     \u001b[39m# class, but its signature is not identical to that of NumPy's. This\u001b[39;00m\n\u001b[0;32m   (...)\u001b[0m\n\u001b[1;32m     <a href='file:///Users/carlosperello/Desktop/M2R-Project/M2R_venv/lib/python3.8/site-packages/numpy/core/fromnumeric.py?line=63'>64</a>\u001b[0m     \u001b[39m# Call _wrapit from within the except clause to ensure a potential\u001b[39;00m\n\u001b[1;32m     <a href='file:///Users/carlosperello/Desktop/M2R-Project/M2R_venv/lib/python3.8/site-packages/numpy/core/fromnumeric.py?line=64'>65</a>\u001b[0m     \u001b[39m# exception has a traceback chain.\u001b[39;00m\n\u001b[1;32m     <a href='file:///Users/carlosperello/Desktop/M2R-Project/M2R_venv/lib/python3.8/site-packages/numpy/core/fromnumeric.py?line=65'>66</a>\u001b[0m     \u001b[39mreturn\u001b[39;00m _wrapit(obj, method, \u001b[39m*\u001b[39margs, \u001b[39m*\u001b[39m\u001b[39m*\u001b[39mkwds)\n",
      "\u001b[0;31mKeyboardInterrupt\u001b[0m: "
     ]
    }
   ],
   "source": [
    "optimal_parameters = {}\n",
    "for station_id in station_array:\n",
    "    x0 = [0.1, 1, 0.1] # np.log(rates_dict[station.start_id.unique()[0]])]\n",
    "\n",
    "    t = start_times_per_station_sorted[station_id]\n",
    "    t_prime = end_times_per_station_sorted[station_id] # Need to sort t_prime for likelihood function\n",
    "\n",
    "    op_m3_likelihood = lambda x: -m3_log_likelihood(t, t_prime, x[0], x[1], x[2])\n",
    "    bounds = ((0.0000001, 10), (0.0000001, 10), (0.0000001, 10))\n",
    "    #sol = op.minimize(op_m3_likelihood, x0, method=\"Nelder-Mead\", bounds=bounds)\n",
    "    sol = op.minimize(op_m3_likelihood, x0, method=\"SLSQP\", bounds=bounds)\n",
    "    if sol.success:\n",
    "        max_params = sol.x\n",
    "        optimal_parameters[station_id] = max_params\n",
    "\n",
    "    else:\n",
    "        raise OptimizationError(f\"Failed to converge.\")\n",
    "optimal_parameters"
   ]
  },
  {
   "cell_type": "markdown",
   "metadata": {},
   "source": [
    "## Assessing fit for model 3"
   ]
  },
  {
   "cell_type": "markdown",
   "metadata": {},
   "source": []
  }
 ],
 "metadata": {
  "interpreter": {
   "hash": "c982c42cf71dfd9e4fcac0d9653e64d0ee7da81b005f55f464a28429eb0786e0"
  },
  "kernelspec": {
   "display_name": "Python 3.8.9 ('M2R_venv': venv)",
   "language": "python",
   "name": "python3"
  },
  "language_info": {
   "codemirror_mode": {
    "name": "ipython",
    "version": 3
   },
   "file_extension": ".py",
   "mimetype": "text/x-python",
   "name": "python",
   "nbconvert_exporter": "python",
   "pygments_lexer": "ipython3",
   "version": "3.8.9"
  },
  "orig_nbformat": 4
 },
 "nbformat": 4,
 "nbformat_minor": 2
}
