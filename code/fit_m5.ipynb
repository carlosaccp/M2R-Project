{
 "cells": [
  {
   "cell_type": "code",
   "execution_count": 2,
   "metadata": {},
   "outputs": [],
   "source": [
    "import pandas as pd\n",
    "import numpy as np\n",
    "import os\n",
    "import matplotlib.pyplot as plt\n",
    "import scipy.stats as st\n",
    "from matplotlib.ticker import FuncFormatter\n",
    "import scipy.optimize as op\n",
    "from tqdm import tqdm\n",
    "from preprocessing import *\n",
    "plt.style.use(\"dark_background\") # Config plots for dark mode, delete if on light mode\n",
    "plt.rcParams['figure.dpi'] = 150 # Hi-res plots"
   ]
  },
  {
   "cell_type": "code",
   "execution_count": 3,
   "metadata": {},
   "outputs": [
    {
     "data": {
      "text/plain": [
       "[array([], shape=(1, 0), dtype=float64), array([[0.9]]), array([[0.8]])]"
      ]
     },
     "execution_count": 3,
     "metadata": {},
     "output_type": "execute_result"
    }
   ],
   "source": [
    "def N(t_scalar, t):\n",
    "    \"\"\"\n",
    "    Returns the number of times in t less than or equal to t_scalar.\n",
    "    Is used to compute N(t_{i,k}) and N'(t_{i,k}) depending on whether t above is t or t_prime\n",
    "    \"\"\"\n",
    "\n",
    "    return np.searchsorted(t, t_scalar, side=\"right\")\n",
    "\n",
    "def getTimeDifferences(t, t_prime):\n",
    "    \"\"\"\n",
    "    Input: (sorted) times for a particular station i\n",
    "    Output: List of differences indexed by [h][k] for this station i\n",
    "    \"\"\"\n",
    "\n",
    "    # h goes until N(t[-1], t) assuming T = t[-1]\n",
    "    T = t[-1]\n",
    "    D_result = []\n",
    "    for h in range(1, N(T, t)+1):\n",
    "        differences_list = []\n",
    "        # Construct list of t_ih - t'_ik for k = 1 to N'(T)\n",
    "        differences_list.append(t[h-1] - t_prime[N(t[h-2], t_prime):N(t[h-1], t_prime)])\n",
    "\n",
    "        D_result.append(np.array(differences_list))\n",
    "\n",
    "    return D_result\n",
    "\n",
    "def getDurationValues():\n",
    "    raise NotImplementedError\n",
    "\n",
    "getTimeDifferences(np.array([1,2,3]),np.array([1.1,2.2,3.3]))"
   ]
  },
  {
   "cell_type": "code",
   "execution_count": 5,
   "metadata": {},
   "outputs": [],
   "source": [
    "def compensator_m5_t_values(t_scalar, t_prime):\n",
    "    \"\"\"\n",
    "    Compute the list that is required for the compensator function but don't depend on the parameters\n",
    "\n",
    "    Returns t_prime_precomputed\n",
    "    \"\"\"\n",
    "    return t_scalar - t_prime[:N(t_scalar, t_prime)]"
   ]
  },
  {
   "cell_type": "code",
   "execution_count": 6,
   "metadata": {},
   "outputs": [],
   "source": [
    "def compensator_m5(t_scalar, t_prime_precomputed, durations, lambda_i, alpha_i,\n",
    " beta_i, beta_i_prime, gamma_i, delta_i, delta_i_prime):\n",
    "  \"\"\"\n",
    "  Evaluate compensator function for model 5.\n",
    "\n",
    "  t_scalar: Scalar value at which we evaluate the compensator\n",
    "  t_prime_precomputed: time differences (t_scalar - t_prime[:N(t_scalar, t_prime)]) array computed outside the function for efficiency\n",
    "  durations: array of journey durations d'_{i,k} for each arrival time t'_{i,k} at station i\n",
    "  The rest are parameters in model 5.   \n",
    "  \"\"\"\n",
    "\n",
    "  term1 = lambda_i * t_scalar\n",
    "  \n",
    "  term2 = -(alpha_i / beta_i_prime) * np.sum(np.exp(-beta_i_prime * (t_prime_precomputed) - beta_i * (durations-1))-1)\n",
    "\n",
    "  term3 = -(gamma_i / delta_i_prime) * np.sum(np.exp(-delta_i_prime * (t_prime_precomputed) - delta_i * np.absolute(durations-30))-1)\n",
    "\n",
    "  return term1 + term2 + term3"
   ]
  },
  {
   "cell_type": "code",
   "execution_count": null,
   "metadata": {},
   "outputs": [],
   "source": [
    "def B_i(h, t, t_prime, durations, beta_i, beta_i_prime, time_differences):\n",
    "\n",
    "    \"\"\"\n",
    "    Returns a list of [B_i(1), ..., B_i(h)] for model 5\n",
    "\n",
    "    Note all index variables such as h, k, etc start at 1, like the mathematical notation.\n",
    "    \"\"\"\n",
    "\n",
    "    # TODO: Compute durations[N(t[h-2], t_prime):N(t[h-1], t_prime)] ahead of time like time_differences\n",
    "    # Note: we need durations at the exact same indeces as t_prime here\n",
    "\n",
    "    B = [np.sum(np.exp(-beta_i * (durations[:N(t[0], t_prime)] - 1)) * np.exp(-beta_i_prime*(t[0] - t_prime[:N(t[0], t_prime)])))]\n",
    "\n",
    "    # Append the rest\n",
    "    for l in range(2, h+1):\n",
    "        # First term in recursive formula for B_i(h)\n",
    "        term1 = np.exp(-beta_i_prime*(t[l-1] - t[l-2])) * B[l-2]\n",
    "        term2 = np.sum(np.exp(-beta_i * (durations[N(t[h-2], t_prime):N(t[h-1], t_prime)] - 1)) * np.exp(-beta_i_prime*(time_differences[l-1])))\n",
    "        B.append(term1 + term2)\n",
    "    return np.array(B)\n",
    "\n",
    "\n",
    "def C_i(h, t, t_prime, durations, delta_i, delta_i_prime, time_differences):\n",
    "\n",
    "    \"\"\"\n",
    "    Returns a list of [C_i(1), ..., C_i(h)] for model 5\n",
    "\n",
    "    Note all index variables such as h, k, etc start at 1, like the mathematical notation.\n",
    "    \"\"\"\n",
    "\n",
    "    # TODO: Compute durations[N(t[h-2], t_prime):N(t[h-1], t_prime)] ahead of time like time_differences\n",
    "    # Note: we need durations at the exact same indeces as t_prime here\n",
    "\n",
    "    C = [np.sum(np.exp(-delta_i * (durations[:N(t[0], t_prime)] - 1)) * np.exp(-delta_i_prime*(t[0] - t_prime[:N(t[0], t_prime)])))]\n",
    "\n",
    "    # Append the rest\n",
    "    for l in range(2, h+1):\n",
    "        # First term in recursive formula for C_i(h)\n",
    "        term1 = np.exp(-delta_i_prime*(t[l-1] - t[l-2])) * C[l-2]\n",
    "        term2 = np.sum(np.exp(-delta_i * (durations[N(t[h-2], t_prime):N(t[h-1], t_prime)] - 1)) * np.exp(-delta_i_prime*(time_differences[l-1])))\n",
    "        C.append(term1 + term2)\n",
    "    return np.array(C)"
   ]
  },
  {
   "cell_type": "code",
   "execution_count": null,
   "metadata": {},
   "outputs": [],
   "source": [
    "def m5_log_likelihood(t, t_prime, t_prime_precomputed, durations, lambda_i,\n",
    " alpha_i, beta_i, beta_i_prime, gamma_i, delta_i, delta_i_prime, time_differences):\n",
    "   \n",
    "   T = end_T\n",
    "\n",
    "   B_ = B_i(len(t), t, t_prime, durations, beta_i, beta_i_prime, time_differences)\n",
    "\n",
    "   C_ = C_i(len(t), t, t_prime, durations, delta_i, delta_i_prime, time_differences)\n",
    "\n",
    "   term1 = np.sum(np.log(lambda_i + alpha_i*B_[:len(t)+1] + delta_i*C_[:len(t)+1]))\n",
    "\n",
    "   term2 = -compensator_m5(T, t_prime_precomputed, durations, lambda_i, alpha_i,\n",
    "      beta_i, beta_i_prime, gamma_i, delta_i, delta_i_prime)\n",
    "\n",
    "   return term1 + term2\n"
   ]
  }
 ],
 "metadata": {
  "kernelspec": {
   "display_name": "Python 3.8.2 32-bit (system)",
   "language": "python",
   "name": "python3"
  },
  "language_info": {
   "codemirror_mode": {
    "name": "ipython",
    "version": 3
   },
   "file_extension": ".py",
   "mimetype": "text/x-python",
   "name": "python",
   "nbconvert_exporter": "python",
   "pygments_lexer": "ipython3",
   "version": "3.8.2"
  },
  "orig_nbformat": 4,
  "vscode": {
   "interpreter": {
    "hash": "9c1410969137b62557f626ec5944e60126207e5e8b8864d3436c9c9d7a53b4e1"
   }
  }
 },
 "nbformat": 4,
 "nbformat_minor": 2
}
