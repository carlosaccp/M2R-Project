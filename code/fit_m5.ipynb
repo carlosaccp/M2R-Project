{
 "cells": [
  {
   "cell_type": "code",
   "execution_count": 2,
   "metadata": {},
   "outputs": [],
   "source": [
    "import pandas as pd\n",
    "import numpy as np\n",
    "import matplotlib.pyplot as plt\n",
    "from tqdm import tqdm\n",
    "import scipy.stats as st\n",
    "from matplotlib.ticker import FuncFormatter\n",
    "import scipy.optimize as op\n",
    "from preprocessing import *\n",
    "plt.style.use(\"dark_background\") # Config plots for dark mode, delete if on light mode\n",
    "plt.rcParams['figure.dpi'] = 150 # Hi-res plots"
   ]
  },
  {
   "cell_type": "code",
   "execution_count": 3,
   "metadata": {},
   "outputs": [
    {
     "data": {
      "text/plain": [
       "[array([], shape=(1, 0), dtype=float64), array([[0.9]]), array([[0.8]])]"
      ]
     },
     "execution_count": 3,
     "metadata": {},
     "output_type": "execute_result"
    }
   ],
   "source": [
    "def N(t_scalar, t):\n",
    "    \"\"\"\n",
    "    Returns the number of times in t less than or equal to t_scalar.\n",
    "    Is used to compute N(t_{i,k}) and N'(t_{i,k}) depending on whether t above is t or t_prime\n",
    "    \"\"\"\n",
    "    return np.searchsorted(t, t_scalar, side=\"right\")\n",
    "\n",
    "def getTimeDifferences(t, t_prime):\n",
    "    \"\"\"\n",
    "    Input: (sorted) times for a particular station i\n",
    "    Output: List of differences indexed by [h][k] for this station i\n",
    "    \"\"\"\n",
    "\n",
    "    # h goes until N(t[-1], t) assuming T = t[-1]\n",
    "    T = end_T\n",
    "    D_result = []\n",
    "    for h in range(1, N(T, t)+1):\n",
    "        differences_list = []\n",
    "        # Construct list of t_ih - t'_ik for k = 1 to N'(T)\n",
    "        differences_list.append(t[h-1] - t_prime[N(t[h-2], t_prime):N(t[h-1], t_prime)])\n",
    "\n",
    "        D_result.append(np.array(differences_list))\n",
    "\n",
    "    return D_result\n",
    "\n",
    "getTimeDifferences(np.array([1,2,3]),np.array([1.1,2.2,3.3]))"
   ]
  },
  {
   "cell_type": "code",
   "execution_count": 22,
   "metadata": {},
   "outputs": [],
   "source": [
    "durations_dict = {}\n",
    "for st_id in train_sorted_start_ids:\n",
    "    station_train_data = train_bike_data[train_bike_data.end_id == st_id]\n",
    "    durations_dict[st_id] = station_train_data.duration.to_numpy()"
   ]
  },
  {
   "cell_type": "code",
   "execution_count": 23,
   "metadata": {},
   "outputs": [],
   "source": [
    "def compensator_m5(t_scalar, t, t_prime, durations_i, alpha_i, beta_i, beta_i_prime,delta_i, delta_i_prime, gamma_i, lambda_i):\n",
    "    # Durations in minutes\n",
    "    \"\"\"\n",
    "    t_scalar: scalar value where Lambda_i(t) is to be evaluated\n",
    "    t_prime: list of arrival times at station i\n",
    "\n",
    "    NOTE: t_prime NEEDS TO BE SORTED HERE.\n",
    "    \"\"\"\n",
    "    \n",
    "\n",
    "    term1 = lambda_i * t_scalar\n",
    "    term2 = -(alpha_i / beta_i_prime) * np.sum(np.exp(-beta_i_prime * (t_scalar - t_prime[:N(t_scalar, t_prime)]))*np.exp(-beta_i(durations_i - 1))-1)\n",
    "    term3 = -(gamma_i / delta_i_prime) * np.sum(np.exp(-delta_i_prime * (t_scalar - t[:N(t_scalar, t_prime)]))*np.exp(-delta_i*np.abs(durations_i - 30))-1)\n",
    "    return term1 + term2 + term3\n"
   ]
  },
  {
   "cell_type": "code",
   "execution_count": null,
   "metadata": {},
   "outputs": [],
   "source": [
    "def genB_i(h, durations_i, beta_i, beta_prime,)"
   ]
  }
 ],
 "metadata": {
  "interpreter": {
   "hash": "c982c42cf71dfd9e4fcac0d9653e64d0ee7da81b005f55f464a28429eb0786e0"
  },
  "kernelspec": {
   "display_name": "Python 3.8.9 ('M2R_venv': venv)",
   "language": "python",
   "name": "python3"
  },
  "language_info": {
   "codemirror_mode": {
    "name": "ipython",
    "version": 3
   },
   "file_extension": ".py",
   "mimetype": "text/x-python",
   "name": "python",
   "nbconvert_exporter": "python",
   "pygments_lexer": "ipython3",
   "version": "3.8.9"
  },
  "orig_nbformat": 4
 },
 "nbformat": 4,
 "nbformat_minor": 2
}
