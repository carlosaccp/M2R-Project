{
 "cells": [
  {
   "cell_type": "code",
   "execution_count": 15,
   "metadata": {},
   "outputs": [],
   "source": [
    "import pandas as pd\n",
    "import numpy as np\n",
    "import matplotlib.pyplot as plt\n",
    "from tqdm import tqdm\n",
    "import scipy.stats as st\n",
    "from matplotlib.ticker import FuncFormatter\n",
    "import scipy.optimize as op\n",
    "from preprocessing import *\n",
    "plt.style.use(\"dark_background\") # Config plots for dark mode, delete if on light mode\n",
    "plt.rcParams['figure.dpi'] = 150 # Hi-res plots"
   ]
  },
  {
   "cell_type": "code",
   "execution_count": 16,
   "metadata": {},
   "outputs": [
    {
     "data": {
      "text/plain": [
       "[array([], dtype=float64), array([0.9]), array([0.8])]"
      ]
     },
     "execution_count": 16,
     "metadata": {},
     "output_type": "execute_result"
    }
   ],
   "source": [
    "def N(t_scalar, t):\n",
    "    \"\"\"\n",
    "    Returns the number of times in t less than or equal to t_scalar.\n",
    "    Is used to compute N(t_{i,k}) and N'(t_{i,k}) depending on whether t above is t or t_prime\n",
    "    \"\"\"\n",
    "    return np.searchsorted(t, t_scalar, side=\"right\")\n",
    "\n",
    "def get_time_differences(t, t_prime):\n",
    "    \"\"\"\n",
    "    Input: (sorted) times for a particular station i\n",
    "    Output: List of differences indexed by [h][k] for this station i\n",
    "    \"\"\"\n",
    "\n",
    "    T = end_T\n",
    "    differences = []\n",
    "    for h in range(N(T, t)):\n",
    "        # Construct list of t_ih - t'_ik for k = 1 to N'(T)\n",
    "        differences_list = t[h] - t_prime[N(t[h-1], t_prime):N(t[h], t_prime)]\n",
    "\n",
    "        differences.append(differences_list)\n",
    "\n",
    "    return differences\n",
    "\n",
    "def get_duration_1_values(t, t_prime, durations):\n",
    "    \"\"\"\n",
    "    This function returns the pre-computed (durations-1) lists for B_i and C_i\n",
    "    \"\"\"\n",
    "\n",
    "    T = end_T\n",
    "    values = []\n",
    "    for h in range(N(T, t)):\n",
    "        values_list = []\n",
    "        # Construct list of d_ik - 1 for k = 1 to N'(T)\n",
    "        values_list.append(durations[N(t[h-1], t_prime):N(t[h], t_prime)] - 1)\n",
    "\n",
    "        values.append(np.array(values_list))\n",
    "\n",
    "    return values\n",
    "\n",
    "def get_duration_30_values():\n",
    "    \"\"\"\n",
    "    This function returns the pre-computed |durations-30| lists for B_i and C_i\n",
    "    \"\"\"\n",
    "\n",
    "    T = end_T\n",
    "    values = []\n",
    "    for h in range(N(T, t)):\n",
    "        values_list = []\n",
    "        # Construct list of |d_ik - 30| for k = 1 to N'(T)\n",
    "        values_list.append(durations[N(t[h-1], t_prime):N(t[h], t_prime)] - 30)\n",
    "\n",
    "        values.append(np.absolute(np.array(values_list)))\n",
    "\n",
    "    return values\n",
    "\n",
    "\n",
    "get_time_differences(np.array([1,2,3]),np.array([1.1,2.2,3.3]))"
   ]
  },
  {
   "cell_type": "markdown",
   "metadata": {},
   "source": [
    "# TODO: Make sure the durations d_ik correspond exactly to the end times t'_ik. Do we need to get durations from train times sorted by end_time?"
   ]
  },
  {
   "cell_type": "code",
   "execution_count": 17,
   "metadata": {},
   "outputs": [],
   "source": [
    "durations_dict = {}\n",
    "for st_id in train_sorted_start_ids:\n",
    "    station_train_data = train_bike_data[train_bike_data.end_id == st_id]\n",
    "    durations_dict[st_id] = station_train_data.duration.to_numpy()"
   ]
  },
  {
   "cell_type": "code",
   "execution_count": 18,
   "metadata": {},
   "outputs": [],
   "source": [
    "def m5_compensator_helper(t_scalar, t_prime, durations):\n",
    "    \"\"\"\n",
    "    Compute the lists that are required for the compensator function but don't depend on the parameters\n",
    "    \"\"\"\n",
    "    t_prime_difference = t_scalar - t_prime[:N(t_scalar, t_prime)]\n",
    "    d_prime_1 = durations[:N(t_scalar, t_prime)] - 1\n",
    "    d_prime_30 = np.absolute(durations[:N(t_scalar, t_prime)] - 30)\n",
    "\n",
    "    return t_prime_difference, d_prime_1, d_prime_30\n",
    "\n",
    "def m5_recursion_helper(t, t_prime, durations):\n",
    "    \"\"\"\n",
    "    Compute the lists required for the recursive definitions of B_i and C_i\n",
    "    \"\"\"\n",
    "    T = end_T\n",
    "    time_differences = [] # Holds time differences t_ih - t'_ik\n",
    "    d1_values = [] # Holds values d'_ik - 1\n",
    "    d30_values = [] # Holds values |d'_ik - 30|\n",
    "\n",
    "    for h in range(N(T, t)):\n",
    "        # Construct list of t_ih - t'_ik for k = 1 to N'(T)\n",
    "        differences_list = t[h] - t_prime[N(t[h-1], t_prime):N(t[h], t_prime)]\n",
    "\n",
    "        # Construct list of d_ik - 1 for k = 1 to N'(T)\n",
    "        d1_values_list = durations[N(t[h-1], t_prime):N(t[h], t_prime)] - 1\n",
    "\n",
    "        # Construct list of |d_ik - 30| for k = 1 to N'(T)\n",
    "        d30_values_list = np.absolute(durations[N(t[h-1], t_prime):N(t[h], t_prime)] - 30)\n",
    "\n",
    "        time_differences.append(differences_list)\n",
    "        d1_values.append(d1_values_list)\n",
    "        d30_values.append(d30_values_list)\n",
    "\n",
    "\n",
    "    return time_differences, d1_values, d30_values"
   ]
  },
  {
   "cell_type": "code",
   "execution_count": 19,
   "metadata": {},
   "outputs": [],
   "source": [
    "def compensator_m5(t_scalar, t_prime_precomputed, d_prime_1, d_prime_30, lambda_i, alpha_i,\n",
    " beta_i, beta_i_prime, gamma_i, delta_i, delta_i_prime):\n",
    "  \"\"\"\n",
    "  Evaluate compensator function for model 5.\n",
    "\n",
    "  t_scalar: Scalar value at which we evaluate the compensator\n",
    "  t_prime_precomputed: time differences (t_scalar - t_prime[:N(t_scalar, t_prime)]) array computed outside the function for efficiency\n",
    "  durations: array of journey durations d'_{i,k} for each arrival time t'_{i,k} at station i\n",
    "  The rest are parameters in model 5.   \n",
    "  \"\"\"\n",
    "\n",
    "  term1 = lambda_i * t_scalar\n",
    "  \n",
    "  term2 = -(alpha_i / beta_i_prime) * np.sum(np.exp(-beta_i_prime * (t_prime_precomputed) - beta_i * d_prime_1)-1)\n",
    "\n",
    "  term3 = -(gamma_i / delta_i_prime) * np.sum(np.exp(-delta_i_prime * (t_prime_precomputed) - delta_i * d_prime_30)-1)\n",
    "\n",
    "  return term1 + term2 + term3"
   ]
  },
  {
   "cell_type": "code",
   "execution_count": 20,
   "metadata": {},
   "outputs": [],
   "source": [
    "def B_i(h, t, t_prime, time_differences, durations, beta_i, beta_i_prime):\n",
    "\n",
    "    \"\"\"\n",
    "    Returns a list of [B_i(1), ..., B_i(h)] for model 5\n",
    "\n",
    "    Note all index variables such as h, k, etc start at 1, like the mathematical notation.\n",
    "    \"\"\"\n",
    "\n",
    "    # TODO: Compute durations[N(t[h-2], t_prime):N(t[h-1], t_prime)] ahead of time like time_differences\n",
    "    # Note: we need durations at the exact same indeces as t_prime here\n",
    "\n",
    "    B = [np.sum(np.exp(-beta_i * (durations[:N(t[0], t_prime)] - 1)) * np.exp(-beta_i_prime*(t[0] - t_prime[:N(t[0], t_prime)])))]\n",
    "\n",
    "    # Append the rest\n",
    "    for l in range(2, h+1):\n",
    "        # First term in recursive formula for B_i(h)\n",
    "        term1 = np.exp(-beta_i_prime*(t[l-1] - t[l-2])) * B[l-2]\n",
    "        term2 = np.sum(np.exp(-beta_i * (durations[N(t[l-2], t_prime):N(t[l-1], t_prime)] - 1)) * np.exp(-beta_i_prime*(time_differences[l-1])))\n",
    "        B.append(term1 + term2)\n",
    "    return np.array(B)\n",
    "    \n",
    "\n",
    "def C_i(h, t, t_prime, time_differences,durations, delta_i, delta_i_prime):\n",
    "\n",
    "    \"\"\"\n",
    "    Returns a list of [C_i(1), ..., C_i(h)] for model 5\n",
    "\n",
    "    Note all index variables such as h, k, etc start at 1, like the mathematical notation.\n",
    "    \"\"\"\n",
    "\n",
    "    # TODO: Compute durations[N(t[h-2], t_prime):N(t[h-1], t_prime)] ahead of time like time_differences\n",
    "    # Note: we need durations at the exact same indeces as t_prime here\n",
    "\n",
    "    C = [np.sum(np.exp(-delta_i * np.absolute(durations[:N(t[0], t_prime)] - 30)) * np.exp(-delta_i_prime*(t[0] - t_prime[:N(t[0], t_prime)])))]\n",
    "\n",
    "    # Append the rest\n",
    "    for l in range(2, h+1):\n",
    "        # First term in recursive formula for C_i(h)\n",
    "        term1 = np.exp(-delta_i_prime*(t[l-1] - t[l-2])) * C[l-2]\n",
    "        term2 = np.sum(np.exp(-delta_i * np.absolute(durations[N(t[l-2], t_prime):N(t[l-1], t_prime)] - 30)) * np.exp(-delta_i_prime*(time_differences[l-1])))\n",
    "        C.append(term1 + term2)\n",
    "    return np.array(C)"
   ]
  },
  {
   "cell_type": "code",
   "execution_count": 25,
   "metadata": {},
   "outputs": [],
   "source": [
    "def m5_log_likelihood(station_params, lambda_i, alpha_i, beta_i, beta_i_prime, gamma_i, delta_i, delta_i_prime):\n",
    "   t, t_prime, durations, t_prime_precomputed, time_differences, d_prime_1, d_prime_30 = station_params\n",
    "   T = end_T\n",
    "\n",
    "   B_ = B_i(len(t), t, t_prime, time_differences, durations, beta_i, beta_i_prime)\n",
    "\n",
    "   C_ = C_i(len(t), t, t_prime, time_differences, durations, delta_i, delta_i_prime)\n",
    "\n",
    "   term1 = np.sum(np.log(lambda_i + alpha_i*B_ + delta_i*C_))\n",
    "\n",
    "   term2 = -compensator_m5(T, t_prime_precomputed, d_prime_1, d_prime_30, lambda_i, alpha_i,\n",
    "      beta_i, beta_i_prime, gamma_i, delta_i, delta_i_prime)\n",
    "\n",
    "   return term1 + term2"
   ]
  },
  {
   "cell_type": "code",
   "execution_count": 27,
   "metadata": {},
   "outputs": [
    {
     "name": "stdout",
     "output_type": "stream",
     "text": [
      "-29522.895110066085\n"
     ]
    },
    {
     "data": {
      "text/plain": [
       "-28288.312867114553"
      ]
     },
     "execution_count": 33,
     "metadata": {},
     "output_type": "execute_result"
    }
   ],
   "source": [
    "# Test m5 likelihood function\n",
    "\n",
    "t = t_per_station[1]\n",
    "t_prime = t_prime_per_station[1]\n",
    "durations = durations_dict[1]\n",
    "\n",
    "time_differences = get_time_differences(t, t_prime)\n",
    "t_prime_precomputed, d_prime_1, d_prime_30 = m5_compensator_helper(end_T, t_prime, durations)\n",
    "\n",
    "print(m5_log_likelihood([t, t_prime, durations,\n",
    "    t_prime_precomputed,time_differences, d_prime_1, d_prime_30], 0.1, 0.01, 0.1, 0.1, 0.1, 0.01, 0.01))\n",
    "\n",
    "#print(compensator_m4(end_T, t, t_prime, 0.2, 0.001, 0.1, 0.01, 0.1))"
   ]
  },
  {
   "cell_type": "code",
   "execution_count": 28,
   "metadata": {},
   "outputs": [
    {
     "name": "stderr",
     "output_type": "stream",
     "text": [
      "100%|██████████| 789/789 [00:13<00:00, 58.39it/s]\n"
     ]
    }
   ],
   "source": [
    "time_diffs = {}\n",
    "for st_id in tqdm(train_sorted_start_ids):\n",
    "    time_diffs[st_id] = get_time_differences(t_per_station[st_id], t_prime_per_station[st_id])"
   ]
  },
  {
   "cell_type": "code",
   "execution_count": 29,
   "metadata": {},
   "outputs": [
    {
     "name": "stderr",
     "output_type": "stream",
     "text": [
      "100%|██████████| 789/789 [00:00<00:00, 15603.90it/s]\n"
     ]
    }
   ],
   "source": [
    "t_prime_precomputed_dict = {}\n",
    "d_prime_1_dict = {}\n",
    "d_prime_30_dict = {}\n",
    "for st_id in tqdm(train_sorted_start_ids):\n",
    "    t = t_per_station[st_id]\n",
    "    t_prime = t_prime_per_station[st_id]\n",
    "    t_prime_precomputed_dict[st_id] = m5_compensator_helper(end_T, t, t_prime)[0]\n",
    "    d_prime_1_dict[st_id] = m5_compensator_helper(end_T, t, t_prime)[1]\n",
    "    d_prime_30_dict[st_id] = m5_compensator_helper(end_T, t, t_prime)[2]"
   ]
  },
  {
   "cell_type": "code",
   "execution_count": 30,
   "metadata": {},
   "outputs": [
    {
     "name": "stderr",
     "output_type": "stream",
     "text": [
      "100%|██████████| 789/789 [00:00<00:00, 65423.28it/s]\n"
     ]
    }
   ],
   "source": [
    "# combine to new dict called station parameters: ordered as t, trunc_t, tprime, trunc_tprime, time_diffs\n",
    "#m5_log_likelihood(t, t_prime, durations, t_prime_precomputed, time_differences, d_prime_1, d_prime_30\n",
    "station_time_and_distance_parameters = {}\n",
    "for st_id in tqdm(train_sorted_start_ids):\n",
    "    station_time_and_distance_parameters[st_id] = [t_per_station[st_id], t_prime_per_station[st_id],\n",
    "     t_prime_precomputed_dict[st_id], time_diffs[st_id], d_prime_1_dict[st_id], d_prime_30_dict[st_id]]"
   ]
  },
  {
   "cell_type": "markdown",
   "metadata": {},
   "source": [
    "## Likelihood optimisation"
   ]
  },
  {
   "cell_type": "code",
   "execution_count": 31,
   "metadata": {},
   "outputs": [
    {
     "data": {
      "text/html": [
       "<div>\n",
       "<style scoped>\n",
       "    .dataframe tbody tr th:only-of-type {\n",
       "        vertical-align: middle;\n",
       "    }\n",
       "\n",
       "    .dataframe tbody tr th {\n",
       "        vertical-align: top;\n",
       "    }\n",
       "\n",
       "    .dataframe thead th {\n",
       "        text-align: right;\n",
       "    }\n",
       "</style>\n",
       "<table border=\"1\" class=\"dataframe\">\n",
       "  <thead>\n",
       "    <tr style=\"text-align: right;\">\n",
       "      <th></th>\n",
       "      <th>alpha</th>\n",
       "      <th>beta</th>\n",
       "      <th>lambda</th>\n",
       "    </tr>\n",
       "  </thead>\n",
       "  <tbody>\n",
       "    <tr>\n",
       "      <th>1</th>\n",
       "      <td>0.020179</td>\n",
       "      <td>0.035553</td>\n",
       "      <td>7.705058e-03</td>\n",
       "    </tr>\n",
       "    <tr>\n",
       "      <th>2</th>\n",
       "      <td>0.015271</td>\n",
       "      <td>0.016036</td>\n",
       "      <td>1.213006e-03</td>\n",
       "    </tr>\n",
       "    <tr>\n",
       "      <th>3</th>\n",
       "      <td>0.004644</td>\n",
       "      <td>0.004644</td>\n",
       "      <td>3.779973e-17</td>\n",
       "    </tr>\n",
       "    <tr>\n",
       "      <th>4</th>\n",
       "      <td>0.009820</td>\n",
       "      <td>0.023543</td>\n",
       "      <td>9.676464e-03</td>\n",
       "    </tr>\n",
       "    <tr>\n",
       "      <th>5</th>\n",
       "      <td>0.011876</td>\n",
       "      <td>0.012869</td>\n",
       "      <td>1.258996e-03</td>\n",
       "    </tr>\n",
       "    <tr>\n",
       "      <th>...</th>\n",
       "      <td>...</td>\n",
       "      <td>...</td>\n",
       "      <td>...</td>\n",
       "    </tr>\n",
       "    <tr>\n",
       "      <th>836</th>\n",
       "      <td>0.014502</td>\n",
       "      <td>0.039605</td>\n",
       "      <td>1.707352e-02</td>\n",
       "    </tr>\n",
       "    <tr>\n",
       "      <th>838</th>\n",
       "      <td>0.006228</td>\n",
       "      <td>0.006470</td>\n",
       "      <td>4.663218e-04</td>\n",
       "    </tr>\n",
       "    <tr>\n",
       "      <th>839</th>\n",
       "      <td>0.023140</td>\n",
       "      <td>0.028994</td>\n",
       "      <td>8.233945e-03</td>\n",
       "    </tr>\n",
       "    <tr>\n",
       "      <th>840</th>\n",
       "      <td>0.018468</td>\n",
       "      <td>0.019006</td>\n",
       "      <td>2.030979e-04</td>\n",
       "    </tr>\n",
       "    <tr>\n",
       "      <th>841</th>\n",
       "      <td>0.000851</td>\n",
       "      <td>0.000851</td>\n",
       "      <td>9.391903e-06</td>\n",
       "    </tr>\n",
       "  </tbody>\n",
       "</table>\n",
       "<p>789 rows × 3 columns</p>\n",
       "</div>"
      ],
      "text/plain": [
       "        alpha      beta        lambda\n",
       "1    0.020179  0.035553  7.705058e-03\n",
       "2    0.015271  0.016036  1.213006e-03\n",
       "3    0.004644  0.004644  3.779973e-17\n",
       "4    0.009820  0.023543  9.676464e-03\n",
       "5    0.011876  0.012869  1.258996e-03\n",
       "..        ...       ...           ...\n",
       "836  0.014502  0.039605  1.707352e-02\n",
       "838  0.006228  0.006470  4.663218e-04\n",
       "839  0.023140  0.028994  8.233945e-03\n",
       "840  0.018468  0.019006  2.030979e-04\n",
       "841  0.000851  0.000851  9.391903e-06\n",
       "\n",
       "[789 rows x 3 columns]"
      ]
     },
     "execution_count": 31,
     "metadata": {},
     "output_type": "execute_result"
    }
   ],
   "source": [
    "model_2_params = pd.read_csv(\"../data/N_M_params.csv\", index_col=0)\n",
    "model_3_params = pd.read_csv(\"../data/M3_train_params.csv\", index_col=0)\n",
    "model_3_params"
   ]
  },
  {
   "cell_type": "code",
   "execution_count": null,
   "metadata": {},
   "outputs": [],
   "source": [
    "N_stat = len(train_sorted_start_ids)+1\n",
    "optimal_parameters = {}\n",
    "for st_id in tqdm(train_sorted_start_ids[:N_stat]):\n",
    "    # m2_station_params = model_2_params.loc[st_id].to_numpy()\n",
    "    # m3_station_params = model_3_params.loc[st_id].to_numpy()\n",
    "    #x0 = [np.log(m2_station_params[0]), np.log(m2_station_params[1] -m2_station_params[0] ), np.log(m3_station_params[0]), np.log(m3_station_params[1] - m3_station_params[0]), np.log(m3_station_params[-1])] # np.log(rates_dict[station.start_id.unique()[0]])]\n",
    "    x0 = -np.ones(5) * 3\n",
    "    op_m5_log_likelihood = lambda x: -m5_log_likelihood(station_time_and_distance_parameters[st_id], np.exp(x[0]), np.exp(x[1]), np.exp(x[2]), np.exp(x[1]) + np.exp(x[3]), np.exp(x[2]) + np.exp(x[4]))\n",
    "    sol = op.minimize(op_m5_log_likelihood, x0, method=\"Nelder-Mead\")\n",
    "    if sol.success:\n",
    "        transformed_lambda = np.exp(sol.x[0])\n",
    "        transformed_alpha = np.exp(sol.x[1])\n",
    "        transformed_alpha_prime = np.exp(sol.x[2])\n",
    "        transformed_beta = np.exp(sol.x[1]) + np.exp(sol.x[3])\n",
    "        transformed_beta_prime = np.exp(sol.x[2]) + np.exp(sol.x[4])\n",
    "        max_params = [transformed_lambda, transformed_alpha, transformed_alpha_prime, transformed_beta, transformed_beta_prime]\n",
    "        optimal_parameters[st_id] = max_params\n",
    "\n",
    "    else:\n",
    "        raise OptimizationError(f\"Failed to converge for station {st_id}.\")"
   ]
  }
 ],
 "metadata": {
  "kernelspec": {
   "display_name": "Python 3.8.9 ('M2R_venv': venv)",
   "language": "python",
   "name": "python3"
  },
  "language_info": {
   "codemirror_mode": {
    "name": "ipython",
    "version": 3
   },
   "file_extension": ".py",
   "mimetype": "text/x-python",
   "name": "python",
   "nbconvert_exporter": "python",
   "pygments_lexer": "ipython3",
   "version": "3.8.9"
  },
  "orig_nbformat": 4,
  "vscode": {
   "interpreter": {
    "hash": "c982c42cf71dfd9e4fcac0d9653e64d0ee7da81b005f55f464a28429eb0786e0"
   }
  }
 },
 "nbformat": 4,
 "nbformat_minor": 2
}
